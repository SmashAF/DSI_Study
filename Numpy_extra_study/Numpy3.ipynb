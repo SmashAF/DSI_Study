{
 "cells": [
  {
   "cell_type": "markdown",
   "metadata": {
    "toc": true
   },
   "source": [
    "<h1>Table of Contents<span class=\"tocSkip\"></span></h1>\n",
    "<div class=\"toc\"><ul class=\"toc-item\"><li><span><a href=\"#Objectives\" data-toc-modified-id=\"Objectives-1\"><span class=\"toc-item-num\">1&nbsp;&nbsp;</span>Objectives</a></span><ul class=\"toc-item\"><li><span><a href=\"#Question:\" data-toc-modified-id=\"Question:-1.1\"><span class=\"toc-item-num\">1.1&nbsp;&nbsp;</span>Question:</a></span></li><li><span><a href=\"#Question:\" data-toc-modified-id=\"Question:-1.2\"><span class=\"toc-item-num\">1.2&nbsp;&nbsp;</span>Question:</a></span></li><li><span><a href=\"#Question:\" data-toc-modified-id=\"Question:-1.3\"><span class=\"toc-item-num\">1.3&nbsp;&nbsp;</span>Question:</a></span></li></ul></li><li><span><a href=\"#Arithmetic\" data-toc-modified-id=\"Arithmetic-2\"><span class=\"toc-item-num\">2&nbsp;&nbsp;</span>Arithmetic</a></span><ul class=\"toc-item\"><li><span><a href=\"#Question:\" data-toc-modified-id=\"Question:-2.1\"><span class=\"toc-item-num\">2.1&nbsp;&nbsp;</span>Question:</a></span></li><li><span><a href=\"#Question:\" data-toc-modified-id=\"Question:-2.2\"><span class=\"toc-item-num\">2.2&nbsp;&nbsp;</span>Question:</a></span></li><li><span><a href=\"#Question:\" data-toc-modified-id=\"Question:-2.3\"><span class=\"toc-item-num\">2.3&nbsp;&nbsp;</span>Question:</a></span></li><li><span><a href=\"#Question:\" data-toc-modified-id=\"Question:-2.4\"><span class=\"toc-item-num\">2.4&nbsp;&nbsp;</span>Question:</a></span></li></ul></li><li><span><a href=\"#Indexing-Numpy-Arrays\" data-toc-modified-id=\"Indexing-Numpy-Arrays-3\"><span class=\"toc-item-num\">3&nbsp;&nbsp;</span>Indexing Numpy Arrays</a></span><ul class=\"toc-item\"><li><span><a href=\"#Simple-Indexing\" data-toc-modified-id=\"Simple-Indexing-3.1\"><span class=\"toc-item-num\">3.1&nbsp;&nbsp;</span>Simple Indexing</a></span><ul class=\"toc-item\"><li><span><a href=\"#Question:\" data-toc-modified-id=\"Question:-3.1.1\"><span class=\"toc-item-num\">3.1.1&nbsp;&nbsp;</span>Question:</a></span></li><li><span><a href=\"#Question:\" data-toc-modified-id=\"Question:-3.1.2\"><span class=\"toc-item-num\">3.1.2&nbsp;&nbsp;</span>Question:</a></span></li><li><span><a href=\"#Question:\" data-toc-modified-id=\"Question:-3.1.3\"><span class=\"toc-item-num\">3.1.3&nbsp;&nbsp;</span>Question:</a></span></li></ul></li><li><span><a href=\"#Indexing-multi-dimensional-arrays\" data-toc-modified-id=\"Indexing-multi-dimensional-arrays-3.2\"><span class=\"toc-item-num\">3.2&nbsp;&nbsp;</span>Indexing multi-dimensional arrays</a></span><ul class=\"toc-item\"><li><span><a href=\"#Question:\" data-toc-modified-id=\"Question:-3.2.1\"><span class=\"toc-item-num\">3.2.1&nbsp;&nbsp;</span>Question:</a></span></li><li><span><a href=\"#Question:\" data-toc-modified-id=\"Question:-3.2.2\"><span class=\"toc-item-num\">3.2.2&nbsp;&nbsp;</span>Question:</a></span></li><li><span><a href=\"#Question:\" data-toc-modified-id=\"Question:-3.2.3\"><span class=\"toc-item-num\">3.2.3&nbsp;&nbsp;</span>Question:</a></span></li></ul></li><li><span><a href=\"#Advanced-Indexing\" data-toc-modified-id=\"Advanced-Indexing-3.3\"><span class=\"toc-item-num\">3.3&nbsp;&nbsp;</span>Advanced Indexing</a></span><ul class=\"toc-item\"><li><span><a href=\"#Question:\" data-toc-modified-id=\"Question:-3.3.1\"><span class=\"toc-item-num\">3.3.1&nbsp;&nbsp;</span>Question:</a></span></li><li><span><a href=\"#Question:\" data-toc-modified-id=\"Question:-3.3.2\"><span class=\"toc-item-num\">3.3.2&nbsp;&nbsp;</span>Question:</a></span></li><li><span><a href=\"#Question:\" data-toc-modified-id=\"Question:-3.3.3\"><span class=\"toc-item-num\">3.3.3&nbsp;&nbsp;</span>Question:</a></span></li><li><span><a href=\"#Question:\" data-toc-modified-id=\"Question:-3.3.4\"><span class=\"toc-item-num\">3.3.4&nbsp;&nbsp;</span>Question:</a></span></li><li><span><a href=\"#Question:\" data-toc-modified-id=\"Question:-3.3.5\"><span class=\"toc-item-num\">3.3.5&nbsp;&nbsp;</span>Question:</a></span></li><li><span><a href=\"#Question:\" data-toc-modified-id=\"Question:-3.3.6\"><span class=\"toc-item-num\">3.3.6&nbsp;&nbsp;</span>Question:</a></span></li></ul></li></ul></li><li><span><a href=\"#Broadcasting\" data-toc-modified-id=\"Broadcasting-4\"><span class=\"toc-item-num\">4&nbsp;&nbsp;</span>Broadcasting</a></span><ul class=\"toc-item\"><li><span><a href=\"#Equal-shape-arrays\" data-toc-modified-id=\"Equal-shape-arrays-4.1\"><span class=\"toc-item-num\">4.1&nbsp;&nbsp;</span>Equal-shape arrays</a></span></li><li><span><a href=\"#Broadcasting-with-a-single-value\" data-toc-modified-id=\"Broadcasting-with-a-single-value-4.2\"><span class=\"toc-item-num\">4.2&nbsp;&nbsp;</span>Broadcasting with a single value</a></span><ul class=\"toc-item\"><li><span><a href=\"#Question:\" data-toc-modified-id=\"Question:-4.2.1\"><span class=\"toc-item-num\">4.2.1&nbsp;&nbsp;</span>Question:</a></span></li><li><span><a href=\"#Question:\" data-toc-modified-id=\"Question:-4.2.2\"><span class=\"toc-item-num\">4.2.2&nbsp;&nbsp;</span>Question:</a></span></li><li><span><a href=\"#Question:\" data-toc-modified-id=\"Question:-4.2.3\"><span class=\"toc-item-num\">4.2.3&nbsp;&nbsp;</span>Question:</a></span></li></ul></li><li><span><a href=\"#Broadcasting-comparison-operators\" data-toc-modified-id=\"Broadcasting-comparison-operators-4.3\"><span class=\"toc-item-num\">4.3&nbsp;&nbsp;</span>Broadcasting comparison operators</a></span><ul class=\"toc-item\"><li><span><a href=\"#Question:\" data-toc-modified-id=\"Question:-4.3.1\"><span class=\"toc-item-num\">4.3.1&nbsp;&nbsp;</span>Question:</a></span></li><li><span><a href=\"#Question:\" data-toc-modified-id=\"Question:-4.3.2\"><span class=\"toc-item-num\">4.3.2&nbsp;&nbsp;</span>Question:</a></span></li><li><span><a href=\"#Question:\" data-toc-modified-id=\"Question:-4.3.3\"><span class=\"toc-item-num\">4.3.3&nbsp;&nbsp;</span>Question:</a></span></li><li><span><a href=\"#Question:\" data-toc-modified-id=\"Question:-4.3.4\"><span class=\"toc-item-num\">4.3.4&nbsp;&nbsp;</span>Question:</a></span></li><li><span><a href=\"#Question:\" data-toc-modified-id=\"Question:-4.3.5\"><span class=\"toc-item-num\">4.3.5&nbsp;&nbsp;</span>Question:</a></span></li><li><span><a href=\"#Question:\" data-toc-modified-id=\"Question:-4.3.6\"><span class=\"toc-item-num\">4.3.6&nbsp;&nbsp;</span>Question:</a></span></li></ul></li><li><span><a href=\"#Question:\" data-toc-modified-id=\"Question:-4.4\"><span class=\"toc-item-num\">4.4&nbsp;&nbsp;</span>Question:</a></span></li></ul></li><li><span><a href=\"#Boolean-Indexing\" data-toc-modified-id=\"Boolean-Indexing-5\"><span class=\"toc-item-num\">5&nbsp;&nbsp;</span>Boolean Indexing</a></span><ul class=\"toc-item\"><li><ul class=\"toc-item\"><li><span><a href=\"#Question:\" data-toc-modified-id=\"Question:-5.0.1\"><span class=\"toc-item-num\">5.0.1&nbsp;&nbsp;</span>Question:</a></span></li><li><span><a href=\"#Question:\" data-toc-modified-id=\"Question:-5.0.2\"><span class=\"toc-item-num\">5.0.2&nbsp;&nbsp;</span>Question:</a></span></li></ul></li><li><span><a href=\"#Boolean-Indexing-in-Multiple-Dimensions\" data-toc-modified-id=\"Boolean-Indexing-in-Multiple-Dimensions-5.1\"><span class=\"toc-item-num\">5.1&nbsp;&nbsp;</span>Boolean Indexing <em>in Multiple Dimensions</em></a></span><ul class=\"toc-item\"><li><span><a href=\"#Question:\" data-toc-modified-id=\"Question:-5.1.1\"><span class=\"toc-item-num\">5.1.1&nbsp;&nbsp;</span>Question:</a></span></li><li><span><a href=\"#Question:\" data-toc-modified-id=\"Question:-5.1.2\"><span class=\"toc-item-num\">5.1.2&nbsp;&nbsp;</span>Question:</a></span></li><li><span><a href=\"#Question:\" data-toc-modified-id=\"Question:-5.1.3\"><span class=\"toc-item-num\">5.1.3&nbsp;&nbsp;</span>Question:</a></span></li><li><span><a href=\"#Question:\" data-toc-modified-id=\"Question:-5.1.4\"><span class=\"toc-item-num\">5.1.4&nbsp;&nbsp;</span>Question:</a></span></li></ul></li><li><span><a href=\"#Broadcasting-and-Boolean-Indexing\" data-toc-modified-id=\"Broadcasting-and-Boolean-Indexing-5.2\"><span class=\"toc-item-num\">5.2&nbsp;&nbsp;</span>Broadcasting and Boolean Indexing</a></span><ul class=\"toc-item\"><li><span><a href=\"#Question:\" data-toc-modified-id=\"Question:-5.2.1\"><span class=\"toc-item-num\">5.2.1&nbsp;&nbsp;</span>Question:</a></span></li><li><span><a href=\"#Question:\" data-toc-modified-id=\"Question:-5.2.2\"><span class=\"toc-item-num\">5.2.2&nbsp;&nbsp;</span>Question:</a></span></li><li><span><a href=\"#Question:\" data-toc-modified-id=\"Question:-5.2.3\"><span class=\"toc-item-num\">5.2.3&nbsp;&nbsp;</span>Question:</a></span></li></ul></li></ul></li><li><span><a href=\"#Creating-Numpy-Arrays\" data-toc-modified-id=\"Creating-Numpy-Arrays-6\"><span class=\"toc-item-num\">6&nbsp;&nbsp;</span>Creating Numpy Arrays</a></span><ul class=\"toc-item\"><li><span><a href=\"#np.zeros\" data-toc-modified-id=\"np.zeros-6.1\"><span class=\"toc-item-num\">6.1&nbsp;&nbsp;</span>np.zeros</a></span></li><li><span><a href=\"#np.ones\" data-toc-modified-id=\"np.ones-6.2\"><span class=\"toc-item-num\">6.2&nbsp;&nbsp;</span>np.ones</a></span></li><li><span><a href=\"#np.full\" data-toc-modified-id=\"np.full-6.3\"><span class=\"toc-item-num\">6.3&nbsp;&nbsp;</span>np.full</a></span></li><li><span><a href=\"#np.linspace\" data-toc-modified-id=\"np.linspace-6.4\"><span class=\"toc-item-num\">6.4&nbsp;&nbsp;</span>np.linspace</a></span></li><li><span><a href=\"#Graphing\" data-toc-modified-id=\"Graphing-6.5\"><span class=\"toc-item-num\">6.5&nbsp;&nbsp;</span>Graphing</a></span></li><li><span><a href=\"#np.arange\" data-toc-modified-id=\"np.arange-6.6\"><span class=\"toc-item-num\">6.6&nbsp;&nbsp;</span>np.arange</a></span></li><li><span><a href=\"#np.random.uniform-and-np.random.normal\" data-toc-modified-id=\"np.random.uniform-and-np.random.normal-6.7\"><span class=\"toc-item-num\">6.7&nbsp;&nbsp;</span>np.random.uniform and np.random.normal</a></span></li><li><span><a href=\"#Numpy-Array-Questions\" data-toc-modified-id=\"Numpy-Array-Questions-6.8\"><span class=\"toc-item-num\">6.8&nbsp;&nbsp;</span>Numpy Array Questions</a></span><ul class=\"toc-item\"><li><span><a href=\"#Question:\" data-toc-modified-id=\"Question:-6.8.1\"><span class=\"toc-item-num\">6.8.1&nbsp;&nbsp;</span>Question:</a></span></li><li><span><a href=\"#Question:\" data-toc-modified-id=\"Question:-6.8.2\"><span class=\"toc-item-num\">6.8.2&nbsp;&nbsp;</span>Question:</a></span></li><li><span><a href=\"#Question:\" data-toc-modified-id=\"Question:-6.8.3\"><span class=\"toc-item-num\">6.8.3&nbsp;&nbsp;</span>Question:</a></span></li><li><span><a href=\"#Question:\" data-toc-modified-id=\"Question:-6.8.4\"><span class=\"toc-item-num\">6.8.4&nbsp;&nbsp;</span>Question:</a></span></li></ul></li></ul></li><li><span><a href=\"#Constraints-on-Arrays\" data-toc-modified-id=\"Constraints-on-Arrays-7\"><span class=\"toc-item-num\">7&nbsp;&nbsp;</span>Constraints on Arrays</a></span></li><li><span><a href=\"#Reshaping-Arrays\" data-toc-modified-id=\"Reshaping-Arrays-8\"><span class=\"toc-item-num\">8&nbsp;&nbsp;</span>Reshaping Arrays</a></span><ul class=\"toc-item\"><li><span><a href=\"#Question\" data-toc-modified-id=\"Question-8.1\"><span class=\"toc-item-num\">8.1&nbsp;&nbsp;</span>Question</a></span></li><li><span><a href=\"#Question\" data-toc-modified-id=\"Question-8.2\"><span class=\"toc-item-num\">8.2&nbsp;&nbsp;</span>Question</a></span></li><li><span><a href=\"#Question\" data-toc-modified-id=\"Question-8.3\"><span class=\"toc-item-num\">8.3&nbsp;&nbsp;</span>Question</a></span></li><li><span><a href=\"#Question\" data-toc-modified-id=\"Question-8.4\"><span class=\"toc-item-num\">8.4&nbsp;&nbsp;</span>Question</a></span></li><li><span><a href=\"#Question:\" data-toc-modified-id=\"Question:-8.5\"><span class=\"toc-item-num\">8.5&nbsp;&nbsp;</span>Question:</a></span></li><li><span><a href=\"#Question:\" data-toc-modified-id=\"Question:-8.6\"><span class=\"toc-item-num\">8.6&nbsp;&nbsp;</span>Question:</a></span></li><li><span><a href=\"#Question:\" data-toc-modified-id=\"Question:-8.7\"><span class=\"toc-item-num\">8.7&nbsp;&nbsp;</span>Question:</a></span></li><li><span><a href=\"#Question:\" data-toc-modified-id=\"Question:-8.8\"><span class=\"toc-item-num\">8.8&nbsp;&nbsp;</span>Question:</a></span></li><li><span><a href=\"#Question:\" data-toc-modified-id=\"Question:-8.9\"><span class=\"toc-item-num\">8.9&nbsp;&nbsp;</span>Question:</a></span></li><li><span><a href=\"#Reshaping-does-not-make-a-copy\" data-toc-modified-id=\"Reshaping-does-not-make-a-copy-8.10\"><span class=\"toc-item-num\">8.10&nbsp;&nbsp;</span>Reshaping does not make a copy</a></span></li><li><span><a href=\"#Question:\" data-toc-modified-id=\"Question:-8.11\"><span class=\"toc-item-num\">8.11&nbsp;&nbsp;</span>Question:</a></span></li></ul></li><li><span><a href=\"#Dimensions\" data-toc-modified-id=\"Dimensions-9\"><span class=\"toc-item-num\">9&nbsp;&nbsp;</span>Dimensions</a></span><ul class=\"toc-item\"><li><span><a href=\"#Question:\" data-toc-modified-id=\"Question:-9.1\"><span class=\"toc-item-num\">9.1&nbsp;&nbsp;</span>Question:</a></span></li><li><span><a href=\"#Question:\" data-toc-modified-id=\"Question:-9.2\"><span class=\"toc-item-num\">9.2&nbsp;&nbsp;</span>Question:</a></span></li><li><span><a href=\"#Question:\" data-toc-modified-id=\"Question:-9.3\"><span class=\"toc-item-num\">9.3&nbsp;&nbsp;</span>Question:</a></span><ul class=\"toc-item\"><li><span><a href=\"#TRICKY-NOTE:-THERE-CAN-BE-A-DIMENSION-WITH-A-VALUE-OF-1.\" data-toc-modified-id=\"TRICKY-NOTE:-THERE-CAN-BE-A-DIMENSION-WITH-A-VALUE-OF-1.-9.3.1\"><span class=\"toc-item-num\">9.3.1&nbsp;&nbsp;</span>TRICKY NOTE: THERE CAN BE A DIMENSION WITH A VALUE OF 1.</a></span></li></ul></li><li><span><a href=\"#Question:\" data-toc-modified-id=\"Question:-9.4\"><span class=\"toc-item-num\">9.4&nbsp;&nbsp;</span>Question:</a></span></li><li><span><a href=\"#Question:\" data-toc-modified-id=\"Question:-9.5\"><span class=\"toc-item-num\">9.5&nbsp;&nbsp;</span>Question:</a></span></li><li><span><a href=\"#Question:\" data-toc-modified-id=\"Question:-9.6\"><span class=\"toc-item-num\">9.6&nbsp;&nbsp;</span>Question:</a></span></li></ul></li><li><span><a href=\"#Broadcasting-multi-dimensional-arrays\" data-toc-modified-id=\"Broadcasting-multi-dimensional-arrays-10\"><span class=\"toc-item-num\">10&nbsp;&nbsp;</span>Broadcasting multi-dimensional arrays</a></span><ul class=\"toc-item\"><li><span><a href=\"#Question:\" data-toc-modified-id=\"Question:-10.1\"><span class=\"toc-item-num\">10.1&nbsp;&nbsp;</span>Question:</a></span></li><li><span><a href=\"#Question:\" data-toc-modified-id=\"Question:-10.2\"><span class=\"toc-item-num\">10.2&nbsp;&nbsp;</span>Question:</a></span></li><li><span><a href=\"#Question:\" data-toc-modified-id=\"Question:-10.3\"><span class=\"toc-item-num\">10.3&nbsp;&nbsp;</span>Question:</a></span></li></ul></li><li><span><a href=\"#Array-Methods\" data-toc-modified-id=\"Array-Methods-11\"><span class=\"toc-item-num\">11&nbsp;&nbsp;</span>Array Methods</a></span><ul class=\"toc-item\"><li><span><a href=\"#Mathematical-methods\" data-toc-modified-id=\"Mathematical-methods-11.1\"><span class=\"toc-item-num\">11.1&nbsp;&nbsp;</span>Mathematical methods</a></span></li><li><span><a href=\"#Sums-and-Averages\" data-toc-modified-id=\"Sums-and-Averages-11.2\"><span class=\"toc-item-num\">11.2&nbsp;&nbsp;</span>Sums and Averages</a></span><ul class=\"toc-item\"><li><span><a href=\"#Question:\" data-toc-modified-id=\"Question:-11.2.1\"><span class=\"toc-item-num\">11.2.1&nbsp;&nbsp;</span>Question:</a></span></li><li><span><a href=\"#Question:\" data-toc-modified-id=\"Question:-11.2.2\"><span class=\"toc-item-num\">11.2.2&nbsp;&nbsp;</span>Question:</a></span></li><li><span><a href=\"#Question:\" data-toc-modified-id=\"Question:-11.2.3\"><span class=\"toc-item-num\">11.2.3&nbsp;&nbsp;</span>Question:</a></span></li><li><span><a href=\"#Question:\" data-toc-modified-id=\"Question:-11.2.4\"><span class=\"toc-item-num\">11.2.4&nbsp;&nbsp;</span>Question:</a></span></li></ul></li><li><span><a href=\"#Declaring-an-axis-in-your-method\" data-toc-modified-id=\"Declaring-an-axis-in-your-method-11.3\"><span class=\"toc-item-num\">11.3&nbsp;&nbsp;</span>Declaring an axis in your method</a></span><ul class=\"toc-item\"><li><span><a href=\"#Question:\" data-toc-modified-id=\"Question:-11.3.1\"><span class=\"toc-item-num\">11.3.1&nbsp;&nbsp;</span>Question:</a></span></li><li><span><a href=\"#Question:\" data-toc-modified-id=\"Question:-11.3.2\"><span class=\"toc-item-num\">11.3.2&nbsp;&nbsp;</span>Question:</a></span></li><li><span><a href=\"#REVIEW-Question:\" data-toc-modified-id=\"REVIEW-Question:-11.3.3\"><span class=\"toc-item-num\">11.3.3&nbsp;&nbsp;</span>REVIEW Question:</a></span></li><li><span><a href=\"#Question:\" data-toc-modified-id=\"Question:-11.3.4\"><span class=\"toc-item-num\">11.3.4&nbsp;&nbsp;</span>Question:</a></span></li><li><span><a href=\"#Question:\" data-toc-modified-id=\"Question:-11.3.5\"><span class=\"toc-item-num\">11.3.5&nbsp;&nbsp;</span>Question:</a></span></li></ul></li><li><span><a href=\"#Maximums-and-minimums\" data-toc-modified-id=\"Maximums-and-minimums-11.4\"><span class=\"toc-item-num\">11.4&nbsp;&nbsp;</span>Maximums and minimums</a></span><ul class=\"toc-item\"><li><span><a href=\"#Question:\" data-toc-modified-id=\"Question:-11.4.1\"><span class=\"toc-item-num\">11.4.1&nbsp;&nbsp;</span>Question:</a></span></li><li><span><a href=\"#Question:\" data-toc-modified-id=\"Question:-11.4.2\"><span class=\"toc-item-num\">11.4.2&nbsp;&nbsp;</span>Question:</a></span></li><li><span><a href=\"#Question:\" data-toc-modified-id=\"Question:-11.4.3\"><span class=\"toc-item-num\">11.4.3&nbsp;&nbsp;</span>Question:</a></span></li></ul></li><li><span><a href=\"#Argument-Maximums-and-Minimums\" data-toc-modified-id=\"Argument-Maximums-and-Minimums-11.5\"><span class=\"toc-item-num\">11.5&nbsp;&nbsp;</span>Argument Maximums and Minimums</a></span><ul class=\"toc-item\"><li><span><a href=\"#Question:\" data-toc-modified-id=\"Question:-11.5.1\"><span class=\"toc-item-num\">11.5.1&nbsp;&nbsp;</span>Question:</a></span></li><li><span><a href=\"#Question:\" data-toc-modified-id=\"Question:-11.5.2\"><span class=\"toc-item-num\">11.5.2&nbsp;&nbsp;</span>Question:</a></span></li></ul></li></ul></li></ul></div>"
   ]
  },
  {
   "cell_type": "markdown",
   "metadata": {},
   "source": [
    "# Numpy\n",
    "## Objectives\n",
    "- Understand how numpy arrays are different from python lists.\n",
    "- Create arrays in numpy of a given shape.\n",
    "- Use broadcasting to combine arrays.\n",
    "- Index into numpy arrays:\n",
    "    - Basic indexing, with values and slices, and\n",
    "    - Advanced indexing with integer arrays\n",
    "    - Boolean indexing.\n",
    "- Use some numpy methods to process arrays:\n",
    "    - Mathematical functions.\n",
    "    - Aggregations.\n",
    "    - Aggregation across axes."
   ]
  },
  {
   "cell_type": "code",
   "execution_count": null,
   "metadata": {},
   "outputs": [],
   "source": [
    "import numpy as np\n",
    "import pandas as pd\n",
    "from scipy import stats\n",
    "import matplotlib.pyplot as plt\n",
    "\n",
    "%matplotlib inline\n",
    "%config InlineBackend.figure_format = 'retina'\n",
    "plt.style.use('fivethirtyeight')"
   ]
  },
  {
   "cell_type": "markdown",
   "metadata": {},
   "source": [
    "# Numpy: Efficient Array Computation in Python"
   ]
  },
  {
   "cell_type": "markdown",
   "metadata": {},
   "source": [
    "The basic the unit of numpy is the array. Use it. Know it. Love it.\n",
    "\n",
    "You will be using arrays every day for the rest of forever. So finish this assignment. Please."
   ]
  },
  {
   "cell_type": "markdown",
   "metadata": {},
   "source": [
    "This takes a list and creates a new array object."
   ]
  },
  {
   "cell_type": "code",
   "execution_count": null,
   "metadata": {},
   "outputs": [],
   "source": [
    "np.array([1,2,3,4,5])"
   ]
  },
  {
   "cell_type": "markdown",
   "metadata": {},
   "source": [
    "We like to save it like so"
   ]
  },
  {
   "cell_type": "code",
   "execution_count": null,
   "metadata": {},
   "outputs": [],
   "source": [
    "x = np.array([0, 1, 2, 3, 4, 5, 6, 7, 8, 9])"
   ]
  },
  {
   "cell_type": "markdown",
   "metadata": {},
   "source": [
    "And you can do pretty much anything to a numpy array that you could do to a list:"
   ]
  },
  {
   "cell_type": "code",
   "execution_count": null,
   "metadata": {},
   "outputs": [],
   "source": [
    "x[2]"
   ]
  },
  {
   "cell_type": "code",
   "execution_count": null,
   "metadata": {},
   "outputs": [],
   "source": [
    "x[:5]"
   ]
  },
  {
   "cell_type": "code",
   "execution_count": null,
   "metadata": {},
   "outputs": [],
   "source": [
    "x[1:8:2]"
   ]
  },
  {
   "cell_type": "code",
   "execution_count": null,
   "metadata": {},
   "outputs": [],
   "source": [
    "x[0] = 100\n",
    "x"
   ]
  },
  {
   "cell_type": "markdown",
   "metadata": {},
   "source": [
    "But, under the hood, very different things are going on...\n",
    "\n",
    "  - Numpy arrays can hold one and only one type of data.\n",
    "  - Numpy arrays are **super efficient** both in terms of memory footprint **and** computational efficiency.\n",
    "  - Numpy arrays have a size, and the size cannot be changed.\n",
    "  - Numpy arrays have a **shape**, which allows them to be multi-dimensional (examples forthcoming).\n",
    "  \n",
    "We'll review all these features later.\n",
    "\n",
    "First, lets mess with this array."
   ]
  },
  {
   "cell_type": "markdown",
   "metadata": {},
   "source": [
    "### Question:\n",
    "\n",
    "> PLEASE, NEVER EVER EVER COPY-PASTE WHILE DOING THESE QUESTIONS. OR ITS WRITER WILL HAUNT YOU. (AKA you won't learn to code it from memory. And in three weeks you'll realize you don't know it. We've seen it time and time again. It's worth it.) Make a second window if you need to copy it verbatim.\n",
    "\n",
    "Index array x that we created above so that it returns: `array([2,3,4,5])`\n"
   ]
  },
  {
   "cell_type": "code",
   "execution_count": null,
   "metadata": {},
   "outputs": [],
   "source": [
    "# write here:\n",
    "\n"
   ]
  },
  {
   "cell_type": "markdown",
   "metadata": {},
   "source": [
    "<p>(Please type SOME actual answer before checking the solution. Even if you have NO IDEA. Just guess. It's good for you.)<p/>\n",
    "\n",
    "\n",
    "<details><summary>Solution\n",
    "</summary>\n",
    "\n",
    "```python\n",
    "x[2:6]\n",
    "```\n",
    "</details>"
   ]
  },
  {
   "cell_type": "markdown",
   "metadata": {},
   "source": [
    "### Question:\n",
    "Index array x so that it returns:\n",
    "\n",
    "```python \n",
    "array([9, 8, 7, 6, 5, 4, 3, 2, 1, 100])\n",
    "```"
   ]
  },
  {
   "cell_type": "code",
   "execution_count": null,
   "metadata": {},
   "outputs": [],
   "source": [
    "# write here:\n",
    "\n"
   ]
  },
  {
   "cell_type": "markdown",
   "metadata": {},
   "source": [
    "<details><summary>Solution</summary>\n",
    "\n",
    "```python\n",
    "x[::-1]\n",
    "```\n",
    "</details>"
   ]
  },
  {
   "cell_type": "markdown",
   "metadata": {},
   "source": [
    "### Question:\n",
    "Index array x so that it returns:\n",
    "\n",
    "\n",
    "```python \n",
    "array([9, 7, 5, 3, 1])\n",
    "```\n",
    "\n",
    "Then save it as y."
   ]
  },
  {
   "cell_type": "code",
   "execution_count": null,
   "metadata": {},
   "outputs": [],
   "source": [
    "# write here:\n",
    "\n"
   ]
  },
  {
   "cell_type": "markdown",
   "metadata": {},
   "source": [
    "<details><summary>Solution</summary>\n",
    "\n",
    "```python\n",
    "x[::-2]\n",
    "\n",
    "y = x[::-2]\n",
    "```\n",
    "</details>"
   ]
  },
  {
   "cell_type": "markdown",
   "metadata": {},
   "source": [
    "## Arithmetic\n",
    "\n",
    "Before I tell you how addition is different with numpy arrays than with lists, let's make some predictions about how it works. This is a good way to check what we know before we learn something. "
   ]
  },
  {
   "cell_type": "markdown",
   "metadata": {},
   "source": [
    "### Question:\n",
    "Without coding, what is the output in each of the cases below?"
   ]
  },
  {
   "cell_type": "markdown",
   "metadata": {},
   "source": [
    "```python\n",
    "#lists\n",
    "[1,2,3,4] + [5,6,7,8]\n",
    "\n",
    "\n",
    "#numpy arrays\n",
    "np.array([1,2,3,4]) + np.array([5,6,7,8])\n",
    "```"
   ]
  },
  {
   "cell_type": "code",
   "execution_count": null,
   "metadata": {},
   "outputs": [],
   "source": [
    "# write both answers here:\n",
    "\n"
   ]
  },
  {
   "cell_type": "markdown",
   "metadata": {},
   "source": [
    "<p>(Again, please write out your guess BEFORE clicking this button)<p/>\n",
    "\n",
    "\n",
    "<details><summary>Solution</summary>\n",
    "\n",
    "```python\n",
    "# [1,2,3,4] + [5,6,7,8]\n",
    "[1,2,3,4,5,6,7,8]\n",
    "\n",
    "# np.array([1,2,3,4]) + np.array([5,6,7,8])\n",
    "np.array([6,8,10,12])\n",
    "```\n",
    "</details>"
   ]
  },
  {
   "cell_type": "markdown",
   "metadata": {},
   "source": [
    "The way we say that is \"Lists do not natively add element-wise\". But these newfangled arrays do. This is because arrays are made for math. Lots of math. Big Math."
   ]
  },
  {
   "cell_type": "markdown",
   "metadata": {},
   "source": [
    "### Question:\n",
    "Without coding, what is the output in each of the cases below?"
   ]
  },
  {
   "cell_type": "markdown",
   "metadata": {},
   "source": [
    "```python\n",
    "#lists\n",
    "[1,2,3,4] - [5,6,7,8]\n",
    "\n",
    "#numpy arrays\n",
    "np.array([1,2,3,4]) - np.array([5,6,7,8])\n",
    "```"
   ]
  },
  {
   "cell_type": "code",
   "execution_count": null,
   "metadata": {},
   "outputs": [],
   "source": [
    "# write both answers here:\n",
    "\n"
   ]
  },
  {
   "cell_type": "markdown",
   "metadata": {},
   "source": [
    "<details><summary>Solution</summary>\n",
    "\n",
    "```python\n",
    "# [1,2,3,4] - [5,6,7,8]\n",
    "TypeError\n",
    "\n",
    "\n",
    "# np.array([1,2,3,4]) - np.array([5,6,7,8])\n",
    "array([-4, -4, -4, -4])\n",
    "```\n",
    "</details>"
   ]
  },
  {
   "cell_type": "markdown",
   "metadata": {},
   "source": [
    "### Question:\n",
    "Without coding, what is the output in each of the cases below?"
   ]
  },
  {
   "cell_type": "markdown",
   "metadata": {},
   "source": [
    "```python\n",
    "#lists\n",
    "[1,2,3,4] * [5,6,7,8]\n",
    "\n",
    "# numpy arrays\n",
    "np.array([1,2,3,4]) * np.array([5,6,7,8])\n",
    "```"
   ]
  },
  {
   "cell_type": "code",
   "execution_count": null,
   "metadata": {},
   "outputs": [],
   "source": [
    "# write both answers here:\n",
    "\n"
   ]
  },
  {
   "cell_type": "markdown",
   "metadata": {},
   "source": [
    "<details><summary>Solution</summary>\n",
    "\n",
    "```python\n",
    "# [1,2,3,4] * [5,6,7,8]\n",
    "TypeError\n",
    "\n",
    "\n",
    "# np.array([1,2,3,4]) * np.array([5,6,7,8])\n",
    "np.array([ 5, 12, 21, 32])\n",
    "```\n",
    "</details>"
   ]
  },
  {
   "cell_type": "markdown",
   "metadata": {},
   "source": [
    "### Question:\n",
    "Without coding, what is the output in each of the cases below?"
   ]
  },
  {
   "cell_type": "markdown",
   "metadata": {},
   "source": [
    "```python\n",
    "#lists\n",
    "[1,2,3,4] / [5,6,7,8]\n",
    "\n",
    "#numpy arrays\n",
    "np.array([1,2,3,4]) / np.array([5,6,7,8])\n",
    "```"
   ]
  },
  {
   "cell_type": "code",
   "execution_count": null,
   "metadata": {},
   "outputs": [],
   "source": [
    "# write both answers here:\n"
   ]
  },
  {
   "cell_type": "markdown",
   "metadata": {},
   "source": [
    "<details><summary>Solution</summary>\n",
    "\n",
    "```python\n",
    "# [1,2,3,4] / [5,6,7,8]\n",
    "TypeError\n",
    "\n",
    "\n",
    "# np.array([1,2,3,4]) / np.array([5,6,7,8])\n",
    "array([0.2 , 0.3, 0.4ish, 0.5])\n",
    "```\n",
    "</details>"
   ]
  },
  {
   "cell_type": "markdown",
   "metadata": {},
   "source": [
    "## Indexing Numpy Arrays"
   ]
  },
  {
   "cell_type": "markdown",
   "metadata": {},
   "source": [
    "Arrays can take nested lists and make them into a pretty rectangle."
   ]
  },
  {
   "cell_type": "code",
   "execution_count": null,
   "metadata": {},
   "outputs": [],
   "source": [
    "np.array([[0, 1], [2, 3], [4, 5], [6, 7], [8, 9]])"
   ]
  },
  {
   "cell_type": "code",
   "execution_count": null,
   "metadata": {},
   "outputs": [],
   "source": [
    "np.array([[0, 1, 2, 3, 4], [5, 6, 7, 8, 9]])"
   ]
  },
  {
   "cell_type": "markdown",
   "metadata": {},
   "source": [
    "Notice how the number of rows correlate to 'the # of lists' and number of columns are the '# of items per list.'"
   ]
  },
  {
   "cell_type": "markdown",
   "metadata": {},
   "source": [
    "This is a nice convention because we can keep the (row, column) convention from linear algebra. Keeping this straight is paramount."
   ]
  },
  {
   "cell_type": "code",
   "execution_count": null,
   "metadata": {},
   "outputs": [],
   "source": [
    "x_list = [[0, 1, 2, 3], [4, 5, 6, 7], [8, 9, 10, 11], [12, 13, 14, 15], [16, 17, 18, 19]]\n",
    "x_array = np.array(x_list)\n",
    "x_array"
   ]
  },
  {
   "cell_type": "code",
   "execution_count": null,
   "metadata": {},
   "outputs": [],
   "source": [
    "x_list[2][2]"
   ]
  },
  {
   "cell_type": "code",
   "execution_count": null,
   "metadata": {},
   "outputs": [],
   "source": [
    "x_array[2][2]"
   ]
  },
  {
   "cell_type": "code",
   "execution_count": null,
   "metadata": {},
   "outputs": [],
   "source": [
    "# But we can also use"
   ]
  },
  {
   "cell_type": "code",
   "execution_count": null,
   "metadata": {},
   "outputs": [],
   "source": [
    "x_array[2, 2]"
   ]
  },
  {
   "cell_type": "markdown",
   "metadata": {},
   "source": [
    "This is how we will be storing and working with most of our data. All three months. And beyond."
   ]
  },
  {
   "cell_type": "markdown",
   "metadata": {},
   "source": [
    "### Simple Indexing\n",
    "#### Question:\n",
    "How many rows will this array have? How many columns?\n",
    "\n",
    "```python \n",
    "np.array([[10, 11], [14, 15], [18, 19]])\n",
    "```"
   ]
  },
  {
   "cell_type": "code",
   "execution_count": null,
   "metadata": {},
   "outputs": [],
   "source": [
    "# write here:\n",
    "\n"
   ]
  },
  {
   "cell_type": "markdown",
   "metadata": {},
   "source": [
    "<details><summary>Solution</summary>\n",
    "\n",
    "```python\n",
    "array([[10, 11],\n",
    "       [14, 15],\n",
    "       [18, 19]])\n",
    "\n",
    "3 rows\n",
    "2 columns\n",
    "```\n",
    "</details>"
   ]
  },
  {
   "cell_type": "markdown",
   "metadata": {},
   "source": [
    "#### Question:\n",
    "How many rows will this array have? How many columns?\n",
    "\n",
    "```python \n",
    "np.array([[3, 4, 5]])\n",
    "```"
   ]
  },
  {
   "cell_type": "code",
   "execution_count": null,
   "metadata": {},
   "outputs": [],
   "source": [
    "# write here:\n",
    "\n"
   ]
  },
  {
   "cell_type": "markdown",
   "metadata": {},
   "source": [
    "<details><summary>Solution</summary>\n",
    "\n",
    "```python\n",
    "array([[3, 4, 5]])\n",
    "\n",
    "1 rows\n",
    "3 columns\n",
    "```\n",
    "</details>"
   ]
  },
  {
   "cell_type": "markdown",
   "metadata": {},
   "source": [
    "#### Question:\n",
    "How many rows will this array have? How many columns?\n",
    "\n",
    "```python \n",
    "np.array([[3], [4], [5]])\n",
    "```"
   ]
  },
  {
   "cell_type": "code",
   "execution_count": null,
   "metadata": {},
   "outputs": [],
   "source": [
    "# write here:\n",
    "\n"
   ]
  },
  {
   "cell_type": "markdown",
   "metadata": {},
   "source": [
    "<details><summary>Solution</summary>\n",
    "\n",
    "```python\n",
    "array([[3],\n",
    "       [4],\n",
    "       [5]])\n",
    "\n",
    "3 rows\n",
    "1 columns\n",
    "\n",
    "```\n",
    "</details>"
   ]
  },
  {
   "cell_type": "markdown",
   "metadata": {},
   "source": [
    "### Indexing multi-dimensional arrays"
   ]
  },
  {
   "cell_type": "markdown",
   "metadata": {},
   "source": [
    "The usual list style indexing extends to multi-dimensional arrays:"
   ]
  },
  {
   "cell_type": "code",
   "execution_count": null,
   "metadata": {},
   "outputs": [],
   "source": [
    "# Get first two rows.\n",
    "x_array[:2, :]"
   ]
  },
  {
   "cell_type": "code",
   "execution_count": null,
   "metadata": {},
   "outputs": [],
   "source": [
    "# Get first two columns.\n",
    "x_array[:, :2]"
   ]
  },
  {
   "cell_type": "code",
   "execution_count": null,
   "metadata": {},
   "outputs": [],
   "source": [
    "# Get first two rows and first two columns\n",
    "x_array[:2, :2]"
   ]
  },
  {
   "cell_type": "code",
   "execution_count": null,
   "metadata": {},
   "outputs": [],
   "source": [
    "# Get even numbered rows and columns\n",
    "x_array[::2, ::2]"
   ]
  },
  {
   "cell_type": "markdown",
   "metadata": {},
   "source": [
    "You can combine this with assignment to surgically alter arrays:"
   ]
  },
  {
   "cell_type": "code",
   "execution_count": null,
   "metadata": {},
   "outputs": [],
   "source": [
    "x_array[:2, :2] = np.mean(x_array)\n",
    "x_array"
   ]
  },
  {
   "cell_type": "code",
   "execution_count": null,
   "metadata": {
    "scrolled": true
   },
   "outputs": [],
   "source": [
    "# lets turn the array back to what it was\n",
    "# lets turn it back for the questions\n",
    "x_array[:2, :2] = ([0, 1], [4, 5])\n",
    "x_array"
   ]
  },
  {
   "cell_type": "markdown",
   "metadata": {},
   "source": [
    "#### Question:\n",
    "Index x_array to return:\n",
    "\n",
    "```python \n",
    "array([[10, 11],\n",
    "       [14, 15],\n",
    "       [18, 19]])\n",
    "```"
   ]
  },
  {
   "cell_type": "code",
   "execution_count": null,
   "metadata": {},
   "outputs": [],
   "source": [
    "# write here:\n",
    "\n"
   ]
  },
  {
   "cell_type": "markdown",
   "metadata": {},
   "source": [
    "<details><summary>Solution</summary>\n",
    "\n",
    "```python\n",
    "x_array[2:,2:]\n",
    "```\n",
    "or \n",
    "```python\n",
    "x_array[-3:,-2:]\n",
    "```\n",
    "</details>"
   ]
  },
  {
   "cell_type": "markdown",
   "metadata": {},
   "source": [
    "#### Question:\n",
    "Index x_array to return: \n",
    "\n",
    "```python \n",
    "array([[ 8,  9, 10, 11],\n",
    "       [12, 13, 14, 15]])\n",
    "```\n",
    "(Try to *think* about if these are rows or columns. Before just guessing. How would you select them if they were lists? *Hint: Row,column)"
   ]
  },
  {
   "cell_type": "code",
   "execution_count": null,
   "metadata": {},
   "outputs": [],
   "source": [
    "# write here:\n",
    "\n"
   ]
  },
  {
   "cell_type": "markdown",
   "metadata": {},
   "source": [
    "<details><summary>Solution</summary>\n",
    "\n",
    "```python\n",
    "x_array[2:4]\n",
    "```\n",
    "</details>"
   ]
  },
  {
   "cell_type": "markdown",
   "metadata": {},
   "source": [
    "#### Question:\n",
    "Index x_array to return:\n",
    "\n",
    "\n",
    "```python \n",
    "array([[ 2,  3],\n",
    "       [ 6,  7],\n",
    "       [10, 11],\n",
    "       [14, 15],\n",
    "       [18, 19]])\n",
    "```"
   ]
  },
  {
   "cell_type": "code",
   "execution_count": null,
   "metadata": {},
   "outputs": [],
   "source": [
    "# write here:\n",
    "\n"
   ]
  },
  {
   "cell_type": "markdown",
   "metadata": {},
   "source": [
    "<details><summary>Solution</summary>\n",
    "\n",
    "```python\n",
    "x_array[:, 2:4]\n",
    "```\n",
    "</details>"
   ]
  },
  {
   "cell_type": "markdown",
   "metadata": {},
   "source": [
    "### Advanced Indexing"
   ]
  },
  {
   "cell_type": "markdown",
   "metadata": {},
   "source": [
    "You can index an array with **another array** (or a list), and this is often referred to as **advanced indexing** or **fancy indexing**."
   ]
  },
  {
   "cell_type": "code",
   "execution_count": null,
   "metadata": {},
   "outputs": [],
   "source": [
    "x_items = np.array(['1st item', '2nd item', '3rd item', '4th item', '5th item'])\n",
    "x_items"
   ]
  },
  {
   "cell_type": "code",
   "execution_count": null,
   "metadata": {},
   "outputs": [],
   "source": [
    "index_array = np.array([0, 0, 4, 4, 2])\n",
    "x_items[index_array]"
   ]
  },
  {
   "cell_type": "markdown",
   "metadata": {},
   "source": [
    "Here's another example:"
   ]
  },
  {
   "cell_type": "code",
   "execution_count": null,
   "metadata": {},
   "outputs": [],
   "source": [
    "colors = np.array(['red', 'blue'])\n",
    "idx = np.array([0, 0, 1, 1, 0, 0, 1, 1])\n",
    "colors[idx]"
   ]
  },
  {
   "cell_type": "markdown",
   "metadata": {},
   "source": [
    "Here's yet another example:"
   ]
  },
  {
   "cell_type": "code",
   "execution_count": null,
   "metadata": {},
   "outputs": [],
   "source": [
    "x_years = np.array([1901, 1950, 2010, 2021, 2030])\n",
    "x_years"
   ]
  },
  {
   "cell_type": "code",
   "execution_count": null,
   "metadata": {},
   "outputs": [],
   "source": [
    "index_array = np.array([0, 0, 4, 4, 2, 2])\n",
    "x_years[index_array]"
   ]
  },
  {
   "cell_type": "markdown",
   "metadata": {},
   "source": [
    "Advanced indexing also works for multi-dimensional arrays, but the results can be confusing."
   ]
  },
  {
   "cell_type": "code",
   "execution_count": null,
   "metadata": {},
   "outputs": [],
   "source": [
    "x_square = np.arange(20).reshape((5, 4))\n",
    "x_square"
   ]
  },
  {
   "cell_type": "code",
   "execution_count": null,
   "metadata": {},
   "outputs": [],
   "source": [
    "x_square[[0, 1, 2, 3], [0, 1, 2, 3]]"
   ]
  },
  {
   "cell_type": "code",
   "execution_count": null,
   "metadata": {},
   "outputs": [],
   "source": [
    "#Pause - why did we get the answer above?"
   ]
  },
  {
   "cell_type": "markdown",
   "metadata": {},
   "source": [
    "Again, you can use advanced indexing with assignment to change arrays:"
   ]
  },
  {
   "cell_type": "code",
   "execution_count": null,
   "metadata": {},
   "outputs": [],
   "source": [
    "x_square[[0, 1, 2, 3], [0, 1, 2, 3]] = 999\n",
    "x_square"
   ]
  },
  {
   "cell_type": "markdown",
   "metadata": {},
   "source": [
    "Array indices can be combined with slices; for detailed information read https://docs.scipy.org/doc/numpy/reference/arrays.indexing.html. But this is really pretty advanced material."
   ]
  },
  {
   "cell_type": "markdown",
   "metadata": {},
   "source": [
    "#### Question:\n",
    "Use advanced indexing on q_square (defined in the cell below) to return: \n",
    "\n",
    "\n",
    "```python \n",
    "array([[ 5,  6,  7,  8,  9],\n",
    "       [15, 16, 17, 18, 19],\n",
    "       [40, 41, 42, 43, 44]])\n",
    "```"
   ]
  },
  {
   "cell_type": "code",
   "execution_count": null,
   "metadata": {},
   "outputs": [],
   "source": [
    "q_square = np.arange(45).reshape(9,5)\n",
    "q_square\n"
   ]
  },
  {
   "cell_type": "code",
   "execution_count": null,
   "metadata": {},
   "outputs": [],
   "source": [
    "# write here:\n",
    "\n"
   ]
  },
  {
   "cell_type": "markdown",
   "metadata": {},
   "source": [
    "<details><summary>Solution</summary>\n",
    "\n",
    "```python\n",
    "q_square[[1,3,8]]\n",
    "```\n",
    "or \n",
    "```python\n",
    "q_square[[1,3,8], :]\n",
    "```\n",
    "\n",
    "</details>"
   ]
  },
  {
   "cell_type": "markdown",
   "metadata": {},
   "source": [
    "#### Question:\n",
    "Use advanced indexing on q_square to return:  \n",
    "\n",
    "```python \n",
    "array([[ 1,  3,  4],\n",
    "       [ 6,  8,  9],\n",
    "       [11, 13, 14],\n",
    "       [16, 18, 19],\n",
    "       [21, 23, 24],\n",
    "       [26, 28, 29],\n",
    "       [31, 33, 34],\n",
    "       [36, 38, 39],\n",
    "       [41, 43, 44]])\n",
    "```"
   ]
  },
  {
   "cell_type": "code",
   "execution_count": null,
   "metadata": {},
   "outputs": [],
   "source": [
    "# write here:\n",
    "\n"
   ]
  },
  {
   "cell_type": "markdown",
   "metadata": {},
   "source": [
    "<details><summary>Solution</summary>\n",
    "\n",
    "```python\n",
    "q_square[:,[1,3,4]]\n",
    "```\n",
    "</details>"
   ]
  },
  {
   "cell_type": "markdown",
   "metadata": {},
   "source": [
    "#### Question:\n",
    "Use advanced indexing on q_square to return: \n",
    "\n",
    "```python \n",
    "array([[ 5, 25, 35],\n",
    "       [ 6, 26, 36],\n",
    "       [ 9, 29, 39]])\n",
    "```"
   ]
  },
  {
   "cell_type": "code",
   "execution_count": null,
   "metadata": {},
   "outputs": [],
   "source": [
    "# write here:\n",
    "\n"
   ]
  },
  {
   "cell_type": "markdown",
   "metadata": {},
   "source": [
    "<details><summary>Solution</summary>\n",
    "\n",
    "```python\n",
    "q_square[[1,5,7],[[0],[1],[4]]]\n",
    "```\n",
    "or \n",
    "```python\n",
    "q_square[[[1,5,7],[1,5,7],[1,5,7]],[[0,0,0],[1,1,1],[2,2,2]]]\n",
    "```\n",
    "</details>"
   ]
  },
  {
   "cell_type": "markdown",
   "metadata": {},
   "source": [
    "#### Question:\n",
    "Using *x_array* and advanced indexing, return: \n",
    "\n",
    "```python \n",
    "array([[ 1,  3],\n",
    "       [ 5,  7],\n",
    "       [ 9, 11]])\n",
    "```"
   ]
  },
  {
   "cell_type": "code",
   "execution_count": null,
   "metadata": {},
   "outputs": [],
   "source": [
    "# write here:\n",
    "\n"
   ]
  },
  {
   "cell_type": "markdown",
   "metadata": {},
   "source": [
    "<details><summary>Solution</summary>\n",
    "\n",
    "```python\n",
    "x_array[:3,[1,3]]\n",
    "```\n",
    "</details>"
   ]
  },
  {
   "cell_type": "markdown",
   "metadata": {},
   "source": [
    "#### Question:\n",
    "Using x_array and advanced indexing return: \n",
    "\n",
    "```python \n",
    "array([[ 1,  3,  3],\n",
    "       [ 5,  7,  7],\n",
    "       [ 9, 11, 11]])\n",
    "```"
   ]
  },
  {
   "cell_type": "code",
   "execution_count": null,
   "metadata": {},
   "outputs": [],
   "source": [
    "# write here:\n",
    "\n"
   ]
  },
  {
   "cell_type": "markdown",
   "metadata": {},
   "source": [
    "<details><summary>Solution</summary>\n",
    "\n",
    "```python\n",
    "x_array[:3,[1, 3, 3]]\n",
    "```\n",
    "</details>"
   ]
  },
  {
   "cell_type": "markdown",
   "metadata": {},
   "source": [
    "#### Question:\n",
    "Use advanced indexing and your own idx with *colors3* to return:\n",
    "\n",
    "```python \n",
    "array(['red', 'green', 'green', 'blue', 'red', 'green'])\n",
    "```"
   ]
  },
  {
   "cell_type": "code",
   "execution_count": null,
   "metadata": {},
   "outputs": [],
   "source": [
    "colors3 = np.array(['red', 'blue', 'green'])"
   ]
  },
  {
   "cell_type": "code",
   "execution_count": null,
   "metadata": {},
   "outputs": [],
   "source": [
    "# write here: \n",
    "\n"
   ]
  },
  {
   "cell_type": "markdown",
   "metadata": {},
   "source": [
    "<details><summary>Solution</summary>\n",
    "\n",
    "```python\n",
    "colors3[np.array([0,2,2,1,0,2])]\n",
    "```\n",
    "</details>"
   ]
  },
  {
   "cell_type": "markdown",
   "metadata": {},
   "source": [
    "## Broadcasting"
   ]
  },
  {
   "cell_type": "markdown",
   "metadata": {},
   "source": [
    "### Equal-shape arrays"
   ]
  },
  {
   "cell_type": "markdown",
   "metadata": {},
   "source": [
    "Most of the standard binary operators in python can be used on arrays. These are interpreted as being applied **element by element**, so the result is an array of the same shape as the operands."
   ]
  },
  {
   "cell_type": "code",
   "execution_count": null,
   "metadata": {},
   "outputs": [],
   "source": [
    "x = np.array([1, 2, 3, 4, 5, 6])\n",
    "y = np.array([2, 4, 6, 8, 10, 12])"
   ]
  },
  {
   "cell_type": "code",
   "execution_count": null,
   "metadata": {},
   "outputs": [],
   "source": [
    "x + y"
   ]
  },
  {
   "cell_type": "code",
   "execution_count": null,
   "metadata": {},
   "outputs": [],
   "source": [
    "x - y"
   ]
  },
  {
   "cell_type": "code",
   "execution_count": null,
   "metadata": {},
   "outputs": [],
   "source": [
    "x * y"
   ]
  },
  {
   "cell_type": "code",
   "execution_count": null,
   "metadata": {},
   "outputs": [],
   "source": [
    "y / x"
   ]
  },
  {
   "cell_type": "code",
   "execution_count": null,
   "metadata": {},
   "outputs": [],
   "source": [
    "y % x"
   ]
  },
  {
   "cell_type": "markdown",
   "metadata": {},
   "source": [
    "If one of the operands is a list, numpy will first convert it into an array."
   ]
  },
  {
   "cell_type": "code",
   "execution_count": null,
   "metadata": {},
   "outputs": [],
   "source": [
    "np.array([1, 2, 3]) + [1, 2, 3]"
   ]
  },
  {
   "cell_type": "markdown",
   "metadata": {},
   "source": [
    "### Broadcasting with a single value"
   ]
  },
  {
   "cell_type": "markdown",
   "metadata": {},
   "source": [
    "When the arrays are of different shape, they first have to be **broadcast** into arrays of the same shape. This feature is powerful but somewhat confusing.\n",
    "\n",
    "The simplest example of broadcasting is when one array is a single element, or just a single value. In this case the value is converted into an array of the same shape as the other, but filled with that value. In effect, that value is combined with every element of the other array."
   ]
  },
  {
   "cell_type": "code",
   "execution_count": null,
   "metadata": {},
   "outputs": [],
   "source": [
    "2 * x"
   ]
  },
  {
   "cell_type": "code",
   "execution_count": null,
   "metadata": {},
   "outputs": [],
   "source": [
    "y / 2"
   ]
  },
  {
   "cell_type": "code",
   "execution_count": null,
   "metadata": {},
   "outputs": [],
   "source": [
    "x % 2"
   ]
  },
  {
   "cell_type": "markdown",
   "metadata": {},
   "source": [
    "#### Question:\n",
    "Using *x_array*, '100', and broadcasting return: \n",
    "\n",
    "```python \n",
    "array([  0, 100, 200, 300])\n",
    "```"
   ]
  },
  {
   "cell_type": "code",
   "execution_count": null,
   "metadata": {
    "scrolled": true
   },
   "outputs": [],
   "source": [
    "# write here: \n",
    "\n"
   ]
  },
  {
   "cell_type": "markdown",
   "metadata": {},
   "source": [
    "<details><summary>Solution</summary>\n",
    "\n",
    "```python\n",
    "x_array[0] * 100\n",
    "```\n",
    "</details>"
   ]
  },
  {
   "cell_type": "markdown",
   "metadata": {},
   "source": [
    "#### Question:\n",
    "Using *x_array*, '100', and broadcasting return: \n",
    "\n",
    "```python \n",
    "array([   0,  400,  800, 1200, 1600])\n",
    "```"
   ]
  },
  {
   "cell_type": "code",
   "execution_count": null,
   "metadata": {
    "scrolled": true
   },
   "outputs": [],
   "source": [
    "# write here: \n",
    "\n"
   ]
  },
  {
   "cell_type": "markdown",
   "metadata": {},
   "source": [
    "<details><summary>Solution</summary>\n",
    "\n",
    "```python\n",
    "x_array[:, 0] * 100\n",
    "```\n",
    "</details>"
   ]
  },
  {
   "cell_type": "markdown",
   "metadata": {},
   "source": [
    "#### Question:\n",
    "Sum the first and last rows of x_array. You will get:\n",
    "\n",
    "```python \n",
    "array([16, 18, 20, 22])\n",
    "```"
   ]
  },
  {
   "cell_type": "code",
   "execution_count": null,
   "metadata": {
    "scrolled": true
   },
   "outputs": [],
   "source": [
    "# write here: \n",
    "\n"
   ]
  },
  {
   "cell_type": "markdown",
   "metadata": {},
   "source": [
    "<details><summary>Solution</summary>\n",
    "\n",
    "```python\n",
    "x_array[0] + x_array[4]\n",
    "```\n",
    "</details>"
   ]
  },
  {
   "cell_type": "markdown",
   "metadata": {},
   "source": [
    "### Broadcasting comparison operators"
   ]
  },
  {
   "cell_type": "markdown",
   "metadata": {},
   "source": [
    "You can also broadcast with comparison operators, this is **very useful** when combined with something we'll talk about after this."
   ]
  },
  {
   "cell_type": "code",
   "execution_count": null,
   "metadata": {},
   "outputs": [],
   "source": [
    "x <= 3"
   ]
  },
  {
   "cell_type": "code",
   "execution_count": null,
   "metadata": {},
   "outputs": [],
   "source": [
    "y / 2 == x"
   ]
  },
  {
   "cell_type": "markdown",
   "metadata": {},
   "source": [
    "If you need to combine boolean arrays with logical operators, broadcasting also applys to the `&` and `|` operators (and and or):"
   ]
  },
  {
   "cell_type": "code",
   "execution_count": null,
   "metadata": {},
   "outputs": [],
   "source": [
    "(x <= 2) | (x >= 5)"
   ]
  },
  {
   "cell_type": "code",
   "execution_count": null,
   "metadata": {},
   "outputs": [],
   "source": [
    "(x >= 2) & (x <= 5)"
   ]
  },
  {
   "cell_type": "markdown",
   "metadata": {},
   "source": [
    "Note the parentheses are necessary because of python's precedence rules."
   ]
  },
  {
   "cell_type": "markdown",
   "metadata": {},
   "source": [
    "#### Question:\n",
    "using *x_array*, return true for each element that was less than 15 \n",
    "\n",
    "```python \n",
    "array([[ True,  True,  True,  True],\n",
    "       [ True,  True,  True,  True],\n",
    "       [ True,  True,  True,  True],\n",
    "       [ True,  True,  True, False],\n",
    "       [False, False, False, False]])\n",
    "```"
   ]
  },
  {
   "cell_type": "code",
   "execution_count": null,
   "metadata": {
    "scrolled": true
   },
   "outputs": [],
   "source": [
    "# write here: \n",
    "\n"
   ]
  },
  {
   "cell_type": "markdown",
   "metadata": {},
   "source": [
    "<details><summary>Solution</summary>\n",
    "\n",
    "```python\n",
    "x_array < 15\n",
    "```\n",
    "</details>"
   ]
  },
  {
   "cell_type": "markdown",
   "metadata": {},
   "source": [
    "#### Question:\n",
    "For each element in the last column of *x_array*, return true if that element is less than 15 and false if it is not. You should get:\n",
    "using *x_array*, return true for each element in the last column that was less than 15, and false if not.\n",
    "\n",
    "```python \n",
    "array([ True,  True,  True, False, False])\n",
    "```"
   ]
  },
  {
   "cell_type": "code",
   "execution_count": null,
   "metadata": {
    "scrolled": true
   },
   "outputs": [],
   "source": [
    "# write here: \n",
    "\n",
    "\n"
   ]
  },
  {
   "cell_type": "markdown",
   "metadata": {},
   "source": [
    "<details><summary>Solution</summary>\n",
    "\n",
    "```python\n",
    "x_array[:, -1] < 15\n",
    "```\n",
    "or \n",
    "```python\n",
    "x_array[:, 3] < 15\n",
    "```\n",
    "</details>"
   ]
  },
  {
   "cell_type": "markdown",
   "metadata": {},
   "source": [
    "#### Question:\n",
    "Using *x_array*, return the remainder if you divided by 5:\n",
    "\n",
    "```python \n",
    "array([[0, 1, 2, 3],\n",
    "       [4, 0, 1, 2],\n",
    "       [3, 4, 0, 1],\n",
    "       [2, 3, 4, 0],\n",
    "       [1, 2, 3, 4]])\n",
    "```"
   ]
  },
  {
   "cell_type": "code",
   "execution_count": null,
   "metadata": {
    "scrolled": true
   },
   "outputs": [],
   "source": [
    "# write here:\n",
    "\n"
   ]
  },
  {
   "cell_type": "markdown",
   "metadata": {},
   "source": [
    "<details><summary>Solution</summary>\n",
    "\n",
    "```python\n",
    "x_array % 5\n",
    "\n",
    "```\n",
    "</details>"
   ]
  },
  {
   "cell_type": "markdown",
   "metadata": {},
   "source": [
    "#### Question:\n",
    "Using *x_array*, return true if the remainder is 4 after dividing by 5.\n",
    "\n",
    "\n",
    "```python\n",
    "array([[False, False, False, False],\n",
    "       [ True, False, False, False],\n",
    "       [False,  True, False, False],\n",
    "       [False, False,  True, False],\n",
    "       [False, False, False,  True]])\n",
    "```"
   ]
  },
  {
   "cell_type": "code",
   "execution_count": null,
   "metadata": {
    "scrolled": true
   },
   "outputs": [],
   "source": [
    "# write here: \n",
    "\n"
   ]
  },
  {
   "cell_type": "markdown",
   "metadata": {},
   "source": [
    "<details><summary>Solution</summary>\n",
    "\n",
    "```python\n",
    "x_array % 5 == 4\n",
    "```\n",
    "</details>"
   ]
  },
  {
   "cell_type": "markdown",
   "metadata": {},
   "source": [
    "#### Question:\n",
    "Using *x_array*, return true if an element is evenly divisible by 2 and 3 (i.e. the remainder for each division is zero). \n",
    "\n",
    "\n",
    "```python \n",
    "array([[ True, False, False, False],\n",
    "       [False, False,  True, False],\n",
    "       [False, False, False, False],\n",
    "       [ True, False, False, False],\n",
    "       [False, False,  True, False]])\n",
    "```"
   ]
  },
  {
   "cell_type": "code",
   "execution_count": null,
   "metadata": {
    "scrolled": true
   },
   "outputs": [],
   "source": [
    "# write here: "
   ]
  },
  {
   "cell_type": "markdown",
   "metadata": {},
   "source": [
    "<details><summary>Solution</summary>\n",
    "\n",
    "```python\n",
    "(x_array % 2 == 0) & (x_array % 3 == 0)\n",
    "```\n",
    "</details>"
   ]
  },
  {
   "cell_type": "markdown",
   "metadata": {},
   "source": [
    "#### Question:\n",
    "Using *x_array*, return true if an element in column 3 is evenly divisible by 3 OR 7. You should get:\n",
    "\n",
    "```python \n",
    "array([ True,  True, False,  True, False])\n",
    "\n",
    "```\n",
    ">(PLEASE don't copy/paste. Try to do it from memory!)\n"
   ]
  },
  {
   "cell_type": "markdown",
   "metadata": {},
   "source": [
    "### Question:\n",
    "Using `x_array`, find the numbers evenly divisible by 3 or 7 in column 3. \n",
    "\n",
    ">(PLEASE don't copy/paste. Try to do it from memory!)\n",
    "\n",
    "```python \n",
    "array([ True,  True, False,  True, False])\n",
    "\n",
    "```"
   ]
  },
  {
   "cell_type": "code",
   "execution_count": null,
   "metadata": {
    "scrolled": true
   },
   "outputs": [],
   "source": [
    "# write here: \n",
    "\n"
   ]
  },
  {
   "cell_type": "markdown",
   "metadata": {},
   "source": [
    "<details><summary>Solution</summary>\n",
    "\n",
    "```python\n",
    "(x_array[:,3]%3==0) | (x_array[:,3]%7==0)\n",
    "```\n",
    "</details>"
   ]
  },
  {
   "cell_type": "markdown",
   "metadata": {},
   "source": [
    "## Boolean Indexing"
   ]
  },
  {
   "cell_type": "markdown",
   "metadata": {},
   "source": [
    "If you have an array of booleans (i.e. `True`'s and `False`'s), you can use these as indices too.  \n",
    "But you'll get a new array containing only those elements that line up with a `True` in your index array.\n",
    "\n",
    "Every row or column with a false will just go away, resulting in a array of a new size."
   ]
  },
  {
   "cell_type": "code",
   "execution_count": null,
   "metadata": {},
   "outputs": [],
   "source": [
    "x = np.arange(5)\n",
    "x"
   ]
  },
  {
   "cell_type": "code",
   "execution_count": null,
   "metadata": {},
   "outputs": [],
   "source": [
    "x[[True, True, False, False, True]]"
   ]
  },
  {
   "cell_type": "markdown",
   "metadata": {},
   "source": [
    "#### Question:\n",
    "Using *x* and boolean indexing return \n",
    "\n",
    "```python \n",
    "array([1, 2, 4])\n",
    "```"
   ]
  },
  {
   "cell_type": "code",
   "execution_count": null,
   "metadata": {},
   "outputs": [],
   "source": [
    "# write here: \n"
   ]
  },
  {
   "cell_type": "markdown",
   "metadata": {},
   "source": [
    "<details><summary>Solution</summary>\n",
    "\n",
    "```python\n",
    "x[[False, True, True, False, True]]\n",
    "```\n",
    "</details>"
   ]
  },
  {
   "cell_type": "markdown",
   "metadata": {},
   "source": [
    "#### Question:\n",
    "Using *sentence_array* and boolean indexing return \n",
    "\n",
    "```python \n",
    "array([\"Hi,\", \"I'm\", \"getting\", \"better\", \"at\", \"numpy\"])\n",
    "```"
   ]
  },
  {
   "cell_type": "code",
   "execution_count": null,
   "metadata": {},
   "outputs": [],
   "source": [
    "sentence_array = np.array([\"Hi,\", \"I'm\", \"getting\", \"SQUIRREL\", \"better\", \"at\", \"AMALGAMATION\",\"numpy\"])"
   ]
  },
  {
   "cell_type": "code",
   "execution_count": null,
   "metadata": {},
   "outputs": [],
   "source": [
    "# write here: \n"
   ]
  },
  {
   "cell_type": "markdown",
   "metadata": {},
   "source": [
    "<details><summary>Solution</summary>\n",
    "\n",
    "```python\n",
    "sentence_array[[True, True, True, False, True, True, False, True]]\n",
    "```\n",
    "</details>"
   ]
  },
  {
   "cell_type": "markdown",
   "metadata": {},
   "source": [
    "### Boolean Indexing *in Multiple Dimensions*"
   ]
  },
  {
   "cell_type": "markdown",
   "metadata": {},
   "source": [
    "You can use boolean indexing to select specific rows or columns in a multi-dimensional array:"
   ]
  },
  {
   "cell_type": "code",
   "execution_count": null,
   "metadata": {},
   "outputs": [],
   "source": [
    "x = np.arange(20).reshape((5, 4))\n",
    "x"
   ]
  },
  {
   "cell_type": "code",
   "execution_count": null,
   "metadata": {},
   "outputs": [],
   "source": [
    "x[[True, False, True, True, False], :]"
   ]
  },
  {
   "cell_type": "code",
   "execution_count": null,
   "metadata": {},
   "outputs": [],
   "source": [
    "x[:, [False, True, False, True]]"
   ]
  },
  {
   "cell_type": "markdown",
   "metadata": {},
   "source": [
    "And, of course, this allows for some surgical operations:"
   ]
  },
  {
   "cell_type": "code",
   "execution_count": null,
   "metadata": {},
   "outputs": [],
   "source": [
    "x[[True, False, True, True, False], :] = 999\n",
    "x"
   ]
  },
  {
   "cell_type": "markdown",
   "metadata": {},
   "source": [
    "When combined with broadcasting, this can get you to some neat places."
   ]
  },
  {
   "cell_type": "code",
   "execution_count": null,
   "metadata": {},
   "outputs": [],
   "source": [
    "x = np.random.randint(0, 10, size=(6, 10))\n",
    "x"
   ]
  },
  {
   "cell_type": "markdown",
   "metadata": {},
   "source": [
    "For example, we can return only the columns for which the value in the first row is bigger than five:"
   ]
  },
  {
   "cell_type": "code",
   "execution_count": null,
   "metadata": {},
   "outputs": [],
   "source": [
    "x[:, x[0, :] > 5]"
   ]
  },
  {
   "cell_type": "markdown",
   "metadata": {},
   "source": [
    "Return only the rows where the value in the first column is bigger than five:"
   ]
  },
  {
   "cell_type": "code",
   "execution_count": null,
   "metadata": {},
   "outputs": [],
   "source": [
    "x[x[:, 0] > 5, :]"
   ]
  },
  {
   "cell_type": "markdown",
   "metadata": {},
   "source": [
    "#### Question:\n",
    "Using *x_array* and boolean indexing return \n",
    "\n",
    "```python \n",
    "array([[ 0,  1,  2,  3],\n",
    "       [ 4,  5,  6,  7],\n",
    "       [16, 17, 18, 19]])\n",
    "```"
   ]
  },
  {
   "cell_type": "code",
   "execution_count": null,
   "metadata": {},
   "outputs": [],
   "source": [
    "# write here: \n"
   ]
  },
  {
   "cell_type": "markdown",
   "metadata": {},
   "source": [
    "<details><summary>Solution</summary>\n",
    "\n",
    "```python\n",
    "x_array[[True,True, False, False, True]]\n",
    "```\n",
    "</details>"
   ]
  },
  {
   "cell_type": "markdown",
   "metadata": {},
   "source": [
    "#### Question:\n",
    "using *sentence_array* and boolean indexing return \n",
    "\n",
    "```python \n",
    "array([['I', 'will', 'write'],\n",
    "       ['my', 'answer', 'before'],\n",
    "       ['checking', 'the', 'solution']], dtype='<U8')\n",
    "```"
   ]
  },
  {
   "cell_type": "code",
   "execution_count": null,
   "metadata": {},
   "outputs": [],
   "source": [
    "promise_array = np.array([[\"I\", \"will\", \"HELP\", \"write\"], [\"my\", \"answer\", \"ME\",\"before\"], [\"checking\",\"the\", \"PLEASE\",\"solution\"]])\n",
    "promise_array"
   ]
  },
  {
   "cell_type": "code",
   "execution_count": null,
   "metadata": {},
   "outputs": [],
   "source": [
    "# write here: \n",
    "\n"
   ]
  },
  {
   "cell_type": "markdown",
   "metadata": {},
   "source": [
    "<details><summary>Solution</summary>\n",
    "\n",
    "```python\n",
    "promise_array[:,[True, True,False, True]]\n",
    "```\n",
    "</details>"
   ]
  },
  {
   "cell_type": "markdown",
   "metadata": {},
   "source": [
    "#### Question:\n",
    "Using *x_array* and boolean indexing return \n",
    "\n",
    "```python \n",
    "array([[ 0,  3],\n",
    "       [ 4,  7],\n",
    "       [ 8, 11],\n",
    "       [12, 15],\n",
    "       [16, 19]])\n",
    "```"
   ]
  },
  {
   "cell_type": "code",
   "execution_count": null,
   "metadata": {},
   "outputs": [],
   "source": [
    "# write here:\n",
    "\n"
   ]
  },
  {
   "cell_type": "markdown",
   "metadata": {},
   "source": [
    "<details><summary>Solution</summary>\n",
    "\n",
    "```python\n",
    "x_array[:,[True,False, False, True]]\n",
    "```\n",
    "</details>"
   ]
  },
  {
   "cell_type": "markdown",
   "metadata": {},
   "source": [
    "#### Question:\n",
    "Using *x_array* return true if the number is greater than 5\n",
    "\n",
    "```python \n",
    "array([[False, False, False, False],\n",
    "       [False, False,  True,  True],\n",
    "       [ True,  True,  True,  True],\n",
    "       [ True,  True,  True,  True],\n",
    "       [ True,  True,  True,  True]])\n",
    "```"
   ]
  },
  {
   "cell_type": "code",
   "execution_count": null,
   "metadata": {},
   "outputs": [],
   "source": [
    "# write here: \n",
    "\n"
   ]
  },
  {
   "cell_type": "markdown",
   "metadata": {},
   "source": [
    "<details><summary>Solution</summary>\n",
    "\n",
    "```python\n",
    "x_array>5\n",
    "```\n",
    "</details>"
   ]
  },
  {
   "cell_type": "markdown",
   "metadata": {},
   "source": [
    "### Broadcasting and Boolean Indexing"
   ]
  },
  {
   "cell_type": "markdown",
   "metadata": {},
   "source": [
    "It is **very** useful to combine boolean indexing with broadcasting to create boolean index arrays. (Which we just did!)"
   ]
  },
  {
   "cell_type": "code",
   "execution_count": null,
   "metadata": {},
   "outputs": [],
   "source": [
    "x % 2 == 0"
   ]
  },
  {
   "cell_type": "code",
   "execution_count": null,
   "metadata": {
    "scrolled": true
   },
   "outputs": [],
   "source": [
    "# Subset to the even entries.\n",
    "x[x % 2 == 0]"
   ]
  },
  {
   "cell_type": "markdown",
   "metadata": {},
   "source": [
    "#### Question:\n",
    "using *x_array* and boolean indexing return \n",
    "\n",
    "```python \n",
    "array([[ 0,  1,  2,  3],\n",
    "       [ 4,  5,  6,  7],\n",
    "       [16, 17, 18, 19]])\n",
    "```"
   ]
  },
  {
   "cell_type": "code",
   "execution_count": null,
   "metadata": {},
   "outputs": [],
   "source": [
    "# write here: \n",
    "\n"
   ]
  },
  {
   "cell_type": "markdown",
   "metadata": {},
   "source": [
    "<details><summary>Solution</summary>\n",
    "\n",
    "```python\n",
    "x_array[[True,True, False, False, True]]\n",
    "```\n",
    "</details>"
   ]
  },
  {
   "cell_type": "markdown",
   "metadata": {},
   "source": [
    "#### Question:\n",
    "Using *x_array*, '%', and '==' return all columns with a even first entry\n",
    "\n",
    "```python \n",
    "array([[ 0,  2],\n",
    "       [ 4,  6],\n",
    "       [ 8, 10],\n",
    "       [12, 14],\n",
    "       [16, 18]])\n",
    "```"
   ]
  },
  {
   "cell_type": "code",
   "execution_count": null,
   "metadata": {},
   "outputs": [],
   "source": [
    "# write here: \n",
    "\n"
   ]
  },
  {
   "cell_type": "markdown",
   "metadata": {},
   "source": [
    "<details><summary>Solution</summary>\n",
    "\n",
    "```python\n",
    "x_array[:, x_array[0]%2 == 0 ]\n",
    "```\n",
    "</details>"
   ]
  },
  {
   "cell_type": "markdown",
   "metadata": {},
   "source": [
    "#### Question:\n",
    "Using *x_array*, inequalities, broadcasting, and boolean indexing return the rows who's third column is evenly divisible by 3 or 7. (Again, type from memory! It's good for you!)\n",
    "\n",
    "\n",
    "```python \n",
    "array([[ 0,  1,  2,  3],\n",
    "       [ 4,  5,  6,  7],\n",
    "       [12, 13, 14, 15]])\n",
    "```"
   ]
  },
  {
   "cell_type": "code",
   "execution_count": null,
   "metadata": {
    "scrolled": true
   },
   "outputs": [],
   "source": [
    "# write here: \n",
    "\n"
   ]
  },
  {
   "cell_type": "markdown",
   "metadata": {},
   "source": [
    "<details><summary>Solution</summary>\n",
    "\n",
    "```python\n",
    "x_array[(x_array[:,3]%3==0) | (x_array[:,3]%7==0)]\n",
    "```\n",
    "</details>"
   ]
  },
  {
   "cell_type": "markdown",
   "metadata": {},
   "source": [
    "## Creating Numpy Arrays"
   ]
  },
  {
   "cell_type": "markdown",
   "metadata": {},
   "source": [
    "### np.zeros"
   ]
  },
  {
   "cell_type": "markdown",
   "metadata": {},
   "source": [
    "`np.zeros` creates a new array of a given size, and fills it with zeros."
   ]
  },
  {
   "cell_type": "code",
   "execution_count": null,
   "metadata": {},
   "outputs": [],
   "source": [
    "np.zeros(10)"
   ]
  },
  {
   "cell_type": "markdown",
   "metadata": {},
   "source": [
    "You can also create a **multi-dimensional** array by passing a tuple as the shape:"
   ]
  },
  {
   "cell_type": "code",
   "execution_count": null,
   "metadata": {},
   "outputs": [],
   "source": [
    "np.zeros((5, 3))"
   ]
  },
  {
   "cell_type": "markdown",
   "metadata": {},
   "source": [
    "### np.ones"
   ]
  },
  {
   "cell_type": "markdown",
   "metadata": {},
   "source": [
    "This is just like `np.zeros`, but it fills the array with ones."
   ]
  },
  {
   "cell_type": "code",
   "execution_count": null,
   "metadata": {},
   "outputs": [],
   "source": [
    "x_ones = np.ones(10)\n",
    "x_ones"
   ]
  },
  {
   "cell_type": "markdown",
   "metadata": {},
   "source": [
    "### np.full"
   ]
  },
  {
   "cell_type": "markdown",
   "metadata": {},
   "source": [
    "If you want another constant in your array, use `np.full`."
   ]
  },
  {
   "cell_type": "code",
   "execution_count": null,
   "metadata": {},
   "outputs": [],
   "source": [
    "np.full(shape=(3, 4), fill_value=np.pi)"
   ]
  },
  {
   "cell_type": "code",
   "execution_count": null,
   "metadata": {},
   "outputs": [],
   "source": [
    "np.full((3, 4), np.pi)"
   ]
  },
  {
   "cell_type": "markdown",
   "metadata": {},
   "source": [
    "### np.linspace"
   ]
  },
  {
   "cell_type": "markdown",
   "metadata": {},
   "source": [
    "`np.linspace` creates an equally spaced grid of numbers between two endpoints. This comes in handy when generating data for graphs. "
   ]
  },
  {
   "cell_type": "code",
   "execution_count": null,
   "metadata": {},
   "outputs": [],
   "source": [
    "np.linspace(0, 1, num=11)"
   ]
  },
  {
   "cell_type": "code",
   "execution_count": null,
   "metadata": {},
   "outputs": [],
   "source": [
    "np.linspace(0, 10, num=11)"
   ]
  },
  {
   "cell_type": "code",
   "execution_count": null,
   "metadata": {},
   "outputs": [],
   "source": [
    "np.linspace(0, 1, num=21)"
   ]
  },
  {
   "cell_type": "markdown",
   "metadata": {},
   "source": [
    "### Graphing\n",
    "\n",
    "Combining functions, linspace, and broadcasting will help us make some cool graphs later. "
   ]
  },
  {
   "cell_type": "code",
   "execution_count": null,
   "metadata": {},
   "outputs": [],
   "source": [
    "def squared(x):\n",
    "    return x**2\n",
    "\n",
    "x_axis_values = np.linspace(-5,5,100)\n",
    "\n",
    "fig, ax = plt.subplots()\n",
    "ax.scatter(x=x_axis_values,y = squared(x_axis_values))"
   ]
  },
  {
   "cell_type": "markdown",
   "metadata": {},
   "source": [
    "### np.arange"
   ]
  },
  {
   "cell_type": "markdown",
   "metadata": {},
   "source": [
    "`np.arange` is just like the built-in python function `range`, but it makes an array."
   ]
  },
  {
   "cell_type": "code",
   "execution_count": null,
   "metadata": {},
   "outputs": [],
   "source": [
    "np.arange(10)"
   ]
  },
  {
   "cell_type": "code",
   "execution_count": null,
   "metadata": {},
   "outputs": [],
   "source": [
    "np.arange(2, 10)"
   ]
  },
  {
   "cell_type": "code",
   "execution_count": null,
   "metadata": {},
   "outputs": [],
   "source": [
    "np.arange(0, 10, 2)"
   ]
  },
  {
   "cell_type": "markdown",
   "metadata": {},
   "source": [
    "**Fill in the blank:** The 2 in the above code `np.arange(0, 10, 2)` is referred to as the ____ parameter. \n",
    "\n",
    "<details><summary>Solution</summary>\n",
    "This is called the step parameter. It's how large of a \"step\" you take between numbers generated in the array.\n",
    "</details>"
   ]
  },
  {
   "cell_type": "markdown",
   "metadata": {},
   "source": [
    "The differences between `np.linspace` and `np.arange` are\n",
    "\n",
    " * the third parameter of `linspace` is the number of points; for `arange` it's the step size, and\n",
    " * the endpoint is included with `linspace` but not with `arange` (e.g., np.arange(10) returns numbers up to 9)."
   ]
  },
  {
   "cell_type": "markdown",
   "metadata": {},
   "source": [
    "### np.random.uniform and np.random.normal"
   ]
  },
  {
   "cell_type": "markdown",
   "metadata": {},
   "source": [
    "The `np.random` subpackage contains some functions for creating arrays of random numbers.  These two are the most useful, but there are more!"
   ]
  },
  {
   "cell_type": "code",
   "execution_count": null,
   "metadata": {},
   "outputs": [],
   "source": [
    "np.random.uniform(low=0.0, high=10.0, size=10).round(2)"
   ]
  },
  {
   "cell_type": "code",
   "execution_count": null,
   "metadata": {},
   "outputs": [],
   "source": [
    "unif = np.random.uniform(low=0.0, high=10.0, size=10**7)\n",
    "\n",
    "fig, ax = plt.subplots(figsize=(10, 6))\n",
    "_ = ax.hist(unif, bins=100, color='crimson', alpha=0.8)"
   ]
  },
  {
   "cell_type": "markdown",
   "metadata": {},
   "source": [
    "Does the above chart look like you'd expect it to?"
   ]
  },
  {
   "cell_type": "code",
   "execution_count": null,
   "metadata": {},
   "outputs": [],
   "source": [
    "np.random.normal(loc=0.0, scale=1.0, size=10)#.round(2)"
   ]
  },
  {
   "cell_type": "code",
   "execution_count": null,
   "metadata": {
    "scrolled": true
   },
   "outputs": [],
   "source": [
    "unif = np.random.normal(loc=0.0, scale=1.0, size=10**7)\n",
    "\n",
    "fig, ax = plt.subplots(figsize=(10, 6))\n",
    "_ = ax.hist(unif, bins=100, color='crimson', alpha=0.8)"
   ]
  },
  {
   "cell_type": "markdown",
   "metadata": {},
   "source": [
    "### Numpy Array Questions\n",
    "\n",
    "#### Question:\n",
    "Return an array of 10 random values between 0 and 5. Use shift+tab to see which parameters are which. \n",
    "\n",
    "```python \n",
    "array([4.96150642, 0.92838199, 4.94908329, 3.0829649 , 4.20193468,\n",
    "       3.47927002, 1.97000483, 1.46018287, 3.25614441, 0.64609845])\n",
    "```"
   ]
  },
  {
   "cell_type": "code",
   "execution_count": null,
   "metadata": {
    "scrolled": true
   },
   "outputs": [],
   "source": [
    "# write here: \n",
    "\n"
   ]
  },
  {
   "cell_type": "markdown",
   "metadata": {},
   "source": [
    "<details><summary>Solution</summary>\n",
    "\n",
    "```python\n",
    "np.random.uniform(0,5,size=10)\n",
    "```\n",
    "</details>"
   ]
  },
  {
   "cell_type": "markdown",
   "metadata": {},
   "source": [
    "#### Question:\n",
    "Using linspace, return:\n",
    "\n",
    "```python \n",
    "array([0. , 0.1, 0.2, 0.3, 0.4, 0.5, 0.6, 0.7, 0.8, 0.9, 1. ])\n",
    "```"
   ]
  },
  {
   "cell_type": "code",
   "execution_count": null,
   "metadata": {
    "scrolled": true
   },
   "outputs": [],
   "source": [
    "# write here: \n",
    "\n"
   ]
  },
  {
   "cell_type": "markdown",
   "metadata": {},
   "source": [
    "<details><summary>Solution</summary>\n",
    "\n",
    "```python\n",
    "np.linspace(0,1,11)\n",
    "```\n",
    "</details>"
   ]
  },
  {
   "cell_type": "markdown",
   "metadata": {},
   "source": [
    "#### Question:\n",
    "Using logspace, return:  \n",
    "\n",
    "```python \n",
    "array([1.e+00, 1.e+01, 1.e+02, 1.e+03, 1.e+04, 1.e+05])\n",
    "```"
   ]
  },
  {
   "cell_type": "code",
   "execution_count": null,
   "metadata": {
    "scrolled": true
   },
   "outputs": [],
   "source": [
    "# write here: \n",
    "\n"
   ]
  },
  {
   "cell_type": "markdown",
   "metadata": {},
   "source": [
    "<details><summary>Solution</summary>\n",
    "\n",
    "```python\n",
    "np.logspace(0, 5, 6)\n",
    "```\n",
    "</details>"
   ]
  },
  {
   "cell_type": "markdown",
   "metadata": {},
   "source": [
    "#### Question:\n",
    "Return 5 numbers with a mean of 10, who's average distance from 10 is about 1. (**Ahem** use the normal distribution.)\n",
    "\n",
    "```python \n",
    "array([10.08397441, 10.5717336 , 11.50609933,  9.75519246,  9.42481597])\n",
    "```"
   ]
  },
  {
   "cell_type": "code",
   "execution_count": null,
   "metadata": {
    "scrolled": true
   },
   "outputs": [],
   "source": [
    "# write here: \n",
    "\n"
   ]
  },
  {
   "cell_type": "markdown",
   "metadata": {},
   "source": [
    "<details><summary>Solution</summary>\n",
    "\n",
    "```python\n",
    "np.random.normal(10,1,5)\n",
    "```\n",
    "</details>"
   ]
  },
  {
   "cell_type": "markdown",
   "metadata": {},
   "source": [
    "## Constraints on Arrays"
   ]
  },
  {
   "cell_type": "markdown",
   "metadata": {},
   "source": [
    "One other major difference between arrays and lists is that arrays **cannot be extended** (that means appended to or made bigger in any way)."
   ]
  },
  {
   "cell_type": "code",
   "execution_count": null,
   "metadata": {},
   "outputs": [],
   "source": [
    "x = np.array([0, 1, 2, 3, 4, 5, 6, 7, 8, 9])\n",
    "# x.append(10) <-- THIS WILL NOT WORK"
   ]
  },
  {
   "cell_type": "markdown",
   "metadata": {},
   "source": [
    "Numpy arrays have a fixed **size**, which cannot be changed. **The size is the number of elements in the array.**"
   ]
  },
  {
   "cell_type": "code",
   "execution_count": null,
   "metadata": {},
   "outputs": [],
   "source": [
    "x.size"
   ]
  },
  {
   "cell_type": "markdown",
   "metadata": {},
   "source": [
    "So as a consequence, if you want to create a numpy array to hold some data, you **need to know how large your array needs to be at the time the array is created**."
   ]
  },
  {
   "cell_type": "markdown",
   "metadata": {},
   "source": [
    "## Reshaping Arrays"
   ]
  },
  {
   "cell_type": "markdown",
   "metadata": {},
   "source": [
    "Although the total size of an array **cannot** be changed, the **shape** of the array can be changed, **as long as this change of shape does not create or destroy elements** (i.e., as long as the reshaping does not change the **size** of the array)."
   ]
  },
  {
   "cell_type": "code",
   "execution_count": null,
   "metadata": {},
   "outputs": [],
   "source": [
    "x = np.array([0, 1, 2, 3, 4, 5, 6, 7, 8, 9])\n",
    "x"
   ]
  },
  {
   "cell_type": "code",
   "execution_count": null,
   "metadata": {},
   "outputs": [],
   "source": [
    "x.shape"
   ]
  },
  {
   "cell_type": "code",
   "execution_count": null,
   "metadata": {},
   "outputs": [],
   "source": [
    "x.reshape((5, 2))"
   ]
  },
  {
   "cell_type": "code",
   "execution_count": null,
   "metadata": {},
   "outputs": [],
   "source": [
    "x.reshape((2, 5))"
   ]
  },
  {
   "cell_type": "markdown",
   "metadata": {},
   "source": [
    "If you do not know how many rows or columns to pick, you may use -1 to allow numpy to pick for you!"
   ]
  },
  {
   "cell_type": "code",
   "execution_count": null,
   "metadata": {},
   "outputs": [],
   "source": [
    "# give me two rows, any number of columns\n",
    "x.reshape((2, -1))"
   ]
  },
  {
   "cell_type": "code",
   "execution_count": null,
   "metadata": {},
   "outputs": [],
   "source": [
    "# give me two columns, any number of rows\n",
    "x.reshape((-1, 2))"
   ]
  },
  {
   "cell_type": "markdown",
   "metadata": {},
   "source": [
    "Notice two things here:  \n",
    "1. the product of the shape elements will *always* equal the size.\n",
    "2. the 'shape' is (# of rows, # of columns). In that order. Make sure you think hard about this, as it will make your life less hellish later."
   ]
  },
  {
   "cell_type": "markdown",
   "metadata": {},
   "source": [
    "### Question\n",
    "\n",
    "```python\n",
    "    np.array([1,2,3])\n",
    "```\n",
    "\n",
    "has what shape?"
   ]
  },
  {
   "cell_type": "code",
   "execution_count": null,
   "metadata": {
    "scrolled": true
   },
   "outputs": [],
   "source": [
    "# write here\n",
    "\n"
   ]
  },
  {
   "cell_type": "markdown",
   "metadata": {},
   "source": [
    "<details><summary>Solution</summary>\n",
    "\n",
    "```python\n",
    "(3,)\n",
    "```\n",
    "</details>"
   ]
  },
  {
   "cell_type": "markdown",
   "metadata": {},
   "source": [
    "### Question\n",
    "\n",
    "```python\n",
    "    np.array([1,2,3])\n",
    "```\n",
    "\n",
    "has what size?"
   ]
  },
  {
   "cell_type": "code",
   "execution_count": null,
   "metadata": {
    "scrolled": true
   },
   "outputs": [],
   "source": [
    "# write here\n",
    "\n"
   ]
  },
  {
   "cell_type": "markdown",
   "metadata": {},
   "source": [
    "<details><summary>Solution</summary>\n",
    "\n",
    "```python\n",
    "3\n",
    "```\n",
    "</details>"
   ]
  },
  {
   "cell_type": "markdown",
   "metadata": {},
   "source": [
    "### Question\n",
    "\n",
    "```python\n",
    "    array([[ 0,  1,  2,  3,  4,  5,  6,  7,  8,  9],\n",
    "           [10, 11, 12, 13, 14, 15, 16, 17, 18, 19]])\n",
    "```\n",
    "\n",
    "has what shape?"
   ]
  },
  {
   "cell_type": "code",
   "execution_count": null,
   "metadata": {
    "scrolled": true
   },
   "outputs": [],
   "source": [
    "# write here\n",
    "\n"
   ]
  },
  {
   "cell_type": "markdown",
   "metadata": {},
   "source": [
    "<details><summary>Solution</summary>\n",
    "\n",
    "```python\n",
    "(2, 10)\n",
    "```\n",
    "</details>"
   ]
  },
  {
   "cell_type": "markdown",
   "metadata": {},
   "source": [
    "### Question\n",
    "\n",
    "```python\n",
    "    array([[ 0,  1,  2,  3,  4,  5,  6,  7,  8,  9],\n",
    "           [10, 11, 12, 13, 14, 15, 16, 17, 18, 19]])\n",
    "```\n",
    "\n",
    "has what size?"
   ]
  },
  {
   "cell_type": "code",
   "execution_count": null,
   "metadata": {
    "scrolled": true
   },
   "outputs": [],
   "source": [
    "# write here\n",
    "\n"
   ]
  },
  {
   "cell_type": "markdown",
   "metadata": {},
   "source": [
    "<details><summary>Solution</summary>\n",
    "\n",
    "```python\n",
    "20\n",
    "```\n",
    "</details>"
   ]
  },
  {
   "cell_type": "markdown",
   "metadata": {},
   "source": [
    "### Question:\n",
    "Reshape x_array to have 2 rows and 10 columns. You should get:\n",
    "\n",
    "```python \n",
    "array([[ 0,  1,  2,  3,  4,  5,  6,  7,  8,  9],\n",
    "       [10, 11, 12, 13, 14, 15, 16, 17, 18, 19]])\n",
    "```"
   ]
  },
  {
   "cell_type": "code",
   "execution_count": null,
   "metadata": {
    "scrolled": true
   },
   "outputs": [],
   "source": [
    "# write here: \n",
    "\n"
   ]
  },
  {
   "cell_type": "markdown",
   "metadata": {},
   "source": [
    "<details><summary>Solution</summary>\n",
    "\n",
    "```python\n",
    "x_array.reshape(2,10)\n",
    "```\n",
    "</details>"
   ]
  },
  {
   "cell_type": "markdown",
   "metadata": {},
   "source": [
    "### Question:\n",
    "Reshape x_array to have 4 rows and 5 columns. You should get:\n",
    "\n",
    "```python \n",
    "array([[ 0,  1,  2,  3,  4],\n",
    "       [ 5,  6,  7,  8,  9],\n",
    "       [10, 11, 12, 13, 14],\n",
    "       [15, 16, 17, 18, 19]])\n",
    "```"
   ]
  },
  {
   "cell_type": "code",
   "execution_count": null,
   "metadata": {
    "scrolled": true
   },
   "outputs": [],
   "source": [
    "# write here: \n",
    "\n"
   ]
  },
  {
   "cell_type": "markdown",
   "metadata": {},
   "source": [
    "<details><summary>Solution</summary>\n",
    "\n",
    "```python\n",
    "x_array.reshape(4,5)\n",
    "```\n",
    "or \n",
    "```python\n",
    "x_array.reshape(4,-1)\n",
    "```\n",
    "or \n",
    "```python\n",
    "x_array.reshape(-1,5)\n",
    "```\n",
    "</details>"
   ]
  },
  {
   "cell_type": "markdown",
   "metadata": {},
   "source": [
    "### Question:\n",
    "Reshape x_array into a one dimensional array:\n",
    "\n",
    "```python \n",
    "array([ 0,  1,  2,  3,  4,  5,  6,  7,  8,  9, 10, 11, 12, 13, 14, 15, 16,\n",
    "       17, 18, 19])\n",
    "```"
   ]
  },
  {
   "cell_type": "code",
   "execution_count": null,
   "metadata": {
    "scrolled": true
   },
   "outputs": [],
   "source": [
    "# write here: \n",
    "\n"
   ]
  },
  {
   "cell_type": "markdown",
   "metadata": {},
   "source": [
    "<details><summary>Solution</summary>\n",
    "\n",
    "```python\n",
    "x_array.reshape(-1)\n",
    "```\n",
    "or\n",
    "```python\n",
    "x_array.reshape(20)\n",
    "```\n",
    "</details>"
   ]
  },
  {
   "cell_type": "markdown",
   "metadata": {},
   "source": [
    "### Question:\n",
    "\n",
    "Reshape x_array into: \n",
    "\n",
    "```python \n",
    "array([[ 0],\n",
    "       [ 1],\n",
    "       [ 2],\n",
    "       [ 3],\n",
    "       [ 4],\n",
    "       [ 5],\n",
    "       [ 6],\n",
    "       [ 7],\n",
    "       [ 8],\n",
    "       [ 9],\n",
    "       [10],\n",
    "       [11],\n",
    "       [12],\n",
    "       [13],\n",
    "       [14],\n",
    "       [15],\n",
    "       [16],\n",
    "       [17],\n",
    "       [18],\n",
    "       [19]])\n",
    "```"
   ]
  },
  {
   "cell_type": "code",
   "execution_count": null,
   "metadata": {},
   "outputs": [],
   "source": [
    "\n",
    "\n",
    "\n"
   ]
  },
  {
   "cell_type": "markdown",
   "metadata": {},
   "source": [
    "<details><summary>Hint</summary>\n",
    "How many rows and how many columns are there?\n",
    "</details>"
   ]
  },
  {
   "cell_type": "markdown",
   "metadata": {},
   "source": [
    "<details><summary>Hint 2 </summary>\n",
    "Can you reshape x into those rows and columns?\n",
    "</details>"
   ]
  },
  {
   "cell_type": "markdown",
   "metadata": {},
   "source": [
    "<details><summary>Solution</summary>\n",
    "\n",
    "```python\n",
    "x_array.reshape(-1,1)\n",
    "```\n",
    "or\n",
    "```python\n",
    "x_array.reshape(20,1)\n",
    "```\n",
    "</details>"
   ]
  },
  {
   "cell_type": "markdown",
   "metadata": {},
   "source": [
    "### Question:\n",
    "If you know the shape of an array is (9,5) what is the size?"
   ]
  },
  {
   "cell_type": "code",
   "execution_count": null,
   "metadata": {
    "scrolled": true
   },
   "outputs": [],
   "source": [
    "# write here: \n",
    "\n"
   ]
  },
  {
   "cell_type": "markdown",
   "metadata": {},
   "source": [
    "<details><summary>Solution</summary>\n",
    "\n",
    "```python\n",
    "45\n",
    "# because an array is like a cookie sheet, and the size is the number of cookies\n",
    "# (which is a definition of a product)\n",
    "```\n",
    "</details>"
   ]
  },
  {
   "cell_type": "markdown",
   "metadata": {},
   "source": [
    "### Reshaping does not make a copy"
   ]
  },
  {
   "cell_type": "markdown",
   "metadata": {},
   "source": [
    "NOTE: Reshaping is very efficient, but it does **not** make a copy of the array!"
   ]
  },
  {
   "cell_type": "code",
   "execution_count": null,
   "metadata": {},
   "outputs": [],
   "source": [
    "x = np.arange(10)\n",
    "y = x.reshape((2, 5))\n",
    "y"
   ]
  },
  {
   "cell_type": "code",
   "execution_count": null,
   "metadata": {},
   "outputs": [],
   "source": [
    "y[1, 0] = 999\n",
    "y"
   ]
  },
  {
   "cell_type": "code",
   "execution_count": null,
   "metadata": {},
   "outputs": [],
   "source": [
    "x"
   ]
  },
  {
   "cell_type": "markdown",
   "metadata": {},
   "source": [
    "(that 999 in x should shock you)"
   ]
  },
  {
   "cell_type": "markdown",
   "metadata": {},
   "source": [
    "To make a copy of an array, use the `copy` method:"
   ]
  },
  {
   "cell_type": "code",
   "execution_count": null,
   "metadata": {},
   "outputs": [],
   "source": [
    "x = np.arange(10)\n",
    "y = x.reshape(2,5).copy()\n",
    "y[1,0] = 999\n",
    "y"
   ]
  },
  {
   "cell_type": "code",
   "execution_count": null,
   "metadata": {},
   "outputs": [],
   "source": [
    "x"
   ]
  },
  {
   "cell_type": "markdown",
   "metadata": {},
   "source": [
    "There, now x is unchanged"
   ]
  },
  {
   "cell_type": "markdown",
   "metadata": {},
   "source": [
    "### Question:\n",
    "After reshaping q_square into a 3x15 array, change element [2,8] to -5. What was the replaced element's previous value? Which index location was that in the original q_square?"
   ]
  },
  {
   "cell_type": "code",
   "execution_count": null,
   "metadata": {},
   "outputs": [],
   "source": [
    "# write here\n",
    "\n"
   ]
  },
  {
   "cell_type": "markdown",
   "metadata": {},
   "source": [
    "<details><summary>Solution</summary>\n",
    "\n",
    "```python\n",
    "q_square.reshape(3,15)[2,8]=-5\n",
    "\n",
    "array([[ 0,  1,  2,  3,  4],\n",
    "       [ 5,  6,  7,  8,  9],\n",
    "       [10, 11, 12, 13, 14],\n",
    "       [15, 16, 17, 18, 19],\n",
    "       [20, 21, 22, 23, 24],\n",
    "       [25, 26, 27, 28, 29],\n",
    "       [30, 31, 32, 33, 34],\n",
    "       [35, 36, 37, -5, 39],\n",
    "       [40, 41, 42, 43, 44]])\n",
    "```\n",
    "the value was 37\n",
    "\n",
    "element (7,3) is changed in original q_square\n",
    "</details>"
   ]
  },
  {
   "cell_type": "markdown",
   "metadata": {},
   "source": [
    "## Dimensions"
   ]
  },
  {
   "cell_type": "markdown",
   "metadata": {},
   "source": [
    "It's VERY worth noting that: \n",
    "* Arrays can have 1,2,3 or more **dimensions**. \n",
    "* The number of integers in the shape is the # of the dimensions.It's VERY worth noting that. Arrays can have 1,2,3 or more **dimensions**. The number of integers in the shape is the # of the dimensions."
   ]
  },
  {
   "cell_type": "markdown",
   "metadata": {},
   "source": [
    "shape = (2,2,2) has 3 dimensions"
   ]
  },
  {
   "cell_type": "code",
   "execution_count": null,
   "metadata": {},
   "outputs": [],
   "source": [
    "np.arange(27).reshape((3,3,3))"
   ]
  },
  {
   "cell_type": "markdown",
   "metadata": {},
   "source": [
    "You can think of this as a cube, or a series of cookie sheets.\n",
    "\n",
    "The shape is always ```(sheet, row, column)```.\n",
    "\n",
    "You can have more, but it gets harder to visualize.\n",
    "\n",
    "This is a row of cubes:"
   ]
  },
  {
   "cell_type": "code",
   "execution_count": null,
   "metadata": {},
   "outputs": [],
   "source": [
    "np.arange(36).reshape((3,3,2,2))"
   ]
  },
  {
   "cell_type": "markdown",
   "metadata": {},
   "source": [
    "The shape is ```(cube, sheet, row, column)```. Take the time to see it in your head."
   ]
  },
  {
   "cell_type": "markdown",
   "metadata": {},
   "source": [
    "### Question:\n",
    "What is the shape of this array?\n",
    "```python\n",
    "array([[[ 0,  1,  2,  3,  4],\n",
    "        [ 5,  6,  7,  8,  9]],\n",
    "\n",
    "       [[10, 11, 12, 13, 14],\n",
    "        [15, 16, 17, 18, 19]],\n",
    "\n",
    "       [[20, 21, 22, 23, 24],\n",
    "        [25, 26, 27, 28, 29]]])\n",
    "```"
   ]
  },
  {
   "cell_type": "code",
   "execution_count": null,
   "metadata": {},
   "outputs": [],
   "source": [
    "# write here: \n",
    "\n"
   ]
  },
  {
   "cell_type": "markdown",
   "metadata": {},
   "source": [
    "<details><summary>Solution</summary>\n",
    "(3,2,5)\n",
    "    \n",
    "```python\n",
    "np.arange(30).reshape(3,2,5)\n",
    "```\n",
    "</details>"
   ]
  },
  {
   "cell_type": "markdown",
   "metadata": {},
   "source": [
    "### Question:\n",
    "Reshape x_array to print 5 sheets of 2x2 matrices.\n",
    "\n",
    "```python\n",
    "array([[[ 0,  1],\n",
    "        [ 2,  3]],\n",
    "\n",
    "       [[ 4,  5],\n",
    "        [ 6,  7]],\n",
    "\n",
    "       [[ 8,  9],\n",
    "        [10, 11]],\n",
    "\n",
    "       [[12, 13],\n",
    "        [14, 15]],\n",
    "\n",
    "       [[16, 17],\n",
    "        [18, 19]]])\n",
    "```"
   ]
  },
  {
   "cell_type": "code",
   "execution_count": null,
   "metadata": {
    "scrolled": true
   },
   "outputs": [],
   "source": [
    "# write here: \n",
    "\n"
   ]
  },
  {
   "cell_type": "markdown",
   "metadata": {},
   "source": [
    "<details><summary>Solution</summary>\n",
    "\n",
    "```python\n",
    "x_array.reshape(5,2,2)\n",
    "```\n",
    "</details>"
   ]
  },
  {
   "cell_type": "markdown",
   "metadata": {},
   "source": [
    "### Question:\n",
    "What is the shape of this array?\n",
    "```python\n",
    "array([[[[ 0,  1],\n",
    "         [ 2,  3]],\n",
    "\n",
    "        [[ 4,  5],\n",
    "         [ 6,  7]]],\n",
    "\n",
    "\n",
    "       [[[ 8,  9],\n",
    "         [10, 11]],\n",
    "\n",
    "        [[12, 13],\n",
    "         [14, 15]]]])\n",
    "```"
   ]
  },
  {
   "cell_type": "code",
   "execution_count": null,
   "metadata": {
    "scrolled": true
   },
   "outputs": [],
   "source": [
    "# write here: \n",
    "\n"
   ]
  },
  {
   "cell_type": "markdown",
   "metadata": {},
   "source": [
    "<details><summary>Solution</summary>\n",
    "\n",
    "```python\n",
    "# (2,2,2,2)\n",
    "\n",
    "#proof: np.arange(16).reshape(2,2,2,2)\n",
    "```\n",
    "</details>"
   ]
  },
  {
   "cell_type": "markdown",
   "metadata": {},
   "source": [
    "#### TRICKY NOTE: THERE CAN BE A DIMENSION WITH A VALUE OF 1.\n",
    "\n",
    "It's just hard to see."
   ]
  },
  {
   "cell_type": "code",
   "execution_count": null,
   "metadata": {},
   "outputs": [],
   "source": [
    "one_dim = x.reshape(10)\n",
    "one_dim"
   ]
  },
  {
   "cell_type": "code",
   "execution_count": null,
   "metadata": {},
   "outputs": [],
   "source": [
    "two_dims = x.reshape((1, 10))\n",
    "two_dims"
   ]
  },
  {
   "cell_type": "markdown",
   "metadata": {},
   "source": [
    "THESE ARE NOT QUITE THE SAME. Make sure you can see the difference. (it looks like __[[this]]__ )\n",
    "\n",
    "In the first case, there are no rows/columns, just a single dimensioned list. In the second case, there is one row and many columns, but we only have one row to pick from. \n",
    "\n",
    "It's much easier to see if we have only one column instead."
   ]
  },
  {
   "cell_type": "markdown",
   "metadata": {},
   "source": [
    "### Question:\n",
    "What is the shape of these two different arrays?\n",
    "```python\n",
    "array([[ 0,  1,  2,  3],\n",
    "       [ 4,  5,  6,  7],\n",
    "       [ 8,  9, 10, 11],\n",
    "       [12, 13, 14, 15],\n",
    "       [16, 17, 18, 19]])\n",
    "\n",
    "array([[[ 0,  1,  2,  3]],\n",
    "       [[ 4,  5,  6,  7]],\n",
    "       [[ 8,  9, 10, 11]],\n",
    "       [[12, 13, 14, 15]],\n",
    "       [[16, 17, 18, 19]]])\n",
    "```"
   ]
  },
  {
   "cell_type": "code",
   "execution_count": 4,
   "metadata": {},
   "outputs": [],
   "source": [
    "# write here: "
   ]
  },
  {
   "cell_type": "markdown",
   "metadata": {},
   "source": [
    "<details><summary>Solution</summary>\n",
    "(5,4) and (5,1,4)\n",
    "    \n",
    "```python\n",
    "# proof\n",
    "x_array.reshape(5,4)\n",
    "\n",
    "x_array.reshape(5,1,4)\n",
    "```\n",
    "</details>"
   ]
  },
  {
   "cell_type": "markdown",
   "metadata": {},
   "source": [
    "### Question:\n",
    "Reshape x_array to print 2 sheets of 10 row 1 column matrices. \n",
    "```python\n",
    "array([[[ 0],\n",
    "        [ 1],\n",
    "        [ 2],\n",
    "        [ 3],\n",
    "        [ 4],\n",
    "        [ 5],\n",
    "        [ 6],\n",
    "        [ 7],\n",
    "        [ 8],\n",
    "        [ 9]],\n",
    "\n",
    "       [[10],\n",
    "        [11],\n",
    "        [12],\n",
    "        [13],\n",
    "        [14],\n",
    "        [15],\n",
    "        [16],\n",
    "        [17],\n",
    "        [18],\n",
    "        [19]]])\n",
    "```"
   ]
  },
  {
   "cell_type": "code",
   "execution_count": null,
   "metadata": {
    "scrolled": true
   },
   "outputs": [],
   "source": [
    "# write here: \n",
    "\n"
   ]
  },
  {
   "cell_type": "markdown",
   "metadata": {},
   "source": [
    "<details><summary>Solution</summary>\n",
    "\n",
    "```python\n",
    "x_array.reshape(2,10,1)\n",
    "```\n",
    "</details>"
   ]
  },
  {
   "cell_type": "markdown",
   "metadata": {},
   "source": [
    "### Question:\n",
    "Reshape x_array to print 4 layers of 5 column 1 row  matrices. \n",
    "\n",
    "```python \n",
    "array([[[ 0,  1,  2,  3,  4]],\n",
    "\n",
    "       [[ 5,  6,  7,  8,  9]],\n",
    "\n",
    "       [[10, 11, 12, 13, 14]],\n",
    "\n",
    "       [[15, 16, 17, 18, 19]]])\n",
    "```"
   ]
  },
  {
   "cell_type": "code",
   "execution_count": null,
   "metadata": {
    "scrolled": true
   },
   "outputs": [],
   "source": [
    "# write here: \n",
    "\n",
    "\n"
   ]
  },
  {
   "cell_type": "markdown",
   "metadata": {},
   "source": [
    "<details><summary>Solution</summary>\n",
    "\n",
    "```python\n",
    "x_array.reshape(4,1,5)\n",
    "```\n",
    "</details>"
   ]
  },
  {
   "cell_type": "markdown",
   "metadata": {},
   "source": [
    "## Broadcasting multi-dimensional arrays"
   ]
  },
  {
   "cell_type": "markdown",
   "metadata": {},
   "source": [
    "Broadcasting also works for multi-dimensional arrays, but it takes some practice. As above, many copies are made of an array along one or more axes that previously had a length of one.\n",
    "\n",
    "Let's see how this works."
   ]
  },
  {
   "cell_type": "code",
   "execution_count": null,
   "metadata": {},
   "outputs": [],
   "source": [
    "x = np.ones((5, 4))\n",
    "x"
   ]
  },
  {
   "cell_type": "markdown",
   "metadata": {},
   "source": [
    "The scalar case is the same as it ever was:"
   ]
  },
  {
   "cell_type": "code",
   "execution_count": null,
   "metadata": {},
   "outputs": [],
   "source": [
    "x * 2"
   ]
  },
  {
   "cell_type": "markdown",
   "metadata": {},
   "source": [
    "But now things get pretty interesting.  If you broadcast with a one dimensional array, cool stuff happens:"
   ]
  },
  {
   "cell_type": "code",
   "execution_count": null,
   "metadata": {},
   "outputs": [],
   "source": [
    "b = np.array([1, 2, 3, 4])\n",
    "x * b"
   ]
  },
  {
   "cell_type": "markdown",
   "metadata": {},
   "source": [
    "Note that `b` must have the correct shape for this to happen."
   ]
  },
  {
   "cell_type": "code",
   "execution_count": null,
   "metadata": {},
   "outputs": [],
   "source": [
    "print(\"Shape of x:\", x.shape)\n",
    "print(\"Shape of b:   \", b.shape)"
   ]
  },
  {
   "cell_type": "markdown",
   "metadata": {},
   "source": [
    "Arrays do not need to have the same number of dimensions to be broadcast together. To see if two arrays can be broadcast into the same shape, first line up the shapes of the arrays on the **right side** (as above).\n",
    "\n",
    ">Broadcasting is possible if, for the dimensions being compared, either\n",
    ">\n",
    "> * both arrays have the same length(size),\n",
    "> * one array has a length of 1 (in that dimension), or\n",
    "> * that dimension does not exist in one of the arrays.\n",
    "\n",
    "If a dimension has length 1, the resulting array takes the size of the other array for that dimension.\n",
    "\n",
    "> For example, arrays A and B can be broadcast together:\n",
    "\n",
    "Array | | | | |\n",
    "---|---|---|---|--|\n",
    "A      (4d array):  | 8 | 1 | 6 | 1 |  \n",
    "B      (3d array):  |   | 7 | 1 | 5 |\n",
    "Result (4d array):  | 8 | 7 | 6 | 5 |"
   ]
  },
  {
   "cell_type": "markdown",
   "metadata": {},
   "source": [
    "To broadcast a single column across different rows we need to do some gymnastics."
   ]
  },
  {
   "cell_type": "code",
   "execution_count": null,
   "metadata": {},
   "outputs": [],
   "source": [
    "b = np.array([1, 2, 3, 4, 5])\n",
    "# x * b"
   ]
  },
  {
   "cell_type": "markdown",
   "metadata": {},
   "source": [
    "x * b doesn't work because the right-hand values (4 and 5) don't line up:"
   ]
  },
  {
   "cell_type": "code",
   "execution_count": null,
   "metadata": {},
   "outputs": [],
   "source": [
    "print(\"Shape of x:\", x.shape)\n",
    "print(\"Shape of b:   \", b.shape)"
   ]
  },
  {
   "cell_type": "markdown",
   "metadata": {},
   "source": [
    "To get this to work, we need to reshape `b`."
   ]
  },
  {
   "cell_type": "code",
   "execution_count": null,
   "metadata": {},
   "outputs": [],
   "source": [
    "b_reshaped = b.reshape((5, 1))\n",
    "b_reshaped"
   ]
  },
  {
   "cell_type": "markdown",
   "metadata": {},
   "source": [
    "Now the first dimensions are the same, and the second dimension of b is 1."
   ]
  },
  {
   "cell_type": "code",
   "execution_count": null,
   "metadata": {},
   "outputs": [],
   "source": [
    "print(\"Shape of x         :\", x.shape)\n",
    "print(\"Shape of b_reshaped:\", b_reshaped.shape)"
   ]
  },
  {
   "cell_type": "markdown",
   "metadata": {},
   "source": [
    "In case the two arrays have the same number of dimensions, as long as all the dimensions **either** match, or one of them is **exactly one**, the arrays will broadcast."
   ]
  },
  {
   "cell_type": "code",
   "execution_count": null,
   "metadata": {},
   "outputs": [],
   "source": [
    "x * b_reshaped"
   ]
  },
  {
   "cell_type": "markdown",
   "metadata": {},
   "source": [
    "The unit length dimensions are **stretched** until the arrays have the same shape, then they are broadcast.\n",
    "\n",
    "Let's do that again:"
   ]
  },
  {
   "cell_type": "code",
   "execution_count": null,
   "metadata": {},
   "outputs": [],
   "source": [
    "b4 = np.array([1, 2, 3, 4])\n",
    "b4_reshaped = b4.reshape((1, 4))"
   ]
  },
  {
   "cell_type": "markdown",
   "metadata": {},
   "source": [
    "Note how all non-unit dimensions match:"
   ]
  },
  {
   "cell_type": "code",
   "execution_count": null,
   "metadata": {},
   "outputs": [],
   "source": [
    "print(\"Shape of x          :\", x.shape)\n",
    "print(\"Shape of b4_reshaped:\", b4_reshaped.shape)"
   ]
  },
  {
   "cell_type": "markdown",
   "metadata": {},
   "source": [
    "So we can broadcast:"
   ]
  },
  {
   "cell_type": "code",
   "execution_count": null,
   "metadata": {},
   "outputs": [],
   "source": [
    "x * b_reshaped"
   ]
  },
  {
   "cell_type": "markdown",
   "metadata": {},
   "source": [
    "Cool beans."
   ]
  },
  {
   "cell_type": "markdown",
   "metadata": {},
   "source": [
    "We can even broadcast extraction from an array with indices. \n",
    "(If the arrays (or lists) used as indices don't have the same shape they will be broadcast together.)"
   ]
  },
  {
   "cell_type": "code",
   "execution_count": null,
   "metadata": {},
   "outputs": [],
   "source": [
    "x_square"
   ]
  },
  {
   "cell_type": "code",
   "execution_count": null,
   "metadata": {
    "scrolled": true
   },
   "outputs": [],
   "source": [
    "x_square[[[0],[3]],[0,1,2]]"
   ]
  },
  {
   "cell_type": "code",
   "execution_count": null,
   "metadata": {},
   "outputs": [],
   "source": [
    "x_square[[1,2,3], [[0],[3]]]"
   ]
  },
  {
   "cell_type": "markdown",
   "metadata": {},
   "source": [
    "### Question:\n",
    "\n",
    "Write out the output. (without running it!)\n",
    "\n",
    "```python \n",
    "j_row = np.array([[1, 2, 3]])\n",
    "j_col = np.array([[1],\n",
    "                  [2],\n",
    "                  [3]])\n",
    "j_row + j_col\n",
    "```"
   ]
  },
  {
   "cell_type": "code",
   "execution_count": null,
   "metadata": {},
   "outputs": [],
   "source": [
    "# write here:\n"
   ]
  },
  {
   "cell_type": "markdown",
   "metadata": {},
   "source": [
    "<p>(Please type SOME actual answer before checking the solution. Even if you have NO IDEA. Just guess. It's good for you.)<p/>\n",
    "\n",
    "\n",
    "<details><summary>Solution\n",
    "</summary>\n",
    "\n",
    "```python\n",
    "j=np.array([1,2,3])\n",
    "j_row = j.reshape(1,-1)\n",
    "j_col = j.reshape(-1,1)\n",
    "\n",
    "j_row + j_col\n",
    "\n",
    "array([[2, 3, 4],\n",
    "       [3, 4, 5],\n",
    "       [4, 5, 6]])\n",
    "```\n",
    "</details>"
   ]
  },
  {
   "cell_type": "markdown",
   "metadata": {},
   "source": [
    "### Question:\n",
    "\n",
    "Write out the output. (without running it!)\n",
    "\n",
    "```python \n",
    "j = np.array([1, 2, 3])\n",
    "j_col = np.array([[1],\n",
    "                  [2],\n",
    "                  [3]])\n",
    "j + j_col\n",
    "```"
   ]
  },
  {
   "cell_type": "code",
   "execution_count": null,
   "metadata": {},
   "outputs": [],
   "source": [
    "# write here:\n"
   ]
  },
  {
   "cell_type": "markdown",
   "metadata": {},
   "source": [
    "<p>(Please type SOME actual answer before checking the solution. Even if you have NO IDEA. Just guess. It's good for you.)<p/>\n",
    "\n",
    "\n",
    "<details><summary>Solution\n",
    "</summary>\n",
    "\n",
    "```python\n",
    "j=np.array([1,2,3])\n",
    "j_col = j.reshape(-1,1)\n",
    "\n",
    "j + j_col\n",
    "\n",
    "array([[2, 3, 4],\n",
    "       [3, 4, 5],\n",
    "       [4, 5, 6]])\n",
    "```\n",
    "</details>"
   ]
  },
  {
   "cell_type": "markdown",
   "metadata": {},
   "source": [
    "### Question:\n",
    "\n",
    "Write out the output. (without running it!)\n",
    "\n",
    "```python \n",
    "j = np.array([1, 2, 3])\n",
    "j_col = np.array([[1],\n",
    "                  [2],\n",
    "                  [3]])\n",
    "j_col + j_col\n",
    "```"
   ]
  },
  {
   "cell_type": "code",
   "execution_count": null,
   "metadata": {},
   "outputs": [],
   "source": [
    "# write here:\n"
   ]
  },
  {
   "cell_type": "markdown",
   "metadata": {},
   "source": [
    "<p>(Please type SOME actual answer before checking the solution. Even if you have NO IDEA. Just guess. It's good for you.)<p/>\n",
    "\n",
    "\n",
    "<details><summary>Solution\n",
    "</summary>\n",
    "\n",
    "```python\n",
    "j_col + j_col\n",
    "\n",
    "array([[2],\n",
    "       [4],\n",
    "       [6]])\n",
    "```\n",
    "</details>"
   ]
  },
  {
   "cell_type": "markdown",
   "metadata": {},
   "source": [
    "## Array Methods\n",
    "\n",
    "Arrays have many, many useful methods, and some of then have an argument called `axis` that increases their utility by allowing you to apply a method row-wise or column-wise (more on that later).\n",
    "### Mathematical methods\n",
    "Most of the day-to-day mathematical functions have representatives in numpy."
   ]
  },
  {
   "cell_type": "code",
   "execution_count": null,
   "metadata": {},
   "outputs": [],
   "source": [
    "x = np.linspace(1, 10, 5)\n",
    "x"
   ]
  },
  {
   "cell_type": "code",
   "execution_count": null,
   "metadata": {},
   "outputs": [],
   "source": [
    "np.exp(x)"
   ]
  },
  {
   "cell_type": "code",
   "execution_count": null,
   "metadata": {},
   "outputs": [],
   "source": [
    "np.log(x)"
   ]
  },
  {
   "cell_type": "code",
   "execution_count": null,
   "metadata": {},
   "outputs": [],
   "source": [
    "np.sin(2 * np.pi * x)"
   ]
  },
  {
   "cell_type": "code",
   "execution_count": null,
   "metadata": {},
   "outputs": [],
   "source": [
    "np.cos(2 * np.pi * x)"
   ]
  },
  {
   "cell_type": "code",
   "execution_count": null,
   "metadata": {},
   "outputs": [],
   "source": [
    "np.sqrt(x)"
   ]
  },
  {
   "cell_type": "markdown",
   "metadata": {},
   "source": [
    "### Sums and Averages"
   ]
  },
  {
   "cell_type": "markdown",
   "metadata": {},
   "source": [
    "It's easy and efficient to take the sum or average (arithmetic mean) of an array:"
   ]
  },
  {
   "cell_type": "code",
   "execution_count": null,
   "metadata": {},
   "outputs": [],
   "source": [
    "x = np.arange(10)\n",
    "x"
   ]
  },
  {
   "cell_type": "code",
   "execution_count": null,
   "metadata": {},
   "outputs": [],
   "source": [
    "np.sum(x)"
   ]
  },
  {
   "cell_type": "code",
   "execution_count": null,
   "metadata": {},
   "outputs": [],
   "source": [
    "np.mean(x)"
   ]
  },
  {
   "cell_type": "markdown",
   "metadata": {},
   "source": [
    "When dealing with a multi-dimensional array, the default behaviour is to consume the entire thing:"
   ]
  },
  {
   "cell_type": "code",
   "execution_count": null,
   "metadata": {},
   "outputs": [],
   "source": [
    "x = np.arange(20).reshape((4, 5))\n",
    "x"
   ]
  },
  {
   "cell_type": "code",
   "execution_count": null,
   "metadata": {},
   "outputs": [],
   "source": [
    "np.sum(x)"
   ]
  },
  {
   "cell_type": "markdown",
   "metadata": {},
   "source": [
    "#### Question:\n",
    "Using *x_array*, return the sum of its elements. You should get:\n",
    "\n",
    "\n",
    "```python \n",
    "190\n",
    "```"
   ]
  },
  {
   "cell_type": "code",
   "execution_count": null,
   "metadata": {
    "scrolled": true
   },
   "outputs": [],
   "source": [
    "# write here: \n",
    "\n",
    "\n"
   ]
  },
  {
   "cell_type": "markdown",
   "metadata": {},
   "source": [
    "<details><summary>Solution</summary>\n",
    "\n",
    "```python\n",
    "np.sum(x_array)\n",
    "```\n",
    "</details>"
   ]
  },
  {
   "cell_type": "markdown",
   "metadata": {},
   "source": [
    "#### Question:\n",
    "Using *x_array*, return the mean of its elements. You should get:\n",
    "\n",
    "```python \n",
    "9.5\n",
    "```"
   ]
  },
  {
   "cell_type": "code",
   "execution_count": null,
   "metadata": {
    "scrolled": true
   },
   "outputs": [],
   "source": [
    "# write here: \n",
    "\n",
    "\n"
   ]
  },
  {
   "cell_type": "markdown",
   "metadata": {},
   "source": [
    "<details><summary>Solution</summary>\n",
    "\n",
    "```python\n",
    "np.mean(x_array)\n",
    "```\n",
    "</details>"
   ]
  },
  {
   "cell_type": "markdown",
   "metadata": {},
   "source": [
    "#### Question:\n",
    "Using *x_array*, return the tangent of each value.\n",
    "\n",
    "```python \n",
    "array([[ 0.00000000e+00,  1.55740772e+00, -2.18503986e+00, -1.42546543e-01],\n",
    "       [ 1.15782128e+00, -3.38051501e+00, -2.91006191e-01, 8.71447983e-01],\n",
    "       [-6.79971146e+00, -4.52315659e-01,  6.48360827e-01,\n",
    "        -2.25950846e+02],\n",
    "       [-6.35859929e-01,  4.63021133e-01,  7.24460662e+00,\n",
    "        -8.55993401e-01],\n",
    "       [ 3.00632242e-01,  3.49391565e+00, -1.13731371e+00,\n",
    "         1.51589471e-01]])\n",
    "```"
   ]
  },
  {
   "cell_type": "code",
   "execution_count": null,
   "metadata": {
    "scrolled": true
   },
   "outputs": [],
   "source": [
    "# write here: \n",
    "\n",
    "\n"
   ]
  },
  {
   "cell_type": "markdown",
   "metadata": {},
   "source": [
    "<details><summary>Solution</summary>\n",
    "\n",
    "```python\n",
    "np.tan(x_array)\n",
    "```\n",
    "</details>"
   ]
  },
  {
   "cell_type": "markdown",
   "metadata": {},
   "source": [
    "#### Question:\n",
    "Return the sum of the squares of sine and cosine for each element in `x_array`.\n",
    "\n",
    "```python \n",
    "array([[1., 1., 1., 1.],\n",
    "       [1., 1., 1., 1.],\n",
    "       [1., 1., 1., 1.],\n",
    "       [1., 1., 1., 1.],\n",
    "       [1., 1., 1., 1.]])\n",
    "```"
   ]
  },
  {
   "cell_type": "code",
   "execution_count": null,
   "metadata": {
    "scrolled": true
   },
   "outputs": [],
   "source": [
    "# write here: \n",
    "\n",
    "\n"
   ]
  },
  {
   "cell_type": "markdown",
   "metadata": {},
   "source": [
    "<details><summary>Solution</summary>\n",
    "\n",
    "```python\n",
    "np.sin(x_array)**2 + np.cos(x_array)**2\n",
    "```\n",
    "</details>"
   ]
  },
  {
   "cell_type": "markdown",
   "metadata": {},
   "source": [
    "### Declaring an axis in your method"
   ]
  },
  {
   "cell_type": "markdown",
   "metadata": {},
   "source": [
    "But what if we wanted the sum across a row?"
   ]
  },
  {
   "cell_type": "markdown",
   "metadata": {},
   "source": [
    "You can also do **row sums** and **column sums** by supplying an axis argument."
   ]
  },
  {
   "cell_type": "code",
   "execution_count": null,
   "metadata": {},
   "outputs": [],
   "source": [
    "x = np.arange(6).reshape((2, 3))\n",
    "x"
   ]
  },
  {
   "cell_type": "code",
   "execution_count": null,
   "metadata": {},
   "outputs": [],
   "source": [
    "np.sum(x, axis=0)"
   ]
  },
  {
   "cell_type": "code",
   "execution_count": null,
   "metadata": {},
   "outputs": [],
   "source": [
    "np.sum(x, axis=1)"
   ]
  },
  {
   "cell_type": "markdown",
   "metadata": {},
   "source": [
    "These sums worked across different axes. One across the row, the other across the column. It's easy to lose track of which axis is being 'acted across'. The best way to keep it straight is *you will collapse whichever dimension is the axis you declare*.\n",
    "\n",
    "For example, x.shape shows two dimensions:"
   ]
  },
  {
   "cell_type": "code",
   "execution_count": null,
   "metadata": {},
   "outputs": [],
   "source": [
    "x.shape"
   ]
  },
  {
   "cell_type": "markdown",
   "metadata": {},
   "source": [
    "If we want to add the elements together across-ways [(0+1+2), (3+4+5)], we are effectively smushing the columns together. No more columns.\n",
    "So, remembering *(row, column)*, we will declare to remove the 2nd axis. So axis=1. (yes, 1 is the second axis)"
   ]
  },
  {
   "cell_type": "code",
   "execution_count": null,
   "metadata": {},
   "outputs": [],
   "source": [
    "np.sum(x, axis=1).shape"
   ]
  },
  {
   "cell_type": "markdown",
   "metadata": {},
   "source": [
    "We removed the 2nd axis, leaving 2 columns. Only they aren't columns anymore, persay. Because there is only one dimension left. One dimension with a value of 2."
   ]
  },
  {
   "cell_type": "code",
   "execution_count": null,
   "metadata": {},
   "outputs": [],
   "source": [
    "np.sum(x, axis=1)"
   ]
  },
  {
   "cell_type": "markdown",
   "metadata": {},
   "source": [
    "If you want to keep the shape of the result, set parameter 'keepdims' to true. It literally leaves the dimension with a value of 1."
   ]
  },
  {
   "cell_type": "code",
   "execution_count": null,
   "metadata": {},
   "outputs": [],
   "source": [
    "np.sum(x, axis=0, keepdims=True).shape"
   ]
  },
  {
   "cell_type": "markdown",
   "metadata": {},
   "source": [
    "It can be easier to visualize 'what just happened' as well."
   ]
  },
  {
   "cell_type": "code",
   "execution_count": null,
   "metadata": {},
   "outputs": [],
   "source": [
    "np.sum(x, axis=1, keepdims=True)"
   ]
  },
  {
   "cell_type": "markdown",
   "metadata": {},
   "source": [
    "We summed 'acrossways'"
   ]
  },
  {
   "cell_type": "markdown",
   "metadata": {},
   "source": [
    "#### Question:\n",
    "Will this statement sum up-and-down-ways? (0+4+8+12+16) \n",
    "or across-ways? (0+1+2+3)\n",
    "\n",
    "```python \n",
    "np.sum(x_array, axis=0)\n",
    "```\n",
    "\n",
    "__*(Think about which dimension is removed before just trying it)*__"
   ]
  },
  {
   "cell_type": "code",
   "execution_count": null,
   "metadata": {
    "scrolled": true
   },
   "outputs": [],
   "source": [
    "# write here: \n",
    "\n",
    "\n"
   ]
  },
  {
   "cell_type": "markdown",
   "metadata": {},
   "source": [
    "<details><summary>Solution</summary>\n",
    "\n",
    "Up-and-down-ways, (0+4+8+12+16)\n",
    "\n",
    "```python\n",
    "array([40, 45, 50, 55])\n",
    "```\n",
    "</details>"
   ]
  },
  {
   "cell_type": "markdown",
   "metadata": {},
   "source": [
    "#### Question:\n",
    "Take the mean across-ways in x_array, the output should have one dimension. \n",
    "\n",
    "This is the result:\n",
    "\n",
    "```python \n",
    "array([ 1.5,  5.5,  9.5, 13.5, 17.5])\n",
    "```\n",
    "\n",
    "__*(Think about which dimension is removed before just trying it)*__"
   ]
  },
  {
   "cell_type": "code",
   "execution_count": null,
   "metadata": {
    "scrolled": true
   },
   "outputs": [],
   "source": [
    "# write here: \n",
    "\n",
    "\n"
   ]
  },
  {
   "cell_type": "markdown",
   "metadata": {},
   "source": [
    "<details><summary>Solution</summary>\n",
    "\n",
    "```python\n",
    "np.mean(x_array, axis=1)\n",
    "```\n",
    "\n",
    "to see it better:\n",
    "\n",
    "```python\n",
    "np.mean(x_array, axis=1, keepdims=True)\n",
    "array([[ 1.5],\n",
    "       [ 5.5],\n",
    "       [ 9.5],\n",
    "       [13.5],\n",
    "       [17.5]])\n",
    "```\n",
    "</details>"
   ]
  },
  {
   "cell_type": "markdown",
   "metadata": {},
   "source": [
    "#### REVIEW Question:\n",
    "Use np.arange to make an array that has 3 'sheets', 2 rows and 4 columns.\n",
    "\n",
    "```python \n",
    "array([[[ 0,  1,  2,  3],\n",
    "        [ 4,  5,  6,  7]],\n",
    "\n",
    "       [[ 8,  9, 10, 11],\n",
    "        [12, 13, 14, 15]],\n",
    "\n",
    "       [[16, 17, 18, 19],\n",
    "        [20, 21, 22, 23]]])\n",
    "```"
   ]
  },
  {
   "cell_type": "code",
   "execution_count": null,
   "metadata": {
    "scrolled": true
   },
   "outputs": [],
   "source": [
    "# write here: \n",
    "\n",
    "\n"
   ]
  },
  {
   "cell_type": "markdown",
   "metadata": {},
   "source": [
    "<details><summary>Solution</summary>\n",
    "\n",
    "```python\n",
    "np.arange(4*3*2).reshape(3,2,4)\n",
    "```\n",
    "</details>"
   ]
  },
  {
   "cell_type": "markdown",
   "metadata": {},
   "source": [
    "#### Question:\n",
    "\n",
    "Sum the 'sheets' of the array you made in the previous question.\n",
    "\n",
    "```python \n",
    "array([[24, 27, 30, 33],\n",
    "       [36, 39, 42, 45]])\n",
    "```"
   ]
  },
  {
   "cell_type": "code",
   "execution_count": null,
   "metadata": {
    "scrolled": true
   },
   "outputs": [],
   "source": [
    "# write here: \n",
    "\n"
   ]
  },
  {
   "cell_type": "markdown",
   "metadata": {},
   "source": [
    "<details><summary>Solution</summary>\n",
    "\n",
    "```python\n",
    "np.sum(np.arange(4*3*2).reshape(3,2,4), axis=0)\n",
    "```\n",
    "</details>"
   ]
  },
  {
   "cell_type": "markdown",
   "metadata": {},
   "source": [
    "#### Question:\n",
    "\n",
    "Add the 'rows' together of the array you made in the previous question. Keep the dimensions of the original array so we can see what's happening.\n",
    "\n",
    "```python \n",
    "array([[[ 6],\n",
    "        [22]],\n",
    "\n",
    "       [[38],\n",
    "        [54]],\n",
    "\n",
    "       [[70],\n",
    "        [86]]])\n",
    "```"
   ]
  },
  {
   "cell_type": "code",
   "execution_count": null,
   "metadata": {
    "scrolled": true
   },
   "outputs": [],
   "source": [
    "# write here: \n",
    "\n",
    "\n"
   ]
  },
  {
   "cell_type": "markdown",
   "metadata": {},
   "source": [
    "<details><summary>Solution</summary>\n",
    "\n",
    "```python\n",
    "np.sum(np.arange(4*3*2).reshape(3,2,4), axis=2, keepdims=True)\n",
    "```\n",
    "</details>"
   ]
  },
  {
   "cell_type": "markdown",
   "metadata": {},
   "source": [
    "### Maximums and minimums"
   ]
  },
  {
   "cell_type": "markdown",
   "metadata": {},
   "source": [
    "Maximums and minimums work pretty much the same way as sums and averages."
   ]
  },
  {
   "cell_type": "code",
   "execution_count": null,
   "metadata": {},
   "outputs": [],
   "source": [
    "x = np.random.randint(0, 100, size=10)\n",
    "x"
   ]
  },
  {
   "cell_type": "code",
   "execution_count": null,
   "metadata": {},
   "outputs": [],
   "source": [
    "np.max(x)"
   ]
  },
  {
   "cell_type": "code",
   "execution_count": null,
   "metadata": {},
   "outputs": [],
   "source": [
    "np.min(x)"
   ]
  },
  {
   "cell_type": "markdown",
   "metadata": {},
   "source": [
    "The behavior for multi-dimensional arrays is the same as before:"
   ]
  },
  {
   "cell_type": "code",
   "execution_count": null,
   "metadata": {},
   "outputs": [],
   "source": [
    "x = np.random.randint(0, 100, size=20).reshape((4, 5))\n",
    "x"
   ]
  },
  {
   "cell_type": "code",
   "execution_count": null,
   "metadata": {},
   "outputs": [],
   "source": [
    "# Column maximums\n",
    "np.max(x, axis=0)"
   ]
  },
  {
   "cell_type": "code",
   "execution_count": null,
   "metadata": {},
   "outputs": [],
   "source": [
    "# Row minimums\n",
    "np.max(x, axis=1)"
   ]
  },
  {
   "cell_type": "markdown",
   "metadata": {},
   "source": [
    "#### Question:\n",
    "Find the highest number in each row for x_array:\n",
    "\n",
    "```python \n",
    "array([ 3,  7, 11, 15, 19])\n",
    "```"
   ]
  },
  {
   "cell_type": "code",
   "execution_count": null,
   "metadata": {
    "scrolled": true
   },
   "outputs": [],
   "source": [
    "# write here: \n"
   ]
  },
  {
   "cell_type": "markdown",
   "metadata": {},
   "source": [
    "<details><summary>Solution</summary>\n",
    "\n",
    "```python\n",
    "np.max(x_array, axis=1)\n",
    "\n",
    "#or\n",
    "x_array.max(axis=1)\n",
    "```\n",
    "</details>"
   ]
  },
  {
   "cell_type": "markdown",
   "metadata": {},
   "source": [
    "#### Question:\n",
    "Return the row maximum for each sheet of this array:\n",
    "arange 24 items long, reshaped into a 2 sheet, 4 row, 3 column array.\n",
    "\n",
    "__*Think about which dimension is removed before just trying it*__\n",
    "\n",
    "\n",
    "```python \n",
    "array([[ 2,  5,  8, 11],\n",
    "       [14, 17, 20, 23]])\n",
    "```"
   ]
  },
  {
   "cell_type": "code",
   "execution_count": null,
   "metadata": {
    "scrolled": true
   },
   "outputs": [],
   "source": [
    "# write here: \n"
   ]
  },
  {
   "cell_type": "markdown",
   "metadata": {},
   "source": [
    "<details><summary>Solution</summary>\n",
    "\n",
    "```python\n",
    "np.max(np.arange(24).reshape(2,4,3), axis=2)\n",
    "\n",
    "```\n",
    "    \n",
    "    or\n",
    "    \n",
    "```python\n",
    "np.arange(24).reshape(2,4,3).max(axis=2)\n",
    "\n",
    "```\n",
    "</details>"
   ]
  },
  {
   "cell_type": "markdown",
   "metadata": {},
   "source": [
    "#### Question:\n",
    "\n",
    "Return the maximum value in each sheet of this array:\n",
    "arange 24 items long, reshaped into a 2 sheet, 4 row, 3 column array.\n",
    "\n",
    "```python\n",
    "array([11, 23])\n",
    "```"
   ]
  },
  {
   "cell_type": "markdown",
   "metadata": {},
   "source": [
    "<details><summary>Solution</summary>\n",
    "\n",
    "```python\n",
    "np.max(np.max(np.arange(24).reshape(2,4,3), axis=1), axis=1)\n",
    "\n",
    "#or \n",
    "np.arange(24).reshape(2,4,3).max(axis=1).max(axis=1)\n",
    "\n",
    "```\n",
    "</details>"
   ]
  },
  {
   "cell_type": "markdown",
   "metadata": {},
   "source": [
    "### Argument Maximums and Minimums"
   ]
  },
  {
   "cell_type": "markdown",
   "metadata": {},
   "source": [
    "Sometimes you don't need to know the maximum (or minimum), but **where the maximum occurs**.  This operation is called **argument maximum**."
   ]
  },
  {
   "cell_type": "code",
   "execution_count": null,
   "metadata": {},
   "outputs": [],
   "source": [
    "x"
   ]
  },
  {
   "cell_type": "code",
   "execution_count": null,
   "metadata": {},
   "outputs": [],
   "source": [
    "np.argmax(x, axis=0)"
   ]
  },
  {
   "cell_type": "code",
   "execution_count": null,
   "metadata": {},
   "outputs": [],
   "source": [
    "np.argmin(x, axis=1)"
   ]
  },
  {
   "cell_type": "markdown",
   "metadata": {},
   "source": [
    "This can be very useful.  For example, if we want to find the maximum of a graph and then plot where it occurs:"
   ]
  },
  {
   "cell_type": "code",
   "execution_count": null,
   "metadata": {},
   "outputs": [],
   "source": [
    "f = lambda x: x**4 + 2*x**3 - 12*x**2 - 2*x + 6\n",
    "x = np.linspace(-5, 4, num=250)\n",
    "\n",
    "fig, ax = plt.subplots()\n",
    "ax.plot(x, f(x))\n",
    "ax.set_ylim(-100, 100)"
   ]
  },
  {
   "cell_type": "markdown",
   "metadata": {},
   "source": [
    "Now lets calculate the minimum and argmin and highlight it:"
   ]
  },
  {
   "cell_type": "code",
   "execution_count": null,
   "metadata": {
    "scrolled": true
   },
   "outputs": [],
   "source": [
    "mn, xmn = np.min(f(x)), x[np.argmin(f(x))] \n",
    "\n",
    "fig, ax = plt.subplots()\n",
    "ax.plot(x, f(x))\n",
    "ax.scatter(xmn, mn, s=100)\n",
    "ax.set_ylim(-100, 100)"
   ]
  },
  {
   "cell_type": "markdown",
   "metadata": {},
   "source": [
    "#### Question:\n",
    "Find the minmum argument in q_square after its been reshaped to a 1 dimensional array. \n",
    "(q_square should still have the -5 term)\n",
    "\n",
    "\n",
    "```python \n",
    "array([[ 0,  1,  2,  3,  4],\n",
    "       [ 5,  6,  7,  8,  9],\n",
    "       [10, 11, 12, 13, 14],\n",
    "       [15, 16, 17, 18, 19],\n",
    "       [20, 21, 22, 23, 24],\n",
    "       [25, 26, 27, 28, 29],\n",
    "       [30, 31, 32, 33, 34],\n",
    "       [35, 36, 37, -5, 39],\n",
    "       [40, 41, 42, 43, 44]])\n",
    "min_term = 38\n",
    "```"
   ]
  },
  {
   "cell_type": "code",
   "execution_count": null,
   "metadata": {
    "scrolled": true
   },
   "outputs": [],
   "source": [
    "# write here: \n",
    "\n",
    "\n"
   ]
  },
  {
   "cell_type": "markdown",
   "metadata": {},
   "source": [
    "<details><summary>Solution</summary>\n",
    "\n",
    "```python\n",
    "q_square.reshape(-1).argmin()\n",
    "\n",
    "#or\n",
    "q_square.argmin()\n",
    "```\n",
    "</details>"
   ]
  },
  {
   "cell_type": "markdown",
   "metadata": {},
   "source": [
    "#### Question:\n",
    "Find the minmum argument in `q_square` on each row. \n",
    "(`q_square` should still have the -5 term)\n",
    "\n",
    "\n",
    "```python \n",
    "array([[ 0,  1,  2,  3,  4],\n",
    "       [ 5,  6,  7,  8,  9],\n",
    "       [10, 11, 12, 13, 14],\n",
    "       [15, 16, 17, 18, 19],\n",
    "       [20, 21, 22, 23, 24],\n",
    "       [25, 26, 27, 28, 29],\n",
    "       [30, 31, 32, 33, 34],\n",
    "       [35, 36, 37, -5, 39],\n",
    "       [40, 41, 42, 43, 44]])\n",
    "min_term = 38\n",
    "```"
   ]
  },
  {
   "cell_type": "code",
   "execution_count": null,
   "metadata": {
    "scrolled": true
   },
   "outputs": [],
   "source": [
    "# write here: \n",
    "\n"
   ]
  },
  {
   "cell_type": "markdown",
   "metadata": {},
   "source": [
    "<details><summary>Solution</summary>\n",
    "\n",
    "```python\n",
    "q_square.argmin(axis=1)\n",
    "```\n",
    "</details>"
   ]
  }
 ],
 "metadata": {
  "jupytext": {
   "formats": "ipynb,py:light"
  },
  "kernelspec": {
   "display_name": "Python 3",
   "language": "python",
   "name": "python3"
  },
  "language_info": {
   "codemirror_mode": {
    "name": "ipython",
    "version": 3
   },
   "file_extension": ".py",
   "mimetype": "text/x-python",
   "name": "python",
   "nbconvert_exporter": "python",
   "pygments_lexer": "ipython3",
   "version": "3.8.5"
  },
  "toc": {
   "base_numbering": 1,
   "nav_menu": {},
   "number_sections": true,
   "sideBar": true,
   "skip_h1_title": true,
   "title_cell": "Table of Contents",
   "title_sidebar": "Contents",
   "toc_cell": true,
   "toc_position": {},
   "toc_section_display": true,
   "toc_window_display": false
  }
 },
 "nbformat": 4,
 "nbformat_minor": 4
}
