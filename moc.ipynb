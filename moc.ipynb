{
 "metadata": {
  "language_info": {
   "codemirror_mode": {
    "name": "ipython",
    "version": 3
   },
   "file_extension": ".py",
   "mimetype": "text/x-python",
   "name": "python",
   "nbconvert_exporter": "python",
   "pygments_lexer": "ipython3",
   "version": "3.9.2"
  },
  "orig_nbformat": 2,
  "kernelspec": {
   "name": "python392jvsc74a57bd0f589b74b5f9dfadb2b978c0f6d0c86213b22d6e1bb02d62665d77952f7aaa902",
   "display_name": "Python 3.9.2 64-bit ('base': conda)"
  }
 },
 "nbformat": 4,
 "nbformat_minor": 2,
 "cells": [
  {
   "cell_type": "code",
   "execution_count": 80,
   "metadata": {},
   "outputs": [],
   "source": [
    "import numpy as np\n",
    "import random\n",
    "import matplotlib.pyplot as plt"
   ]
  },
  {
   "cell_type": "code",
   "execution_count": 51,
   "metadata": {},
   "outputs": [
    {
     "output_type": "execute_result",
     "data": {
      "text/plain": [
       "4"
      ]
     },
     "metadata": {},
     "execution_count": 51
    }
   ],
   "source": [
    "def roll(sides):\n",
    "    return random.randint(1,sides)\n",
    "\n",
    "roll(6)"
   ]
  },
  {
   "cell_type": "code",
   "execution_count": 57,
   "metadata": {},
   "outputs": [],
   "source": [
    "def samps(size=500, sides=6):\n",
    "    sampl = []\n",
    "    for num in range (1, size+1):\n",
    "        sampl.append(roll(sides))\n",
    "    return sampl\n",
    "\n",
    "\n",
    "\n"
   ]
  },
  {
   "cell_type": "code",
   "execution_count": 72,
   "metadata": {},
   "outputs": [],
   "source": [
    "def manysamps(size, sides, numd):\n",
    "    rolls = []\n",
    "    for num in range(1,size+1):\n",
    "        rollsix = []\n",
    "        for num in range(numd):\n",
    "            rollsix.append(roll(sides))\n",
    "        rolls.append(rollsix)       \n",
    "    return rolls\n",
    " \n",
    "\n"
   ]
  },
  {
   "cell_type": "code",
   "execution_count": 75,
   "metadata": {},
   "outputs": [
    {
     "output_type": "execute_result",
     "data": {
      "text/plain": [
       "(500, 6)"
      ]
     },
     "metadata": {},
     "execution_count": 75
    }
   ],
   "source": [
    "arr=np.array(manysamps(500, 6, 6))\n",
    "arr.shape"
   ]
  },
  {
   "cell_type": "code",
   "execution_count": 77,
   "metadata": {},
   "outputs": [
    {
     "output_type": "execute_result",
     "data": {
      "text/plain": [
       "array([24, 26, 21, 20, 27, 26, 19, 18, 19, 24, 18, 21, 25, 21, 16, 18, 13,\n",
       "       20, 26, 15, 25, 18, 18, 27, 21, 19, 23, 14, 22, 24, 18, 20, 30, 21,\n",
       "       17, 22, 17, 26, 19, 19, 21, 22, 25, 31, 25, 17, 24, 20, 22, 22, 22,\n",
       "       19, 29, 24, 20, 20, 22, 24, 25, 15, 13, 17, 15, 17, 24, 17, 24, 24,\n",
       "       24, 19, 17, 25, 20, 20, 23, 22, 17, 15, 21, 25, 20, 17, 16, 23, 24,\n",
       "       17, 22, 14, 18, 21, 21, 27, 21, 22, 25, 25, 18, 12, 28, 24, 15, 18,\n",
       "       21, 25, 24, 21, 22, 21, 21, 23, 18, 21, 20, 21, 17, 30, 16, 19, 20,\n",
       "       23, 21, 16, 23, 14, 20, 21, 18, 26, 23, 17, 17, 22, 13, 18, 19, 19,\n",
       "       28, 20, 19, 20, 12, 19, 29, 19, 21, 21, 10, 18, 27, 18, 16, 18, 20,\n",
       "       28, 23, 22, 19, 24, 20, 25, 16, 16, 21, 19, 23, 20, 23, 20, 15, 24,\n",
       "       19, 20, 15, 17, 14, 26, 23, 26, 14, 23, 25, 21, 17, 25, 30, 25, 23,\n",
       "       15, 28, 23, 29, 27, 24, 17, 15, 15, 28, 27, 16, 22, 26, 26, 22, 20,\n",
       "       16, 18, 18, 20, 23, 19, 23, 22, 21, 25, 20, 26, 23, 17, 21, 21, 18,\n",
       "       24, 22, 20, 20, 22, 24, 18, 29, 28, 19, 25, 18, 23, 16, 25, 20, 21,\n",
       "       18, 24, 24, 20, 26, 21, 23, 17, 21, 25, 26, 23, 21, 21, 23, 16, 15,\n",
       "       22, 19, 23, 20, 20, 16, 28, 18, 23, 15, 24, 20, 19, 11, 24, 20, 20,\n",
       "       20, 23, 21, 21, 18, 33, 21, 18, 21, 23, 19, 19, 18, 17, 24, 22, 19,\n",
       "       19, 23, 30, 25, 24, 23, 17, 19, 13, 19, 25, 25, 19, 23, 18, 19, 28,\n",
       "       22, 27, 23, 20, 19, 23, 20, 20, 24, 21, 17, 20, 26, 20, 20, 16, 25,\n",
       "       15, 18, 18, 19, 26, 24, 17, 21, 15, 23, 18, 25, 22, 16, 21, 19, 19,\n",
       "       28, 13, 26, 20, 20, 27, 26, 20, 25, 15, 24, 23, 21, 18, 20, 22, 27,\n",
       "       21, 23, 21, 26, 19, 18, 29, 15, 18, 27, 20, 25, 16, 16, 17, 28, 15,\n",
       "       15, 18, 18, 23, 28, 13, 21, 19, 18, 23, 21, 16, 20, 20, 24, 21, 20,\n",
       "       24, 18, 24, 17, 13, 17, 19, 21, 17, 16, 19, 19, 17, 24, 25, 25, 26,\n",
       "       29, 21, 19, 24, 17, 23, 20, 14, 19, 15, 21, 15, 23, 23, 20, 15, 16,\n",
       "       16, 19, 22, 24, 24, 13, 20, 26, 18, 20, 14, 30, 25, 28, 21, 30, 26,\n",
       "       20, 16, 22, 18, 24, 23, 19, 14, 20, 27, 18, 24, 17, 26, 28, 22, 16,\n",
       "       21, 20, 26, 23, 23, 15, 20, 21, 17, 21, 22, 27, 23, 22, 22, 20, 22,\n",
       "       18, 28, 18, 27, 20, 24, 21, 21, 21, 20, 15, 19, 15, 27, 21, 27, 24,\n",
       "       16, 19, 21, 19, 21, 24, 24])"
      ]
     },
     "metadata": {},
     "execution_count": 77
    }
   ],
   "source": [
    "np.sum(arr, axis=1)"
   ]
  },
  {
   "cell_type": "code",
   "execution_count": 79,
   "metadata": {},
   "outputs": [
    {
     "output_type": "execute_result",
     "data": {
      "text/plain": [
       "array([1.63299316, 1.69967317, 1.38443731, 1.88561808, 1.70782513,\n",
       "       1.59861051, 1.86338998, 1.52752523, 1.77169097, 1.41421356,\n",
       "       1.29099445, 1.60727513, 1.57233019, 1.38443731, 1.88561808,\n",
       "       2.081666  , 1.34370962, 1.69967317, 1.1055416 , 1.5       ,\n",
       "       1.06718737, 1.41421356, 1.82574186, 1.25830574, 1.60727513,\n",
       "       1.21335165, 1.06718737, 0.74535599, 1.97202659, 1.73205081,\n",
       "       1.63299316, 2.05480467, 0.81649658, 1.89296945, 1.06718737,\n",
       "       1.69967317, 1.34370962, 1.79505494, 1.57233019, 1.21335165,\n",
       "       1.5       , 1.69967317, 1.46249406, 0.372678  , 1.95078332,\n",
       "       1.77169097, 1.63299316, 2.05480467, 1.59861051, 1.79505494,\n",
       "       0.94280904, 1.34370962, 1.21335165, 1.63299316, 0.94280904,\n",
       "       1.59861051, 1.49071198, 1.29099445, 2.03442594, 1.38443731,\n",
       "       1.34370962, 2.26691175, 1.11803399, 1.77169097, 1.41421356,\n",
       "       1.34370962, 1.91485422, 1.        , 2.081666  , 1.67497927,\n",
       "       1.57233019, 2.03442594, 1.24721913, 1.79505494, 1.21335165,\n",
       "       1.49071198, 1.77169097, 1.89296945, 1.60727513, 1.21335165,\n",
       "       1.88561808, 1.67497927, 0.74535599, 1.95078332, 1.15470054,\n",
       "       1.67497927, 1.49071198, 1.79505494, 1.82574186, 1.70782513,\n",
       "       1.5       , 1.38443731, 1.97905701, 1.24721913, 1.77169097,\n",
       "       1.57233019, 1.15470054, 1.15470054, 1.24721913, 1.52752523,\n",
       "       1.11803399, 1.73205081, 2.06155281, 1.57233019, 1.63299316,\n",
       "       2.21735578, 1.59861051, 1.70782513, 2.21735578, 1.86338998,\n",
       "       1.52752523, 1.25830574, 1.69967317, 1.25830574, 1.34370962,\n",
       "       1.15470054, 1.79505494, 1.67497927, 1.59861051, 2.03442594,\n",
       "       1.5       , 1.37436854, 1.95078332, 0.74535599, 1.49071198,\n",
       "       1.60727513, 1.52752523, 1.37436854, 1.67497927, 1.06718737,\n",
       "       1.34370962, 1.88561808, 1.86338998, 2.1602469 , 1.86338998,\n",
       "       1.95078332, 1.79505494, 1.79505494, 2.03442594, 1.37436854,\n",
       "       0.81649658, 1.57233019, 0.89752747, 1.46249406, 1.38443731,\n",
       "       1.89296945, 0.74535599, 1.63299316, 1.25830574, 1.73205081,\n",
       "       1.59861051, 1.        , 2.13437475, 1.24721913, 1.34370962,\n",
       "       2.05480467, 2.26691175, 0.57735027, 1.59861051, 1.77169097,\n",
       "       2.05480467, 1.37436854, 1.38443731, 1.46249406, 1.46249406,\n",
       "       1.69967317, 1.46249406, 1.88561808, 1.11803399, 1.73205081,\n",
       "       1.57233019, 1.37436854, 1.11803399, 1.06718737, 1.79505494,\n",
       "       1.79505494, 1.06718737, 0.74535599, 0.94280904, 1.34370962,\n",
       "       1.06718737, 2.21735578, 1.21335165, 1.95078332, 1.        ,\n",
       "       1.86338998, 1.46249406, 0.95742711, 1.79505494, 1.34370962,\n",
       "       1.34370962, 1.89296945, 1.15470054, 1.95078332, 1.11803399,\n",
       "       1.25830574, 1.59861051, 1.38443731, 0.94280904, 0.94280904,\n",
       "       1.69967317, 1.24721913, 1.79505494, 1.69967317, 1.1055416 ,\n",
       "       1.73205081, 2.1602469 , 1.24721913, 1.57233019, 1.46249406,\n",
       "       0.89752747, 1.79505494, 1.89296945, 1.34370962, 2.05480467,\n",
       "       1.59861051, 2.11476292, 1.34370962, 1.11803399, 1.5       ,\n",
       "       1.15470054, 1.        , 0.94280904, 1.24721913, 2.05480467,\n",
       "       1.37436854, 1.63299316, 2.1602469 , 1.34370962, 1.37436854,\n",
       "       2.03442594, 1.06718737, 1.52752523, 2.03442594, 1.49071198,\n",
       "       1.67497927, 2.3570226 , 1.70782513, 1.52752523, 1.52752523,\n",
       "       1.63299316, 1.69967317, 1.69967317, 1.5       , 2.11476292,\n",
       "       1.34370962, 2.21735578, 1.95078332, 1.69967317, 1.34370962,\n",
       "       0.95742711, 2.21735578, 2.11476292, 1.24721913, 1.38443731,\n",
       "       1.24721913, 1.67497927, 1.06718737, 1.1055416 , 1.24721913,\n",
       "       1.69967317, 1.37436854, 1.15470054, 1.77169097, 1.89296945,\n",
       "       1.29099445, 1.49071198, 1.86338998, 1.06718737, 1.82574186,\n",
       "       1.88561808, 1.1055416 , 1.49071198, 1.67497927, 1.60727513,\n",
       "       0.95742711, 2.23606798, 0.5       , 1.60727513, 1.29099445,\n",
       "       1.5       , 1.06718737, 1.67497927, 1.34370962, 1.82574186,\n",
       "       1.34370962, 1.91485422, 1.69967317, 1.77169097, 1.06718737,\n",
       "       1.95078332, 1.52752523, 2.03442594, 1.63299316, 1.77169097,\n",
       "       1.95078332, 1.86338998, 1.46249406, 1.86338998, 1.77169097,\n",
       "       1.77169097, 1.77169097, 1.46249406, 1.52752523, 1.34370962,\n",
       "       0.74535599, 1.79505494, 1.25830574, 1.06718737, 0.94280904,\n",
       "       1.77169097, 1.57233019, 1.49071198, 1.88561808, 1.63299316,\n",
       "       1.25830574, 1.46249406, 1.49071198, 1.49071198, 1.59861051,\n",
       "       1.24721913, 1.88561808, 1.06718737, 1.5       , 1.41421356,\n",
       "       1.73205081, 1.57233019, 1.24721913, 1.29099445, 1.34370962,\n",
       "       1.5       , 1.5       , 1.34370962, 1.        , 1.57233019,\n",
       "       1.37436854, 1.49071198, 1.5       , 1.21335165, 1.34370962,\n",
       "       1.24721913, 1.34370962, 1.24721913, 0.94280904, 1.88561808,\n",
       "       0.95742711, 1.24721913, 1.1055416 , 1.57233019, 1.5       ,\n",
       "       1.63299316, 1.34370962, 1.60727513, 1.41421356, 1.59861051,\n",
       "       1.69967317, 1.80277564, 2.21735578, 1.57233019, 1.5       ,\n",
       "       1.49071198, 1.34370962, 1.91485422, 1.06718737, 1.38443731,\n",
       "       1.15470054, 1.80277564, 1.49071198, 1.34370962, 1.1055416 ,\n",
       "       1.69967317, 1.67497927, 1.37436854, 1.25830574, 1.80277564,\n",
       "       1.41421356, 1.73205081, 1.46249406, 1.49071198, 1.46249406,\n",
       "       1.89296945, 1.77169097, 1.52752523, 2.03442594, 1.80277564,\n",
       "       2.05480467, 1.69967317, 1.49071198, 1.91485422, 1.60727513,\n",
       "       1.49071198, 1.91485422, 1.41421356, 1.52752523, 1.34370962,\n",
       "       1.06718737, 1.57233019, 2.11476292, 1.60727513, 1.21335165,\n",
       "       1.79505494, 1.86338998, 1.77169097, 1.77169097, 1.52752523,\n",
       "       1.95078332, 1.57233019, 1.37436854, 0.89752747, 1.60727513,\n",
       "       0.68718427, 1.91485422, 1.46249406, 1.77169097, 1.79505494,\n",
       "       1.1055416 , 2.26691175, 1.5       , 1.97905701, 1.5       ,\n",
       "       1.67497927, 1.77169097, 1.37436854, 0.95742711, 1.49071198,\n",
       "       1.24721913, 1.57233019, 1.79505494, 1.91485422, 1.82574186,\n",
       "       1.21335165, 1.59861051, 1.59861051, 1.52752523, 1.79505494,\n",
       "       1.1055416 , 1.15470054, 1.21335165, 1.37436854, 1.70782513,\n",
       "       1.15470054, 1.37436854, 1.24721913, 1.1055416 , 1.59861051,\n",
       "       1.63299316, 1.52752523, 1.95078332, 1.86338998, 1.1055416 ,\n",
       "       1.24721913, 1.89296945, 1.        , 1.91485422, 1.34370962,\n",
       "       0.94280904, 1.37436854, 1.79505494, 1.69967317, 1.97905701,\n",
       "       2.05480467, 1.69967317, 1.06718737, 1.67497927, 1.25830574,\n",
       "       1.49071198, 1.70782513, 1.46249406, 1.25830574, 1.37436854,\n",
       "       1.25830574, 1.67497927, 1.97202659, 0.47140452, 2.05480467,\n",
       "       1.79505494, 1.41421356, 1.37436854, 1.52752523, 1.25830574,\n",
       "       1.79505494, 1.91485422, 1.70782513, 1.60727513, 1.5       ,\n",
       "       1.37436854, 1.5       , 1.06718737, 1.70782513, 1.80277564,\n",
       "       1.70782513, 1.70782513, 1.73205081, 1.1055416 , 1.57233019,\n",
       "       1.25830574, 1.95078332, 1.5       , 1.52752523, 1.73205081])"
      ]
     },
     "metadata": {},
     "execution_count": 79
    }
   ],
   "source": [
    "np.std(arr, axis=1)"
   ]
  },
  {
   "cell_type": "code",
   "execution_count": 84,
   "metadata": {},
   "outputs": [
    {
     "output_type": "execute_result",
     "data": {
      "text/plain": [
       "(array([  3.,   8.,  19.,  51.,  74., 101., 104.,  96.,  30.,  14.]),\n",
       " array([0.372678  , 0.57111246, 0.76954692, 0.96798138, 1.16641584,\n",
       "        1.3648503 , 1.56328476, 1.76171922, 1.96015368, 2.15858814,\n",
       "        2.3570226 ]),\n",
       " <BarContainer object of 10 artists>)"
      ]
     },
     "metadata": {},
     "execution_count": 84
    },
    {
     "output_type": "display_data",
     "data": {
      "text/plain": "<Figure size 432x288 with 1 Axes>",
      "image/svg+xml": "<?xml version=\"1.0\" encoding=\"utf-8\" standalone=\"no\"?>\n<!DOCTYPE svg PUBLIC \"-//W3C//DTD SVG 1.1//EN\"\n  \"http://www.w3.org/Graphics/SVG/1.1/DTD/svg11.dtd\">\n<!-- Created with matplotlib (https://matplotlib.org/) -->\n<svg height=\"250.966785pt\" version=\"1.1\" viewBox=\"0 0 375.2875 250.966785\" width=\"375.2875pt\" xmlns=\"http://www.w3.org/2000/svg\" xmlns:xlink=\"http://www.w3.org/1999/xlink\">\n <metadata>\n  <rdf:RDF xmlns:cc=\"http://creativecommons.org/ns#\" xmlns:dc=\"http://purl.org/dc/elements/1.1/\" xmlns:rdf=\"http://www.w3.org/1999/02/22-rdf-syntax-ns#\">\n   <cc:Work>\n    <dc:type rdf:resource=\"http://purl.org/dc/dcmitype/StillImage\"/>\n    <dc:date>2021-06-09T15:05:22.356535</dc:date>\n    <dc:format>image/svg+xml</dc:format>\n    <dc:creator>\n     <cc:Agent>\n      <dc:title>Matplotlib v3.3.4, https://matplotlib.org/</dc:title>\n     </cc:Agent>\n    </dc:creator>\n   </cc:Work>\n  </rdf:RDF>\n </metadata>\n <defs>\n  <style type=\"text/css\">*{stroke-linecap:butt;stroke-linejoin:round;}</style>\n </defs>\n <g id=\"figure_1\">\n  <g id=\"patch_1\">\n   <path d=\"M 0 250.966785 \nL 375.2875 250.966785 \nL 375.2875 0 \nL 0 0 \nz\n\" style=\"fill:none;\"/>\n  </g>\n  <g id=\"axes_1\">\n   <g id=\"patch_2\">\n    <path d=\"M 33.2875 227.08866 \nL 368.0875 227.08866 \nL 368.0875 9.64866 \nL 33.2875 9.64866 \nz\n\" style=\"fill:#ffffff;\"/>\n   </g>\n   <g id=\"patch_3\">\n    <path clip-path=\"url(#p7ed2959195)\" d=\"M 138.314056 227.08866 \nL 159.769582 227.08866 \nL 159.769582 219.885678 \nL 138.314056 219.885678 \nz\n\" style=\"fill:#1f77b4;\"/>\n   </g>\n   <g id=\"patch_4\">\n    <path clip-path=\"url(#p7ed2959195)\" d=\"M 159.769582 227.08866 \nL 181.225108 227.08866 \nL 181.225108 198.276734 \nL 159.769582 198.276734 \nz\n\" style=\"fill:#1f77b4;\"/>\n   </g>\n   <g id=\"patch_5\">\n    <path clip-path=\"url(#p7ed2959195)\" d=\"M 181.225108 227.08866 \nL 202.680634 227.08866 \nL 202.680634 142.453629 \nL 181.225108 142.453629 \nz\n\" style=\"fill:#1f77b4;\"/>\n   </g>\n   <g id=\"patch_6\">\n    <path clip-path=\"url(#p7ed2959195)\" d=\"M 202.680634 227.08866 \nL 224.136161 227.08866 \nL 224.136161 20.002945 \nL 202.680634 20.002945 \nz\n\" style=\"fill:#1f77b4;\"/>\n   </g>\n   <g id=\"patch_7\">\n    <path clip-path=\"url(#p7ed2959195)\" d=\"M 224.136161 227.08866 \nL 245.591687 227.08866 \nL 245.591687 23.604436 \nL 224.136161 23.604436 \nz\n\" style=\"fill:#1f77b4;\"/>\n   </g>\n   <g id=\"patch_8\">\n    <path clip-path=\"url(#p7ed2959195)\" d=\"M 245.591687 227.08866 \nL 267.047213 227.08866 \nL 267.047213 97.434995 \nL 245.591687 97.434995 \nz\n\" style=\"fill:#1f77b4;\"/>\n   </g>\n   <g id=\"patch_9\">\n    <path clip-path=\"url(#p7ed2959195)\" d=\"M 267.047213 227.08866 \nL 288.502739 227.08866 \nL 288.502739 65.021579 \nL 267.047213 65.021579 \nz\n\" style=\"fill:#1f77b4;\"/>\n   </g>\n   <g id=\"patch_10\">\n    <path clip-path=\"url(#p7ed2959195)\" d=\"M 288.502739 227.08866 \nL 309.958266 227.08866 \nL 309.958266 174.867045 \nL 288.502739 174.867045 \nz\n\" style=\"fill:#1f77b4;\"/>\n   </g>\n   <g id=\"patch_11\">\n    <path clip-path=\"url(#p7ed2959195)\" d=\"M 309.958266 227.08866 \nL 331.413792 227.08866 \nL 331.413792 205.479716 \nL 309.958266 205.479716 \nz\n\" style=\"fill:#1f77b4;\"/>\n   </g>\n   <g id=\"patch_12\">\n    <path clip-path=\"url(#p7ed2959195)\" d=\"M 331.413792 227.08866 \nL 352.869318 227.08866 \nL 352.869318 223.487169 \nL 331.413792 223.487169 \nz\n\" style=\"fill:#1f77b4;\"/>\n   </g>\n   <g id=\"patch_13\">\n    <path clip-path=\"url(#p7ed2959195)\" d=\"M 48.505682 227.08866 \nL 50.356776 227.08866 \nL 50.356776 221.686424 \nL 48.505682 221.686424 \nz\n\" style=\"fill:#ff7f0e;\"/>\n   </g>\n   <g id=\"patch_14\">\n    <path clip-path=\"url(#p7ed2959195)\" d=\"M 50.356776 227.08866 \nL 52.207869 227.08866 \nL 52.207869 212.682697 \nL 50.356776 212.682697 \nz\n\" style=\"fill:#ff7f0e;\"/>\n   </g>\n   <g id=\"patch_15\">\n    <path clip-path=\"url(#p7ed2959195)\" d=\"M 52.207869 227.08866 \nL 54.058963 227.08866 \nL 54.058963 192.874498 \nL 52.207869 192.874498 \nz\n\" style=\"fill:#ff7f0e;\"/>\n   </g>\n   <g id=\"patch_16\">\n    <path clip-path=\"url(#p7ed2959195)\" d=\"M 54.058963 227.08866 \nL 55.910057 227.08866 \nL 55.910057 135.250647 \nL 54.058963 135.250647 \nz\n\" style=\"fill:#ff7f0e;\"/>\n   </g>\n   <g id=\"patch_17\">\n    <path clip-path=\"url(#p7ed2959195)\" d=\"M 55.910057 227.08866 \nL 57.761151 227.08866 \nL 57.761151 93.833504 \nL 55.910057 93.833504 \nz\n\" style=\"fill:#ff7f0e;\"/>\n   </g>\n   <g id=\"patch_18\">\n    <path clip-path=\"url(#p7ed2959195)\" d=\"M 57.761151 227.08866 \nL 59.612245 227.08866 \nL 59.612245 45.21338 \nL 57.761151 45.21338 \nz\n\" style=\"fill:#ff7f0e;\"/>\n   </g>\n   <g id=\"patch_19\">\n    <path clip-path=\"url(#p7ed2959195)\" d=\"M 59.612245 227.08866 \nL 61.463339 227.08866 \nL 61.463339 39.811144 \nL 59.612245 39.811144 \nz\n\" style=\"fill:#ff7f0e;\"/>\n   </g>\n   <g id=\"patch_20\">\n    <path clip-path=\"url(#p7ed2959195)\" d=\"M 61.463339 227.08866 \nL 63.314432 227.08866 \nL 63.314432 54.217107 \nL 61.463339 54.217107 \nz\n\" style=\"fill:#ff7f0e;\"/>\n   </g>\n   <g id=\"patch_21\">\n    <path clip-path=\"url(#p7ed2959195)\" d=\"M 63.314432 227.08866 \nL 65.165526 227.08866 \nL 65.165526 173.066299 \nL 63.314432 173.066299 \nz\n\" style=\"fill:#ff7f0e;\"/>\n   </g>\n   <g id=\"patch_22\">\n    <path clip-path=\"url(#p7ed2959195)\" d=\"M 65.165526 227.08866 \nL 67.01662 227.08866 \nL 67.01662 201.878225 \nL 65.165526 201.878225 \nz\n\" style=\"fill:#ff7f0e;\"/>\n   </g>\n   <g id=\"matplotlib.axis_1\">\n    <g id=\"xtick_1\">\n     <g id=\"line2d_1\">\n      <defs>\n       <path d=\"M 0 0 \nL 0 3.5 \n\" id=\"m51c1153579\" style=\"stroke:#000000;stroke-width:0.8;\"/>\n      </defs>\n      <g>\n       <use style=\"stroke:#000000;stroke-width:0.8;\" x=\"45.029159\" xlink:href=\"#m51c1153579\" y=\"227.08866\"/>\n      </g>\n     </g>\n     <g id=\"text_1\">\n      <!-- 0 -->\n      <g transform=\"translate(41.847909 241.687097)scale(0.1 -0.1)\">\n       <defs>\n        <path d=\"M 31.78125 66.40625 \nQ 24.171875 66.40625 20.328125 58.90625 \nQ 16.5 51.421875 16.5 36.375 \nQ 16.5 21.390625 20.328125 13.890625 \nQ 24.171875 6.390625 31.78125 6.390625 \nQ 39.453125 6.390625 43.28125 13.890625 \nQ 47.125 21.390625 47.125 36.375 \nQ 47.125 51.421875 43.28125 58.90625 \nQ 39.453125 66.40625 31.78125 66.40625 \nz\nM 31.78125 74.21875 \nQ 44.046875 74.21875 50.515625 64.515625 \nQ 56.984375 54.828125 56.984375 36.375 \nQ 56.984375 17.96875 50.515625 8.265625 \nQ 44.046875 -1.421875 31.78125 -1.421875 \nQ 19.53125 -1.421875 13.0625 8.265625 \nQ 6.59375 17.96875 6.59375 36.375 \nQ 6.59375 54.828125 13.0625 64.515625 \nQ 19.53125 74.21875 31.78125 74.21875 \nz\n\" id=\"DejaVuSans-48\"/>\n       </defs>\n       <use xlink:href=\"#DejaVuSans-48\"/>\n      </g>\n     </g>\n    </g>\n    <g id=\"xtick_2\">\n     <g id=\"line2d_2\">\n      <g>\n       <use style=\"stroke:#000000;stroke-width:0.8;\" x=\"91.671607\" xlink:href=\"#m51c1153579\" y=\"227.08866\"/>\n      </g>\n     </g>\n     <g id=\"text_2\">\n      <!-- 5 -->\n      <g transform=\"translate(88.490357 241.687097)scale(0.1 -0.1)\">\n       <defs>\n        <path d=\"M 10.796875 72.90625 \nL 49.515625 72.90625 \nL 49.515625 64.59375 \nL 19.828125 64.59375 \nL 19.828125 46.734375 \nQ 21.96875 47.46875 24.109375 47.828125 \nQ 26.265625 48.1875 28.421875 48.1875 \nQ 40.625 48.1875 47.75 41.5 \nQ 54.890625 34.8125 54.890625 23.390625 \nQ 54.890625 11.625 47.5625 5.09375 \nQ 40.234375 -1.421875 26.90625 -1.421875 \nQ 22.3125 -1.421875 17.546875 -0.640625 \nQ 12.796875 0.140625 7.71875 1.703125 \nL 7.71875 11.625 \nQ 12.109375 9.234375 16.796875 8.0625 \nQ 21.484375 6.890625 26.703125 6.890625 \nQ 35.15625 6.890625 40.078125 11.328125 \nQ 45.015625 15.765625 45.015625 23.390625 \nQ 45.015625 31 40.078125 35.4375 \nQ 35.15625 39.890625 26.703125 39.890625 \nQ 22.75 39.890625 18.8125 39.015625 \nQ 14.890625 38.140625 10.796875 36.28125 \nz\n\" id=\"DejaVuSans-53\"/>\n       </defs>\n       <use xlink:href=\"#DejaVuSans-53\"/>\n      </g>\n     </g>\n    </g>\n    <g id=\"xtick_3\">\n     <g id=\"line2d_3\">\n      <g>\n       <use style=\"stroke:#000000;stroke-width:0.8;\" x=\"138.314056\" xlink:href=\"#m51c1153579\" y=\"227.08866\"/>\n      </g>\n     </g>\n     <g id=\"text_3\">\n      <!-- 10 -->\n      <g transform=\"translate(131.951556 241.687097)scale(0.1 -0.1)\">\n       <defs>\n        <path d=\"M 12.40625 8.296875 \nL 28.515625 8.296875 \nL 28.515625 63.921875 \nL 10.984375 60.40625 \nL 10.984375 69.390625 \nL 28.421875 72.90625 \nL 38.28125 72.90625 \nL 38.28125 8.296875 \nL 54.390625 8.296875 \nL 54.390625 0 \nL 12.40625 0 \nz\n\" id=\"DejaVuSans-49\"/>\n       </defs>\n       <use xlink:href=\"#DejaVuSans-49\"/>\n       <use x=\"63.623047\" xlink:href=\"#DejaVuSans-48\"/>\n      </g>\n     </g>\n    </g>\n    <g id=\"xtick_4\">\n     <g id=\"line2d_4\">\n      <g>\n       <use style=\"stroke:#000000;stroke-width:0.8;\" x=\"184.956504\" xlink:href=\"#m51c1153579\" y=\"227.08866\"/>\n      </g>\n     </g>\n     <g id=\"text_4\">\n      <!-- 15 -->\n      <g transform=\"translate(178.594004 241.687097)scale(0.1 -0.1)\">\n       <use xlink:href=\"#DejaVuSans-49\"/>\n       <use x=\"63.623047\" xlink:href=\"#DejaVuSans-53\"/>\n      </g>\n     </g>\n    </g>\n    <g id=\"xtick_5\">\n     <g id=\"line2d_5\">\n      <g>\n       <use style=\"stroke:#000000;stroke-width:0.8;\" x=\"231.598952\" xlink:href=\"#m51c1153579\" y=\"227.08866\"/>\n      </g>\n     </g>\n     <g id=\"text_5\">\n      <!-- 20 -->\n      <g transform=\"translate(225.236452 241.687097)scale(0.1 -0.1)\">\n       <defs>\n        <path d=\"M 19.1875 8.296875 \nL 53.609375 8.296875 \nL 53.609375 0 \nL 7.328125 0 \nL 7.328125 8.296875 \nQ 12.9375 14.109375 22.625 23.890625 \nQ 32.328125 33.6875 34.8125 36.53125 \nQ 39.546875 41.84375 41.421875 45.53125 \nQ 43.3125 49.21875 43.3125 52.78125 \nQ 43.3125 58.59375 39.234375 62.25 \nQ 35.15625 65.921875 28.609375 65.921875 \nQ 23.96875 65.921875 18.8125 64.3125 \nQ 13.671875 62.703125 7.8125 59.421875 \nL 7.8125 69.390625 \nQ 13.765625 71.78125 18.9375 73 \nQ 24.125 74.21875 28.421875 74.21875 \nQ 39.75 74.21875 46.484375 68.546875 \nQ 53.21875 62.890625 53.21875 53.421875 \nQ 53.21875 48.921875 51.53125 44.890625 \nQ 49.859375 40.875 45.40625 35.40625 \nQ 44.1875 33.984375 37.640625 27.21875 \nQ 31.109375 20.453125 19.1875 8.296875 \nz\n\" id=\"DejaVuSans-50\"/>\n       </defs>\n       <use xlink:href=\"#DejaVuSans-50\"/>\n       <use x=\"63.623047\" xlink:href=\"#DejaVuSans-48\"/>\n      </g>\n     </g>\n    </g>\n    <g id=\"xtick_6\">\n     <g id=\"line2d_6\">\n      <g>\n       <use style=\"stroke:#000000;stroke-width:0.8;\" x=\"278.241401\" xlink:href=\"#m51c1153579\" y=\"227.08866\"/>\n      </g>\n     </g>\n     <g id=\"text_6\">\n      <!-- 25 -->\n      <g transform=\"translate(271.878901 241.687097)scale(0.1 -0.1)\">\n       <use xlink:href=\"#DejaVuSans-50\"/>\n       <use x=\"63.623047\" xlink:href=\"#DejaVuSans-53\"/>\n      </g>\n     </g>\n    </g>\n    <g id=\"xtick_7\">\n     <g id=\"line2d_7\">\n      <g>\n       <use style=\"stroke:#000000;stroke-width:0.8;\" x=\"324.883849\" xlink:href=\"#m51c1153579\" y=\"227.08866\"/>\n      </g>\n     </g>\n     <g id=\"text_7\">\n      <!-- 30 -->\n      <g transform=\"translate(318.521349 241.687097)scale(0.1 -0.1)\">\n       <defs>\n        <path d=\"M 40.578125 39.3125 \nQ 47.65625 37.796875 51.625 33 \nQ 55.609375 28.21875 55.609375 21.1875 \nQ 55.609375 10.40625 48.1875 4.484375 \nQ 40.765625 -1.421875 27.09375 -1.421875 \nQ 22.515625 -1.421875 17.65625 -0.515625 \nQ 12.796875 0.390625 7.625 2.203125 \nL 7.625 11.71875 \nQ 11.71875 9.328125 16.59375 8.109375 \nQ 21.484375 6.890625 26.8125 6.890625 \nQ 36.078125 6.890625 40.9375 10.546875 \nQ 45.796875 14.203125 45.796875 21.1875 \nQ 45.796875 27.640625 41.28125 31.265625 \nQ 36.765625 34.90625 28.71875 34.90625 \nL 20.21875 34.90625 \nL 20.21875 43.015625 \nL 29.109375 43.015625 \nQ 36.375 43.015625 40.234375 45.921875 \nQ 44.09375 48.828125 44.09375 54.296875 \nQ 44.09375 59.90625 40.109375 62.90625 \nQ 36.140625 65.921875 28.71875 65.921875 \nQ 24.65625 65.921875 20.015625 65.03125 \nQ 15.375 64.15625 9.8125 62.3125 \nL 9.8125 71.09375 \nQ 15.4375 72.65625 20.34375 73.4375 \nQ 25.25 74.21875 29.59375 74.21875 \nQ 40.828125 74.21875 47.359375 69.109375 \nQ 53.90625 64.015625 53.90625 55.328125 \nQ 53.90625 49.265625 50.4375 45.09375 \nQ 46.96875 40.921875 40.578125 39.3125 \nz\n\" id=\"DejaVuSans-51\"/>\n       </defs>\n       <use xlink:href=\"#DejaVuSans-51\"/>\n       <use x=\"63.623047\" xlink:href=\"#DejaVuSans-48\"/>\n      </g>\n     </g>\n    </g>\n   </g>\n   <g id=\"matplotlib.axis_2\">\n    <g id=\"ytick_1\">\n     <g id=\"line2d_8\">\n      <defs>\n       <path d=\"M 0 0 \nL -3.5 0 \n\" id=\"mca0d5b821b\" style=\"stroke:#000000;stroke-width:0.8;\"/>\n      </defs>\n      <g>\n       <use style=\"stroke:#000000;stroke-width:0.8;\" x=\"33.2875\" xlink:href=\"#mca0d5b821b\" y=\"227.08866\"/>\n      </g>\n     </g>\n     <g id=\"text_8\">\n      <!-- 0 -->\n      <g transform=\"translate(19.925 230.887878)scale(0.1 -0.1)\">\n       <use xlink:href=\"#DejaVuSans-48\"/>\n      </g>\n     </g>\n    </g>\n    <g id=\"ytick_2\">\n     <g id=\"line2d_9\">\n      <g>\n       <use style=\"stroke:#000000;stroke-width:0.8;\" x=\"33.2875\" xlink:href=\"#mca0d5b821b\" y=\"191.073753\"/>\n      </g>\n     </g>\n     <g id=\"text_9\">\n      <!-- 20 -->\n      <g transform=\"translate(13.5625 194.872972)scale(0.1 -0.1)\">\n       <use xlink:href=\"#DejaVuSans-50\"/>\n       <use x=\"63.623047\" xlink:href=\"#DejaVuSans-48\"/>\n      </g>\n     </g>\n    </g>\n    <g id=\"ytick_3\">\n     <g id=\"line2d_10\">\n      <g>\n       <use style=\"stroke:#000000;stroke-width:0.8;\" x=\"33.2875\" xlink:href=\"#mca0d5b821b\" y=\"155.058846\"/>\n      </g>\n     </g>\n     <g id=\"text_10\">\n      <!-- 40 -->\n      <g transform=\"translate(13.5625 158.858065)scale(0.1 -0.1)\">\n       <defs>\n        <path d=\"M 37.796875 64.3125 \nL 12.890625 25.390625 \nL 37.796875 25.390625 \nz\nM 35.203125 72.90625 \nL 47.609375 72.90625 \nL 47.609375 25.390625 \nL 58.015625 25.390625 \nL 58.015625 17.1875 \nL 47.609375 17.1875 \nL 47.609375 0 \nL 37.796875 0 \nL 37.796875 17.1875 \nL 4.890625 17.1875 \nL 4.890625 26.703125 \nz\n\" id=\"DejaVuSans-52\"/>\n       </defs>\n       <use xlink:href=\"#DejaVuSans-52\"/>\n       <use x=\"63.623047\" xlink:href=\"#DejaVuSans-48\"/>\n      </g>\n     </g>\n    </g>\n    <g id=\"ytick_4\">\n     <g id=\"line2d_11\">\n      <g>\n       <use style=\"stroke:#000000;stroke-width:0.8;\" x=\"33.2875\" xlink:href=\"#mca0d5b821b\" y=\"119.043939\"/>\n      </g>\n     </g>\n     <g id=\"text_11\">\n      <!-- 60 -->\n      <g transform=\"translate(13.5625 122.843158)scale(0.1 -0.1)\">\n       <defs>\n        <path d=\"M 33.015625 40.375 \nQ 26.375 40.375 22.484375 35.828125 \nQ 18.609375 31.296875 18.609375 23.390625 \nQ 18.609375 15.53125 22.484375 10.953125 \nQ 26.375 6.390625 33.015625 6.390625 \nQ 39.65625 6.390625 43.53125 10.953125 \nQ 47.40625 15.53125 47.40625 23.390625 \nQ 47.40625 31.296875 43.53125 35.828125 \nQ 39.65625 40.375 33.015625 40.375 \nz\nM 52.59375 71.296875 \nL 52.59375 62.3125 \nQ 48.875 64.0625 45.09375 64.984375 \nQ 41.3125 65.921875 37.59375 65.921875 \nQ 27.828125 65.921875 22.671875 59.328125 \nQ 17.53125 52.734375 16.796875 39.40625 \nQ 19.671875 43.65625 24.015625 45.921875 \nQ 28.375 48.1875 33.59375 48.1875 \nQ 44.578125 48.1875 50.953125 41.515625 \nQ 57.328125 34.859375 57.328125 23.390625 \nQ 57.328125 12.15625 50.6875 5.359375 \nQ 44.046875 -1.421875 33.015625 -1.421875 \nQ 20.359375 -1.421875 13.671875 8.265625 \nQ 6.984375 17.96875 6.984375 36.375 \nQ 6.984375 53.65625 15.1875 63.9375 \nQ 23.390625 74.21875 37.203125 74.21875 \nQ 40.921875 74.21875 44.703125 73.484375 \nQ 48.484375 72.75 52.59375 71.296875 \nz\n\" id=\"DejaVuSans-54\"/>\n       </defs>\n       <use xlink:href=\"#DejaVuSans-54\"/>\n       <use x=\"63.623047\" xlink:href=\"#DejaVuSans-48\"/>\n      </g>\n     </g>\n    </g>\n    <g id=\"ytick_5\">\n     <g id=\"line2d_12\">\n      <g>\n       <use style=\"stroke:#000000;stroke-width:0.8;\" x=\"33.2875\" xlink:href=\"#mca0d5b821b\" y=\"83.029032\"/>\n      </g>\n     </g>\n     <g id=\"text_12\">\n      <!-- 80 -->\n      <g transform=\"translate(13.5625 86.828251)scale(0.1 -0.1)\">\n       <defs>\n        <path d=\"M 31.78125 34.625 \nQ 24.75 34.625 20.71875 30.859375 \nQ 16.703125 27.09375 16.703125 20.515625 \nQ 16.703125 13.921875 20.71875 10.15625 \nQ 24.75 6.390625 31.78125 6.390625 \nQ 38.8125 6.390625 42.859375 10.171875 \nQ 46.921875 13.96875 46.921875 20.515625 \nQ 46.921875 27.09375 42.890625 30.859375 \nQ 38.875 34.625 31.78125 34.625 \nz\nM 21.921875 38.8125 \nQ 15.578125 40.375 12.03125 44.71875 \nQ 8.5 49.078125 8.5 55.328125 \nQ 8.5 64.0625 14.71875 69.140625 \nQ 20.953125 74.21875 31.78125 74.21875 \nQ 42.671875 74.21875 48.875 69.140625 \nQ 55.078125 64.0625 55.078125 55.328125 \nQ 55.078125 49.078125 51.53125 44.71875 \nQ 48 40.375 41.703125 38.8125 \nQ 48.828125 37.15625 52.796875 32.3125 \nQ 56.78125 27.484375 56.78125 20.515625 \nQ 56.78125 9.90625 50.3125 4.234375 \nQ 43.84375 -1.421875 31.78125 -1.421875 \nQ 19.734375 -1.421875 13.25 4.234375 \nQ 6.78125 9.90625 6.78125 20.515625 \nQ 6.78125 27.484375 10.78125 32.3125 \nQ 14.796875 37.15625 21.921875 38.8125 \nz\nM 18.3125 54.390625 \nQ 18.3125 48.734375 21.84375 45.5625 \nQ 25.390625 42.390625 31.78125 42.390625 \nQ 38.140625 42.390625 41.71875 45.5625 \nQ 45.3125 48.734375 45.3125 54.390625 \nQ 45.3125 60.0625 41.71875 63.234375 \nQ 38.140625 66.40625 31.78125 66.40625 \nQ 25.390625 66.40625 21.84375 63.234375 \nQ 18.3125 60.0625 18.3125 54.390625 \nz\n\" id=\"DejaVuSans-56\"/>\n       </defs>\n       <use xlink:href=\"#DejaVuSans-56\"/>\n       <use x=\"63.623047\" xlink:href=\"#DejaVuSans-48\"/>\n      </g>\n     </g>\n    </g>\n    <g id=\"ytick_6\">\n     <g id=\"line2d_13\">\n      <g>\n       <use style=\"stroke:#000000;stroke-width:0.8;\" x=\"33.2875\" xlink:href=\"#mca0d5b821b\" y=\"47.014126\"/>\n      </g>\n     </g>\n     <g id=\"text_13\">\n      <!-- 100 -->\n      <g transform=\"translate(7.2 50.813344)scale(0.1 -0.1)\">\n       <use xlink:href=\"#DejaVuSans-49\"/>\n       <use x=\"63.623047\" xlink:href=\"#DejaVuSans-48\"/>\n       <use x=\"127.246094\" xlink:href=\"#DejaVuSans-48\"/>\n      </g>\n     </g>\n    </g>\n    <g id=\"ytick_7\">\n     <g id=\"line2d_14\">\n      <g>\n       <use style=\"stroke:#000000;stroke-width:0.8;\" x=\"33.2875\" xlink:href=\"#mca0d5b821b\" y=\"10.999219\"/>\n      </g>\n     </g>\n     <g id=\"text_14\">\n      <!-- 120 -->\n      <g transform=\"translate(7.2 14.798437)scale(0.1 -0.1)\">\n       <use xlink:href=\"#DejaVuSans-49\"/>\n       <use x=\"63.623047\" xlink:href=\"#DejaVuSans-50\"/>\n       <use x=\"127.246094\" xlink:href=\"#DejaVuSans-48\"/>\n      </g>\n     </g>\n    </g>\n   </g>\n   <g id=\"patch_23\">\n    <path d=\"M 33.2875 227.08866 \nL 33.2875 9.64866 \n\" style=\"fill:none;stroke:#000000;stroke-linecap:square;stroke-linejoin:miter;stroke-width:0.8;\"/>\n   </g>\n   <g id=\"patch_24\">\n    <path d=\"M 368.0875 227.08866 \nL 368.0875 9.64866 \n\" style=\"fill:none;stroke:#000000;stroke-linecap:square;stroke-linejoin:miter;stroke-width:0.8;\"/>\n   </g>\n   <g id=\"patch_25\">\n    <path d=\"M 33.2875 227.08866 \nL 368.0875 227.08866 \n\" style=\"fill:none;stroke:#000000;stroke-linecap:square;stroke-linejoin:miter;stroke-width:0.8;\"/>\n   </g>\n   <g id=\"patch_26\">\n    <path d=\"M 33.2875 9.64866 \nL 368.0875 9.64866 \n\" style=\"fill:none;stroke:#000000;stroke-linecap:square;stroke-linejoin:miter;stroke-width:0.8;\"/>\n   </g>\n  </g>\n </g>\n <defs>\n  <clipPath id=\"p7ed2959195\">\n   <rect height=\"217.44\" width=\"334.8\" x=\"33.2875\" y=\"9.64866\"/>\n  </clipPath>\n </defs>\n</svg>\n",
      "image/png": "[encoded data removed]"
     },
     "metadata": {
      "needs_background": "light"
     }
    }
   ],
   "source": [
    "x = np.sum(arr, axis=1)\n",
    "y= np.std(arr, axis=1)\n",
    "\n",
    "fig, ax = plt.subplots(1)\n",
    "\n",
    "ax.hist(x)\n",
    "ax.hist(y)"
   ]
  },
  {
   "cell_type": "code",
   "execution_count": 91,
   "metadata": {},
   "outputs": [
    {
     "output_type": "execute_result",
     "data": {
      "text/plain": [
       "2"
      ]
     },
     "metadata": {},
     "execution_count": 91
    }
   ],
   "source": [
    "def distance(vec1, vec2, method):\n",
    "\n",
    "    if method == 'l1':\n",
    "        return sum(np.abs(vec1 - vec2))\n",
    "    if method == 'l2':\n",
    "        return np.sqrt(sum((vec1 - vec2)**2))\n",
    "\n",
    "\n",
    "\n",
    "\n",
    "\n",
    "\n",
    "\n",
    "vec1=np.array([0,0])\n",
    "vec2=np.array([1,1])\n",
    "\n",
    "# distance(vec1, vec2, 'l1')\n",
    "# distance(vec1, vec2, 'l2')\n",
    "\n",
    "\n",
    "\n"
   ]
  },
  {
   "cell_type": "code",
   "execution_count": null,
   "metadata": {},
   "outputs": [],
   "source": []
  }
 ]
}