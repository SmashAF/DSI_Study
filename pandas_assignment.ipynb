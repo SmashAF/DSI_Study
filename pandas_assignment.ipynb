{
 "cells": [
  {
   "cell_type": "markdown",
   "metadata": {},
   "source": [
    "# Pandas: Tabular Data in Python"
   ]
  },
  {
   "cell_type": "markdown",
   "metadata": {},
   "source": [
    "## Objectives\n",
    "\n",
    "* Create `Series` and `DataFrame` objects from Python data types. \n",
    "* Create `DataFrame` objects from files.\n",
    "* Index and slice `pandas` objects.\n",
    "* Aggregate data in `DataFrame`s.\n",
    "* Join multiple `DataFrame` objects."
   ]
  },
  {
   "cell_type": "markdown",
   "metadata": {},
   "source": [
    "## What is Pandas?\n",
    "\n",
    "A Python library providing data structures and data analysis tools for tabular data of many types. Think of a `DataFrame` like a table in SQL. \n",
    "\n",
    "We will use this pretty much every day from here on out. So be sure to complete the assignment, and even do it again if you aren't feeling comfortable."
   ]
  },
  {
   "cell_type": "markdown",
   "metadata": {},
   "source": [
    "## Benefits\n",
    "\n",
    "  * Efficient storage and processing of data.\n",
    "  * Includes many built-in functions for data transformation, aggregations, and plotting.\n",
    "  * Great for exploratory work.\n",
    "\n",
    "## Not so greats\n",
    "\n",
    "  * Does not scale terribly well to VERY large datasets.\n",
    "\n",
    "## Documentation:\n",
    "\n",
    "The documentation for pandas is here:\n",
    "\n",
    "  * http://pandas.pydata.org/pandas-docs/stable/index.html\n",
    "  \n",
    "  \n",
    "But we suggest using this cheetsheet as you go:\n",
    "\n",
    "  * https://pandas.pydata.org/Pandas_Cheat_Sheet.pdf\n",
    "\n",
    "\n",
    "Particularly important reads (eventually) are:\n",
    "\n",
    "  * [Indexing and Selecting](https://pandas.pydata.org/pandas-docs/stable/indexing.html)\n",
    "  * [Advanced Indexing](http://pandas.pydata.org/pandas-docs/stable/advanced.html#advanced-mi-slicers)\n",
    "  * [Group-by](https://pandas.pydata.org/pandas-docs/stable/groupby.html)"
   ]
  },
  {
   "cell_type": "markdown",
   "metadata": {},
   "source": [
    "## Standard Imports"
   ]
  },
  {
   "cell_type": "code",
   "execution_count": 4,
   "metadata": {},
   "outputs": [],
   "source": [
    "%matplotlib inline\n",
    "\n",
    "import pandas as pd\n",
    "import numpy as np\n",
    "import matplotlib.pyplot as plt\n",
    "\n",
    "plt.style.use('ggplot')"
   ]
  },
  {
   "cell_type": "markdown",
   "metadata": {},
   "source": [
    "## Numpy: A Quick Primer"
   ]
  },
  {
   "cell_type": "markdown",
   "metadata": {},
   "source": [
    "`pandas` is built out of data types from `numpy` a lower level library.\n",
    "\n",
    "The basic object in `numpy` is an `array`."
   ]
  },
  {
   "cell_type": "code",
   "execution_count": 109,
   "metadata": {},
   "outputs": [
    {
     "output_type": "execute_result",
     "data": {
      "text/plain": [
       "array([0, 1, 2, 3, 4, 5])"
      ]
     },
     "metadata": {},
     "execution_count": 109
    }
   ],
   "source": [
    "x = np.array([0, 1, 2, 3, 4, 5])\n",
    "x"
   ]
  },
  {
   "cell_type": "markdown",
   "metadata": {},
   "source": [
    "Arrays can be processed very efficiently."
   ]
  },
  {
   "cell_type": "code",
   "execution_count": 110,
   "metadata": {},
   "outputs": [
    {
     "output_type": "execute_result",
     "data": {
      "text/plain": [
       "15"
      ]
     },
     "metadata": {},
     "execution_count": 110
    }
   ],
   "source": [
    "x.sum()  # <-- As efficient as possible way to sum these numbers in python."
   ]
  },
  {
   "cell_type": "markdown",
   "metadata": {},
   "source": [
    "Arrays can be multi-dimensional.  A **two-dimensional array** is called a **matrix**."
   ]
  },
  {
   "cell_type": "code",
   "execution_count": 111,
   "metadata": {},
   "outputs": [
    {
     "output_type": "execute_result",
     "data": {
      "text/plain": [
       "array([[0, 1, 2],\n",
       "       [1, 2, 3],\n",
       "       [2, 3, 4],\n",
       "       [5, 6, 7]])"
      ]
     },
     "metadata": {},
     "execution_count": 111
    }
   ],
   "source": [
    "M = np.array([\n",
    "    [0, 1, 2],\n",
    "    [1, 2, 3],\n",
    "    [2, 3, 4],\n",
    "    [5, 6, 7]\n",
    "])\n",
    "\n",
    "M"
   ]
  },
  {
   "cell_type": "code",
   "execution_count": 5,
   "metadata": {},
   "outputs": [
    {
     "output_type": "stream",
     "name": "stdout",
     "text": [
      "(6,)\n(4, 3)\n"
     ]
    }
   ],
   "source": [
    "print(x.shape)\n",
    "print(M.shape)"
   ]
  },
  {
   "cell_type": "markdown",
   "metadata": {},
   "source": [
    "## Adding index and a label to an array"
   ]
  },
  {
   "cell_type": "markdown",
   "metadata": {},
   "source": [
    "The most basic datatype in pandas is the 'series'. It's like a vector array, but with dressing."
   ]
  },
  {
   "cell_type": "code",
   "execution_count": 6,
   "metadata": {},
   "outputs": [
    {
     "output_type": "execute_result",
     "data": {
      "text/plain": [
       "0    34\n",
       "1    35\n",
       "2    36\n",
       "3    37\n",
       "4    38\n",
       "dtype: int64"
      ]
     },
     "metadata": {},
     "execution_count": 6
    }
   ],
   "source": [
    "heights = np.array([34, 35, 36, 37, 38])\n",
    "student_heights = pd.Series(heights)\n",
    "student_heights"
   ]
  },
  {
   "cell_type": "markdown",
   "metadata": {},
   "source": [
    "The numpy array is still in there. Easily accessible with '.values'."
   ]
  },
  {
   "cell_type": "code",
   "execution_count": 7,
   "metadata": {},
   "outputs": [
    {
     "output_type": "execute_result",
     "data": {
      "text/plain": [
       "array([34, 35, 36, 37, 38])"
      ]
     },
     "metadata": {},
     "execution_count": 7
    }
   ],
   "source": [
    "student_heights.values"
   ]
  },
  {
   "cell_type": "markdown",
   "metadata": {},
   "source": [
    "The '0,1,2,3,4' part is called the index. If you don't set the index it's '0,1,2,3' by default.\n",
    "\n",
    "You can access it with '.index'"
   ]
  },
  {
   "cell_type": "code",
   "execution_count": 113,
   "metadata": {},
   "outputs": [
    {
     "output_type": "execute_result",
     "data": {
      "text/plain": [
       "RangeIndex(start=0, stop=5, step=1)"
      ]
     },
     "metadata": {},
     "execution_count": 113
    }
   ],
   "source": [
    "student_heights.index"
   ]
  },
  {
   "cell_type": "markdown",
   "metadata": {},
   "source": [
    "Notice it stores the index as a [iterable](https://www.programiz.com/python-programming/iterator)."
   ]
  },
  {
   "cell_type": "code",
   "execution_count": 8,
   "metadata": {},
   "outputs": [
    {
     "output_type": "execute_result",
     "data": {
      "text/plain": [
       "pandas.core.indexes.range.RangeIndex"
      ]
     },
     "metadata": {},
     "execution_count": 8
    }
   ],
   "source": [
    "type(student_heights.index)"
   ]
  },
  {
   "cell_type": "code",
   "execution_count": 115,
   "metadata": {},
   "outputs": [
    {
     "output_type": "execute_result",
     "data": {
      "text/plain": [
       "[0, 1, 2, 3, 4]"
      ]
     },
     "metadata": {},
     "execution_count": 115
    }
   ],
   "source": [
    "list(student_heights.index)"
   ]
  },
  {
   "cell_type": "markdown",
   "metadata": {},
   "source": [
    "We could manually change it"
   ]
  },
  {
   "cell_type": "code",
   "execution_count": 9,
   "metadata": {},
   "outputs": [],
   "source": [
    "student_heights.index = [\"Tomas\", \"Angel\", \"Stacy\", \"Michaela\", \"Haden\"]"
   ]
  },
  {
   "cell_type": "code",
   "execution_count": 10,
   "metadata": {},
   "outputs": [
    {
     "output_type": "execute_result",
     "data": {
      "text/plain": [
       "Tomas       34\n",
       "Angel       35\n",
       "Stacy       36\n",
       "Michaela    37\n",
       "Haden       38\n",
       "dtype: int64"
      ]
     },
     "metadata": {},
     "execution_count": 10
    }
   ],
   "source": [
    "student_heights"
   ]
  },
  {
   "cell_type": "markdown",
   "metadata": {},
   "source": [
    "#### So what?"
   ]
  },
  {
   "cell_type": "markdown",
   "metadata": {},
   "source": [
    "So, now we can use __words__ to access items in the series. Not unlike a dictionary."
   ]
  },
  {
   "cell_type": "code",
   "execution_count": 11,
   "metadata": {},
   "outputs": [
    {
     "output_type": "execute_result",
     "data": {
      "text/plain": [
       "37"
      ]
     },
     "metadata": {},
     "execution_count": 11
    }
   ],
   "source": [
    "student_heights['Michaela']"
   ]
  },
  {
   "cell_type": "markdown",
   "metadata": {},
   "source": [
    "But unlike a dictionary, the series still has an order."
   ]
  },
  {
   "cell_type": "code",
   "execution_count": 12,
   "metadata": {},
   "outputs": [
    {
     "output_type": "execute_result",
     "data": {
      "text/plain": [
       "36"
      ]
     },
     "metadata": {},
     "execution_count": 12
    }
   ],
   "source": [
    "student_heights[2]"
   ]
  },
  {
   "cell_type": "markdown",
   "metadata": {},
   "source": [
    "Also unlike a dictionary, we get the numpy methods for free. Plus a few more."
   ]
  },
  {
   "cell_type": "code",
   "execution_count": 13,
   "metadata": {},
   "outputs": [
    {
     "output_type": "execute_result",
     "data": {
      "text/plain": [
       "36.0"
      ]
     },
     "metadata": {},
     "execution_count": 13
    }
   ],
   "source": [
    "student_heights.mean()"
   ]
  },
  {
   "cell_type": "markdown",
   "metadata": {},
   "source": [
    "You can see the function parameters by typing \n",
    "```python\n",
    "pd.Series()\n",
    "```\n",
    "putting your cursor in between those '()' and hitting 'shift+tab'.\n",
    "\n",
    "Try it!"
   ]
  },
  {
   "cell_type": "code",
   "execution_count": 14,
   "metadata": {},
   "outputs": [
    {
     "output_type": "stream",
     "name": "stderr",
     "text": [
      "<ipython-input-14-e4a441aac460>:2: DeprecationWarning: The default dtype for empty Series will be 'object' instead of 'float64' in a future version. Specify a dtype explicitly to silence this warning.\n  pd.Series()\n"
     ]
    },
    {
     "output_type": "execute_result",
     "data": {
      "text/plain": [
       "Series([], dtype: float64)"
      ]
     },
     "metadata": {},
     "execution_count": 14
    }
   ],
   "source": [
    "#Type pd.Series() here:\n",
    "pd.Series()\n",
    "\n"
   ]
  },
  {
   "cell_type": "markdown",
   "metadata": {},
   "source": [
    "### Question:\n",
    "\n",
    "What are the parameters of pd.Series()?"
   ]
  },
  {
   "source": [
    "# write here:\n",
    "\n",
    "# help(pd.Series)       #(OR use the 'shift+tab' command)\n",
    "\n",
    "# Series(data=None, index=None, dtype=None, name=None, copy=False, fastpath=False)"
   ],
   "cell_type": "code",
   "metadata": {
    "tags": []
   },
   "execution_count": 17,
   "outputs": []
  },
  {
   "cell_type": "markdown",
   "metadata": {},
   "source": [
    "<p>(Please type SOME actual answer before checking the solution. Even if you have NO IDEA. Just guess. It's good for you.)<p/>\n",
    "\n",
    "\n",
    "<details><summary>Solution\n",
    "</summary>\n",
    "\n",
    "```python\n",
    "> help(pd.Series)       (OR use the 'shift+tab' command)\n",
    "\n",
    "Series(data=None, index=None, dtype=None, name=None, copy=False, fastpath=False)\n",
    "```\n",
    "</details>"
   ]
  },
  {
   "cell_type": "markdown",
   "metadata": {},
   "source": [
    "### Question:\n",
    "\n",
    "> PLEASE, NEVER EVER EVER COPY-PASTE WHILE DOING THESE QUESTIONS. OR ITS WRITER WILL HAUNT YOU. (AKA you won't learn to code it from memory. And in three weeks you'll realize you don't know it. We've seen it time and time again. It's worth it.) Make a second window if you need to copy code verbatum. Please.\n",
    "\n",
    "> For variables you've defined or loaded use 'tab completion.' For example:\n",
    ">\n",
    ">\n",
    "> Below type 'bra' + tab and watch the remainder populate. It can be hard to remember but it REALLY HELPS.\n",
    "\n",
    "Make a series 'brag_vow' with index 'i am a numpy champ'. And values 'So Pandas here I come\".\n",
    "\n",
    "```python \n",
    "\n",
    "print(brag_vow)\n",
    "\n",
    "I            So\n",
    "am       Pandas\n",
    "a          here\n",
    "numpy         I\n",
    "champ      come\n",
    "dtype: object\n",
    "```"
   ]
  },
  {
   "cell_type": "code",
   "execution_count": 15,
   "metadata": {},
   "outputs": [
    {
     "output_type": "execute_result",
     "data": {
      "text/plain": [
       "I            So\n",
       "am       Pandas\n",
       "a          Here\n",
       "numpy         I\n",
       "champ      Come\n",
       "dtype: object"
      ]
     },
     "metadata": {},
     "execution_count": 15
    }
   ],
   "source": [
    "# write here:\n",
    "# pd.series(brag_vow)\n",
    "# Series('So Pandas here I come', 'i am numpy champ')\n",
    "brag_vow = pd.Series(data=[\"So\", \"Pandas\", \"Here\", \"I\", \"Come\"], index=[\"I\", \"am\", \"a\",  \"numpy\", \"champ\"])\n",
    "brag_vow"
   ]
  },
  {
   "cell_type": "code",
   "execution_count": null,
   "metadata": {},
   "outputs": [],
   "source": [
    "brag_vow = pd.Series(data=[\"So\", \"Pandas\", \"Here\", \"I\", \"Come\"], index=\"I\", \"am\", \"a\", \"Numpy\", \"champ\")"
   ]
  },
  {
   "cell_type": "markdown",
   "metadata": {},
   "source": [
    "<p>(Please type SOME actual answer before checking the solution. Even if you have NO IDEA. Just guess. It's good for you.)<p/>\n",
    "\n",
    "\n",
    "<details><summary>Solution\n",
    "</summary>\n",
    "\n",
    "```python\n",
    "brag_vow = pd.Series(data=[\"So\", \"Pandas\", \"here\", \"I\", \"come\"], index=[\"I\", \"am\", \"a\", \"numpy\", \"champ\"])\n",
    "brag_vow\n",
    "```\n",
    "</details>"
   ]
  },
  {
   "cell_type": "markdown",
   "metadata": {},
   "source": [
    "### Question:\n",
    "\n",
    "return the last three elements of 'brag_vow'\n",
    "\n",
    "```python \n",
    "a          here\n",
    "numpy         I\n",
    "champ      come\n",
    "dtype: object\n",
    "```"
   ]
  },
  {
   "cell_type": "code",
   "execution_count": 16,
   "metadata": {},
   "outputs": [
    {
     "output_type": "execute_result",
     "data": {
      "text/plain": [
       "a        Here\n",
       "numpy       I\n",
       "champ    Come\n",
       "dtype: object"
      ]
     },
     "metadata": {},
     "execution_count": 16
    }
   ],
   "source": [
    "brag_vow[2:]\n"
   ]
  },
  {
   "cell_type": "code",
   "execution_count": 19,
   "metadata": {},
   "outputs": [
    {
     "output_type": "execute_result",
     "data": {
      "text/plain": [
       "a        Here\n",
       "numpy       I\n",
       "champ    Come\n",
       "dtype: object"
      ]
     },
     "metadata": {},
     "execution_count": 19
    }
   ],
   "source": [
    "# write here:\n",
    "\n",
    "brag_vow[-3: ]\n",
    "brag_vow[2: ]"
   ]
  },
  {
   "cell_type": "markdown",
   "metadata": {},
   "source": [
    "<p>(Please type SOME actual answer before checking the solution. Even if you have NO IDEA. Just guess. It's good for you.)<p/>\n",
    "\n",
    "\n",
    "<details><summary>Solution\n",
    "</summary>\n",
    "\n",
    "```python\n",
    "brag_vow[2:]\n",
    "```\n",
    "</details>"
   ]
  },
  {
   "cell_type": "markdown",
   "metadata": {},
   "source": [
    "### Question:\n",
    "\n",
    "Please return the elements correlating only with index 'I a champ'. Do not use numerical index.\n",
    "\n",
    "```python \n",
    "I          So\n",
    "a        here\n",
    "champ    come\n",
    "dtype: object\n",
    "```"
   ]
  },
  {
   "cell_type": "code",
   "execution_count": null,
   "metadata": {},
   "outputs": [],
   "source": [
    "brag_vow[::]"
   ]
  },
  {
   "cell_type": "code",
   "execution_count": 123,
   "metadata": {},
   "outputs": [
    {
     "output_type": "execute_result",
     "data": {
      "text/plain": [
       "I          So\n",
       "a        Here\n",
       "champ    Come\n",
       "dtype: object"
      ]
     },
     "metadata": {},
     "execution_count": 123
    }
   ],
   "source": [
    "# write here:\n",
    "brag_vow[['I', 'a', 'champ']]"
   ]
  },
  {
   "cell_type": "markdown",
   "metadata": {},
   "source": [
    "<details><summary>Solution\n",
    "</summary>\n",
    "\n",
    "```python\n",
    "brag_vow[['I', 'a', 'champ']]\n",
    "```\n",
    "</details>"
   ]
  },
  {
   "cell_type": "markdown",
   "metadata": {},
   "source": [
    "### Question:\n",
    "\n",
    "From student_heights, please return the students with even heights. Use boolean indexing.\n",
    "\n",
    "(if you don't know what 'boolean indexing' is, please refer to the numpy assignment. You'll need it.)\n",
    "\n",
    "```python \n",
    "Tomas    34\n",
    "Stacy    36\n",
    "Haden    38\n",
    "dtype: int64\n",
    "```"
   ]
  },
  {
   "cell_type": "code",
   "execution_count": 17,
   "metadata": {},
   "outputs": [
    {
     "output_type": "execute_result",
     "data": {
      "text/plain": [
       "Tomas    34\n",
       "Stacy    36\n",
       "Haden    38\n",
       "dtype: int64"
      ]
     },
     "metadata": {},
     "execution_count": 17
    }
   ],
   "source": [
    "# write here:\n",
    "student_heights[student_heights % 2==0]\n",
    "\n"
   ]
  },
  {
   "cell_type": "markdown",
   "metadata": {},
   "source": [
    "<details><summary>Solution\n",
    "</summary>\n",
    "\n",
    "```python\n",
    "student_heights[student_heights%2==0]\n",
    "```\n",
    "</details>"
   ]
  },
  {
   "cell_type": "markdown",
   "metadata": {},
   "source": [
    "### Question:\n",
    "\n",
    "Return the 'vow' from brag_vow.\n",
    "\n",
    "```python \n",
    "array(['So', 'Pandas', 'here', 'I', 'come'], dtype=object)\n",
    "```"
   ]
  },
  {
   "cell_type": "code",
   "execution_count": 22,
   "metadata": {},
   "outputs": [
    {
     "output_type": "execute_result",
     "data": {
      "text/plain": [
       "array(['So', 'Pandas', 'Here', 'I', 'Come'], dtype=object)"
      ]
     },
     "metadata": {},
     "execution_count": 22
    }
   ],
   "source": [
    "# write here:\n",
    "brag_vow.values\n"
   ]
  },
  {
   "cell_type": "code",
   "execution_count": 18,
   "metadata": {},
   "outputs": [
    {
     "output_type": "execute_result",
     "data": {
      "text/plain": [
       "array(['So', 'Pandas', 'Here', 'I', 'Come'], dtype=object)"
      ]
     },
     "metadata": {},
     "execution_count": 18
    }
   ],
   "source": [
    "brag_vow.values"
   ]
  },
  {
   "cell_type": "markdown",
   "metadata": {},
   "source": [
    "<details><summary>Solution\n",
    "</summary>\n",
    "\n",
    "```python\n",
    "brag_vow.values\n",
    "```\n",
    "</details>"
   ]
  },
  {
   "cell_type": "markdown",
   "metadata": {},
   "source": [
    "### Question:\n",
    "\n",
    "Return the 'brag' from brag_vow.\n",
    "\n",
    "```python \n",
    "Index(['I', 'am', 'a', 'numpy', 'champ'], dtype='object')\n",
    "```"
   ]
  },
  {
   "cell_type": "code",
   "execution_count": 125,
   "metadata": {},
   "outputs": [
    {
     "output_type": "execute_result",
     "data": {
      "text/plain": [
       "Index(['I', 'am', 'a', 'numpy', 'champ'], dtype='object')"
      ]
     },
     "metadata": {},
     "execution_count": 125
    }
   ],
   "source": [
    "brag_vow.values"
   ]
  },
  {
   "cell_type": "code",
   "execution_count": 3,
   "metadata": {},
   "outputs": [
    {
     "output_type": "error",
     "ename": "NameError",
     "evalue": "name 'brag_vow' is not defined",
     "traceback": [
      "\u001b[0;31m---------------------------------------------------------------------------\u001b[0m",
      "\u001b[0;31mNameError\u001b[0m                                 Traceback (most recent call last)",
      "\u001b[0;32m<ipython-input-3-54e173806342>\u001b[0m in \u001b[0;36m<module>\u001b[0;34m\u001b[0m\n\u001b[1;32m      1\u001b[0m \u001b[0;31m# write here:\u001b[0m\u001b[0;34m\u001b[0m\u001b[0;34m\u001b[0m\u001b[0;34m\u001b[0m\u001b[0m\n\u001b[0;32m----> 2\u001b[0;31m \u001b[0mbrag_vow\u001b[0m\u001b[0;34m.\u001b[0m\u001b[0mindex\u001b[0m\u001b[0;34m\u001b[0m\u001b[0;34m\u001b[0m\u001b[0m\n\u001b[0m",
      "\u001b[0;31mNameError\u001b[0m: name 'brag_vow' is not defined"
     ]
    }
   ],
   "source": [
    "# write here:\n",
    "brag_vow.index\n"
   ]
  },
  {
   "cell_type": "markdown",
   "metadata": {},
   "source": [
    "<details><summary>Solution\n",
    "</summary>\n",
    "\n",
    "```python\n",
    "brag_vow.index\n",
    "```\n",
    "</details>"
   ]
  },
  {
   "cell_type": "markdown",
   "metadata": {},
   "source": [
    "# Series names"
   ]
  },
  {
   "cell_type": "markdown",
   "metadata": {},
   "source": [
    "Series have something called 'names'"
   ]
  },
  {
   "cell_type": "code",
   "execution_count": 20,
   "metadata": {},
   "outputs": [],
   "source": [
    "student_grades = pd.Series([45,56,78,89,90], \n",
    "                           index=['Tomas', 'Angel', 'Stacy', 'Michaela', 'Haden'], \n",
    "                           name='grades')"
   ]
  },
  {
   "cell_type": "code",
   "execution_count": 25,
   "metadata": {},
   "outputs": [
    {
     "output_type": "execute_result",
     "data": {
      "text/plain": [
       "Tomas       45\n",
       "Angel       56\n",
       "Stacy       78\n",
       "Michaela    89\n",
       "Haden       90\n",
       "Name: grades, dtype: int64"
      ]
     },
     "metadata": {},
     "execution_count": 25
    }
   ],
   "source": [
    "student_grades"
   ]
  },
  {
   "cell_type": "markdown",
   "metadata": {},
   "source": [
    "See the name there? Great."
   ]
  },
  {
   "cell_type": "markdown",
   "metadata": {},
   "source": [
    "That's all. We'll use it later."
   ]
  },
  {
   "cell_type": "markdown",
   "metadata": {},
   "source": [
    "### Creating DataFrames from Python Objects"
   ]
  },
  {
   "cell_type": "markdown",
   "metadata": {},
   "source": [
    "So we know how to use series. Awesome.\n",
    "\n",
    "But perhaps you noticed we have two series: student_heights and student_grades. Each has the same students in the index. Wouldn't it be cool if we could access all the student data at once?\n",
    "\n",
    "To do this, we use a dataframe."
   ]
  },
  {
   "cell_type": "code",
   "execution_count": 21,
   "metadata": {},
   "outputs": [
    {
     "output_type": "execute_result",
     "data": {
      "text/plain": [
       "          grade  height\n",
       "Tomas        45      34\n",
       "Angel        56      35\n",
       "Stacy        78      36\n",
       "Michaela     89      37\n",
       "Haden        90      38"
      ],
      "text/html": "<div>\n<style scoped>\n    .dataframe tbody tr th:only-of-type {\n        vertical-align: middle;\n    }\n\n    .dataframe tbody tr th {\n        vertical-align: top;\n    }\n\n    .dataframe thead th {\n        text-align: right;\n    }\n</style>\n<table border=\"1\" class=\"dataframe\">\n  <thead>\n    <tr style=\"text-align: right;\">\n      <th></th>\n      <th>grade</th>\n      <th>height</th>\n    </tr>\n  </thead>\n  <tbody>\n    <tr>\n      <th>Tomas</th>\n      <td>45</td>\n      <td>34</td>\n    </tr>\n    <tr>\n      <th>Angel</th>\n      <td>56</td>\n      <td>35</td>\n    </tr>\n    <tr>\n      <th>Stacy</th>\n      <td>78</td>\n      <td>36</td>\n    </tr>\n    <tr>\n      <th>Michaela</th>\n      <td>89</td>\n      <td>37</td>\n    </tr>\n    <tr>\n      <th>Haden</th>\n      <td>90</td>\n      <td>38</td>\n    </tr>\n  </tbody>\n</table>\n</div>"
     },
     "metadata": {},
     "execution_count": 21
    }
   ],
   "source": [
    "students = pd.DataFrame({'grade':student_grades, 'height':student_heights})\n",
    "students"
   ]
  },
  {
   "cell_type": "markdown",
   "metadata": {},
   "source": [
    "There are AT LEAST two ways to think of a dataframe.\n",
    "\n",
    "One is as a mulitple series with matching index. The other is as a numpy array with explicitly labeled columns and rows.\n",
    "\n",
    "The truth is, they're BOTH."
   ]
  },
  {
   "cell_type": "code",
   "execution_count": 27,
   "metadata": {},
   "outputs": [
    {
     "output_type": "execute_result",
     "data": {
      "text/plain": [
       "array([[45, 34],\n",
       "       [56, 35],\n",
       "       [78, 36],\n",
       "       [89, 37],\n",
       "       [90, 38]])"
      ]
     },
     "metadata": {},
     "execution_count": 27
    }
   ],
   "source": [
    "# numpy array:\n",
    "students.values"
   ]
  },
  {
   "cell_type": "code",
   "execution_count": 28,
   "metadata": {},
   "outputs": [
    {
     "output_type": "execute_result",
     "data": {
      "text/plain": [
       "Tomas       45\n",
       "Angel       56\n",
       "Stacy       78\n",
       "Michaela    89\n",
       "Haden       90\n",
       "Name: grade, dtype: int64"
      ]
     },
     "metadata": {},
     "execution_count": 28
    }
   ],
   "source": [
    "# pandas series:\n",
    "students['grade']"
   ]
  },
  {
   "cell_type": "markdown",
   "metadata": {},
   "source": [
    "We could also create DataFrames from numpy arrays or list-of-lists with provided labels and indices. The `columns=` parameter specifies the names for the columns; the `index=` specifies the names for the rows."
   ]
  },
  {
   "cell_type": "code",
   "execution_count": 29,
   "metadata": {
    "scrolled": true
   },
   "outputs": [
    {
     "output_type": "execute_result",
     "data": {
      "text/plain": [
       "     a  b  c\n",
       "foo  1  2  3\n",
       "bar  4  5  6"
      ],
      "text/html": "<div>\n<style scoped>\n    .dataframe tbody tr th:only-of-type {\n        vertical-align: middle;\n    }\n\n    .dataframe tbody tr th {\n        vertical-align: top;\n    }\n\n    .dataframe thead th {\n        text-align: right;\n    }\n</style>\n<table border=\"1\" class=\"dataframe\">\n  <thead>\n    <tr style=\"text-align: right;\">\n      <th></th>\n      <th>a</th>\n      <th>b</th>\n      <th>c</th>\n    </tr>\n  </thead>\n  <tbody>\n    <tr>\n      <th>foo</th>\n      <td>1</td>\n      <td>2</td>\n      <td>3</td>\n    </tr>\n    <tr>\n      <th>bar</th>\n      <td>4</td>\n      <td>5</td>\n      <td>6</td>\n    </tr>\n  </tbody>\n</table>\n</div>"
     },
     "metadata": {},
     "execution_count": 29
    }
   ],
   "source": [
    "pd.DataFrame(\n",
    "    data = [[1, 2, 3], \n",
    "            [4, 5, 6]], \n",
    "    columns=['a', 'b', 'c'], \n",
    "    index=['foo', 'bar'])"
   ]
  },
  {
   "cell_type": "markdown",
   "metadata": {},
   "source": [
    "You might notice in pandas that, unlike python, there are MANY ways to do any one thing. This makes learning harder. But here we go anyways."
   ]
  },
  {
   "cell_type": "markdown",
   "metadata": {},
   "source": [
    "### Question:\n",
    "\n",
    "Make a dataframe 'classrooms' that contains this\n",
    "\n",
    "```python \n",
    "> print(classrooms)\n",
    "\n",
    "         chairs  projectors\n",
    "gym           0           1\n",
    "history       2           3\n",
    "math          4           5\n",
    "english       6           7\n",
    "```"
   ]
  },
  {
   "cell_type": "code",
   "execution_count": 30,
   "metadata": {},
   "outputs": [
    {
     "output_type": "execute_result",
     "data": {
      "text/plain": [
       "         chairs  projectors\n",
       "gym           0           1\n",
       "history       2           3\n",
       "math          4           5\n",
       "english       6           7"
      ],
      "text/html": "<div>\n<style scoped>\n    .dataframe tbody tr th:only-of-type {\n        vertical-align: middle;\n    }\n\n    .dataframe tbody tr th {\n        vertical-align: top;\n    }\n\n    .dataframe thead th {\n        text-align: right;\n    }\n</style>\n<table border=\"1\" class=\"dataframe\">\n  <thead>\n    <tr style=\"text-align: right;\">\n      <th></th>\n      <th>chairs</th>\n      <th>projectors</th>\n    </tr>\n  </thead>\n  <tbody>\n    <tr>\n      <th>gym</th>\n      <td>0</td>\n      <td>1</td>\n    </tr>\n    <tr>\n      <th>history</th>\n      <td>2</td>\n      <td>3</td>\n    </tr>\n    <tr>\n      <th>math</th>\n      <td>4</td>\n      <td>5</td>\n    </tr>\n    <tr>\n      <th>english</th>\n      <td>6</td>\n      <td>7</td>\n    </tr>\n  </tbody>\n</table>\n</div>"
     },
     "metadata": {},
     "execution_count": 30
    }
   ],
   "source": [
    "# write here:\n",
    "classrooms = pd.DataFrame(\n",
    "    data = [[0,1], [2,3], [4,5], [6,7]],\n",
    "    columns=['chairs', 'projectors'],\n",
    "    index = ['gym','history','math', 'english' ]\n",
    ")\n",
    "\n",
    "classrooms"
   ]
  },
  {
   "cell_type": "markdown",
   "metadata": {},
   "source": [
    "<details><summary>Solution\n",
    "</summary>\n",
    "\n",
    "```python\n",
    "classrooms = pd.DataFrame(data=np.arange(8).reshape((4,2)),\n",
    "                          columns=['chairs', 'projectors'],\n",
    "                          index=['gym','history','math','english'])\n",
    "\n",
    "# or\n",
    "\n",
    "classrooms = pd.DataFrame(data=np.array([[0, 1],\n",
    "                                         [2, 3],\n",
    "                                         [4, 5],\n",
    "                                         [6, 7]]),\n",
    "                          columns=['chairs', 'projectors'],\n",
    "                          index=['gym','history','math','english'])\n",
    "```\n",
    "</details>"
   ]
  },
  {
   "cell_type": "markdown",
   "metadata": {},
   "source": [
    "### Question:\n",
    "\n",
    "Make a series 'chairs' like so. \n",
    "\n",
    "```python \n",
    "gym        0\n",
    "history    2\n",
    "math       4\n",
    "english    6\n",
    "Name: chairs, dtype: int64\n",
    "```"
   ]
  },
  {
   "cell_type": "code",
   "execution_count": 31,
   "metadata": {},
   "outputs": [
    {
     "output_type": "execute_result",
     "data": {
      "text/plain": [
       "gym        0\n",
       "history    2\n",
       "math       4\n",
       "english    6\n",
       "dtype: int64"
      ]
     },
     "metadata": {},
     "execution_count": 31
    }
   ],
   "source": [
    "# write here:\n",
    "chairs = pd.Series({'gym': 0,'history': 2,'math': 4, 'english': 6 })\n",
    "chairs"
   ]
  },
  {
   "cell_type": "markdown",
   "metadata": {},
   "source": [
    "<details><summary>Solution\n",
    "</summary>\n",
    "\n",
    "```python\n",
    "chairs = pd.Series(data=range(0,8,2), index=['gym','history','math','english'], name='chairs')\n",
    "chairs\n",
    "```\n",
    "</details>"
   ]
  },
  {
   "cell_type": "markdown",
   "metadata": {},
   "source": [
    "### Question:\n",
    "\n",
    "Make a series 'projectors' like so. \n",
    "\n",
    "```python \n",
    "gym        1\n",
    "history    3\n",
    "math       5\n",
    "english    7\n",
    "Name: projectors, dtype: int64\n",
    "```"
   ]
  },
  {
   "cell_type": "code",
   "execution_count": 32,
   "metadata": {},
   "outputs": [
    {
     "output_type": "execute_result",
     "data": {
      "text/plain": [
       "gym        1\n",
       "history    3\n",
       "math       5\n",
       "english    7\n",
       "dtype: int64"
      ]
     },
     "metadata": {},
     "execution_count": 32
    }
   ],
   "source": [
    "# write here:\n",
    "projectors = pd.Series(data =range(1,8,2), index = ['gym','history','math', 'english' ]\n",
    ")\n",
    "\n",
    "projectors"
   ]
  },
  {
   "cell_type": "markdown",
   "metadata": {},
   "source": [
    "<details><summary>Solution\n",
    "</summary>\n",
    "\n",
    "```python\n",
    "projectors = pd.Series(data=range(1,8,2), index=['gym','history','math','english'], name='projectors')\n",
    "projectors\n",
    "```\n",
    "</details>"
   ]
  },
  {
   "cell_type": "markdown",
   "metadata": {},
   "source": [
    "### Question:\n",
    "\n",
    "Make the 'classrooms' dataframe again, but this time by using the 'chairs' and 'projectors' series.\n",
    "\n",
    "```python \n",
    "> print(classrooms)\n",
    "\n",
    "         chairs  projectors\n",
    "gym           0           1\n",
    "history       2           3\n",
    "math          4           5\n",
    "english       6           7\n",
    "```"
   ]
  },
  {
   "cell_type": "code",
   "execution_count": 33,
   "metadata": {},
   "outputs": [
    {
     "output_type": "execute_result",
     "data": {
      "text/plain": [
       "         chairs  projectors\n",
       "gym           0           1\n",
       "history       2           3\n",
       "math          4           5\n",
       "english       6           7"
      ],
      "text/html": "<div>\n<style scoped>\n    .dataframe tbody tr th:only-of-type {\n        vertical-align: middle;\n    }\n\n    .dataframe tbody tr th {\n        vertical-align: top;\n    }\n\n    .dataframe thead th {\n        text-align: right;\n    }\n</style>\n<table border=\"1\" class=\"dataframe\">\n  <thead>\n    <tr style=\"text-align: right;\">\n      <th></th>\n      <th>chairs</th>\n      <th>projectors</th>\n    </tr>\n  </thead>\n  <tbody>\n    <tr>\n      <th>gym</th>\n      <td>0</td>\n      <td>1</td>\n    </tr>\n    <tr>\n      <th>history</th>\n      <td>2</td>\n      <td>3</td>\n    </tr>\n    <tr>\n      <th>math</th>\n      <td>4</td>\n      <td>5</td>\n    </tr>\n    <tr>\n      <th>english</th>\n      <td>6</td>\n      <td>7</td>\n    </tr>\n  </tbody>\n</table>\n</div>"
     },
     "metadata": {},
     "execution_count": 33
    }
   ],
   "source": [
    "# write here:\n",
    "classroom = pd.DataFrame({'chairs': chairs, 'projectors':projectors})\n",
    "classroom\n",
    "\n"
   ]
  },
  {
   "cell_type": "markdown",
   "metadata": {},
   "source": [
    "<details><summary>Solution\n",
    "</summary>\n",
    "\n",
    "```python\n",
    "classrooms = pd.DataFrame(data={'chairs':chairs, 'projectors':projectors})\n",
    "classrooms\n",
    "```\n",
    "</details>"
   ]
  },
  {
   "cell_type": "markdown",
   "metadata": {},
   "source": [
    "### Question:\n",
    "\n",
    "Create a dataframe 'down_up' with two columns: `decreasing` and `increasing`, that have the numbers 1-10 in increasing and decreasing orders. The index can be anything.\n",
    "\n",
    "```python\n",
    "> print(down_up)\n",
    "\n",
    "   decreasing  increasing\n",
    "0          10           1\n",
    "1           9           2\n",
    "2           8           3\n",
    "3           7           4\n",
    "4           6           5\n",
    "5           5           6\n",
    "6           4           7\n",
    "7           3           8\n",
    "8           2           9\n",
    "9           1          10\n",
    "```"
   ]
  },
  {
   "cell_type": "code",
   "execution_count": 34,
   "metadata": {},
   "outputs": [
    {
     "output_type": "execute_result",
     "data": {
      "text/plain": [
       "   Down  Up\n",
       "0    10   1\n",
       "1     9   2\n",
       "2     8   3\n",
       "3     7   4\n",
       "4     9   5\n",
       "5     5   6\n",
       "6     4   7\n",
       "7     3   8\n",
       "8     2   9\n",
       "9     1  10"
      ],
      "text/html": "<div>\n<style scoped>\n    .dataframe tbody tr th:only-of-type {\n        vertical-align: middle;\n    }\n\n    .dataframe tbody tr th {\n        vertical-align: top;\n    }\n\n    .dataframe thead th {\n        text-align: right;\n    }\n</style>\n<table border=\"1\" class=\"dataframe\">\n  <thead>\n    <tr style=\"text-align: right;\">\n      <th></th>\n      <th>Down</th>\n      <th>Up</th>\n    </tr>\n  </thead>\n  <tbody>\n    <tr>\n      <th>0</th>\n      <td>10</td>\n      <td>1</td>\n    </tr>\n    <tr>\n      <th>1</th>\n      <td>9</td>\n      <td>2</td>\n    </tr>\n    <tr>\n      <th>2</th>\n      <td>8</td>\n      <td>3</td>\n    </tr>\n    <tr>\n      <th>3</th>\n      <td>7</td>\n      <td>4</td>\n    </tr>\n    <tr>\n      <th>4</th>\n      <td>9</td>\n      <td>5</td>\n    </tr>\n    <tr>\n      <th>5</th>\n      <td>5</td>\n      <td>6</td>\n    </tr>\n    <tr>\n      <th>6</th>\n      <td>4</td>\n      <td>7</td>\n    </tr>\n    <tr>\n      <th>7</th>\n      <td>3</td>\n      <td>8</td>\n    </tr>\n    <tr>\n      <th>8</th>\n      <td>2</td>\n      <td>9</td>\n    </tr>\n    <tr>\n      <th>9</th>\n      <td>1</td>\n      <td>10</td>\n    </tr>\n  </tbody>\n</table>\n</div>"
     },
     "metadata": {},
     "execution_count": 34
    }
   ],
   "source": [
    "# write here:\n",
    "nums = range(10)\n",
    "\n",
    "down_up = pd.DataFrame(data =[[10,1],[9,2],[8,3],[7,4],[9,5], [5,6],[4,7],[3,8],[2,9], [1,10]], columns=['Down', 'Up'])\n",
    "\n",
    "down_up\n",
    " \n"
   ]
  },
  {
   "cell_type": "markdown",
   "metadata": {},
   "source": [
    "<details><summary>Solution\n",
    "</summary>\n",
    "\n",
    "```python\n",
    "down_up = pd.DataFrame(data={'decreasing': range(10,0,-1), 'increasing':range(1,11)})\n",
    "down_up\n",
    "```\n",
    "Those ranges are tricky aren't they?\n",
    "</details>"
   ]
  },
  {
   "cell_type": "markdown",
   "metadata": {},
   "source": [
    "You can also put a Series into a DataFrame as long as you have matching index."
   ]
  },
  {
   "cell_type": "markdown",
   "metadata": {},
   "source": [
    "## Modifying dataframes"
   ]
  },
  {
   "cell_type": "markdown",
   "metadata": {},
   "source": [
    "Dataframes are VERY much like numpy arrays with added columns and index.\n",
    "\n",
    "But unlike arrays (which have a fixed size), we CAN add columns to a dataframe!"
   ]
  },
  {
   "cell_type": "code",
   "execution_count": 35,
   "metadata": {
    "scrolled": true
   },
   "outputs": [
    {
     "output_type": "execute_result",
     "data": {
      "text/plain": [
       "          grade  height  was_late\n",
       "Tomas        45      34      True\n",
       "Angel        56      35     False\n",
       "Stacy        78      36      True\n",
       "Michaela     89      37     False\n",
       "Haden        90      38     False"
      ],
      "text/html": "<div>\n<style scoped>\n    .dataframe tbody tr th:only-of-type {\n        vertical-align: middle;\n    }\n\n    .dataframe tbody tr th {\n        vertical-align: top;\n    }\n\n    .dataframe thead th {\n        text-align: right;\n    }\n</style>\n<table border=\"1\" class=\"dataframe\">\n  <thead>\n    <tr style=\"text-align: right;\">\n      <th></th>\n      <th>grade</th>\n      <th>height</th>\n      <th>was_late</th>\n    </tr>\n  </thead>\n  <tbody>\n    <tr>\n      <th>Tomas</th>\n      <td>45</td>\n      <td>34</td>\n      <td>True</td>\n    </tr>\n    <tr>\n      <th>Angel</th>\n      <td>56</td>\n      <td>35</td>\n      <td>False</td>\n    </tr>\n    <tr>\n      <th>Stacy</th>\n      <td>78</td>\n      <td>36</td>\n      <td>True</td>\n    </tr>\n    <tr>\n      <th>Michaela</th>\n      <td>89</td>\n      <td>37</td>\n      <td>False</td>\n    </tr>\n    <tr>\n      <th>Haden</th>\n      <td>90</td>\n      <td>38</td>\n      <td>False</td>\n    </tr>\n  </tbody>\n</table>\n</div>"
     },
     "metadata": {},
     "execution_count": 35
    }
   ],
   "source": [
    "students['was_late'] = [True, False, True, False, False]\n",
    "students"
   ]
  },
  {
   "cell_type": "markdown",
   "metadata": {},
   "source": [
    "We can also do this by adding an array."
   ]
  },
  {
   "cell_type": "code",
   "execution_count": 36,
   "metadata": {},
   "outputs": [
    {
     "output_type": "execute_result",
     "data": {
      "text/plain": [
       "          grade  height  was_late\n",
       "Tomas        45      34      True\n",
       "Angel        56      35     False\n",
       "Stacy        78      36      True\n",
       "Michaela     89      37     False\n",
       "Haden        90      38     False"
      ],
      "text/html": "<div>\n<style scoped>\n    .dataframe tbody tr th:only-of-type {\n        vertical-align: middle;\n    }\n\n    .dataframe tbody tr th {\n        vertical-align: top;\n    }\n\n    .dataframe thead th {\n        text-align: right;\n    }\n</style>\n<table border=\"1\" class=\"dataframe\">\n  <thead>\n    <tr style=\"text-align: right;\">\n      <th></th>\n      <th>grade</th>\n      <th>height</th>\n      <th>was_late</th>\n    </tr>\n  </thead>\n  <tbody>\n    <tr>\n      <th>Tomas</th>\n      <td>45</td>\n      <td>34</td>\n      <td>True</td>\n    </tr>\n    <tr>\n      <th>Angel</th>\n      <td>56</td>\n      <td>35</td>\n      <td>False</td>\n    </tr>\n    <tr>\n      <th>Stacy</th>\n      <td>78</td>\n      <td>36</td>\n      <td>True</td>\n    </tr>\n    <tr>\n      <th>Michaela</th>\n      <td>89</td>\n      <td>37</td>\n      <td>False</td>\n    </tr>\n    <tr>\n      <th>Haden</th>\n      <td>90</td>\n      <td>38</td>\n      <td>False</td>\n    </tr>\n  </tbody>\n</table>\n</div>"
     },
     "metadata": {},
     "execution_count": 36
    }
   ],
   "source": [
    "students['was_late'] = np.array([True, False, True, False, False])\n",
    "students"
   ]
  },
  {
   "cell_type": "markdown",
   "metadata": {},
   "source": [
    "But the array must either have a shape of (n, ) or (1, n). Not (n, 1). Which kinda makes sense, because that's trying to fit row into a column."
   ]
  },
  {
   "cell_type": "code",
   "execution_count": 37,
   "metadata": {},
   "outputs": [
    {
     "output_type": "execute_result",
     "data": {
      "text/plain": [
       "          grade  height  was_late\n",
       "Tomas        45      34      True\n",
       "Angel        56      35     False\n",
       "Stacy        78      36      True\n",
       "Michaela     89      37     False\n",
       "Haden        90      38     False"
      ],
      "text/html": "<div>\n<style scoped>\n    .dataframe tbody tr th:only-of-type {\n        vertical-align: middle;\n    }\n\n    .dataframe tbody tr th {\n        vertical-align: top;\n    }\n\n    .dataframe thead th {\n        text-align: right;\n    }\n</style>\n<table border=\"1\" class=\"dataframe\">\n  <thead>\n    <tr style=\"text-align: right;\">\n      <th></th>\n      <th>grade</th>\n      <th>height</th>\n      <th>was_late</th>\n    </tr>\n  </thead>\n  <tbody>\n    <tr>\n      <th>Tomas</th>\n      <td>45</td>\n      <td>34</td>\n      <td>True</td>\n    </tr>\n    <tr>\n      <th>Angel</th>\n      <td>56</td>\n      <td>35</td>\n      <td>False</td>\n    </tr>\n    <tr>\n      <th>Stacy</th>\n      <td>78</td>\n      <td>36</td>\n      <td>True</td>\n    </tr>\n    <tr>\n      <th>Michaela</th>\n      <td>89</td>\n      <td>37</td>\n      <td>False</td>\n    </tr>\n    <tr>\n      <th>Haden</th>\n      <td>90</td>\n      <td>38</td>\n      <td>False</td>\n    </tr>\n  </tbody>\n</table>\n</div>"
     },
     "metadata": {},
     "execution_count": 37
    }
   ],
   "source": [
    "students['was_late'] = np.array([True, False, True, False, False]).reshape(-1,1)\n",
    "students"
   ]
  },
  {
   "cell_type": "markdown",
   "metadata": {},
   "source": [
    "```python\n",
    "# this would return an error:\n",
    "students['was_late'] = np.array([True, False, True, False, False]).reshape(1,-1)\n",
    "students\n",
    "```"
   ]
  },
  {
   "cell_type": "markdown",
   "metadata": {},
   "source": [
    "So let's get going."
   ]
  },
  {
   "cell_type": "markdown",
   "metadata": {},
   "source": [
    "### Question:\n",
    "\n",
    "Add a column 'top_crush' to 'students'. Which is the name that student has a crush on. (make it up!)\n",
    "\n",
    "```python\n",
    "> print(students)\n",
    "\n",
    "          grade  height  was_late     top_crush\n",
    "Tomas        45      34      True         Angel\n",
    "Angel        56      35     False         Haden\n",
    "Stacy        78      36      True      Michaela\n",
    "Michaela     89      37     False         Tomas\n",
    "Haden        90      38     False  Edgar A. Poe\n",
    "```"
   ]
  },
  {
   "cell_type": "code",
   "execution_count": 38,
   "metadata": {},
   "outputs": [
    {
     "output_type": "stream",
     "name": "stdout",
     "text": [
      "          grade  height  was_late     top_crush\nTomas        45      34      True         Angel\nAngel        56      35     False         Haden\nStacy        78      36      True      Michaela\nMichaela     89      37     False         Tomas\nHaden        90      38     False  Edgar A. Poe\n"
     ]
    }
   ],
   "source": [
    "# write here:\n",
    "\n",
    "students['top_crush'] = np.array(['Angel', 'Haden', 'Michaela', 'Tomas', 'Edgar A. Poe']).reshape(-1,1)\n"
   ]
  },
  {
   "cell_type": "markdown",
   "metadata": {},
   "source": [
    "<details><summary>Solution\n",
    "</summary>\n",
    "\n",
    "```python\n",
    "students['top_crush'] = ['Angel', 'Haden', 'Michaela', 'Tomas', 'Edgar A. Poe']\n",
    "print(students)\n",
    "```\n",
    "\n",
    "Alas, love is cruel.\n",
    "</details>"
   ]
  },
  {
   "cell_type": "markdown",
   "metadata": {},
   "source": [
    "## Broadcasting"
   ]
  },
  {
   "cell_type": "markdown",
   "metadata": {},
   "source": [
    "Again, like a numpy array, we can also use broadcasting on a series. Like so."
   ]
  },
  {
   "cell_type": "code",
   "execution_count": 39,
   "metadata": {},
   "outputs": [
    {
     "output_type": "execute_result",
     "data": {
      "text/plain": [
       "Tomas       False\n",
       "Angel       False\n",
       "Stacy        True\n",
       "Michaela     True\n",
       "Haden        True\n",
       "Name: grade, dtype: bool"
      ]
     },
     "metadata": {},
     "execution_count": 39
    }
   ],
   "source": [
    "students['grade']>75"
   ]
  },
  {
   "cell_type": "markdown",
   "metadata": {},
   "source": [
    "So to make a new column called 'above_75_percent' we would write"
   ]
  },
  {
   "cell_type": "code",
   "execution_count": 40,
   "metadata": {},
   "outputs": [
    {
     "output_type": "execute_result",
     "data": {
      "text/plain": [
       "          grade  height  was_late     top_crush  above_75_percent\n",
       "Tomas        45      34      True         Angel             False\n",
       "Angel        56      35     False         Haden             False\n",
       "Stacy        78      36      True      Michaela              True\n",
       "Michaela     89      37     False         Tomas              True\n",
       "Haden        90      38     False  Edgar A. Poe              True"
      ],
      "text/html": "<div>\n<style scoped>\n    .dataframe tbody tr th:only-of-type {\n        vertical-align: middle;\n    }\n\n    .dataframe tbody tr th {\n        vertical-align: top;\n    }\n\n    .dataframe thead th {\n        text-align: right;\n    }\n</style>\n<table border=\"1\" class=\"dataframe\">\n  <thead>\n    <tr style=\"text-align: right;\">\n      <th></th>\n      <th>grade</th>\n      <th>height</th>\n      <th>was_late</th>\n      <th>top_crush</th>\n      <th>above_75_percent</th>\n    </tr>\n  </thead>\n  <tbody>\n    <tr>\n      <th>Tomas</th>\n      <td>45</td>\n      <td>34</td>\n      <td>True</td>\n      <td>Angel</td>\n      <td>False</td>\n    </tr>\n    <tr>\n      <th>Angel</th>\n      <td>56</td>\n      <td>35</td>\n      <td>False</td>\n      <td>Haden</td>\n      <td>False</td>\n    </tr>\n    <tr>\n      <th>Stacy</th>\n      <td>78</td>\n      <td>36</td>\n      <td>True</td>\n      <td>Michaela</td>\n      <td>True</td>\n    </tr>\n    <tr>\n      <th>Michaela</th>\n      <td>89</td>\n      <td>37</td>\n      <td>False</td>\n      <td>Tomas</td>\n      <td>True</td>\n    </tr>\n    <tr>\n      <th>Haden</th>\n      <td>90</td>\n      <td>38</td>\n      <td>False</td>\n      <td>Edgar A. Poe</td>\n      <td>True</td>\n    </tr>\n  </tbody>\n</table>\n</div>"
     },
     "metadata": {},
     "execution_count": 40
    }
   ],
   "source": [
    "students['above_75_percent'] = students['grade']>75\n",
    "students"
   ]
  },
  {
   "cell_type": "markdown",
   "metadata": {},
   "source": [
    "This is powerful. You might not feel it yet. But it is."
   ]
  },
  {
   "cell_type": "markdown",
   "metadata": {},
   "source": [
    "### Question:\n",
    "\n",
    "Add a column 'taller_than_35' to students. This can be done using broadcasting on an existing series.\n",
    "\n",
    "```python\n",
    "> print(students[['grade', 'height', 'taller_than_35']])\n",
    "\n",
    "          grade  height  taller_than_35\n",
    "Tomas        45      34           False\n",
    "Angel        56      35           False\n",
    "Stacy        78      36            True\n",
    "Michaela     89      37            True\n",
    "Haden        90      38            True\n",
    "```"
   ]
  },
  {
   "cell_type": "code",
   "execution_count": 41,
   "metadata": {},
   "outputs": [
    {
     "output_type": "execute_result",
     "data": {
      "text/plain": [
       "          grade  height  was_late     top_crush  above_75_percent  \\\n",
       "Tomas        45      34      True         Angel             False   \n",
       "Angel        56      35     False         Haden             False   \n",
       "Stacy        78      36      True      Michaela              True   \n",
       "Michaela     89      37     False         Tomas              True   \n",
       "Haden        90      38     False  Edgar A. Poe              True   \n",
       "\n",
       "          taller_than_35  \n",
       "Tomas              False  \n",
       "Angel              False  \n",
       "Stacy               True  \n",
       "Michaela            True  \n",
       "Haden               True  "
      ],
      "text/html": "<div>\n<style scoped>\n    .dataframe tbody tr th:only-of-type {\n        vertical-align: middle;\n    }\n\n    .dataframe tbody tr th {\n        vertical-align: top;\n    }\n\n    .dataframe thead th {\n        text-align: right;\n    }\n</style>\n<table border=\"1\" class=\"dataframe\">\n  <thead>\n    <tr style=\"text-align: right;\">\n      <th></th>\n      <th>grade</th>\n      <th>height</th>\n      <th>was_late</th>\n      <th>top_crush</th>\n      <th>above_75_percent</th>\n      <th>taller_than_35</th>\n    </tr>\n  </thead>\n  <tbody>\n    <tr>\n      <th>Tomas</th>\n      <td>45</td>\n      <td>34</td>\n      <td>True</td>\n      <td>Angel</td>\n      <td>False</td>\n      <td>False</td>\n    </tr>\n    <tr>\n      <th>Angel</th>\n      <td>56</td>\n      <td>35</td>\n      <td>False</td>\n      <td>Haden</td>\n      <td>False</td>\n      <td>False</td>\n    </tr>\n    <tr>\n      <th>Stacy</th>\n      <td>78</td>\n      <td>36</td>\n      <td>True</td>\n      <td>Michaela</td>\n      <td>True</td>\n      <td>True</td>\n    </tr>\n    <tr>\n      <th>Michaela</th>\n      <td>89</td>\n      <td>37</td>\n      <td>False</td>\n      <td>Tomas</td>\n      <td>True</td>\n      <td>True</td>\n    </tr>\n    <tr>\n      <th>Haden</th>\n      <td>90</td>\n      <td>38</td>\n      <td>False</td>\n      <td>Edgar A. Poe</td>\n      <td>True</td>\n      <td>True</td>\n    </tr>\n  </tbody>\n</table>\n</div>"
     },
     "metadata": {},
     "execution_count": 41
    }
   ],
   "source": [
    "# write here:\n",
    "\n",
    "students['taller_than_35']= students['height'] > 35\n",
    "students"
   ]
  },
  {
   "cell_type": "markdown",
   "metadata": {},
   "source": [
    "<details><summary>Solution\n",
    "</summary>\n",
    "\n",
    "```python\n",
    "students['taller_than_35'] = students['height']>35\n",
    "print(students[['grade', 'height', 'taller_than_35']])\n",
    "```\n",
    "</details>"
   ]
  },
  {
   "cell_type": "markdown",
   "metadata": {},
   "source": [
    "But buyer beware. The elements in the assignment above are matched **by index**, which is a common pattern in Pandas."
   ]
  },
  {
   "cell_type": "markdown",
   "metadata": {},
   "source": [
    "## Index tricks"
   ]
  },
  {
   "cell_type": "markdown",
   "metadata": {},
   "source": [
    "Let's take a deeper look at this."
   ]
  },
  {
   "cell_type": "code",
   "execution_count": 25,
   "metadata": {},
   "outputs": [
    {
     "output_type": "execute_result",
     "data": {
      "text/plain": [
       "     a  b  c\n",
       "foo  1  2  3\n",
       "bar  4  5  6"
      ],
      "text/html": "<div>\n<style scoped>\n    .dataframe tbody tr th:only-of-type {\n        vertical-align: middle;\n    }\n\n    .dataframe tbody tr th {\n        vertical-align: top;\n    }\n\n    .dataframe thead th {\n        text-align: right;\n    }\n</style>\n<table border=\"1\" class=\"dataframe\">\n  <thead>\n    <tr style=\"text-align: right;\">\n      <th></th>\n      <th>a</th>\n      <th>b</th>\n      <th>c</th>\n    </tr>\n  </thead>\n  <tbody>\n    <tr>\n      <th>foo</th>\n      <td>1</td>\n      <td>2</td>\n      <td>3</td>\n    </tr>\n    <tr>\n      <th>bar</th>\n      <td>4</td>\n      <td>5</td>\n      <td>6</td>\n    </tr>\n  </tbody>\n</table>\n</div>"
     },
     "metadata": {},
     "execution_count": 25
    }
   ],
   "source": [
    "df = pd.DataFrame(\n",
    "    [[1, 2, 3], [4, 5, 6]], \n",
    "    columns=['a', 'b', 'c'], \n",
    "    index=['foo', 'bar'])\n",
    "df"
   ]
  },
  {
   "cell_type": "code",
   "execution_count": 43,
   "metadata": {},
   "outputs": [
    {
     "output_type": "execute_result",
     "data": {
      "text/plain": [
       "     a  b  c  d\n",
       "foo  1  2  3  5\n",
       "bar  4  5  6  4"
      ],
      "text/html": "<div>\n<style scoped>\n    .dataframe tbody tr th:only-of-type {\n        vertical-align: middle;\n    }\n\n    .dataframe tbody tr th {\n        vertical-align: top;\n    }\n\n    .dataframe thead th {\n        text-align: right;\n    }\n</style>\n<table border=\"1\" class=\"dataframe\">\n  <thead>\n    <tr style=\"text-align: right;\">\n      <th></th>\n      <th>a</th>\n      <th>b</th>\n      <th>c</th>\n      <th>d</th>\n    </tr>\n  </thead>\n  <tbody>\n    <tr>\n      <th>foo</th>\n      <td>1</td>\n      <td>2</td>\n      <td>3</td>\n      <td>5</td>\n    </tr>\n    <tr>\n      <th>bar</th>\n      <td>4</td>\n      <td>5</td>\n      <td>6</td>\n      <td>4</td>\n    </tr>\n  </tbody>\n</table>\n</div>"
     },
     "metadata": {},
     "execution_count": 43
    }
   ],
   "source": [
    "# INDEX IS BACKWARDS\n",
    "df['d'] = pd.Series([4, 5], index=['bar', 'foo'])\n",
    "df"
   ]
  },
  {
   "cell_type": "markdown",
   "metadata": {},
   "source": [
    "If no indices match, missing values are filled into the unmatched spaces."
   ]
  },
  {
   "cell_type": "code",
   "execution_count": 44,
   "metadata": {},
   "outputs": [
    {
     "output_type": "execute_result",
     "data": {
      "text/plain": [
       "     a  b  c    d\n",
       "foo  1  2  3  NaN\n",
       "bar  4  5  6  5.0"
      ],
      "text/html": "<div>\n<style scoped>\n    .dataframe tbody tr th:only-of-type {\n        vertical-align: middle;\n    }\n\n    .dataframe tbody tr th {\n        vertical-align: top;\n    }\n\n    .dataframe thead th {\n        text-align: right;\n    }\n</style>\n<table border=\"1\" class=\"dataframe\">\n  <thead>\n    <tr style=\"text-align: right;\">\n      <th></th>\n      <th>a</th>\n      <th>b</th>\n      <th>c</th>\n      <th>d</th>\n    </tr>\n  </thead>\n  <tbody>\n    <tr>\n      <th>foo</th>\n      <td>1</td>\n      <td>2</td>\n      <td>3</td>\n      <td>NaN</td>\n    </tr>\n    <tr>\n      <th>bar</th>\n      <td>4</td>\n      <td>5</td>\n      <td>6</td>\n      <td>5.0</td>\n    </tr>\n  </tbody>\n</table>\n</div>"
     },
     "metadata": {},
     "execution_count": 44
    }
   ],
   "source": [
    "df['d'] = pd.Series([5, 4], index=['bar', 'baz'])\n",
    "df"
   ]
  },
  {
   "cell_type": "markdown",
   "metadata": {},
   "source": [
    "We can also put a list/vector into a DataFrame, and here there is no index, so the column is inserted in order."
   ]
  },
  {
   "cell_type": "code",
   "execution_count": 45,
   "metadata": {},
   "outputs": [
    {
     "output_type": "execute_result",
     "data": {
      "text/plain": [
       "     a  b  c    d  e\n",
       "foo  1  2  3  NaN  1\n",
       "bar  4  5  6  5.0  2"
      ],
      "text/html": "<div>\n<style scoped>\n    .dataframe tbody tr th:only-of-type {\n        vertical-align: middle;\n    }\n\n    .dataframe tbody tr th {\n        vertical-align: top;\n    }\n\n    .dataframe thead th {\n        text-align: right;\n    }\n</style>\n<table border=\"1\" class=\"dataframe\">\n  <thead>\n    <tr style=\"text-align: right;\">\n      <th></th>\n      <th>a</th>\n      <th>b</th>\n      <th>c</th>\n      <th>d</th>\n      <th>e</th>\n    </tr>\n  </thead>\n  <tbody>\n    <tr>\n      <th>foo</th>\n      <td>1</td>\n      <td>2</td>\n      <td>3</td>\n      <td>NaN</td>\n      <td>1</td>\n    </tr>\n    <tr>\n      <th>bar</th>\n      <td>4</td>\n      <td>5</td>\n      <td>6</td>\n      <td>5.0</td>\n      <td>2</td>\n    </tr>\n  </tbody>\n</table>\n</div>"
     },
     "metadata": {},
     "execution_count": 45
    }
   ],
   "source": [
    "df['e'] = [1, 2]\n",
    "df"
   ]
  },
  {
   "cell_type": "markdown",
   "metadata": {},
   "source": [
    "So be careful if you're using a series:"
   ]
  },
  {
   "cell_type": "markdown",
   "metadata": {},
   "source": [
    "Because without the index, the dataframe just says 'there are no matching rows, silly!' and inserts all NaNs. ('Nan' stands for 'Not a Number')"
   ]
  },
  {
   "cell_type": "code",
   "execution_count": 46,
   "metadata": {
    "scrolled": true
   },
   "outputs": [
    {
     "output_type": "execute_result",
     "data": {
      "text/plain": [
       "          grade  height was_late     top_crush  above_75_percent  \\\n",
       "Tomas        45      34      NaN         Angel             False   \n",
       "Angel        56      35      NaN         Haden             False   \n",
       "Stacy        78      36      NaN      Michaela              True   \n",
       "Michaela     89      37      NaN         Tomas              True   \n",
       "Haden        90      38      NaN  Edgar A. Poe              True   \n",
       "\n",
       "          taller_than_35  \n",
       "Tomas              False  \n",
       "Angel              False  \n",
       "Stacy               True  \n",
       "Michaela            True  \n",
       "Haden               True  "
      ],
      "text/html": "<div>\n<style scoped>\n    .dataframe tbody tr th:only-of-type {\n        vertical-align: middle;\n    }\n\n    .dataframe tbody tr th {\n        vertical-align: top;\n    }\n\n    .dataframe thead th {\n        text-align: right;\n    }\n</style>\n<table border=\"1\" class=\"dataframe\">\n  <thead>\n    <tr style=\"text-align: right;\">\n      <th></th>\n      <th>grade</th>\n      <th>height</th>\n      <th>was_late</th>\n      <th>top_crush</th>\n      <th>above_75_percent</th>\n      <th>taller_than_35</th>\n    </tr>\n  </thead>\n  <tbody>\n    <tr>\n      <th>Tomas</th>\n      <td>45</td>\n      <td>34</td>\n      <td>NaN</td>\n      <td>Angel</td>\n      <td>False</td>\n      <td>False</td>\n    </tr>\n    <tr>\n      <th>Angel</th>\n      <td>56</td>\n      <td>35</td>\n      <td>NaN</td>\n      <td>Haden</td>\n      <td>False</td>\n      <td>False</td>\n    </tr>\n    <tr>\n      <th>Stacy</th>\n      <td>78</td>\n      <td>36</td>\n      <td>NaN</td>\n      <td>Michaela</td>\n      <td>True</td>\n      <td>True</td>\n    </tr>\n    <tr>\n      <th>Michaela</th>\n      <td>89</td>\n      <td>37</td>\n      <td>NaN</td>\n      <td>Tomas</td>\n      <td>True</td>\n      <td>True</td>\n    </tr>\n    <tr>\n      <th>Haden</th>\n      <td>90</td>\n      <td>38</td>\n      <td>NaN</td>\n      <td>Edgar A. Poe</td>\n      <td>True</td>\n      <td>True</td>\n    </tr>\n  </tbody>\n</table>\n</div>"
     },
     "metadata": {},
     "execution_count": 46
    }
   ],
   "source": [
    "students['was_late'] = pd.Series([True, False, True, False, False])\n",
    "students"
   ]
  },
  {
   "cell_type": "markdown",
   "metadata": {},
   "source": [
    "Adding the index:"
   ]
  },
  {
   "cell_type": "code",
   "execution_count": 47,
   "metadata": {},
   "outputs": [
    {
     "output_type": "execute_result",
     "data": {
      "text/plain": [
       "          grade  height  was_late     top_crush  above_75_percent  \\\n",
       "Tomas        45      34      True         Angel             False   \n",
       "Angel        56      35     False         Haden             False   \n",
       "Stacy        78      36      True      Michaela              True   \n",
       "Michaela     89      37     False         Tomas              True   \n",
       "Haden        90      38     False  Edgar A. Poe              True   \n",
       "\n",
       "          taller_than_35  \n",
       "Tomas              False  \n",
       "Angel              False  \n",
       "Stacy               True  \n",
       "Michaela            True  \n",
       "Haden               True  "
      ],
      "text/html": "<div>\n<style scoped>\n    .dataframe tbody tr th:only-of-type {\n        vertical-align: middle;\n    }\n\n    .dataframe tbody tr th {\n        vertical-align: top;\n    }\n\n    .dataframe thead th {\n        text-align: right;\n    }\n</style>\n<table border=\"1\" class=\"dataframe\">\n  <thead>\n    <tr style=\"text-align: right;\">\n      <th></th>\n      <th>grade</th>\n      <th>height</th>\n      <th>was_late</th>\n      <th>top_crush</th>\n      <th>above_75_percent</th>\n      <th>taller_than_35</th>\n    </tr>\n  </thead>\n  <tbody>\n    <tr>\n      <th>Tomas</th>\n      <td>45</td>\n      <td>34</td>\n      <td>True</td>\n      <td>Angel</td>\n      <td>False</td>\n      <td>False</td>\n    </tr>\n    <tr>\n      <th>Angel</th>\n      <td>56</td>\n      <td>35</td>\n      <td>False</td>\n      <td>Haden</td>\n      <td>False</td>\n      <td>False</td>\n    </tr>\n    <tr>\n      <th>Stacy</th>\n      <td>78</td>\n      <td>36</td>\n      <td>True</td>\n      <td>Michaela</td>\n      <td>True</td>\n      <td>True</td>\n    </tr>\n    <tr>\n      <th>Michaela</th>\n      <td>89</td>\n      <td>37</td>\n      <td>False</td>\n      <td>Tomas</td>\n      <td>True</td>\n      <td>True</td>\n    </tr>\n    <tr>\n      <th>Haden</th>\n      <td>90</td>\n      <td>38</td>\n      <td>False</td>\n      <td>Edgar A. Poe</td>\n      <td>True</td>\n      <td>True</td>\n    </tr>\n  </tbody>\n</table>\n</div>"
     },
     "metadata": {},
     "execution_count": 47
    }
   ],
   "source": [
    "students['was_late'] = pd.Series([True, False, True, False, False], index=students.index)\n",
    "students"
   ]
  },
  {
   "cell_type": "markdown",
   "metadata": {},
   "source": [
    "Column insertion, both with and without specifying the index, is super useful."
   ]
  },
  {
   "cell_type": "markdown",
   "metadata": {},
   "source": [
    "### Question:\n",
    "\n",
    "Create a dataframe 'numbers' that has one column `increasing`. The `increasing` column contains the numbers 1-50 in increasing order. Then insert a columns called `evens`, which has the even numbers in increasing order at the same locations as in `increasing`, but with missing values in the other locations.\n",
    "\n",
    "```python\n",
    "> print(numbers)\n",
    "\n",
    "    increasing  evens\n",
    "0            0    0.0\n",
    "1            1    NaN\n",
    "2            2    2.0\n",
    "3            3    NaN\n",
    "4            4    4.0\n",
    "5            5    NaN\n",
    "6            6    6.0\n",
    "7            7    NaN\n",
    "8            8    8.0\n",
    "9            9    NaN\n",
    "10          10   10.0\n",
    ".            .      .\n",
    ".            .      .\n",
    ".            .      .\n",
    "\n",
    "```"
   ]
  },
  {
   "cell_type": "code",
   "execution_count": 48,
   "metadata": {},
   "outputs": [
    {
     "output_type": "execute_result",
     "data": {
      "text/plain": [
       "    increasing  evens\n",
       "0            0    NaN\n",
       "1            1    1.0\n",
       "2            2    NaN\n",
       "3            3    3.0\n",
       "4            4    NaN\n",
       "5            5    5.0\n",
       "6            6    NaN\n",
       "7            7    7.0\n",
       "8            8    NaN\n",
       "9            9    9.0\n",
       "10          10    NaN\n",
       "11          11   11.0\n",
       "12          12    NaN\n",
       "13          13   13.0\n",
       "14          14    NaN\n",
       "15          15   15.0\n",
       "16          16    NaN\n",
       "17          17   17.0\n",
       "18          18    NaN\n",
       "19          19   19.0\n",
       "20          20    NaN\n",
       "21          21   21.0\n",
       "22          22    NaN\n",
       "23          23   23.0\n",
       "24          24    NaN\n",
       "25          25   25.0\n",
       "26          26    NaN\n",
       "27          27   27.0\n",
       "28          28    NaN\n",
       "29          29   29.0\n",
       "30          30    NaN\n",
       "31          31   31.0\n",
       "32          32    NaN\n",
       "33          33   33.0\n",
       "34          34    NaN\n",
       "35          35   35.0\n",
       "36          36    NaN\n",
       "37          37   37.0\n",
       "38          38    NaN\n",
       "39          39   39.0\n",
       "40          40    NaN\n",
       "41          41   41.0\n",
       "42          42    NaN\n",
       "43          43   43.0\n",
       "44          44    NaN\n",
       "45          45   45.0\n",
       "46          46    NaN\n",
       "47          47   47.0\n",
       "48          48    NaN\n",
       "49          49   49.0"
      ],
      "text/html": "<div>\n<style scoped>\n    .dataframe tbody tr th:only-of-type {\n        vertical-align: middle;\n    }\n\n    .dataframe tbody tr th {\n        vertical-align: top;\n    }\n\n    .dataframe thead th {\n        text-align: right;\n    }\n</style>\n<table border=\"1\" class=\"dataframe\">\n  <thead>\n    <tr style=\"text-align: right;\">\n      <th></th>\n      <th>increasing</th>\n      <th>evens</th>\n    </tr>\n  </thead>\n  <tbody>\n    <tr>\n      <th>0</th>\n      <td>0</td>\n      <td>NaN</td>\n    </tr>\n    <tr>\n      <th>1</th>\n      <td>1</td>\n      <td>1.0</td>\n    </tr>\n    <tr>\n      <th>2</th>\n      <td>2</td>\n      <td>NaN</td>\n    </tr>\n    <tr>\n      <th>3</th>\n      <td>3</td>\n      <td>3.0</td>\n    </tr>\n    <tr>\n      <th>4</th>\n      <td>4</td>\n      <td>NaN</td>\n    </tr>\n    <tr>\n      <th>5</th>\n      <td>5</td>\n      <td>5.0</td>\n    </tr>\n    <tr>\n      <th>6</th>\n      <td>6</td>\n      <td>NaN</td>\n    </tr>\n    <tr>\n      <th>7</th>\n      <td>7</td>\n      <td>7.0</td>\n    </tr>\n    <tr>\n      <th>8</th>\n      <td>8</td>\n      <td>NaN</td>\n    </tr>\n    <tr>\n      <th>9</th>\n      <td>9</td>\n      <td>9.0</td>\n    </tr>\n    <tr>\n      <th>10</th>\n      <td>10</td>\n      <td>NaN</td>\n    </tr>\n    <tr>\n      <th>11</th>\n      <td>11</td>\n      <td>11.0</td>\n    </tr>\n    <tr>\n      <th>12</th>\n      <td>12</td>\n      <td>NaN</td>\n    </tr>\n    <tr>\n      <th>13</th>\n      <td>13</td>\n      <td>13.0</td>\n    </tr>\n    <tr>\n      <th>14</th>\n      <td>14</td>\n      <td>NaN</td>\n    </tr>\n    <tr>\n      <th>15</th>\n      <td>15</td>\n      <td>15.0</td>\n    </tr>\n    <tr>\n      <th>16</th>\n      <td>16</td>\n      <td>NaN</td>\n    </tr>\n    <tr>\n      <th>17</th>\n      <td>17</td>\n      <td>17.0</td>\n    </tr>\n    <tr>\n      <th>18</th>\n      <td>18</td>\n      <td>NaN</td>\n    </tr>\n    <tr>\n      <th>19</th>\n      <td>19</td>\n      <td>19.0</td>\n    </tr>\n    <tr>\n      <th>20</th>\n      <td>20</td>\n      <td>NaN</td>\n    </tr>\n    <tr>\n      <th>21</th>\n      <td>21</td>\n      <td>21.0</td>\n    </tr>\n    <tr>\n      <th>22</th>\n      <td>22</td>\n      <td>NaN</td>\n    </tr>\n    <tr>\n      <th>23</th>\n      <td>23</td>\n      <td>23.0</td>\n    </tr>\n    <tr>\n      <th>24</th>\n      <td>24</td>\n      <td>NaN</td>\n    </tr>\n    <tr>\n      <th>25</th>\n      <td>25</td>\n      <td>25.0</td>\n    </tr>\n    <tr>\n      <th>26</th>\n      <td>26</td>\n      <td>NaN</td>\n    </tr>\n    <tr>\n      <th>27</th>\n      <td>27</td>\n      <td>27.0</td>\n    </tr>\n    <tr>\n      <th>28</th>\n      <td>28</td>\n      <td>NaN</td>\n    </tr>\n    <tr>\n      <th>29</th>\n      <td>29</td>\n      <td>29.0</td>\n    </tr>\n    <tr>\n      <th>30</th>\n      <td>30</td>\n      <td>NaN</td>\n    </tr>\n    <tr>\n      <th>31</th>\n      <td>31</td>\n      <td>31.0</td>\n    </tr>\n    <tr>\n      <th>32</th>\n      <td>32</td>\n      <td>NaN</td>\n    </tr>\n    <tr>\n      <th>33</th>\n      <td>33</td>\n      <td>33.0</td>\n    </tr>\n    <tr>\n      <th>34</th>\n      <td>34</td>\n      <td>NaN</td>\n    </tr>\n    <tr>\n      <th>35</th>\n      <td>35</td>\n      <td>35.0</td>\n    </tr>\n    <tr>\n      <th>36</th>\n      <td>36</td>\n      <td>NaN</td>\n    </tr>\n    <tr>\n      <th>37</th>\n      <td>37</td>\n      <td>37.0</td>\n    </tr>\n    <tr>\n      <th>38</th>\n      <td>38</td>\n      <td>NaN</td>\n    </tr>\n    <tr>\n      <th>39</th>\n      <td>39</td>\n      <td>39.0</td>\n    </tr>\n    <tr>\n      <th>40</th>\n      <td>40</td>\n      <td>NaN</td>\n    </tr>\n    <tr>\n      <th>41</th>\n      <td>41</td>\n      <td>41.0</td>\n    </tr>\n    <tr>\n      <th>42</th>\n      <td>42</td>\n      <td>NaN</td>\n    </tr>\n    <tr>\n      <th>43</th>\n      <td>43</td>\n      <td>43.0</td>\n    </tr>\n    <tr>\n      <th>44</th>\n      <td>44</td>\n      <td>NaN</td>\n    </tr>\n    <tr>\n      <th>45</th>\n      <td>45</td>\n      <td>45.0</td>\n    </tr>\n    <tr>\n      <th>46</th>\n      <td>46</td>\n      <td>NaN</td>\n    </tr>\n    <tr>\n      <th>47</th>\n      <td>47</td>\n      <td>47.0</td>\n    </tr>\n    <tr>\n      <th>48</th>\n      <td>48</td>\n      <td>NaN</td>\n    </tr>\n    <tr>\n      <th>49</th>\n      <td>49</td>\n      <td>49.0</td>\n    </tr>\n  </tbody>\n</table>\n</div>"
     },
     "metadata": {},
     "execution_count": 48
    }
   ],
   "source": [
    "# write here:\n",
    "\n",
    "numbers =  pd.DataFrame([num for num in range(50)], columns=['increasing'])\n",
    "numbers['evens'] = pd.Series([num for num in range(50) if num % 2], index=[num for num in range(50) if num % 2])\n",
    "\n",
    "numbers"
   ]
  },
  {
   "cell_type": "markdown",
   "metadata": {},
   "source": [
    "<details><summary>Solution\n",
    "</summary>\n",
    "\n",
    "```python\n",
    "numbers = pd.DataFrame([[n] for n in range(50)], columns=['increasing'])\n",
    "numbers['evens'] = pd.Series([n for n in range(50) if n%2==0], index=[n for n in range(50) if n%2==0])\n",
    "print(numbers)\n",
    "\n",
    "```\n",
    "\n",
    "</details>"
   ]
  },
  {
   "cell_type": "markdown",
   "metadata": {},
   "source": [
    "### Question:\n",
    "\n",
    "We only have information for some students. Please add the following information into a column named 'pickup_time'.  The rest can be NaNs.\n",
    "\n",
    "Haden = 4,\n",
    "Tomas = 5,\n",
    "Stacy = 3\n",
    "\n",
    "\n",
    "```python\n",
    "> print(students[['grade', 'height', 'pickup_time']])\n",
    "\n",
    "          grade  height  pickup_time\n",
    "Tomas        45      34          5.0\n",
    "Angel        56      35          NaN\n",
    "Stacy        78      36          3.0\n",
    "Michaela     89      37          NaN\n",
    "Haden        90      38          4.0\n",
    "\n",
    "```"
   ]
  },
  {
   "cell_type": "code",
   "execution_count": 49,
   "metadata": {},
   "outputs": [
    {
     "output_type": "execute_result",
     "data": {
      "text/plain": [
       "          grade  height  was_late     top_crush  above_75_percent  \\\n",
       "Tomas        45      34      True         Angel             False   \n",
       "Angel        56      35     False         Haden             False   \n",
       "Stacy        78      36      True      Michaela              True   \n",
       "Michaela     89      37     False         Tomas              True   \n",
       "Haden        90      38     False  Edgar A. Poe              True   \n",
       "\n",
       "          taller_than_35  pickup_time  \n",
       "Tomas              False          4.0  \n",
       "Angel              False          NaN  \n",
       "Stacy               True          5.0  \n",
       "Michaela            True          NaN  \n",
       "Haden               True          3.0  "
      ],
      "text/html": "<div>\n<style scoped>\n    .dataframe tbody tr th:only-of-type {\n        vertical-align: middle;\n    }\n\n    .dataframe tbody tr th {\n        vertical-align: top;\n    }\n\n    .dataframe thead th {\n        text-align: right;\n    }\n</style>\n<table border=\"1\" class=\"dataframe\">\n  <thead>\n    <tr style=\"text-align: right;\">\n      <th></th>\n      <th>grade</th>\n      <th>height</th>\n      <th>was_late</th>\n      <th>top_crush</th>\n      <th>above_75_percent</th>\n      <th>taller_than_35</th>\n      <th>pickup_time</th>\n    </tr>\n  </thead>\n  <tbody>\n    <tr>\n      <th>Tomas</th>\n      <td>45</td>\n      <td>34</td>\n      <td>True</td>\n      <td>Angel</td>\n      <td>False</td>\n      <td>False</td>\n      <td>4.0</td>\n    </tr>\n    <tr>\n      <th>Angel</th>\n      <td>56</td>\n      <td>35</td>\n      <td>False</td>\n      <td>Haden</td>\n      <td>False</td>\n      <td>False</td>\n      <td>NaN</td>\n    </tr>\n    <tr>\n      <th>Stacy</th>\n      <td>78</td>\n      <td>36</td>\n      <td>True</td>\n      <td>Michaela</td>\n      <td>True</td>\n      <td>True</td>\n      <td>5.0</td>\n    </tr>\n    <tr>\n      <th>Michaela</th>\n      <td>89</td>\n      <td>37</td>\n      <td>False</td>\n      <td>Tomas</td>\n      <td>True</td>\n      <td>True</td>\n      <td>NaN</td>\n    </tr>\n    <tr>\n      <th>Haden</th>\n      <td>90</td>\n      <td>38</td>\n      <td>False</td>\n      <td>Edgar A. Poe</td>\n      <td>True</td>\n      <td>True</td>\n      <td>3.0</td>\n    </tr>\n  </tbody>\n</table>\n</div>"
     },
     "metadata": {},
     "execution_count": 49
    }
   ],
   "source": [
    "# write here:\n",
    "\n",
    "students['pickup_time'] = pd.Series([4,5,3], ['Tomas', 'Stacy', 'Haden'])\n",
    "students\n"
   ]
  },
  {
   "cell_type": "markdown",
   "metadata": {},
   "source": [
    "<details><summary>Solution\n",
    "</summary>\n",
    "\n",
    "```python\n",
    "students['pickup_time'] = pd.Series([4,5,3], ['Haden', 'Tomas', 'Stacy'])\n",
    "print(students[['grade', 'height', 'pickup_time']])\n",
    "```\n",
    "\n",
    "</details>"
   ]
  },
  {
   "cell_type": "markdown",
   "metadata": {},
   "source": [
    "### Question:\n",
    "\n",
    "We only know about the first three students. Please add the following information into a column named 'pickup_time'.  The rest can be NaNs.\n",
    "\n",
    "4,5,3\n",
    "\n",
    "\n",
    "```python\n",
    "> print(students[['grade', 'height', 'pickup_time']])\n",
    "\n",
    "          grade  height  pickup_time\n",
    "Tomas        45      34          4.0\n",
    "Angel        56      35          5.0\n",
    "Stacy        78      36          2.0\n",
    "Michaela     89      37          NaN\n",
    "Haden        90      38          NaN\n",
    "\n",
    "```\n",
    "\n",
    "(NaN is input as np.NaN)"
   ]
  },
  {
   "cell_type": "code",
   "execution_count": 50,
   "metadata": {},
   "outputs": [
    {
     "output_type": "execute_result",
     "data": {
      "text/plain": [
       "Tomas       4.0\n",
       "Angel       5.0\n",
       "Stacy       2.0\n",
       "Michaela    NaN\n",
       "Haden       NaN\n",
       "Name: pickup_time, dtype: float64"
      ]
     },
     "metadata": {},
     "execution_count": 50
    }
   ],
   "source": [
    "# write here:\n",
    "students['pickup_time'] = pd.Series([4.0,5.0, 2.0], ['Tomas', 'Angel', 'Stacy'])\n",
    "students['pickup_time']"
   ]
  },
  {
   "cell_type": "markdown",
   "metadata": {},
   "source": [
    "<details><summary>Solution\n",
    "</summary>\n",
    "\n",
    "```python\n",
    "students['pickup_time'] = [4, 5, 2, np.NaN, np.NaN]\n",
    "print(students[['grade', 'height', 'pickup_time']])\n",
    "```\n",
    "\n",
    "</details>"
   ]
  },
  {
   "cell_type": "markdown",
   "metadata": {},
   "source": [
    "## Loading Data"
   ]
  },
  {
   "cell_type": "markdown",
   "metadata": {},
   "source": [
    "To get external data into pandas, we first need to know where it is."
   ]
  },
  {
   "cell_type": "markdown",
   "metadata": {},
   "source": [
    "We can use 'ls' to do this"
   ]
  },
  {
   "cell_type": "code",
   "execution_count": 51,
   "metadata": {},
   "outputs": [
    {
     "output_type": "stream",
     "name": "stdout",
     "text": [
      "README.md                \u001b[1m\u001b[36mdata\u001b[m\u001b[m/                    pandas_assignment.ipynb\n"
     ]
    }
   ],
   "source": [
    "ls"
   ]
  },
  {
   "cell_type": "markdown",
   "metadata": {},
   "source": [
    "Ah, the data is probably kept in 'data/'"
   ]
  },
  {
   "cell_type": "code",
   "execution_count": 52,
   "metadata": {},
   "outputs": [
    {
     "output_type": "stream",
     "name": "stdout",
     "text": [
      "\u001b[31mchess_games.csv\u001b[m\u001b[m*       hospital-costs.csv     winequality-red.csv\n\u001b[31mexo_planet.csv\u001b[m\u001b[m*        playgolf.csv           winequality-white.csv\n"
     ]
    }
   ],
   "source": [
    "ls data"
   ]
  },
  {
   "cell_type": "markdown",
   "metadata": {},
   "source": [
    "Pandas can load a csv, but csvs often are separated by things that ARE NOT COMMAS. So let's look at the first line INSIDE playgolf.csv"
   ]
  },
  {
   "cell_type": "code",
   "execution_count": 53,
   "metadata": {},
   "outputs": [
    {
     "output_type": "stream",
     "name": "stdout",
     "text": [
      "7/14/14,rain,71,80,TRUE,Don't Play"
     ]
    }
   ],
   "source": [
    "# '!' means we're running a bash command\n",
    "!head -1 data/playgolf.csv"
   ]
  },
  {
   "cell_type": "code",
   "execution_count": 54,
   "metadata": {},
   "outputs": [
    {
     "output_type": "stream",
     "name": "stdout",
     "text": [
      "7/14/14,rain,71,80,TRUE,Don't Play"
     ]
    }
   ],
   "source": [
    "!head -1 data/playgolf.csv"
   ]
  },
  {
   "cell_type": "markdown",
   "metadata": {},
   "source": [
    "### Load data from csv\n",
    "\n",
    "A csv (comma separated values) is a file format used to store data separated by a **delimiter**.\n",
    "\n",
    "A delimiter is the **single character** that divides the data elements in a file.  A comma is a traditional choice of delimiter but a relatively poor one because they are often part of elements themselves.  Better choices are pipe (`|`) and tab (`\\t`)."
   ]
  },
  {
   "cell_type": "markdown",
   "metadata": {},
   "source": [
    "In a bizarre twist of history, comma separated files are often separated by different characters than commas.  There is no consistent convention of using a different file extension, but some people use `.psv` or `.tsv`.\n",
    "\n",
    "Pandas has a `read_csv` function that loads a delimited file into a `DataFrame`.  "
   ]
  },
  {
   "cell_type": "code",
   "execution_count": 55,
   "metadata": {},
   "outputs": [],
   "source": [
    "golf_df = pd.read_csv('data/playgolf.csv', delimiter=',')"
   ]
  },
  {
   "cell_type": "code",
   "execution_count": 56,
   "metadata": {},
   "outputs": [
    {
     "output_type": "execute_result",
     "data": {
      "text/plain": [
       "       Date   Outlook  Temperature  Humidity  Windy      Result\n",
       "0    7/1/14     sunny           85        85  False  Don't Play\n",
       "1    7/2/14     sunny           80        90   True  Don't Play\n",
       "2    7/3/14  overcast           83        78  False        Play\n",
       "3    7/4/14      rain           70        96  False        Play\n",
       "4    7/5/14      rain           68        80  False        Play\n",
       "5    7/6/14      rain           65        70   True  Don't Play\n",
       "6    7/7/14  overcast           64        65   True        Play\n",
       "7    7/8/14     sunny           72        95  False  Don't Play\n",
       "8    7/9/14     sunny           69        70  False        Play\n",
       "9   7/10/14      rain           75        80  False        Play\n",
       "10  7/11/14     sunny           75        70   True        Play\n",
       "11  7/12/14  overcast           72        90   True        Play\n",
       "12  7/13/14  overcast           81        75  False        Play\n",
       "13  7/14/14      rain           71        80   True  Don't Play"
      ],
      "text/html": "<div>\n<style scoped>\n    .dataframe tbody tr th:only-of-type {\n        vertical-align: middle;\n    }\n\n    .dataframe tbody tr th {\n        vertical-align: top;\n    }\n\n    .dataframe thead th {\n        text-align: right;\n    }\n</style>\n<table border=\"1\" class=\"dataframe\">\n  <thead>\n    <tr style=\"text-align: right;\">\n      <th></th>\n      <th>Date</th>\n      <th>Outlook</th>\n      <th>Temperature</th>\n      <th>Humidity</th>\n      <th>Windy</th>\n      <th>Result</th>\n    </tr>\n  </thead>\n  <tbody>\n    <tr>\n      <th>0</th>\n      <td>7/1/14</td>\n      <td>sunny</td>\n      <td>85</td>\n      <td>85</td>\n      <td>False</td>\n      <td>Don't Play</td>\n    </tr>\n    <tr>\n      <th>1</th>\n      <td>7/2/14</td>\n      <td>sunny</td>\n      <td>80</td>\n      <td>90</td>\n      <td>True</td>\n      <td>Don't Play</td>\n    </tr>\n    <tr>\n      <th>2</th>\n      <td>7/3/14</td>\n      <td>overcast</td>\n      <td>83</td>\n      <td>78</td>\n      <td>False</td>\n      <td>Play</td>\n    </tr>\n    <tr>\n      <th>3</th>\n      <td>7/4/14</td>\n      <td>rain</td>\n      <td>70</td>\n      <td>96</td>\n      <td>False</td>\n      <td>Play</td>\n    </tr>\n    <tr>\n      <th>4</th>\n      <td>7/5/14</td>\n      <td>rain</td>\n      <td>68</td>\n      <td>80</td>\n      <td>False</td>\n      <td>Play</td>\n    </tr>\n    <tr>\n      <th>5</th>\n      <td>7/6/14</td>\n      <td>rain</td>\n      <td>65</td>\n      <td>70</td>\n      <td>True</td>\n      <td>Don't Play</td>\n    </tr>\n    <tr>\n      <th>6</th>\n      <td>7/7/14</td>\n      <td>overcast</td>\n      <td>64</td>\n      <td>65</td>\n      <td>True</td>\n      <td>Play</td>\n    </tr>\n    <tr>\n      <th>7</th>\n      <td>7/8/14</td>\n      <td>sunny</td>\n      <td>72</td>\n      <td>95</td>\n      <td>False</td>\n      <td>Don't Play</td>\n    </tr>\n    <tr>\n      <th>8</th>\n      <td>7/9/14</td>\n      <td>sunny</td>\n      <td>69</td>\n      <td>70</td>\n      <td>False</td>\n      <td>Play</td>\n    </tr>\n    <tr>\n      <th>9</th>\n      <td>7/10/14</td>\n      <td>rain</td>\n      <td>75</td>\n      <td>80</td>\n      <td>False</td>\n      <td>Play</td>\n    </tr>\n    <tr>\n      <th>10</th>\n      <td>7/11/14</td>\n      <td>sunny</td>\n      <td>75</td>\n      <td>70</td>\n      <td>True</td>\n      <td>Play</td>\n    </tr>\n    <tr>\n      <th>11</th>\n      <td>7/12/14</td>\n      <td>overcast</td>\n      <td>72</td>\n      <td>90</td>\n      <td>True</td>\n      <td>Play</td>\n    </tr>\n    <tr>\n      <th>12</th>\n      <td>7/13/14</td>\n      <td>overcast</td>\n      <td>81</td>\n      <td>75</td>\n      <td>False</td>\n      <td>Play</td>\n    </tr>\n    <tr>\n      <th>13</th>\n      <td>7/14/14</td>\n      <td>rain</td>\n      <td>71</td>\n      <td>80</td>\n      <td>True</td>\n      <td>Don't Play</td>\n    </tr>\n  </tbody>\n</table>\n</div>"
     },
     "metadata": {},
     "execution_count": 56
    }
   ],
   "source": [
    "golf_df"
   ]
  },
  {
   "cell_type": "markdown",
   "metadata": {},
   "source": [
    "### Question:\n",
    "\n",
    "load in hospital-costs.csv as 'hospital_costs'.\n"
   ]
  },
  {
   "cell_type": "code",
   "execution_count": 57,
   "metadata": {},
   "outputs": [
    {
     "output_type": "execute_result",
     "data": {
      "text/plain": [
       "        Year  Facility Id                                Facility Name  \\\n",
       "0       2011          324  Adirondack Medical Center-Saranac Lake Site   \n",
       "1       2011          324  Adirondack Medical Center-Saranac Lake Site   \n",
       "2       2011          324  Adirondack Medical Center-Saranac Lake Site   \n",
       "3       2011          324  Adirondack Medical Center-Saranac Lake Site   \n",
       "4       2011          324  Adirondack Medical Center-Saranac Lake Site   \n",
       "...      ...          ...                                          ...   \n",
       "383488  2009         1153            Wyoming County Community Hospital   \n",
       "383489  2009         1153            Wyoming County Community Hospital   \n",
       "383490  2009         1153            Wyoming County Community Hospital   \n",
       "383491  2009         1153            Wyoming County Community Hospital   \n",
       "383492  2009         1153            Wyoming County Community Hospital   \n",
       "\n",
       "        APR DRG Code  APR Severity of Illness Code  \\\n",
       "0                  4                             4   \n",
       "1                  5                             4   \n",
       "2                 24                             2   \n",
       "3                 26                             1   \n",
       "4                 41                             1   \n",
       "...              ...                           ...   \n",
       "383488           951                             3   \n",
       "383489           952                             3   \n",
       "383490           952                             2   \n",
       "383491           952                             1   \n",
       "383492           956                             0   \n",
       "\n",
       "                                      APR DRG Description  \\\n",
       "0       Tracheostomy W MV 96+ Hours W Extensive Proced...   \n",
       "1       Tracheostomy W MV 96+ Hours W/O Extensive Proc...   \n",
       "2                        Extracranial Vascular Procedures   \n",
       "3               Other Nervous System & Related Procedures   \n",
       "4                               Nervous System Malignancy   \n",
       "...                                                   ...   \n",
       "383488  Moderately Extensive Procedure Unrelated To Pr...   \n",
       "383489  Nonextensive Procedure Unrelated To Principal ...   \n",
       "383490  Nonextensive Procedure Unrelated To Principal ...   \n",
       "383491  Nonextensive Procedure Unrelated To Principal ...   \n",
       "383492                                        Ungroupable   \n",
       "\n",
       "       APR Severity of Illness Description APR Medical Surgical Code  \\\n",
       "0                                  Extreme                         P   \n",
       "1                                  Extreme                         P   \n",
       "2                                 Moderate                         P   \n",
       "3                                    Minor                         P   \n",
       "4                                    Minor                         M   \n",
       "...                                    ...                       ...   \n",
       "383488                               Major                         P   \n",
       "383489                               Major                         P   \n",
       "383490                            Moderate                         P   \n",
       "383491                               Minor                         P   \n",
       "383492                                 NaN                       NaN   \n",
       "\n",
       "       APR Medical Surgical Description  Discharges  Mean Charge  \\\n",
       "0                              Surgical           3     361289.0   \n",
       "1                              Surgical           1     102190.0   \n",
       "2                              Surgical           6      14172.0   \n",
       "3                              Surgical           1       8833.0   \n",
       "4                               Medical           1       5264.0   \n",
       "...                                 ...         ...          ...   \n",
       "383488                         Surgical           5      13572.0   \n",
       "383489                         Surgical           4       8323.0   \n",
       "383490                         Surgical           5       7746.0   \n",
       "383491                         Surgical           1       7892.0   \n",
       "383492                            Other           3       1069.0   \n",
       "\n",
       "        Median Charge  Mean Cost  Median Cost  \n",
       "0            210882.0   196080.0     123347.0  \n",
       "1            102190.0    59641.0      59641.0  \n",
       "2             13506.0     6888.0       6445.0  \n",
       "3              8833.0     4259.0       4259.0  \n",
       "4              5264.0     1727.0       1727.0  \n",
       "...               ...        ...          ...  \n",
       "383488        12615.0    14433.0      15835.0  \n",
       "383489         8179.0     9520.0       8674.0  \n",
       "383490         5120.0     7257.0       5321.0  \n",
       "383491         7892.0     6528.0       6528.0  \n",
       "383492         1309.0     1719.0       1756.0  \n",
       "\n",
       "[383493 rows x 14 columns]"
      ],
      "text/html": "<div>\n<style scoped>\n    .dataframe tbody tr th:only-of-type {\n        vertical-align: middle;\n    }\n\n    .dataframe tbody tr th {\n        vertical-align: top;\n    }\n\n    .dataframe thead th {\n        text-align: right;\n    }\n</style>\n<table border=\"1\" class=\"dataframe\">\n  <thead>\n    <tr style=\"text-align: right;\">\n      <th></th>\n      <th>Year</th>\n      <th>Facility Id</th>\n      <th>Facility Name</th>\n      <th>APR DRG Code</th>\n      <th>APR Severity of Illness Code</th>\n      <th>APR DRG Description</th>\n      <th>APR Severity of Illness Description</th>\n      <th>APR Medical Surgical Code</th>\n      <th>APR Medical Surgical Description</th>\n      <th>Discharges</th>\n      <th>Mean Charge</th>\n      <th>Median Charge</th>\n      <th>Mean Cost</th>\n      <th>Median Cost</th>\n    </tr>\n  </thead>\n  <tbody>\n    <tr>\n      <th>0</th>\n      <td>2011</td>\n      <td>324</td>\n      <td>Adirondack Medical Center-Saranac Lake Site</td>\n      <td>4</td>\n      <td>4</td>\n      <td>Tracheostomy W MV 96+ Hours W Extensive Proced...</td>\n      <td>Extreme</td>\n      <td>P</td>\n      <td>Surgical</td>\n      <td>3</td>\n      <td>361289.0</td>\n      <td>210882.0</td>\n      <td>196080.0</td>\n      <td>123347.0</td>\n    </tr>\n    <tr>\n      <th>1</th>\n      <td>2011</td>\n      <td>324</td>\n      <td>Adirondack Medical Center-Saranac Lake Site</td>\n      <td>5</td>\n      <td>4</td>\n      <td>Tracheostomy W MV 96+ Hours W/O Extensive Proc...</td>\n      <td>Extreme</td>\n      <td>P</td>\n      <td>Surgical</td>\n      <td>1</td>\n      <td>102190.0</td>\n      <td>102190.0</td>\n      <td>59641.0</td>\n      <td>59641.0</td>\n    </tr>\n    <tr>\n      <th>2</th>\n      <td>2011</td>\n      <td>324</td>\n      <td>Adirondack Medical Center-Saranac Lake Site</td>\n      <td>24</td>\n      <td>2</td>\n      <td>Extracranial Vascular Procedures</td>\n      <td>Moderate</td>\n      <td>P</td>\n      <td>Surgical</td>\n      <td>6</td>\n      <td>14172.0</td>\n      <td>13506.0</td>\n      <td>6888.0</td>\n      <td>6445.0</td>\n    </tr>\n    <tr>\n      <th>3</th>\n      <td>2011</td>\n      <td>324</td>\n      <td>Adirondack Medical Center-Saranac Lake Site</td>\n      <td>26</td>\n      <td>1</td>\n      <td>Other Nervous System &amp; Related Procedures</td>\n      <td>Minor</td>\n      <td>P</td>\n      <td>Surgical</td>\n      <td>1</td>\n      <td>8833.0</td>\n      <td>8833.0</td>\n      <td>4259.0</td>\n      <td>4259.0</td>\n    </tr>\n    <tr>\n      <th>4</th>\n      <td>2011</td>\n      <td>324</td>\n      <td>Adirondack Medical Center-Saranac Lake Site</td>\n      <td>41</td>\n      <td>1</td>\n      <td>Nervous System Malignancy</td>\n      <td>Minor</td>\n      <td>M</td>\n      <td>Medical</td>\n      <td>1</td>\n      <td>5264.0</td>\n      <td>5264.0</td>\n      <td>1727.0</td>\n      <td>1727.0</td>\n    </tr>\n    <tr>\n      <th>...</th>\n      <td>...</td>\n      <td>...</td>\n      <td>...</td>\n      <td>...</td>\n      <td>...</td>\n      <td>...</td>\n      <td>...</td>\n      <td>...</td>\n      <td>...</td>\n      <td>...</td>\n      <td>...</td>\n      <td>...</td>\n      <td>...</td>\n      <td>...</td>\n    </tr>\n    <tr>\n      <th>383488</th>\n      <td>2009</td>\n      <td>1153</td>\n      <td>Wyoming County Community Hospital</td>\n      <td>951</td>\n      <td>3</td>\n      <td>Moderately Extensive Procedure Unrelated To Pr...</td>\n      <td>Major</td>\n      <td>P</td>\n      <td>Surgical</td>\n      <td>5</td>\n      <td>13572.0</td>\n      <td>12615.0</td>\n      <td>14433.0</td>\n      <td>15835.0</td>\n    </tr>\n    <tr>\n      <th>383489</th>\n      <td>2009</td>\n      <td>1153</td>\n      <td>Wyoming County Community Hospital</td>\n      <td>952</td>\n      <td>3</td>\n      <td>Nonextensive Procedure Unrelated To Principal ...</td>\n      <td>Major</td>\n      <td>P</td>\n      <td>Surgical</td>\n      <td>4</td>\n      <td>8323.0</td>\n      <td>8179.0</td>\n      <td>9520.0</td>\n      <td>8674.0</td>\n    </tr>\n    <tr>\n      <th>383490</th>\n      <td>2009</td>\n      <td>1153</td>\n      <td>Wyoming County Community Hospital</td>\n      <td>952</td>\n      <td>2</td>\n      <td>Nonextensive Procedure Unrelated To Principal ...</td>\n      <td>Moderate</td>\n      <td>P</td>\n      <td>Surgical</td>\n      <td>5</td>\n      <td>7746.0</td>\n      <td>5120.0</td>\n      <td>7257.0</td>\n      <td>5321.0</td>\n    </tr>\n    <tr>\n      <th>383491</th>\n      <td>2009</td>\n      <td>1153</td>\n      <td>Wyoming County Community Hospital</td>\n      <td>952</td>\n      <td>1</td>\n      <td>Nonextensive Procedure Unrelated To Principal ...</td>\n      <td>Minor</td>\n      <td>P</td>\n      <td>Surgical</td>\n      <td>1</td>\n      <td>7892.0</td>\n      <td>7892.0</td>\n      <td>6528.0</td>\n      <td>6528.0</td>\n    </tr>\n    <tr>\n      <th>383492</th>\n      <td>2009</td>\n      <td>1153</td>\n      <td>Wyoming County Community Hospital</td>\n      <td>956</td>\n      <td>0</td>\n      <td>Ungroupable</td>\n      <td>NaN</td>\n      <td>NaN</td>\n      <td>Other</td>\n      <td>3</td>\n      <td>1069.0</td>\n      <td>1309.0</td>\n      <td>1719.0</td>\n      <td>1756.0</td>\n    </tr>\n  </tbody>\n</table>\n<p>383493 rows × 14 columns</p>\n</div>"
     },
     "metadata": {},
     "execution_count": 57
    }
   ],
   "source": [
    "# write here:\n",
    "# !head -1 data/hospital-costs.csv\n",
    "hospital_costs = pd.read_csv('data/hospital-costs.csv', delimiter = ',')\n",
    "hospital_costs"
   ]
  },
  {
   "cell_type": "markdown",
   "metadata": {},
   "source": [
    "<details><summary>Solution\n",
    "</summary>\n",
    "\n",
    "```python\n",
    "!head -1 data/hospital-costs.csv\n",
    "\n",
    "hospital_costs = pd.read_csv('data/hospital-costs.csv')\n",
    "hospital_costs\n",
    "```\n",
    "\n",
    "</details>"
   ]
  },
  {
   "cell_type": "markdown",
   "metadata": {},
   "source": [
    "### Question:\n",
    "\n",
    "Load in winequality-white.csv as 'wine_quality_white'."
   ]
  },
  {
   "cell_type": "code",
   "execution_count": 58,
   "metadata": {},
   "outputs": [
    {
     "output_type": "stream",
     "name": "stdout",
     "text": [
      "\u001b[31mchess_games.csv\u001b[m\u001b[m*       hospital-costs.csv     winequality-red.csv\n\u001b[31mexo_planet.csv\u001b[m\u001b[m*        playgolf.csv           winequality-white.csv\n"
     ]
    }
   ],
   "source": [
    "ls data"
   ]
  },
  {
   "cell_type": "code",
   "execution_count": 59,
   "metadata": {},
   "outputs": [
    {
     "output_type": "execute_result",
     "data": {
      "text/plain": [
       "      fixed acidity  volatile acidity  citric acid  residual sugar  chlorides  \\\n",
       "0               7.0              0.27         0.36            20.7      0.045   \n",
       "1               6.3              0.30         0.34             1.6      0.049   \n",
       "2               8.1              0.28         0.40             6.9      0.050   \n",
       "3               7.2              0.23         0.32             8.5      0.058   \n",
       "4               7.2              0.23         0.32             8.5      0.058   \n",
       "...             ...               ...          ...             ...        ...   \n",
       "4893            6.2              0.21         0.29             1.6      0.039   \n",
       "4894            6.6              0.32         0.36             8.0      0.047   \n",
       "4895            6.5              0.24         0.19             1.2      0.041   \n",
       "4896            5.5              0.29         0.30             1.1      0.022   \n",
       "4897            6.0              0.21         0.38             0.8      0.020   \n",
       "\n",
       "      free sulfur dioxide  total sulfur dioxide  density    pH  sulphates  \\\n",
       "0                    45.0                 170.0  1.00100  3.00       0.45   \n",
       "1                    14.0                 132.0  0.99400  3.30       0.49   \n",
       "2                    30.0                  97.0  0.99510  3.26       0.44   \n",
       "3                    47.0                 186.0  0.99560  3.19       0.40   \n",
       "4                    47.0                 186.0  0.99560  3.19       0.40   \n",
       "...                   ...                   ...      ...   ...        ...   \n",
       "4893                 24.0                  92.0  0.99114  3.27       0.50   \n",
       "4894                 57.0                 168.0  0.99490  3.15       0.46   \n",
       "4895                 30.0                 111.0  0.99254  2.99       0.46   \n",
       "4896                 20.0                 110.0  0.98869  3.34       0.38   \n",
       "4897                 22.0                  98.0  0.98941  3.26       0.32   \n",
       "\n",
       "      alcohol  quality  \n",
       "0         8.8        6  \n",
       "1         9.5        6  \n",
       "2        10.1        6  \n",
       "3         9.9        6  \n",
       "4         9.9        6  \n",
       "...       ...      ...  \n",
       "4893     11.2        6  \n",
       "4894      9.6        5  \n",
       "4895      9.4        6  \n",
       "4896     12.8        7  \n",
       "4897     11.8        6  \n",
       "\n",
       "[4898 rows x 12 columns]"
      ],
      "text/html": "<div>\n<style scoped>\n    .dataframe tbody tr th:only-of-type {\n        vertical-align: middle;\n    }\n\n    .dataframe tbody tr th {\n        vertical-align: top;\n    }\n\n    .dataframe thead th {\n        text-align: right;\n    }\n</style>\n<table border=\"1\" class=\"dataframe\">\n  <thead>\n    <tr style=\"text-align: right;\">\n      <th></th>\n      <th>fixed acidity</th>\n      <th>volatile acidity</th>\n      <th>citric acid</th>\n      <th>residual sugar</th>\n      <th>chlorides</th>\n      <th>free sulfur dioxide</th>\n      <th>total sulfur dioxide</th>\n      <th>density</th>\n      <th>pH</th>\n      <th>sulphates</th>\n      <th>alcohol</th>\n      <th>quality</th>\n    </tr>\n  </thead>\n  <tbody>\n    <tr>\n      <th>0</th>\n      <td>7.0</td>\n      <td>0.27</td>\n      <td>0.36</td>\n      <td>20.7</td>\n      <td>0.045</td>\n      <td>45.0</td>\n      <td>170.0</td>\n      <td>1.00100</td>\n      <td>3.00</td>\n      <td>0.45</td>\n      <td>8.8</td>\n      <td>6</td>\n    </tr>\n    <tr>\n      <th>1</th>\n      <td>6.3</td>\n      <td>0.30</td>\n      <td>0.34</td>\n      <td>1.6</td>\n      <td>0.049</td>\n      <td>14.0</td>\n      <td>132.0</td>\n      <td>0.99400</td>\n      <td>3.30</td>\n      <td>0.49</td>\n      <td>9.5</td>\n      <td>6</td>\n    </tr>\n    <tr>\n      <th>2</th>\n      <td>8.1</td>\n      <td>0.28</td>\n      <td>0.40</td>\n      <td>6.9</td>\n      <td>0.050</td>\n      <td>30.0</td>\n      <td>97.0</td>\n      <td>0.99510</td>\n      <td>3.26</td>\n      <td>0.44</td>\n      <td>10.1</td>\n      <td>6</td>\n    </tr>\n    <tr>\n      <th>3</th>\n      <td>7.2</td>\n      <td>0.23</td>\n      <td>0.32</td>\n      <td>8.5</td>\n      <td>0.058</td>\n      <td>47.0</td>\n      <td>186.0</td>\n      <td>0.99560</td>\n      <td>3.19</td>\n      <td>0.40</td>\n      <td>9.9</td>\n      <td>6</td>\n    </tr>\n    <tr>\n      <th>4</th>\n      <td>7.2</td>\n      <td>0.23</td>\n      <td>0.32</td>\n      <td>8.5</td>\n      <td>0.058</td>\n      <td>47.0</td>\n      <td>186.0</td>\n      <td>0.99560</td>\n      <td>3.19</td>\n      <td>0.40</td>\n      <td>9.9</td>\n      <td>6</td>\n    </tr>\n    <tr>\n      <th>...</th>\n      <td>...</td>\n      <td>...</td>\n      <td>...</td>\n      <td>...</td>\n      <td>...</td>\n      <td>...</td>\n      <td>...</td>\n      <td>...</td>\n      <td>...</td>\n      <td>...</td>\n      <td>...</td>\n      <td>...</td>\n    </tr>\n    <tr>\n      <th>4893</th>\n      <td>6.2</td>\n      <td>0.21</td>\n      <td>0.29</td>\n      <td>1.6</td>\n      <td>0.039</td>\n      <td>24.0</td>\n      <td>92.0</td>\n      <td>0.99114</td>\n      <td>3.27</td>\n      <td>0.50</td>\n      <td>11.2</td>\n      <td>6</td>\n    </tr>\n    <tr>\n      <th>4894</th>\n      <td>6.6</td>\n      <td>0.32</td>\n      <td>0.36</td>\n      <td>8.0</td>\n      <td>0.047</td>\n      <td>57.0</td>\n      <td>168.0</td>\n      <td>0.99490</td>\n      <td>3.15</td>\n      <td>0.46</td>\n      <td>9.6</td>\n      <td>5</td>\n    </tr>\n    <tr>\n      <th>4895</th>\n      <td>6.5</td>\n      <td>0.24</td>\n      <td>0.19</td>\n      <td>1.2</td>\n      <td>0.041</td>\n      <td>30.0</td>\n      <td>111.0</td>\n      <td>0.99254</td>\n      <td>2.99</td>\n      <td>0.46</td>\n      <td>9.4</td>\n      <td>6</td>\n    </tr>\n    <tr>\n      <th>4896</th>\n      <td>5.5</td>\n      <td>0.29</td>\n      <td>0.30</td>\n      <td>1.1</td>\n      <td>0.022</td>\n      <td>20.0</td>\n      <td>110.0</td>\n      <td>0.98869</td>\n      <td>3.34</td>\n      <td>0.38</td>\n      <td>12.8</td>\n      <td>7</td>\n    </tr>\n    <tr>\n      <th>4897</th>\n      <td>6.0</td>\n      <td>0.21</td>\n      <td>0.38</td>\n      <td>0.8</td>\n      <td>0.020</td>\n      <td>22.0</td>\n      <td>98.0</td>\n      <td>0.98941</td>\n      <td>3.26</td>\n      <td>0.32</td>\n      <td>11.8</td>\n      <td>6</td>\n    </tr>\n  </tbody>\n</table>\n<p>4898 rows × 12 columns</p>\n</div>"
     },
     "metadata": {},
     "execution_count": 59
    }
   ],
   "source": [
    "# write here:\n",
    "\n",
    "# !head - 1 data/winequality-white.csv\n",
    "wine_quality_white = pd.read_csv('data/winequality-white.csv', delimiter = ';')\n",
    "wine_quality_white"
   ]
  },
  {
   "cell_type": "markdown",
   "metadata": {},
   "source": [
    "<details><summary>Solution\n",
    "</summary>\n",
    "\n",
    "```python\n",
    "!head -5 data/winequality-white.csv # to see what delimiter\n",
    "\n",
    "wine_quality_white = pd.read_csv('data/winequality-white.csv', delimiter=';')\n",
    "wine_quality_white\n",
    "```\n",
    "\n",
    "</details>"
   ]
  },
  {
   "cell_type": "markdown",
   "metadata": {},
   "source": [
    "## Extracting information from DataFrames"
   ]
  },
  {
   "cell_type": "markdown",
   "metadata": {},
   "source": [
    "#### Basic Row and Column Indexing"
   ]
  },
  {
   "cell_type": "markdown",
   "metadata": {},
   "source": [
    "As we have seen, individual columns may be extracted from a `DataFrame` as a `Series` using the usual `__getitem__` style indexing using the name of the column.  \n",
    "\n",
    "This is similar to how we index a dictionary."
   ]
  },
  {
   "cell_type": "code",
   "execution_count": 60,
   "metadata": {},
   "outputs": [
    {
     "output_type": "execute_result",
     "data": {
      "text/plain": [
       "0     85\n",
       "1     80\n",
       "2     83\n",
       "3     70\n",
       "4     68\n",
       "5     65\n",
       "6     64\n",
       "7     72\n",
       "8     69\n",
       "9     75\n",
       "10    75\n",
       "11    72\n",
       "12    81\n",
       "13    71\n",
       "Name: Temperature, dtype: int64"
      ]
     },
     "metadata": {},
     "execution_count": 60
    }
   ],
   "source": [
    "golf_df['Temperature']"
   ]
  },
  {
   "cell_type": "markdown",
   "metadata": {},
   "source": [
    "We can extract individual values by taking the series out of the matrix, then treating it like a list."
   ]
  },
  {
   "cell_type": "code",
   "execution_count": 61,
   "metadata": {},
   "outputs": [
    {
     "output_type": "execute_result",
     "data": {
      "text/plain": [
       "85"
      ]
     },
     "metadata": {},
     "execution_count": 61
    }
   ],
   "source": [
    "golf_df['Temperature'][0]"
   ]
  },
  {
   "cell_type": "markdown",
   "metadata": {},
   "source": [
    "We can extract multiple rows at once."
   ]
  },
  {
   "cell_type": "code",
   "execution_count": 62,
   "metadata": {},
   "outputs": [
    {
     "output_type": "execute_result",
     "data": {
      "text/plain": [
       "    Temperature  Humidity\n",
       "0            85        85\n",
       "1            80        90\n",
       "2            83        78\n",
       "3            70        96\n",
       "4            68        80\n",
       "5            65        70\n",
       "6            64        65\n",
       "7            72        95\n",
       "8            69        70\n",
       "9            75        80\n",
       "10           75        70\n",
       "11           72        90\n",
       "12           81        75\n",
       "13           71        80"
      ],
      "text/html": "<div>\n<style scoped>\n    .dataframe tbody tr th:only-of-type {\n        vertical-align: middle;\n    }\n\n    .dataframe tbody tr th {\n        vertical-align: top;\n    }\n\n    .dataframe thead th {\n        text-align: right;\n    }\n</style>\n<table border=\"1\" class=\"dataframe\">\n  <thead>\n    <tr style=\"text-align: right;\">\n      <th></th>\n      <th>Temperature</th>\n      <th>Humidity</th>\n    </tr>\n  </thead>\n  <tbody>\n    <tr>\n      <th>0</th>\n      <td>85</td>\n      <td>85</td>\n    </tr>\n    <tr>\n      <th>1</th>\n      <td>80</td>\n      <td>90</td>\n    </tr>\n    <tr>\n      <th>2</th>\n      <td>83</td>\n      <td>78</td>\n    </tr>\n    <tr>\n      <th>3</th>\n      <td>70</td>\n      <td>96</td>\n    </tr>\n    <tr>\n      <th>4</th>\n      <td>68</td>\n      <td>80</td>\n    </tr>\n    <tr>\n      <th>5</th>\n      <td>65</td>\n      <td>70</td>\n    </tr>\n    <tr>\n      <th>6</th>\n      <td>64</td>\n      <td>65</td>\n    </tr>\n    <tr>\n      <th>7</th>\n      <td>72</td>\n      <td>95</td>\n    </tr>\n    <tr>\n      <th>8</th>\n      <td>69</td>\n      <td>70</td>\n    </tr>\n    <tr>\n      <th>9</th>\n      <td>75</td>\n      <td>80</td>\n    </tr>\n    <tr>\n      <th>10</th>\n      <td>75</td>\n      <td>70</td>\n    </tr>\n    <tr>\n      <th>11</th>\n      <td>72</td>\n      <td>90</td>\n    </tr>\n    <tr>\n      <th>12</th>\n      <td>81</td>\n      <td>75</td>\n    </tr>\n    <tr>\n      <th>13</th>\n      <td>71</td>\n      <td>80</td>\n    </tr>\n  </tbody>\n</table>\n</div>"
     },
     "metadata": {},
     "execution_count": 62
    }
   ],
   "source": [
    "golf_df[['Temperature', 'Humidity']]"
   ]
  },
  {
   "cell_type": "markdown",
   "metadata": {},
   "source": [
    "If you try to index with a slice, however, it will only operate on the rows."
   ]
  },
  {
   "cell_type": "code",
   "execution_count": 63,
   "metadata": {},
   "outputs": [
    {
     "output_type": "execute_result",
     "data": {
      "text/plain": [
       "     Date   Outlook  Temperature  Humidity  Windy      Result\n",
       "0  7/1/14     sunny           85        85  False  Don't Play\n",
       "1  7/2/14     sunny           80        90   True  Don't Play\n",
       "2  7/3/14  overcast           83        78  False        Play\n",
       "3  7/4/14      rain           70        96  False        Play\n",
       "4  7/5/14      rain           68        80  False        Play"
      ],
      "text/html": "<div>\n<style scoped>\n    .dataframe tbody tr th:only-of-type {\n        vertical-align: middle;\n    }\n\n    .dataframe tbody tr th {\n        vertical-align: top;\n    }\n\n    .dataframe thead th {\n        text-align: right;\n    }\n</style>\n<table border=\"1\" class=\"dataframe\">\n  <thead>\n    <tr style=\"text-align: right;\">\n      <th></th>\n      <th>Date</th>\n      <th>Outlook</th>\n      <th>Temperature</th>\n      <th>Humidity</th>\n      <th>Windy</th>\n      <th>Result</th>\n    </tr>\n  </thead>\n  <tbody>\n    <tr>\n      <th>0</th>\n      <td>7/1/14</td>\n      <td>sunny</td>\n      <td>85</td>\n      <td>85</td>\n      <td>False</td>\n      <td>Don't Play</td>\n    </tr>\n    <tr>\n      <th>1</th>\n      <td>7/2/14</td>\n      <td>sunny</td>\n      <td>80</td>\n      <td>90</td>\n      <td>True</td>\n      <td>Don't Play</td>\n    </tr>\n    <tr>\n      <th>2</th>\n      <td>7/3/14</td>\n      <td>overcast</td>\n      <td>83</td>\n      <td>78</td>\n      <td>False</td>\n      <td>Play</td>\n    </tr>\n    <tr>\n      <th>3</th>\n      <td>7/4/14</td>\n      <td>rain</td>\n      <td>70</td>\n      <td>96</td>\n      <td>False</td>\n      <td>Play</td>\n    </tr>\n    <tr>\n      <th>4</th>\n      <td>7/5/14</td>\n      <td>rain</td>\n      <td>68</td>\n      <td>80</td>\n      <td>False</td>\n      <td>Play</td>\n    </tr>\n  </tbody>\n</table>\n</div>"
     },
     "metadata": {},
     "execution_count": 63
    }
   ],
   "source": [
    "short_df = golf_df[0:5]\n",
    "short_df"
   ]
  },
  {
   "cell_type": "markdown",
   "metadata": {},
   "source": [
    "### Question:\n",
    "\n",
    "Look at hospital_costs Facility Id, Year, Discharges, and Mean Charge columns side by side in a dataframe.\n",
    "\n",
    "```python\n",
    "        Facility Id  Year  Discharges  Mean Charge\n",
    "0               324  2011           3     361289.0\n",
    "1               324  2011           1     102190.0\n",
    "2               324  2011           6      14172.0\n",
    "3               324  2011           1       8833.0\n",
    "4               324  2011           1       5264.0\n",
    "...             ...   ...         ...          ...\n",
    "383488         1153  2009           5      13572.0\n",
    "383489         1153  2009           4       8323.0\n",
    "383490         1153  2009           5       7746.0\n",
    "383491         1153  2009           1       7892.0\n",
    "383492         1153  2009           3       1069.0\n",
    "```"
   ]
  },
  {
   "cell_type": "code",
   "execution_count": 64,
   "metadata": {},
   "outputs": [
    {
     "output_type": "execute_result",
     "data": {
      "text/plain": [
       "        Facility Id  Year  Discharges  Mean Charge\n",
       "0               324  2011           3     361289.0\n",
       "1               324  2011           1     102190.0\n",
       "2               324  2011           6      14172.0\n",
       "3               324  2011           1       8833.0\n",
       "4               324  2011           1       5264.0\n",
       "...             ...   ...         ...          ...\n",
       "383488         1153  2009           5      13572.0\n",
       "383489         1153  2009           4       8323.0\n",
       "383490         1153  2009           5       7746.0\n",
       "383491         1153  2009           1       7892.0\n",
       "383492         1153  2009           3       1069.0\n",
       "\n",
       "[383493 rows x 4 columns]"
      ],
      "text/html": "<div>\n<style scoped>\n    .dataframe tbody tr th:only-of-type {\n        vertical-align: middle;\n    }\n\n    .dataframe tbody tr th {\n        vertical-align: top;\n    }\n\n    .dataframe thead th {\n        text-align: right;\n    }\n</style>\n<table border=\"1\" class=\"dataframe\">\n  <thead>\n    <tr style=\"text-align: right;\">\n      <th></th>\n      <th>Facility Id</th>\n      <th>Year</th>\n      <th>Discharges</th>\n      <th>Mean Charge</th>\n    </tr>\n  </thead>\n  <tbody>\n    <tr>\n      <th>0</th>\n      <td>324</td>\n      <td>2011</td>\n      <td>3</td>\n      <td>361289.0</td>\n    </tr>\n    <tr>\n      <th>1</th>\n      <td>324</td>\n      <td>2011</td>\n      <td>1</td>\n      <td>102190.0</td>\n    </tr>\n    <tr>\n      <th>2</th>\n      <td>324</td>\n      <td>2011</td>\n      <td>6</td>\n      <td>14172.0</td>\n    </tr>\n    <tr>\n      <th>3</th>\n      <td>324</td>\n      <td>2011</td>\n      <td>1</td>\n      <td>8833.0</td>\n    </tr>\n    <tr>\n      <th>4</th>\n      <td>324</td>\n      <td>2011</td>\n      <td>1</td>\n      <td>5264.0</td>\n    </tr>\n    <tr>\n      <th>...</th>\n      <td>...</td>\n      <td>...</td>\n      <td>...</td>\n      <td>...</td>\n    </tr>\n    <tr>\n      <th>383488</th>\n      <td>1153</td>\n      <td>2009</td>\n      <td>5</td>\n      <td>13572.0</td>\n    </tr>\n    <tr>\n      <th>383489</th>\n      <td>1153</td>\n      <td>2009</td>\n      <td>4</td>\n      <td>8323.0</td>\n    </tr>\n    <tr>\n      <th>383490</th>\n      <td>1153</td>\n      <td>2009</td>\n      <td>5</td>\n      <td>7746.0</td>\n    </tr>\n    <tr>\n      <th>383491</th>\n      <td>1153</td>\n      <td>2009</td>\n      <td>1</td>\n      <td>7892.0</td>\n    </tr>\n    <tr>\n      <th>383492</th>\n      <td>1153</td>\n      <td>2009</td>\n      <td>3</td>\n      <td>1069.0</td>\n    </tr>\n  </tbody>\n</table>\n<p>383493 rows × 4 columns</p>\n</div>"
     },
     "metadata": {},
     "execution_count": 64
    }
   ],
   "source": [
    "# write here:\n",
    "hospital_costs[['Facility Id', 'Year', 'Discharges', 'Mean Charge']]\n"
   ]
  },
  {
   "cell_type": "markdown",
   "metadata": {},
   "source": [
    "<details><summary>Solution\n",
    "</summary>\n",
    "\n",
    "```python\n",
    "print(hospital_costs[['Facility Id', 'Year', 'Discharges', 'Mean Charge']])\n",
    "```\n",
    "\n",
    "</details>"
   ]
  },
  {
   "cell_type": "markdown",
   "metadata": {},
   "source": [
    "## Boolean / Logical Indexing"
   ]
  },
  {
   "cell_type": "markdown",
   "metadata": {},
   "source": [
    "We can also index into a `DataFrame` using a list of **booleans** (i.e. `True` and `False` values). This will also operate on the rows."
   ]
  },
  {
   "cell_type": "code",
   "execution_count": 65,
   "metadata": {},
   "outputs": [
    {
     "output_type": "execute_result",
     "data": {
      "text/plain": [
       "     Date   Outlook  Temperature  Humidity  Windy      Result\n",
       "0  7/1/14     sunny           85        85  False  Don't Play\n",
       "2  7/3/14  overcast           83        78  False        Play\n",
       "4  7/5/14      rain           68        80  False        Play"
      ],
      "text/html": "<div>\n<style scoped>\n    .dataframe tbody tr th:only-of-type {\n        vertical-align: middle;\n    }\n\n    .dataframe tbody tr th {\n        vertical-align: top;\n    }\n\n    .dataframe thead th {\n        text-align: right;\n    }\n</style>\n<table border=\"1\" class=\"dataframe\">\n  <thead>\n    <tr style=\"text-align: right;\">\n      <th></th>\n      <th>Date</th>\n      <th>Outlook</th>\n      <th>Temperature</th>\n      <th>Humidity</th>\n      <th>Windy</th>\n      <th>Result</th>\n    </tr>\n  </thead>\n  <tbody>\n    <tr>\n      <th>0</th>\n      <td>7/1/14</td>\n      <td>sunny</td>\n      <td>85</td>\n      <td>85</td>\n      <td>False</td>\n      <td>Don't Play</td>\n    </tr>\n    <tr>\n      <th>2</th>\n      <td>7/3/14</td>\n      <td>overcast</td>\n      <td>83</td>\n      <td>78</td>\n      <td>False</td>\n      <td>Play</td>\n    </tr>\n    <tr>\n      <th>4</th>\n      <td>7/5/14</td>\n      <td>rain</td>\n      <td>68</td>\n      <td>80</td>\n      <td>False</td>\n      <td>Play</td>\n    </tr>\n  </tbody>\n</table>\n</div>"
     },
     "metadata": {},
     "execution_count": 65
    }
   ],
   "source": [
    "# Takes rows 0, 2, and 4.\n",
    "short_df[[True, False, True, False, True]]"
   ]
  },
  {
   "cell_type": "markdown",
   "metadata": {},
   "source": [
    "Which doesn't seem that useful...except we can create a boolean `Series` by using comparisons on a Series"
   ]
  },
  {
   "cell_type": "code",
   "execution_count": 66,
   "metadata": {},
   "outputs": [
    {
     "output_type": "execute_result",
     "data": {
      "text/plain": [
       "0      True\n",
       "1      True\n",
       "2      True\n",
       "3     False\n",
       "4     False\n",
       "5     False\n",
       "6     False\n",
       "7      True\n",
       "8     False\n",
       "9      True\n",
       "10     True\n",
       "11     True\n",
       "12     True\n",
       "13     True\n",
       "Name: Temperature, dtype: bool"
      ]
     },
     "metadata": {},
     "execution_count": 66
    }
   ],
   "source": [
    "# A series of booleans.\n",
    "golf_df['Temperature'] > 70"
   ]
  },
  {
   "cell_type": "markdown",
   "metadata": {},
   "source": [
    "And them use the result to grab rows of the dataframe."
   ]
  },
  {
   "cell_type": "code",
   "execution_count": 67,
   "metadata": {},
   "outputs": [
    {
     "output_type": "execute_result",
     "data": {
      "text/plain": [
       "       Date  Windy\n",
       "0    7/1/14  False\n",
       "1    7/2/14   True\n",
       "2    7/3/14  False\n",
       "7    7/8/14  False\n",
       "9   7/10/14  False\n",
       "10  7/11/14   True\n",
       "11  7/12/14   True\n",
       "12  7/13/14  False\n",
       "13  7/14/14   True"
      ],
      "text/html": "<div>\n<style scoped>\n    .dataframe tbody tr th:only-of-type {\n        vertical-align: middle;\n    }\n\n    .dataframe tbody tr th {\n        vertical-align: top;\n    }\n\n    .dataframe thead th {\n        text-align: right;\n    }\n</style>\n<table border=\"1\" class=\"dataframe\">\n  <thead>\n    <tr style=\"text-align: right;\">\n      <th></th>\n      <th>Date</th>\n      <th>Windy</th>\n    </tr>\n  </thead>\n  <tbody>\n    <tr>\n      <th>0</th>\n      <td>7/1/14</td>\n      <td>False</td>\n    </tr>\n    <tr>\n      <th>1</th>\n      <td>7/2/14</td>\n      <td>True</td>\n    </tr>\n    <tr>\n      <th>2</th>\n      <td>7/3/14</td>\n      <td>False</td>\n    </tr>\n    <tr>\n      <th>7</th>\n      <td>7/8/14</td>\n      <td>False</td>\n    </tr>\n    <tr>\n      <th>9</th>\n      <td>7/10/14</td>\n      <td>False</td>\n    </tr>\n    <tr>\n      <th>10</th>\n      <td>7/11/14</td>\n      <td>True</td>\n    </tr>\n    <tr>\n      <th>11</th>\n      <td>7/12/14</td>\n      <td>True</td>\n    </tr>\n    <tr>\n      <th>12</th>\n      <td>7/13/14</td>\n      <td>False</td>\n    </tr>\n    <tr>\n      <th>13</th>\n      <td>7/14/14</td>\n      <td>True</td>\n    </tr>\n  </tbody>\n</table>\n</div>"
     },
     "metadata": {},
     "execution_count": 67
    }
   ],
   "source": [
    "golf_df[golf_df['Temperature'] > 70][[\"Date\", \"Windy\"]]"
   ]
  },
  {
   "cell_type": "markdown",
   "metadata": {},
   "source": [
    "This is essentially applying a logical condition to select rows from a `DataFrame`.  This is one of the most common patterns in Pandas."
   ]
  },
  {
   "cell_type": "markdown",
   "metadata": {},
   "source": [
    "To review: if you index a `DataFrame` with a **single value** or a **list of values**, it selects the **columns**.\n",
    "\n",
    "If you use a **slice** or **sequence of booleans**, it selects the **rows**. "
   ]
  },
  {
   "cell_type": "markdown",
   "metadata": {},
   "source": [
    "### Question:\n",
    "\n",
    "Select all of the days in which the humidity is larger than 90 from 'golf_df'.\n",
    "\n",
    "```python\n",
    "     Date Outlook  Temperature  Humidity  Windy      Result\n",
    "3  7/4/14    rain           70        96  False        Play\n",
    "7  7/8/14   sunny           72        95  False  Don't Play\n",
    "```"
   ]
  },
  {
   "cell_type": "code",
   "execution_count": 68,
   "metadata": {},
   "outputs": [
    {
     "output_type": "execute_result",
     "data": {
      "text/plain": [
       "     Date Outlook  Temperature  Humidity  Windy      Result\n",
       "3  7/4/14    rain           70        96  False        Play\n",
       "7  7/8/14   sunny           72        95  False  Don't Play"
      ],
      "text/html": "<div>\n<style scoped>\n    .dataframe tbody tr th:only-of-type {\n        vertical-align: middle;\n    }\n\n    .dataframe tbody tr th {\n        vertical-align: top;\n    }\n\n    .dataframe thead th {\n        text-align: right;\n    }\n</style>\n<table border=\"1\" class=\"dataframe\">\n  <thead>\n    <tr style=\"text-align: right;\">\n      <th></th>\n      <th>Date</th>\n      <th>Outlook</th>\n      <th>Temperature</th>\n      <th>Humidity</th>\n      <th>Windy</th>\n      <th>Result</th>\n    </tr>\n  </thead>\n  <tbody>\n    <tr>\n      <th>3</th>\n      <td>7/4/14</td>\n      <td>rain</td>\n      <td>70</td>\n      <td>96</td>\n      <td>False</td>\n      <td>Play</td>\n    </tr>\n    <tr>\n      <th>7</th>\n      <td>7/8/14</td>\n      <td>sunny</td>\n      <td>72</td>\n      <td>95</td>\n      <td>False</td>\n      <td>Don't Play</td>\n    </tr>\n  </tbody>\n</table>\n</div>"
     },
     "metadata": {},
     "execution_count": 68
    }
   ],
   "source": [
    "# write here:\n",
    "golf_df[golf_df['Humidity'] > 90]\n"
   ]
  },
  {
   "cell_type": "markdown",
   "metadata": {},
   "source": [
    "<details><summary>Solution\n",
    "</summary>\n",
    "\n",
    "```python\n",
    "golf_df[golf_df['Humidity']>90]\n",
    "```\n",
    "\n",
    "</details>"
   ]
  },
  {
   "cell_type": "markdown",
   "metadata": {},
   "source": [
    "## logical aside"
   ]
  },
  {
   "cell_type": "markdown",
   "metadata": {},
   "source": [
    "As a reminder, logical operators with arrays AND series look like"
   ]
  },
  {
   "cell_type": "code",
   "execution_count": 69,
   "metadata": {},
   "outputs": [
    {
     "output_type": "execute_result",
     "data": {
      "text/plain": [
       "0     False\n",
       "1     False\n",
       "2     False\n",
       "3      True\n",
       "4     False\n",
       "5     False\n",
       "6     False\n",
       "7      True\n",
       "8     False\n",
       "9     False\n",
       "10    False\n",
       "11    False\n",
       "12    False\n",
       "13    False\n",
       "dtype: bool"
      ]
     },
     "metadata": {},
     "execution_count": 69
    }
   ],
   "source": [
    "(golf_df['Humidity']>90) | (golf_df['Outlook']==\"Sunny\") # '|' is 'OR'"
   ]
  },
  {
   "cell_type": "code",
   "execution_count": 70,
   "metadata": {},
   "outputs": [
    {
     "output_type": "execute_result",
     "data": {
      "text/plain": [
       "0     False\n",
       "1      True\n",
       "2     False\n",
       "3     False\n",
       "4     False\n",
       "5      True\n",
       "6     False\n",
       "7     False\n",
       "8     False\n",
       "9     False\n",
       "10    False\n",
       "11    False\n",
       "12    False\n",
       "13     True\n",
       "dtype: bool"
      ]
     },
     "metadata": {},
     "execution_count": 70
    }
   ],
   "source": [
    "(golf_df['Result']==\"Don't Play\") & golf_df['Windy'] # '&' is 'AND'"
   ]
  },
  {
   "cell_type": "markdown",
   "metadata": {},
   "source": [
    "### Question:\n",
    "\n",
    "Select all of the rainy days in which the temperature is less than 70 degrees."
   ]
  },
  {
   "cell_type": "code",
   "execution_count": 71,
   "metadata": {},
   "outputs": [
    {
     "output_type": "execute_result",
     "data": {
      "text/plain": [
       "     Date Outlook  Temperature  Humidity  Windy      Result\n",
       "4  7/5/14    rain           68        80  False        Play\n",
       "5  7/6/14    rain           65        70   True  Don't Play"
      ],
      "text/html": "<div>\n<style scoped>\n    .dataframe tbody tr th:only-of-type {\n        vertical-align: middle;\n    }\n\n    .dataframe tbody tr th {\n        vertical-align: top;\n    }\n\n    .dataframe thead th {\n        text-align: right;\n    }\n</style>\n<table border=\"1\" class=\"dataframe\">\n  <thead>\n    <tr style=\"text-align: right;\">\n      <th></th>\n      <th>Date</th>\n      <th>Outlook</th>\n      <th>Temperature</th>\n      <th>Humidity</th>\n      <th>Windy</th>\n      <th>Result</th>\n    </tr>\n  </thead>\n  <tbody>\n    <tr>\n      <th>4</th>\n      <td>7/5/14</td>\n      <td>rain</td>\n      <td>68</td>\n      <td>80</td>\n      <td>False</td>\n      <td>Play</td>\n    </tr>\n    <tr>\n      <th>5</th>\n      <td>7/6/14</td>\n      <td>rain</td>\n      <td>65</td>\n      <td>70</td>\n      <td>True</td>\n      <td>Don't Play</td>\n    </tr>\n  </tbody>\n</table>\n</div>"
     },
     "metadata": {},
     "execution_count": 71
    }
   ],
   "source": [
    "# write here:\n",
    "golf_df[(golf_df['Outlook']=='rain') & (golf_df['Temperature'] < 70)]\n"
   ]
  },
  {
   "cell_type": "markdown",
   "metadata": {},
   "source": [
    "<details><summary>Solution\n",
    "</summary>\n",
    "\n",
    "```python\n",
    "golf_df[(golf_df['Temperature'] <70) & (golf_df['Outlook'] == 'rain')]\n",
    "                                     \n",
    "```\n",
    "\n",
    "</details>"
   ]
  },
  {
   "cell_type": "markdown",
   "metadata": {},
   "source": [
    "### Question:\n",
    "\n",
    "Select the day and Result of the rainy days in which the humidity is larger than 90 from this data frame.\n",
    "\n",
    "```python\n",
    "     Date Result\n",
    "3  7/4/14   Play\n",
    "```"
   ]
  },
  {
   "cell_type": "code",
   "execution_count": 72,
   "metadata": {},
   "outputs": [
    {
     "output_type": "execute_result",
     "data": {
      "text/plain": [
       "     Date Result\n",
       "3  7/4/14   Play"
      ],
      "text/html": "<div>\n<style scoped>\n    .dataframe tbody tr th:only-of-type {\n        vertical-align: middle;\n    }\n\n    .dataframe tbody tr th {\n        vertical-align: top;\n    }\n\n    .dataframe thead th {\n        text-align: right;\n    }\n</style>\n<table border=\"1\" class=\"dataframe\">\n  <thead>\n    <tr style=\"text-align: right;\">\n      <th></th>\n      <th>Date</th>\n      <th>Result</th>\n    </tr>\n  </thead>\n  <tbody>\n    <tr>\n      <th>3</th>\n      <td>7/4/14</td>\n      <td>Play</td>\n    </tr>\n  </tbody>\n</table>\n</div>"
     },
     "metadata": {},
     "execution_count": 72
    }
   ],
   "source": [
    "# write here:\n",
    "golf_df[(golf_df['Outlook']=='rain') & (golf_df['Humidity'] > 90)] [['Date', 'Result']]"
   ]
  },
  {
   "cell_type": "markdown",
   "metadata": {},
   "source": [
    "<details><summary>Solution\n",
    "</summary>\n",
    "\n",
    "```python\n",
    "golf_df[(golf_df['Outlook']==\"rain\") & (golf_df['Humidity']>90)][['Date','Result']]\n",
    "```\n",
    "\n",
    "</details>"
   ]
  },
  {
   "cell_type": "markdown",
   "metadata": {},
   "source": [
    "## Double Indexing"
   ]
  },
  {
   "cell_type": "markdown",
   "metadata": {},
   "source": [
    "Suppose we want to set the value of the `Windy` column where `Temperature > 70` to True (because, um, science)."
   ]
  },
  {
   "cell_type": "code",
   "execution_count": 73,
   "metadata": {},
   "outputs": [
    {
     "output_type": "stream",
     "name": "stderr",
     "text": [
      "<ipython-input-73-908bd5f3714c>:1: SettingWithCopyWarning: \nA value is trying to be set on a copy of a slice from a DataFrame.\nTry using .loc[row_indexer,col_indexer] = value instead\n\nSee the caveats in the documentation: https://pandas.pydata.org/pandas-docs/stable/user_guide/indexing.html#returning-a-view-versus-a-copy\n  golf_df[golf_df['Temperature'] > 70][\"Windy\"] = True\n"
     ]
    }
   ],
   "source": [
    "golf_df[golf_df['Temperature'] > 70][\"Windy\"] = True"
   ]
  },
  {
   "cell_type": "markdown",
   "metadata": {},
   "source": [
    "What?"
   ]
  },
  {
   "cell_type": "code",
   "execution_count": 74,
   "metadata": {},
   "outputs": [
    {
     "output_type": "execute_result",
     "data": {
      "text/plain": [
       "0     False\n",
       "1      True\n",
       "2     False\n",
       "7     False\n",
       "9     False\n",
       "10     True\n",
       "11     True\n",
       "12    False\n",
       "13     True\n",
       "Name: Windy, dtype: bool"
      ]
     },
     "metadata": {},
     "execution_count": 74
    }
   ],
   "source": [
    "golf_df[golf_df['Temperature'] > 70][\"Windy\"]"
   ]
  },
  {
   "cell_type": "markdown",
   "metadata": {},
   "source": [
    "Huh, they're still false. Apparently that error actually meant something."
   ]
  },
  {
   "cell_type": "markdown",
   "metadata": {},
   "source": [
    "This pattern is called double indexing, and it is an antipattern!  Pandas can not guarantee that assignments will hold when you index twice!\n",
    "\n",
    "To fix these issues, we need to study the other indexing options that Pandas provides."
   ]
  },
  {
   "cell_type": "markdown",
   "metadata": {},
   "source": [
    "#### Other Indexers: .loc and .iloc"
   ]
  },
  {
   "cell_type": "markdown",
   "metadata": {},
   "source": [
    "There are a few other indexing objects in pandas, both of which take a value to choose rows and a value to choose columns.\n",
    "\n",
    "  - `df.iloc` is **positionally based**.  This indexer accepts integers and integer slices, and essentially treats the data frame as if it were a simple matrix.\n",
    "  - `df.loc` is **label based**.  This indexer works with row and column indices / labels."
   ]
  },
  {
   "cell_type": "code",
   "execution_count": 75,
   "metadata": {},
   "outputs": [
    {
     "output_type": "execute_result",
     "data": {
      "text/plain": [
       "   some_integers some_strings  some_booleans\n",
       "a              0            x              0\n",
       "b              0            y              0\n",
       "c              1            z              1\n",
       "d              1            x              0\n",
       "e              2            y              1\n",
       "f              2            z              1"
      ],
      "text/html": "<div>\n<style scoped>\n    .dataframe tbody tr th:only-of-type {\n        vertical-align: middle;\n    }\n\n    .dataframe tbody tr th {\n        vertical-align: top;\n    }\n\n    .dataframe thead th {\n        text-align: right;\n    }\n</style>\n<table border=\"1\" class=\"dataframe\">\n  <thead>\n    <tr style=\"text-align: right;\">\n      <th></th>\n      <th>some_integers</th>\n      <th>some_strings</th>\n      <th>some_booleans</th>\n    </tr>\n  </thead>\n  <tbody>\n    <tr>\n      <th>a</th>\n      <td>0</td>\n      <td>x</td>\n      <td>0</td>\n    </tr>\n    <tr>\n      <th>b</th>\n      <td>0</td>\n      <td>y</td>\n      <td>0</td>\n    </tr>\n    <tr>\n      <th>c</th>\n      <td>1</td>\n      <td>z</td>\n      <td>1</td>\n    </tr>\n    <tr>\n      <th>d</th>\n      <td>1</td>\n      <td>x</td>\n      <td>0</td>\n    </tr>\n    <tr>\n      <th>e</th>\n      <td>2</td>\n      <td>y</td>\n      <td>1</td>\n    </tr>\n    <tr>\n      <th>f</th>\n      <td>2</td>\n      <td>z</td>\n      <td>1</td>\n    </tr>\n  </tbody>\n</table>\n</div>"
     },
     "metadata": {},
     "execution_count": 75
    }
   ],
   "source": [
    "df = pd.DataFrame({\n",
    "    'some_integers': [0, 0, 1, 1, 2, 2],\n",
    "    'some_strings': ['x', 'y', 'z', 'x', 'y', 'z'],\n",
    "    'some_booleans': [0, 0, 1, 0, 1, 1]},\n",
    "    index=['a', 'b', 'c', 'd', 'e', 'f']\n",
    ")\n",
    "df"
   ]
  },
  {
   "cell_type": "code",
   "execution_count": 76,
   "metadata": {},
   "outputs": [
    {
     "output_type": "execute_result",
     "data": {
      "text/plain": [
       "   some_integers some_strings\n",
       "c              1            z\n",
       "d              1            x"
      ],
      "text/html": "<div>\n<style scoped>\n    .dataframe tbody tr th:only-of-type {\n        vertical-align: middle;\n    }\n\n    .dataframe tbody tr th {\n        vertical-align: top;\n    }\n\n    .dataframe thead th {\n        text-align: right;\n    }\n</style>\n<table border=\"1\" class=\"dataframe\">\n  <thead>\n    <tr style=\"text-align: right;\">\n      <th></th>\n      <th>some_integers</th>\n      <th>some_strings</th>\n    </tr>\n  </thead>\n  <tbody>\n    <tr>\n      <th>c</th>\n      <td>1</td>\n      <td>z</td>\n    </tr>\n    <tr>\n      <th>d</th>\n      <td>1</td>\n      <td>x</td>\n    </tr>\n  </tbody>\n</table>\n</div>"
     },
     "metadata": {},
     "execution_count": 76
    }
   ],
   "source": [
    "df.iloc[2:4, 0:2]"
   ]
  },
  {
   "cell_type": "code",
   "execution_count": 77,
   "metadata": {},
   "outputs": [
    {
     "output_type": "execute_result",
     "data": {
      "text/plain": [
       "   some_integers  some_booleans\n",
       "b              0              0\n",
       "c              1              1\n",
       "d              1              0\n",
       "e              2              1"
      ],
      "text/html": "<div>\n<style scoped>\n    .dataframe tbody tr th:only-of-type {\n        vertical-align: middle;\n    }\n\n    .dataframe tbody tr th {\n        vertical-align: top;\n    }\n\n    .dataframe thead th {\n        text-align: right;\n    }\n</style>\n<table border=\"1\" class=\"dataframe\">\n  <thead>\n    <tr style=\"text-align: right;\">\n      <th></th>\n      <th>some_integers</th>\n      <th>some_booleans</th>\n    </tr>\n  </thead>\n  <tbody>\n    <tr>\n      <th>b</th>\n      <td>0</td>\n      <td>0</td>\n    </tr>\n    <tr>\n      <th>c</th>\n      <td>1</td>\n      <td>1</td>\n    </tr>\n    <tr>\n      <th>d</th>\n      <td>1</td>\n      <td>0</td>\n    </tr>\n    <tr>\n      <th>e</th>\n      <td>2</td>\n      <td>1</td>\n    </tr>\n  </tbody>\n</table>\n</div>"
     },
     "metadata": {},
     "execution_count": 77
    }
   ],
   "source": [
    "df.loc['b':'e', ['some_integers', 'some_booleans']]"
   ]
  },
  {
   "cell_type": "markdown",
   "metadata": {},
   "source": [
    "### Question:\n",
    "\n",
    "Select rows a,b,c,f of df.\n",
    "\n",
    "```python\n",
    "   some_integers some_strings  some_booleans\n",
    "a              0            x              0\n",
    "b              0            y              0\n",
    "c              1            z              1\n",
    "f              2            z              1\n",
    "```"
   ]
  },
  {
   "cell_type": "code",
   "execution_count": 78,
   "metadata": {},
   "outputs": [
    {
     "output_type": "execute_result",
     "data": {
      "text/plain": [
       "   some_integers some_strings  some_booleans\n",
       "a              0            x              0\n",
       "b              0            y              0\n",
       "c              1            z              1\n",
       "f              2            z              1"
      ],
      "text/html": "<div>\n<style scoped>\n    .dataframe tbody tr th:only-of-type {\n        vertical-align: middle;\n    }\n\n    .dataframe tbody tr th {\n        vertical-align: top;\n    }\n\n    .dataframe thead th {\n        text-align: right;\n    }\n</style>\n<table border=\"1\" class=\"dataframe\">\n  <thead>\n    <tr style=\"text-align: right;\">\n      <th></th>\n      <th>some_integers</th>\n      <th>some_strings</th>\n      <th>some_booleans</th>\n    </tr>\n  </thead>\n  <tbody>\n    <tr>\n      <th>a</th>\n      <td>0</td>\n      <td>x</td>\n      <td>0</td>\n    </tr>\n    <tr>\n      <th>b</th>\n      <td>0</td>\n      <td>y</td>\n      <td>0</td>\n    </tr>\n    <tr>\n      <th>c</th>\n      <td>1</td>\n      <td>z</td>\n      <td>1</td>\n    </tr>\n    <tr>\n      <th>f</th>\n      <td>2</td>\n      <td>z</td>\n      <td>1</td>\n    </tr>\n  </tbody>\n</table>\n</div>"
     },
     "metadata": {},
     "execution_count": 78
    }
   ],
   "source": [
    "# write here:\n",
    "df.loc[['a', 'b', 'c', 'f']]\n"
   ]
  },
  {
   "cell_type": "markdown",
   "metadata": {},
   "source": [
    "<details><summary>Solution\n",
    "</summary>\n",
    "\n",
    "```python\n",
    "df.loc[['a', 'b', 'c', 'f']]\n",
    "```\n",
    "\n",
    "</details>"
   ]
  },
  {
   "cell_type": "markdown",
   "metadata": {},
   "source": [
    "### Question:\n",
    "\n",
    "Select the 0th, 1st, and 5th row of df.\n",
    "\n",
    "```python\n",
    "   some_integers some_strings  some_booleans\n",
    "a              0            x              0\n",
    "b              0            y              0\n",
    "f              2            z              1\n",
    "```"
   ]
  },
  {
   "cell_type": "code",
   "execution_count": 79,
   "metadata": {},
   "outputs": [
    {
     "output_type": "execute_result",
     "data": {
      "text/plain": [
       "   some_integers some_strings  some_booleans\n",
       "a              0            x              0\n",
       "b              0            y              0\n",
       "f              2            z              1"
      ],
      "text/html": "<div>\n<style scoped>\n    .dataframe tbody tr th:only-of-type {\n        vertical-align: middle;\n    }\n\n    .dataframe tbody tr th {\n        vertical-align: top;\n    }\n\n    .dataframe thead th {\n        text-align: right;\n    }\n</style>\n<table border=\"1\" class=\"dataframe\">\n  <thead>\n    <tr style=\"text-align: right;\">\n      <th></th>\n      <th>some_integers</th>\n      <th>some_strings</th>\n      <th>some_booleans</th>\n    </tr>\n  </thead>\n  <tbody>\n    <tr>\n      <th>a</th>\n      <td>0</td>\n      <td>x</td>\n      <td>0</td>\n    </tr>\n    <tr>\n      <th>b</th>\n      <td>0</td>\n      <td>y</td>\n      <td>0</td>\n    </tr>\n    <tr>\n      <th>f</th>\n      <td>2</td>\n      <td>z</td>\n      <td>1</td>\n    </tr>\n  </tbody>\n</table>\n</div>"
     },
     "metadata": {},
     "execution_count": 79
    }
   ],
   "source": [
    "# write here:\n",
    "df.iloc[[0,1,5]]\n"
   ]
  },
  {
   "cell_type": "markdown",
   "metadata": {},
   "source": [
    "<details><summary>Solution\n",
    "</summary>\n",
    "\n",
    "```python\n",
    "df.iloc[[0, 1, 5]]\n",
    "```\n",
    "\n",
    "</details>"
   ]
  },
  {
   "cell_type": "markdown",
   "metadata": {},
   "source": [
    "### Question:\n",
    "\n",
    "Select the 0th and 4th students.\n",
    "\n",
    "```python\n",
    "       grade  height was_late     top_crush   ...\n",
    "Tomas     45      34      NaN         Angel\n",
    "Haden     90      38      NaN  Edgar A. Poe\n",
    "```"
   ]
  },
  {
   "cell_type": "code",
   "execution_count": 80,
   "metadata": {},
   "outputs": [
    {
     "output_type": "execute_result",
     "data": {
      "text/plain": [
       "       grade  height  was_late     top_crush  above_75_percent  \\\n",
       "Tomas     45      34      True         Angel             False   \n",
       "Haden     90      38     False  Edgar A. Poe              True   \n",
       "\n",
       "       taller_than_35  pickup_time  \n",
       "Tomas           False          4.0  \n",
       "Haden            True          NaN  "
      ],
      "text/html": "<div>\n<style scoped>\n    .dataframe tbody tr th:only-of-type {\n        vertical-align: middle;\n    }\n\n    .dataframe tbody tr th {\n        vertical-align: top;\n    }\n\n    .dataframe thead th {\n        text-align: right;\n    }\n</style>\n<table border=\"1\" class=\"dataframe\">\n  <thead>\n    <tr style=\"text-align: right;\">\n      <th></th>\n      <th>grade</th>\n      <th>height</th>\n      <th>was_late</th>\n      <th>top_crush</th>\n      <th>above_75_percent</th>\n      <th>taller_than_35</th>\n      <th>pickup_time</th>\n    </tr>\n  </thead>\n  <tbody>\n    <tr>\n      <th>Tomas</th>\n      <td>45</td>\n      <td>34</td>\n      <td>True</td>\n      <td>Angel</td>\n      <td>False</td>\n      <td>False</td>\n      <td>4.0</td>\n    </tr>\n    <tr>\n      <th>Haden</th>\n      <td>90</td>\n      <td>38</td>\n      <td>False</td>\n      <td>Edgar A. Poe</td>\n      <td>True</td>\n      <td>True</td>\n      <td>NaN</td>\n    </tr>\n  </tbody>\n</table>\n</div>"
     },
     "metadata": {},
     "execution_count": 80
    }
   ],
   "source": [
    "# write here:\n",
    "\n",
    "students.iloc[[0,4]]"
   ]
  },
  {
   "cell_type": "markdown",
   "metadata": {},
   "source": [
    "<details><summary>Solution\n",
    "</summary>\n",
    "\n",
    "```python\n",
    "students.iloc[[0,4]]\n",
    "```\n",
    "\n",
    "</details>"
   ]
  },
  {
   "cell_type": "markdown",
   "metadata": {},
   "source": [
    "### Question:\n",
    "\n",
    "Select Haden, Angel and Micaela, in that order.\n",
    "\n",
    "```python\n",
    "          grade  height was_late     top_crush\n",
    "Haden        90      38      NaN  Edgar A. Poe\n",
    "Angel        56      35      NaN         Haden\n",
    "Michaela     89      37      NaN         Tomas\n",
    "```"
   ]
  },
  {
   "cell_type": "code",
   "execution_count": 81,
   "metadata": {},
   "outputs": [
    {
     "output_type": "execute_result",
     "data": {
      "text/plain": [
       "          grade  height  was_late     top_crush  above_75_percent  \\\n",
       "Haden        90      38     False  Edgar A. Poe              True   \n",
       "Angel        56      35     False         Haden             False   \n",
       "Michaela     89      37     False         Tomas              True   \n",
       "\n",
       "          taller_than_35  pickup_time  \n",
       "Haden               True          NaN  \n",
       "Angel              False          5.0  \n",
       "Michaela            True          NaN  "
      ],
      "text/html": "<div>\n<style scoped>\n    .dataframe tbody tr th:only-of-type {\n        vertical-align: middle;\n    }\n\n    .dataframe tbody tr th {\n        vertical-align: top;\n    }\n\n    .dataframe thead th {\n        text-align: right;\n    }\n</style>\n<table border=\"1\" class=\"dataframe\">\n  <thead>\n    <tr style=\"text-align: right;\">\n      <th></th>\n      <th>grade</th>\n      <th>height</th>\n      <th>was_late</th>\n      <th>top_crush</th>\n      <th>above_75_percent</th>\n      <th>taller_than_35</th>\n      <th>pickup_time</th>\n    </tr>\n  </thead>\n  <tbody>\n    <tr>\n      <th>Haden</th>\n      <td>90</td>\n      <td>38</td>\n      <td>False</td>\n      <td>Edgar A. Poe</td>\n      <td>True</td>\n      <td>True</td>\n      <td>NaN</td>\n    </tr>\n    <tr>\n      <th>Angel</th>\n      <td>56</td>\n      <td>35</td>\n      <td>False</td>\n      <td>Haden</td>\n      <td>False</td>\n      <td>False</td>\n      <td>5.0</td>\n    </tr>\n    <tr>\n      <th>Michaela</th>\n      <td>89</td>\n      <td>37</td>\n      <td>False</td>\n      <td>Tomas</td>\n      <td>True</td>\n      <td>True</td>\n      <td>NaN</td>\n    </tr>\n  </tbody>\n</table>\n</div>"
     },
     "metadata": {},
     "execution_count": 81
    }
   ],
   "source": [
    "# write here:\n",
    "students.loc[['Haden', 'Angel', 'Michaela']]\n"
   ]
  },
  {
   "cell_type": "markdown",
   "metadata": {},
   "source": [
    "<details><summary>Solution\n",
    "</summary>\n",
    "\n",
    "```python\n",
    "students.loc[['Haden', 'Angel', 'Michaela']]\n",
    "```\n",
    "\n",
    "</details>"
   ]
  },
  {
   "cell_type": "markdown",
   "metadata": {},
   "source": [
    "## Mixed Indexing"
   ]
  },
  {
   "cell_type": "markdown",
   "metadata": {},
   "source": [
    "So what do we do if we want to get the rows by position, and get the columns by label?  I.e. if we have a use for **mixed indexing**."
   ]
  },
  {
   "cell_type": "markdown",
   "metadata": {},
   "source": [
    "```python\n",
    "# Mixed indexing with iloc: will not work.\n",
    ">>> df.iloc[2:4, ['some_integers', 'some_booleans']]\n",
    "\n",
    "---------------------------------------------------------------------------\n",
    "IndexError                                Traceback (most recent call last)\n",
    "<ipython-input-337-dcc694afee25> in <module>\n",
    "      1 # Mixed indexing with iloc: will not work.\n",
    "----> 2 df.iloc[2:4, ['some_integers', 'some_booleans']]\n",
    "```"
   ]
  },
  {
   "cell_type": "markdown",
   "metadata": {},
   "source": [
    "Doing mixed indexing in modern pandas is more explicit, less magic.  You need to use the `df.index` and `df.columns` attributes to explicitly turn positions into labels."
   ]
  },
  {
   "cell_type": "markdown",
   "metadata": {},
   "source": [
    "#### Rows by position, Columns by name"
   ]
  },
  {
   "cell_type": "code",
   "execution_count": 82,
   "metadata": {},
   "outputs": [
    {
     "output_type": "execute_result",
     "data": {
      "text/plain": [
       "Index(['c', 'd'], dtype='object')"
      ]
     },
     "metadata": {},
     "execution_count": 82
    }
   ],
   "source": [
    "df.index[2:4]"
   ]
  },
  {
   "cell_type": "code",
   "execution_count": 83,
   "metadata": {},
   "outputs": [
    {
     "output_type": "execute_result",
     "data": {
      "text/plain": [
       "   some_integers  some_booleans\n",
       "c              1              1\n",
       "d              1              0"
      ],
      "text/html": "<div>\n<style scoped>\n    .dataframe tbody tr th:only-of-type {\n        vertical-align: middle;\n    }\n\n    .dataframe tbody tr th {\n        vertical-align: top;\n    }\n\n    .dataframe thead th {\n        text-align: right;\n    }\n</style>\n<table border=\"1\" class=\"dataframe\">\n  <thead>\n    <tr style=\"text-align: right;\">\n      <th></th>\n      <th>some_integers</th>\n      <th>some_booleans</th>\n    </tr>\n  </thead>\n  <tbody>\n    <tr>\n      <th>c</th>\n      <td>1</td>\n      <td>1</td>\n    </tr>\n    <tr>\n      <th>d</th>\n      <td>1</td>\n      <td>0</td>\n    </tr>\n  </tbody>\n</table>\n</div>"
     },
     "metadata": {},
     "execution_count": 83
    }
   ],
   "source": [
    "df.loc[df.index[2:4], ['some_integers', 'some_booleans']]"
   ]
  },
  {
   "cell_type": "markdown",
   "metadata": {},
   "source": [
    "#### Rows by name, Columns by position"
   ]
  },
  {
   "cell_type": "code",
   "execution_count": 84,
   "metadata": {},
   "outputs": [
    {
     "output_type": "execute_result",
     "data": {
      "text/plain": [
       "Index(['some_integers', 'some_booleans'], dtype='object')"
      ]
     },
     "metadata": {},
     "execution_count": 84
    }
   ],
   "source": [
    "df.columns[[0, 2]]"
   ]
  },
  {
   "cell_type": "code",
   "execution_count": 85,
   "metadata": {
    "scrolled": true
   },
   "outputs": [
    {
     "output_type": "execute_result",
     "data": {
      "text/plain": [
       "   some_integers  some_booleans\n",
       "c              1              1\n",
       "d              1              0"
      ],
      "text/html": "<div>\n<style scoped>\n    .dataframe tbody tr th:only-of-type {\n        vertical-align: middle;\n    }\n\n    .dataframe tbody tr th {\n        vertical-align: top;\n    }\n\n    .dataframe thead th {\n        text-align: right;\n    }\n</style>\n<table border=\"1\" class=\"dataframe\">\n  <thead>\n    <tr style=\"text-align: right;\">\n      <th></th>\n      <th>some_integers</th>\n      <th>some_booleans</th>\n    </tr>\n  </thead>\n  <tbody>\n    <tr>\n      <th>c</th>\n      <td>1</td>\n      <td>1</td>\n    </tr>\n    <tr>\n      <th>d</th>\n      <td>1</td>\n      <td>0</td>\n    </tr>\n  </tbody>\n</table>\n</div>"
     },
     "metadata": {},
     "execution_count": 85
    }
   ],
   "source": [
    "df.loc[['c', 'd'], df.columns[[0, 2]]]"
   ]
  },
  {
   "cell_type": "markdown",
   "metadata": {},
   "source": [
    "### Question:\n",
    "\n",
    "Use mixed indexing to get the 0th, 2nd and 4th row of student's top_crush and pickup_time. (don't use the names explicitly)\n",
    "\n",
    "```python\n",
    "          top_crush  pickup_time\n",
    "Tomas         Angel          4.0\n",
    "Stacy      Michaela          2.0\n",
    "Haden  Edgar A. Poe          NaN\n",
    "```"
   ]
  },
  {
   "cell_type": "code",
   "execution_count": 86,
   "metadata": {},
   "outputs": [
    {
     "output_type": "execute_result",
     "data": {
      "text/plain": [
       "          top_crush  pickup_time\n",
       "Tomas         Angel          4.0\n",
       "Stacy      Michaela          2.0\n",
       "Haden  Edgar A. Poe          NaN"
      ],
      "text/html": "<div>\n<style scoped>\n    .dataframe tbody tr th:only-of-type {\n        vertical-align: middle;\n    }\n\n    .dataframe tbody tr th {\n        vertical-align: top;\n    }\n\n    .dataframe thead th {\n        text-align: right;\n    }\n</style>\n<table border=\"1\" class=\"dataframe\">\n  <thead>\n    <tr style=\"text-align: right;\">\n      <th></th>\n      <th>top_crush</th>\n      <th>pickup_time</th>\n    </tr>\n  </thead>\n  <tbody>\n    <tr>\n      <th>Tomas</th>\n      <td>Angel</td>\n      <td>4.0</td>\n    </tr>\n    <tr>\n      <th>Stacy</th>\n      <td>Michaela</td>\n      <td>2.0</td>\n    </tr>\n    <tr>\n      <th>Haden</th>\n      <td>Edgar A. Poe</td>\n      <td>NaN</td>\n    </tr>\n  </tbody>\n</table>\n</div>"
     },
     "metadata": {},
     "execution_count": 86
    }
   ],
   "source": [
    "# write here:\n",
    "students.loc[students.index[[0,2,4]], ['top_crush', 'pickup_time']]\n"
   ]
  },
  {
   "cell_type": "markdown",
   "metadata": {},
   "source": [
    "<details><summary>Solution\n",
    "</summary>\n",
    "\n",
    "```python\n",
    "students.loc[students.index[[0,2,4]], ['top_crush', 'pickup_time']]\n",
    "```\n",
    "\n",
    "</details>"
   ]
  },
  {
   "cell_type": "markdown",
   "metadata": {},
   "source": [
    "### Question:\n",
    "\n",
    "Use mixed indexing to get the 0th, 2nd, 3th, and 0th column of Stacy and Haden. (don't use the column names explicitly)\n",
    "\n",
    "```python\n",
    "       grade  was_late  above_75_percent  grade\n",
    "Stacy     78      True              True     78\n",
    "Haden     90     False              True     90\n",
    "```"
   ]
  },
  {
   "cell_type": "code",
   "execution_count": 87,
   "metadata": {},
   "outputs": [
    {
     "output_type": "execute_result",
     "data": {
      "text/plain": [
       "       grade  was_late     top_crush  grade\n",
       "Stacy     78      True      Michaela     78\n",
       "Haden     90     False  Edgar A. Poe     90"
      ],
      "text/html": "<div>\n<style scoped>\n    .dataframe tbody tr th:only-of-type {\n        vertical-align: middle;\n    }\n\n    .dataframe tbody tr th {\n        vertical-align: top;\n    }\n\n    .dataframe thead th {\n        text-align: right;\n    }\n</style>\n<table border=\"1\" class=\"dataframe\">\n  <thead>\n    <tr style=\"text-align: right;\">\n      <th></th>\n      <th>grade</th>\n      <th>was_late</th>\n      <th>top_crush</th>\n      <th>grade</th>\n    </tr>\n  </thead>\n  <tbody>\n    <tr>\n      <th>Stacy</th>\n      <td>78</td>\n      <td>True</td>\n      <td>Michaela</td>\n      <td>78</td>\n    </tr>\n    <tr>\n      <th>Haden</th>\n      <td>90</td>\n      <td>False</td>\n      <td>Edgar A. Poe</td>\n      <td>90</td>\n    </tr>\n  </tbody>\n</table>\n</div>"
     },
     "metadata": {},
     "execution_count": 87
    }
   ],
   "source": [
    "# write here:\n",
    "students.loc[['Stacy', 'Haden'], students.columns[[0,2,3,0]]]\n"
   ]
  },
  {
   "cell_type": "markdown",
   "metadata": {},
   "source": [
    "<details><summary>Solution\n",
    "</summary>\n",
    "\n",
    "```python\n",
    "students.loc[['Stacy', 'Haden'], students.columns[[0, 2, 3, 0]]]\n",
    "```\n",
    "\n",
    "</details>"
   ]
  },
  {
   "cell_type": "markdown",
   "metadata": {},
   "source": [
    "## Transforming data"
   ]
  },
  {
   "cell_type": "markdown",
   "metadata": {},
   "source": [
    "Arithmetic operations apply to `Series` element by element. (like arrays)"
   ]
  },
  {
   "cell_type": "code",
   "execution_count": 88,
   "metadata": {},
   "outputs": [],
   "source": [
    "# Yes, this makes no sense.\n",
    "golf_df[\"TempHumid\"] = golf_df['Temperature'] + golf_df['Humidity']"
   ]
  },
  {
   "cell_type": "code",
   "execution_count": 89,
   "metadata": {},
   "outputs": [
    {
     "output_type": "execute_result",
     "data": {
      "text/plain": [
       "     Date   Outlook  Temperature  Humidity  Windy      Result  TempHumid\n",
       "0  7/1/14     sunny           85        85  False  Don't Play        170\n",
       "1  7/2/14     sunny           80        90   True  Don't Play        170\n",
       "2  7/3/14  overcast           83        78  False        Play        161\n",
       "3  7/4/14      rain           70        96  False        Play        166\n",
       "4  7/5/14      rain           68        80  False        Play        148"
      ],
      "text/html": "<div>\n<style scoped>\n    .dataframe tbody tr th:only-of-type {\n        vertical-align: middle;\n    }\n\n    .dataframe tbody tr th {\n        vertical-align: top;\n    }\n\n    .dataframe thead th {\n        text-align: right;\n    }\n</style>\n<table border=\"1\" class=\"dataframe\">\n  <thead>\n    <tr style=\"text-align: right;\">\n      <th></th>\n      <th>Date</th>\n      <th>Outlook</th>\n      <th>Temperature</th>\n      <th>Humidity</th>\n      <th>Windy</th>\n      <th>Result</th>\n      <th>TempHumid</th>\n    </tr>\n  </thead>\n  <tbody>\n    <tr>\n      <th>0</th>\n      <td>7/1/14</td>\n      <td>sunny</td>\n      <td>85</td>\n      <td>85</td>\n      <td>False</td>\n      <td>Don't Play</td>\n      <td>170</td>\n    </tr>\n    <tr>\n      <th>1</th>\n      <td>7/2/14</td>\n      <td>sunny</td>\n      <td>80</td>\n      <td>90</td>\n      <td>True</td>\n      <td>Don't Play</td>\n      <td>170</td>\n    </tr>\n    <tr>\n      <th>2</th>\n      <td>7/3/14</td>\n      <td>overcast</td>\n      <td>83</td>\n      <td>78</td>\n      <td>False</td>\n      <td>Play</td>\n      <td>161</td>\n    </tr>\n    <tr>\n      <th>3</th>\n      <td>7/4/14</td>\n      <td>rain</td>\n      <td>70</td>\n      <td>96</td>\n      <td>False</td>\n      <td>Play</td>\n      <td>166</td>\n    </tr>\n    <tr>\n      <th>4</th>\n      <td>7/5/14</td>\n      <td>rain</td>\n      <td>68</td>\n      <td>80</td>\n      <td>False</td>\n      <td>Play</td>\n      <td>148</td>\n    </tr>\n  </tbody>\n</table>\n</div>"
     },
     "metadata": {},
     "execution_count": 89
    }
   ],
   "source": [
    "golf_df.head()"
   ]
  },
  {
   "cell_type": "code",
   "execution_count": 90,
   "metadata": {},
   "outputs": [
    {
     "output_type": "execute_result",
     "data": {
      "text/plain": [
       "   Temperature  Humidity  HeatIndex\n",
       "0           85        85  98.004631\n",
       "1           80        90  84.474400\n",
       "2           83        78  89.669911\n",
       "3           70        96  62.847024\n",
       "4           68        80  69.089776"
      ],
      "text/html": "<div>\n<style scoped>\n    .dataframe tbody tr th:only-of-type {\n        vertical-align: middle;\n    }\n\n    .dataframe tbody tr th {\n        vertical-align: top;\n    }\n\n    .dataframe thead th {\n        text-align: right;\n    }\n</style>\n<table border=\"1\" class=\"dataframe\">\n  <thead>\n    <tr style=\"text-align: right;\">\n      <th></th>\n      <th>Temperature</th>\n      <th>Humidity</th>\n      <th>HeatIndex</th>\n    </tr>\n  </thead>\n  <tbody>\n    <tr>\n      <th>0</th>\n      <td>85</td>\n      <td>85</td>\n      <td>98.004631</td>\n    </tr>\n    <tr>\n      <th>1</th>\n      <td>80</td>\n      <td>90</td>\n      <td>84.474400</td>\n    </tr>\n    <tr>\n      <th>2</th>\n      <td>83</td>\n      <td>78</td>\n      <td>89.669911</td>\n    </tr>\n    <tr>\n      <th>3</th>\n      <td>70</td>\n      <td>96</td>\n      <td>62.847024</td>\n    </tr>\n    <tr>\n      <th>4</th>\n      <td>68</td>\n      <td>80</td>\n      <td>69.089776</td>\n    </tr>\n  </tbody>\n</table>\n</div>"
     },
     "metadata": {},
     "execution_count": 90
    }
   ],
   "source": [
    "# More Usefully\n",
    "\n",
    "# Heat index formula taken from wikipedia: \n",
    "#    https://en.wikipedia.org/wiki/Heat_index\n",
    "temp = golf_df['Temperature']\n",
    "humid = golf_df['Humidity']\n",
    "golf_df['HeatIndex'] = (-42.37 + 2.05*temp + 10.14*humid\n",
    "                        - 0.225*temp*humid\n",
    "                        - 6.84e-3*temp**2 \n",
    "                        - 5.482e-2*humid**2\n",
    "                        + 1.23e-3*temp**2*humid\n",
    "                        + 8.53e-4*temp*humid**2\n",
    "                        - 1.99e-6*temp**2*humid**2\n",
    ")\n",
    "golf_df[['Temperature', 'Humidity', 'HeatIndex']].head()"
   ]
  },
  {
   "cell_type": "markdown",
   "metadata": {},
   "source": [
    "### Question:\n",
    "\n",
    "Make a new column 'smarty_pants' that returns true if a student's grade is greater than 2.2 times their height. (tough school)\n",
    "\n",
    "```python\n",
    ">>> print(students[['grade','height', 'smarty_pants']])\n",
    "          grade  height  smarty_pants\n",
    "Tomas        45      34         False\n",
    "Angel        56      35         False\n",
    "Stacy        78      36         False\n",
    "Michaela     89      37          True\n",
    "Haden        90      38          True\n",
    "```"
   ]
  },
  {
   "cell_type": "code",
   "execution_count": 91,
   "metadata": {},
   "outputs": [
    {
     "output_type": "execute_result",
     "data": {
      "text/plain": [
       "          grade  height  was_late     top_crush  above_75_percent  \\\n",
       "Tomas        45      34      True         Angel             False   \n",
       "Angel        56      35     False         Haden             False   \n",
       "Stacy        78      36      True      Michaela              True   \n",
       "Michaela     89      37     False         Tomas              True   \n",
       "Haden        90      38     False  Edgar A. Poe              True   \n",
       "\n",
       "          taller_than_35  pickup_time  smarty_pants  \n",
       "Tomas              False          4.0         False  \n",
       "Angel              False          5.0         False  \n",
       "Stacy               True          2.0         False  \n",
       "Michaela            True          NaN          True  \n",
       "Haden               True          NaN          True  "
      ],
      "text/html": "<div>\n<style scoped>\n    .dataframe tbody tr th:only-of-type {\n        vertical-align: middle;\n    }\n\n    .dataframe tbody tr th {\n        vertical-align: top;\n    }\n\n    .dataframe thead th {\n        text-align: right;\n    }\n</style>\n<table border=\"1\" class=\"dataframe\">\n  <thead>\n    <tr style=\"text-align: right;\">\n      <th></th>\n      <th>grade</th>\n      <th>height</th>\n      <th>was_late</th>\n      <th>top_crush</th>\n      <th>above_75_percent</th>\n      <th>taller_than_35</th>\n      <th>pickup_time</th>\n      <th>smarty_pants</th>\n    </tr>\n  </thead>\n  <tbody>\n    <tr>\n      <th>Tomas</th>\n      <td>45</td>\n      <td>34</td>\n      <td>True</td>\n      <td>Angel</td>\n      <td>False</td>\n      <td>False</td>\n      <td>4.0</td>\n      <td>False</td>\n    </tr>\n    <tr>\n      <th>Angel</th>\n      <td>56</td>\n      <td>35</td>\n      <td>False</td>\n      <td>Haden</td>\n      <td>False</td>\n      <td>False</td>\n      <td>5.0</td>\n      <td>False</td>\n    </tr>\n    <tr>\n      <th>Stacy</th>\n      <td>78</td>\n      <td>36</td>\n      <td>True</td>\n      <td>Michaela</td>\n      <td>True</td>\n      <td>True</td>\n      <td>2.0</td>\n      <td>False</td>\n    </tr>\n    <tr>\n      <th>Michaela</th>\n      <td>89</td>\n      <td>37</td>\n      <td>False</td>\n      <td>Tomas</td>\n      <td>True</td>\n      <td>True</td>\n      <td>NaN</td>\n      <td>True</td>\n    </tr>\n    <tr>\n      <th>Haden</th>\n      <td>90</td>\n      <td>38</td>\n      <td>False</td>\n      <td>Edgar A. Poe</td>\n      <td>True</td>\n      <td>True</td>\n      <td>NaN</td>\n      <td>True</td>\n    </tr>\n  </tbody>\n</table>\n</div>"
     },
     "metadata": {},
     "execution_count": 91
    }
   ],
   "source": [
    "# write here:\n",
    "g = students['grade']\n",
    "h = students['height']\n",
    "students['smarty_pants'] = (g >= (2.2 * h))\n",
    "students"
   ]
  },
  {
   "cell_type": "markdown",
   "metadata": {},
   "source": [
    "<details><summary>Solution\n",
    "</summary>\n",
    "\n",
    "```python\n",
    "students['smarty_pants'] = students['grade']>students['height']*2.2\n",
    "print(students[['grade','height', 'smarty_pants']])\n",
    "```\n",
    "\n",
    "</details>"
   ]
  },
  {
   "cell_type": "code",
   "execution_count": 92,
   "metadata": {},
   "outputs": [
    {
     "output_type": "execute_result",
     "data": {
      "text/plain": [
       "   fixed acidity  volatile acidity  citric acid  residual sugar  chlorides  \\\n",
       "0            7.0              0.27         0.36            20.7      0.045   \n",
       "1            6.3              0.30         0.34             1.6      0.049   \n",
       "\n",
       "   free sulfur dioxide  total sulfur dioxide  density   pH  sulphates  \\\n",
       "0                 45.0                 170.0    1.001  3.0       0.45   \n",
       "1                 14.0                 132.0    0.994  3.3       0.49   \n",
       "\n",
       "   alcohol  quality  \n",
       "0      8.8        6  \n",
       "1      9.5        6  "
      ],
      "text/html": "<div>\n<style scoped>\n    .dataframe tbody tr th:only-of-type {\n        vertical-align: middle;\n    }\n\n    .dataframe tbody tr th {\n        vertical-align: top;\n    }\n\n    .dataframe thead th {\n        text-align: right;\n    }\n</style>\n<table border=\"1\" class=\"dataframe\">\n  <thead>\n    <tr style=\"text-align: right;\">\n      <th></th>\n      <th>fixed acidity</th>\n      <th>volatile acidity</th>\n      <th>citric acid</th>\n      <th>residual sugar</th>\n      <th>chlorides</th>\n      <th>free sulfur dioxide</th>\n      <th>total sulfur dioxide</th>\n      <th>density</th>\n      <th>pH</th>\n      <th>sulphates</th>\n      <th>alcohol</th>\n      <th>quality</th>\n    </tr>\n  </thead>\n  <tbody>\n    <tr>\n      <th>0</th>\n      <td>7.0</td>\n      <td>0.27</td>\n      <td>0.36</td>\n      <td>20.7</td>\n      <td>0.045</td>\n      <td>45.0</td>\n      <td>170.0</td>\n      <td>1.001</td>\n      <td>3.0</td>\n      <td>0.45</td>\n      <td>8.8</td>\n      <td>6</td>\n    </tr>\n    <tr>\n      <th>1</th>\n      <td>6.3</td>\n      <td>0.30</td>\n      <td>0.34</td>\n      <td>1.6</td>\n      <td>0.049</td>\n      <td>14.0</td>\n      <td>132.0</td>\n      <td>0.994</td>\n      <td>3.3</td>\n      <td>0.49</td>\n      <td>9.5</td>\n      <td>6</td>\n    </tr>\n  </tbody>\n</table>\n</div>"
     },
     "metadata": {},
     "execution_count": 92
    }
   ],
   "source": [
    "wine_quality_white.head(2)\n"
   ]
  },
  {
   "cell_type": "markdown",
   "metadata": {},
   "source": [
    "### Question:\n",
    "\n",
    "Make a new column 'percent fixed acidity' that finds how much of the total acidity is fixed in wine_quality_white.\n",
    "\n",
    "```python\n",
    ">>> print(wine_quality_white[['fixed acidity', 'volatile acidity', 'citric acid', 'percent fixed acidity']])\n",
    "      fixed acidity  volatile acidity  citric acid  percent fixed acidity\n",
    "0               7.0              0.27         0.36               0.917431\n",
    "1               6.3              0.30         0.34               0.907781\n",
    "2               8.1              0.28         0.40               0.922551\n",
    "3               7.2              0.23         0.32               0.929032\n",
    "4               7.2              0.23         0.32               0.929032\n",
    "...             ...               ...          ...                    ...\n",
    "4893            6.2              0.21         0.29               0.925373\n",
    "4894            6.6              0.32         0.36               0.906593\n",
    "4895            6.5              0.24         0.19               0.937951\n",
    "4896            5.5              0.29         0.30               0.903120\n",
    "4897            6.0              0.21         0.38               0.910470\n",
    "```"
   ]
  },
  {
   "cell_type": "code",
   "execution_count": 93,
   "metadata": {},
   "outputs": [
    {
     "output_type": "execute_result",
     "data": {
      "text/plain": [
       "      fixed acidity  volatile acidity  citric acid  percent fixed acidity\n",
       "0               7.0              0.27         0.36               0.917431\n",
       "1               6.3              0.30         0.34               0.907781\n",
       "2               8.1              0.28         0.40               0.922551\n",
       "3               7.2              0.23         0.32               0.929032\n",
       "4               7.2              0.23         0.32               0.929032\n",
       "...             ...               ...          ...                    ...\n",
       "4893            6.2              0.21         0.29               0.925373\n",
       "4894            6.6              0.32         0.36               0.906593\n",
       "4895            6.5              0.24         0.19               0.937951\n",
       "4896            5.5              0.29         0.30               0.903120\n",
       "4897            6.0              0.21         0.38               0.910470\n",
       "\n",
       "[4898 rows x 4 columns]"
      ],
      "text/html": "<div>\n<style scoped>\n    .dataframe tbody tr th:only-of-type {\n        vertical-align: middle;\n    }\n\n    .dataframe tbody tr th {\n        vertical-align: top;\n    }\n\n    .dataframe thead th {\n        text-align: right;\n    }\n</style>\n<table border=\"1\" class=\"dataframe\">\n  <thead>\n    <tr style=\"text-align: right;\">\n      <th></th>\n      <th>fixed acidity</th>\n      <th>volatile acidity</th>\n      <th>citric acid</th>\n      <th>percent fixed acidity</th>\n    </tr>\n  </thead>\n  <tbody>\n    <tr>\n      <th>0</th>\n      <td>7.0</td>\n      <td>0.27</td>\n      <td>0.36</td>\n      <td>0.917431</td>\n    </tr>\n    <tr>\n      <th>1</th>\n      <td>6.3</td>\n      <td>0.30</td>\n      <td>0.34</td>\n      <td>0.907781</td>\n    </tr>\n    <tr>\n      <th>2</th>\n      <td>8.1</td>\n      <td>0.28</td>\n      <td>0.40</td>\n      <td>0.922551</td>\n    </tr>\n    <tr>\n      <th>3</th>\n      <td>7.2</td>\n      <td>0.23</td>\n      <td>0.32</td>\n      <td>0.929032</td>\n    </tr>\n    <tr>\n      <th>4</th>\n      <td>7.2</td>\n      <td>0.23</td>\n      <td>0.32</td>\n      <td>0.929032</td>\n    </tr>\n    <tr>\n      <th>...</th>\n      <td>...</td>\n      <td>...</td>\n      <td>...</td>\n      <td>...</td>\n    </tr>\n    <tr>\n      <th>4893</th>\n      <td>6.2</td>\n      <td>0.21</td>\n      <td>0.29</td>\n      <td>0.925373</td>\n    </tr>\n    <tr>\n      <th>4894</th>\n      <td>6.6</td>\n      <td>0.32</td>\n      <td>0.36</td>\n      <td>0.906593</td>\n    </tr>\n    <tr>\n      <th>4895</th>\n      <td>6.5</td>\n      <td>0.24</td>\n      <td>0.19</td>\n      <td>0.937951</td>\n    </tr>\n    <tr>\n      <th>4896</th>\n      <td>5.5</td>\n      <td>0.29</td>\n      <td>0.30</td>\n      <td>0.903120</td>\n    </tr>\n    <tr>\n      <th>4897</th>\n      <td>6.0</td>\n      <td>0.21</td>\n      <td>0.38</td>\n      <td>0.910470</td>\n    </tr>\n  </tbody>\n</table>\n<p>4898 rows × 4 columns</p>\n</div>"
     },
     "metadata": {},
     "execution_count": 93
    }
   ],
   "source": [
    "# write here:\n",
    "wqw = wine_quality_white\n",
    "wine_quality_white['percent fixed acidity'] = (wqw['fixed acidity'] / (wqw['fixed acidity'] + wqw['volatile acidity'] + wqw['citric acid']))\n",
    "\n",
    "wine_quality_white[['fixed acidity', 'volatile acidity', 'citric acid', 'percent fixed acidity']]\n"
   ]
  },
  {
   "cell_type": "markdown",
   "metadata": {},
   "source": [
    "<details><summary>Solution\n",
    "</summary>\n",
    "\n",
    "```python\n",
    "wine_quality_white['percent fixed acidity'] = wine_quality_white['fixed acidity'] / \n",
    "                                                 (wine_quality_white['fixed acidity'] + \n",
    "                                                  wine_quality_white['volatile acidity'] + \n",
    "                                                  wine_quality_white['citric acid'])\n",
    "print(wine_quality_white[['fixed acidity', 'volatile acidity', 'citric acid', 'percent fixed acidity']])\n",
    "```\n",
    "(you still got it right if you didn't include citric acid)\n",
    "</details>"
   ]
  },
  {
   "cell_type": "markdown",
   "metadata": {},
   "source": [
    "## Apply"
   ]
  },
  {
   "cell_type": "markdown",
   "metadata": {},
   "source": [
    "We can create a new Series by applying functions to an existing Series.\n",
    "\n",
    "Lets say we wanted to get the day of the month out of the 'date' column."
   ]
  },
  {
   "cell_type": "code",
   "execution_count": 94,
   "metadata": {},
   "outputs": [
    {
     "output_type": "execute_result",
     "data": {
      "text/plain": [
       "       Date   Outlook  Temperature  Humidity  Windy      Result  TempHumid  \\\n",
       "0    7/1/14     sunny           85        85  False  Don't Play        170   \n",
       "1    7/2/14     sunny           80        90   True  Don't Play        170   \n",
       "2    7/3/14  overcast           83        78  False        Play        161   \n",
       "3    7/4/14      rain           70        96  False        Play        166   \n",
       "4    7/5/14      rain           68        80  False        Play        148   \n",
       "5    7/6/14      rain           65        70   True  Don't Play        135   \n",
       "6    7/7/14  overcast           64        65   True        Play        129   \n",
       "7    7/8/14     sunny           72        95  False  Don't Play        167   \n",
       "8    7/9/14     sunny           69        70  False        Play        139   \n",
       "9   7/10/14      rain           75        80  False        Play        155   \n",
       "10  7/11/14     sunny           75        70   True        Play        145   \n",
       "11  7/12/14  overcast           72        90   True        Play        162   \n",
       "12  7/13/14  overcast           81        75  False        Play        156   \n",
       "13  7/14/14      rain           71        80   True  Don't Play        151   \n",
       "\n",
       "    HeatIndex  \n",
       "0   98.004631  \n",
       "1   84.474400  \n",
       "2   89.669911  \n",
       "3   62.847024  \n",
       "4   69.089776  \n",
       "5   73.668025  \n",
       "6   75.987116  \n",
       "7   66.247396  \n",
       "8   72.843649  \n",
       "9   74.557000  \n",
       "10  75.777625  \n",
       "11  68.106944  \n",
       "12  84.523441  \n",
       "13  70.486984  "
      ],
      "text/html": "<div>\n<style scoped>\n    .dataframe tbody tr th:only-of-type {\n        vertical-align: middle;\n    }\n\n    .dataframe tbody tr th {\n        vertical-align: top;\n    }\n\n    .dataframe thead th {\n        text-align: right;\n    }\n</style>\n<table border=\"1\" class=\"dataframe\">\n  <thead>\n    <tr style=\"text-align: right;\">\n      <th></th>\n      <th>Date</th>\n      <th>Outlook</th>\n      <th>Temperature</th>\n      <th>Humidity</th>\n      <th>Windy</th>\n      <th>Result</th>\n      <th>TempHumid</th>\n      <th>HeatIndex</th>\n    </tr>\n  </thead>\n  <tbody>\n    <tr>\n      <th>0</th>\n      <td>7/1/14</td>\n      <td>sunny</td>\n      <td>85</td>\n      <td>85</td>\n      <td>False</td>\n      <td>Don't Play</td>\n      <td>170</td>\n      <td>98.004631</td>\n    </tr>\n    <tr>\n      <th>1</th>\n      <td>7/2/14</td>\n      <td>sunny</td>\n      <td>80</td>\n      <td>90</td>\n      <td>True</td>\n      <td>Don't Play</td>\n      <td>170</td>\n      <td>84.474400</td>\n    </tr>\n    <tr>\n      <th>2</th>\n      <td>7/3/14</td>\n      <td>overcast</td>\n      <td>83</td>\n      <td>78</td>\n      <td>False</td>\n      <td>Play</td>\n      <td>161</td>\n      <td>89.669911</td>\n    </tr>\n    <tr>\n      <th>3</th>\n      <td>7/4/14</td>\n      <td>rain</td>\n      <td>70</td>\n      <td>96</td>\n      <td>False</td>\n      <td>Play</td>\n      <td>166</td>\n      <td>62.847024</td>\n    </tr>\n    <tr>\n      <th>4</th>\n      <td>7/5/14</td>\n      <td>rain</td>\n      <td>68</td>\n      <td>80</td>\n      <td>False</td>\n      <td>Play</td>\n      <td>148</td>\n      <td>69.089776</td>\n    </tr>\n    <tr>\n      <th>5</th>\n      <td>7/6/14</td>\n      <td>rain</td>\n      <td>65</td>\n      <td>70</td>\n      <td>True</td>\n      <td>Don't Play</td>\n      <td>135</td>\n      <td>73.668025</td>\n    </tr>\n    <tr>\n      <th>6</th>\n      <td>7/7/14</td>\n      <td>overcast</td>\n      <td>64</td>\n      <td>65</td>\n      <td>True</td>\n      <td>Play</td>\n      <td>129</td>\n      <td>75.987116</td>\n    </tr>\n    <tr>\n      <th>7</th>\n      <td>7/8/14</td>\n      <td>sunny</td>\n      <td>72</td>\n      <td>95</td>\n      <td>False</td>\n      <td>Don't Play</td>\n      <td>167</td>\n      <td>66.247396</td>\n    </tr>\n    <tr>\n      <th>8</th>\n      <td>7/9/14</td>\n      <td>sunny</td>\n      <td>69</td>\n      <td>70</td>\n      <td>False</td>\n      <td>Play</td>\n      <td>139</td>\n      <td>72.843649</td>\n    </tr>\n    <tr>\n      <th>9</th>\n      <td>7/10/14</td>\n      <td>rain</td>\n      <td>75</td>\n      <td>80</td>\n      <td>False</td>\n      <td>Play</td>\n      <td>155</td>\n      <td>74.557000</td>\n    </tr>\n    <tr>\n      <th>10</th>\n      <td>7/11/14</td>\n      <td>sunny</td>\n      <td>75</td>\n      <td>70</td>\n      <td>True</td>\n      <td>Play</td>\n      <td>145</td>\n      <td>75.777625</td>\n    </tr>\n    <tr>\n      <th>11</th>\n      <td>7/12/14</td>\n      <td>overcast</td>\n      <td>72</td>\n      <td>90</td>\n      <td>True</td>\n      <td>Play</td>\n      <td>162</td>\n      <td>68.106944</td>\n    </tr>\n    <tr>\n      <th>12</th>\n      <td>7/13/14</td>\n      <td>overcast</td>\n      <td>81</td>\n      <td>75</td>\n      <td>False</td>\n      <td>Play</td>\n      <td>156</td>\n      <td>84.523441</td>\n    </tr>\n    <tr>\n      <th>13</th>\n      <td>7/14/14</td>\n      <td>rain</td>\n      <td>71</td>\n      <td>80</td>\n      <td>True</td>\n      <td>Don't Play</td>\n      <td>151</td>\n      <td>70.486984</td>\n    </tr>\n  </tbody>\n</table>\n</div>"
     },
     "metadata": {},
     "execution_count": 94
    }
   ],
   "source": [
    "golf_df"
   ]
  },
  {
   "cell_type": "code",
   "execution_count": 95,
   "metadata": {},
   "outputs": [
    {
     "output_type": "execute_result",
     "data": {
      "text/plain": [
       "0      1\n",
       "1      2\n",
       "2      3\n",
       "3      4\n",
       "4      5\n",
       "5      6\n",
       "6      7\n",
       "7      8\n",
       "8      9\n",
       "9     10\n",
       "10    11\n",
       "11    12\n",
       "12    13\n",
       "13    14\n",
       "Name: Date, dtype: object"
      ]
     },
     "metadata": {},
     "execution_count": 95
    }
   ],
   "source": [
    "golf_df['Date'].apply(lambda x: x.split('/')[1])"
   ]
  },
  {
   "cell_type": "markdown",
   "metadata": {},
   "source": [
    "Apply takes each item from the 'date' series and *applies* the function to it. The outputs are arranged in a array of the same shape and index.\n",
    "\n",
    "So we can save it like so"
   ]
  },
  {
   "cell_type": "code",
   "execution_count": 96,
   "metadata": {},
   "outputs": [
    {
     "output_type": "execute_result",
     "data": {
      "text/plain": [
       "       Date   Outlook  Temperature  Humidity  Windy      Result  TempHumid  \\\n",
       "0    7/1/14     sunny           85        85  False  Don't Play        170   \n",
       "1    7/2/14     sunny           80        90   True  Don't Play        170   \n",
       "2    7/3/14  overcast           83        78  False        Play        161   \n",
       "3    7/4/14      rain           70        96  False        Play        166   \n",
       "4    7/5/14      rain           68        80  False        Play        148   \n",
       "5    7/6/14      rain           65        70   True  Don't Play        135   \n",
       "6    7/7/14  overcast           64        65   True        Play        129   \n",
       "7    7/8/14     sunny           72        95  False  Don't Play        167   \n",
       "8    7/9/14     sunny           69        70  False        Play        139   \n",
       "9   7/10/14      rain           75        80  False        Play        155   \n",
       "10  7/11/14     sunny           75        70   True        Play        145   \n",
       "11  7/12/14  overcast           72        90   True        Play        162   \n",
       "12  7/13/14  overcast           81        75  False        Play        156   \n",
       "13  7/14/14      rain           71        80   True  Don't Play        151   \n",
       "\n",
       "    HeatIndex day  \n",
       "0   98.004631   1  \n",
       "1   84.474400   2  \n",
       "2   89.669911   3  \n",
       "3   62.847024   4  \n",
       "4   69.089776   5  \n",
       "5   73.668025   6  \n",
       "6   75.987116   7  \n",
       "7   66.247396   8  \n",
       "8   72.843649   9  \n",
       "9   74.557000  10  \n",
       "10  75.777625  11  \n",
       "11  68.106944  12  \n",
       "12  84.523441  13  \n",
       "13  70.486984  14  "
      ],
      "text/html": "<div>\n<style scoped>\n    .dataframe tbody tr th:only-of-type {\n        vertical-align: middle;\n    }\n\n    .dataframe tbody tr th {\n        vertical-align: top;\n    }\n\n    .dataframe thead th {\n        text-align: right;\n    }\n</style>\n<table border=\"1\" class=\"dataframe\">\n  <thead>\n    <tr style=\"text-align: right;\">\n      <th></th>\n      <th>Date</th>\n      <th>Outlook</th>\n      <th>Temperature</th>\n      <th>Humidity</th>\n      <th>Windy</th>\n      <th>Result</th>\n      <th>TempHumid</th>\n      <th>HeatIndex</th>\n      <th>day</th>\n    </tr>\n  </thead>\n  <tbody>\n    <tr>\n      <th>0</th>\n      <td>7/1/14</td>\n      <td>sunny</td>\n      <td>85</td>\n      <td>85</td>\n      <td>False</td>\n      <td>Don't Play</td>\n      <td>170</td>\n      <td>98.004631</td>\n      <td>1</td>\n    </tr>\n    <tr>\n      <th>1</th>\n      <td>7/2/14</td>\n      <td>sunny</td>\n      <td>80</td>\n      <td>90</td>\n      <td>True</td>\n      <td>Don't Play</td>\n      <td>170</td>\n      <td>84.474400</td>\n      <td>2</td>\n    </tr>\n    <tr>\n      <th>2</th>\n      <td>7/3/14</td>\n      <td>overcast</td>\n      <td>83</td>\n      <td>78</td>\n      <td>False</td>\n      <td>Play</td>\n      <td>161</td>\n      <td>89.669911</td>\n      <td>3</td>\n    </tr>\n    <tr>\n      <th>3</th>\n      <td>7/4/14</td>\n      <td>rain</td>\n      <td>70</td>\n      <td>96</td>\n      <td>False</td>\n      <td>Play</td>\n      <td>166</td>\n      <td>62.847024</td>\n      <td>4</td>\n    </tr>\n    <tr>\n      <th>4</th>\n      <td>7/5/14</td>\n      <td>rain</td>\n      <td>68</td>\n      <td>80</td>\n      <td>False</td>\n      <td>Play</td>\n      <td>148</td>\n      <td>69.089776</td>\n      <td>5</td>\n    </tr>\n    <tr>\n      <th>5</th>\n      <td>7/6/14</td>\n      <td>rain</td>\n      <td>65</td>\n      <td>70</td>\n      <td>True</td>\n      <td>Don't Play</td>\n      <td>135</td>\n      <td>73.668025</td>\n      <td>6</td>\n    </tr>\n    <tr>\n      <th>6</th>\n      <td>7/7/14</td>\n      <td>overcast</td>\n      <td>64</td>\n      <td>65</td>\n      <td>True</td>\n      <td>Play</td>\n      <td>129</td>\n      <td>75.987116</td>\n      <td>7</td>\n    </tr>\n    <tr>\n      <th>7</th>\n      <td>7/8/14</td>\n      <td>sunny</td>\n      <td>72</td>\n      <td>95</td>\n      <td>False</td>\n      <td>Don't Play</td>\n      <td>167</td>\n      <td>66.247396</td>\n      <td>8</td>\n    </tr>\n    <tr>\n      <th>8</th>\n      <td>7/9/14</td>\n      <td>sunny</td>\n      <td>69</td>\n      <td>70</td>\n      <td>False</td>\n      <td>Play</td>\n      <td>139</td>\n      <td>72.843649</td>\n      <td>9</td>\n    </tr>\n    <tr>\n      <th>9</th>\n      <td>7/10/14</td>\n      <td>rain</td>\n      <td>75</td>\n      <td>80</td>\n      <td>False</td>\n      <td>Play</td>\n      <td>155</td>\n      <td>74.557000</td>\n      <td>10</td>\n    </tr>\n    <tr>\n      <th>10</th>\n      <td>7/11/14</td>\n      <td>sunny</td>\n      <td>75</td>\n      <td>70</td>\n      <td>True</td>\n      <td>Play</td>\n      <td>145</td>\n      <td>75.777625</td>\n      <td>11</td>\n    </tr>\n    <tr>\n      <th>11</th>\n      <td>7/12/14</td>\n      <td>overcast</td>\n      <td>72</td>\n      <td>90</td>\n      <td>True</td>\n      <td>Play</td>\n      <td>162</td>\n      <td>68.106944</td>\n      <td>12</td>\n    </tr>\n    <tr>\n      <th>12</th>\n      <td>7/13/14</td>\n      <td>overcast</td>\n      <td>81</td>\n      <td>75</td>\n      <td>False</td>\n      <td>Play</td>\n      <td>156</td>\n      <td>84.523441</td>\n      <td>13</td>\n    </tr>\n    <tr>\n      <th>13</th>\n      <td>7/14/14</td>\n      <td>rain</td>\n      <td>71</td>\n      <td>80</td>\n      <td>True</td>\n      <td>Don't Play</td>\n      <td>151</td>\n      <td>70.486984</td>\n      <td>14</td>\n    </tr>\n  </tbody>\n</table>\n</div>"
     },
     "metadata": {},
     "execution_count": 96
    }
   ],
   "source": [
    "golf_df['day'] = golf_df['Date'].apply(lambda x: x.split('/')[1])\n",
    "golf_df"
   ]
  },
  {
   "cell_type": "markdown",
   "metadata": {},
   "source": [
    "lambda is just a way of making a function. We can also apply a function we've already made."
   ]
  },
  {
   "cell_type": "code",
   "execution_count": 97,
   "metadata": {},
   "outputs": [
    {
     "output_type": "execute_result",
     "data": {
      "text/plain": [
       "0      1\n",
       "1      2\n",
       "2      3\n",
       "3      4\n",
       "4      5\n",
       "5      6\n",
       "6      7\n",
       "7      8\n",
       "8      9\n",
       "9     10\n",
       "10    11\n",
       "11    12\n",
       "12    13\n",
       "13    14\n",
       "Name: Date, dtype: object"
      ]
     },
     "metadata": {},
     "execution_count": 97
    }
   ],
   "source": [
    "def get_day(x):\n",
    "    return x.split('/')[1]\n",
    "\n",
    "golf_df['Date'].apply(get_day)"
   ]
  },
  {
   "cell_type": "markdown",
   "metadata": {},
   "source": [
    "We can also apply a function to each row of the DataFrame by specifying the column and axis equals 1. "
   ]
  },
  {
   "cell_type": "code",
   "execution_count": 98,
   "metadata": {},
   "outputs": [
    {
     "output_type": "execute_result",
     "data": {
      "text/plain": [
       "0     170\n",
       "1     170\n",
       "2     161\n",
       "3     166\n",
       "4     148\n",
       "5     135\n",
       "6     129\n",
       "7     167\n",
       "8     139\n",
       "9     155\n",
       "10    145\n",
       "11    162\n",
       "12    156\n",
       "13    151\n",
       "dtype: int64"
      ]
     },
     "metadata": {},
     "execution_count": 98
    }
   ],
   "source": [
    "golf_df.apply(lambda x: x['Temperature'] + x['Humidity'], axis=1)"
   ]
  },
  {
   "cell_type": "markdown",
   "metadata": {},
   "source": [
    "(This method is slower than using plain ol' arithmetics though)"
   ]
  },
  {
   "cell_type": "markdown",
   "metadata": {},
   "source": [
    "In general, `.apply` is useful for mapping complex functions across your data."
   ]
  },
  {
   "cell_type": "markdown",
   "metadata": {},
   "source": [
    "### Question:\n",
    "\n",
    "Make a new column 'report_card' that returns 'FAILURE' if a student's grade is below 60%, and the student's grade if the grade is not below 60%. (tough school)\n",
    "\n",
    "```python\n",
    ">>> print(students[['grade','height', 'report_card']])\n",
    "          grade  height report_card\n",
    "Tomas        45      34     FAILURE\n",
    "Angel        56      35     FAILURE\n",
    "Stacy        78      36          78\n",
    "Michaela     89      37          89\n",
    "Haden        90      38          90\n",
    "```"
   ]
  },
  {
   "cell_type": "code",
   "execution_count": 99,
   "metadata": {},
   "outputs": [
    {
     "output_type": "execute_result",
     "data": {
      "text/plain": [
       "          grade  height  was_late     top_crush  above_75_percent  \\\n",
       "Tomas        45      34      True         Angel             False   \n",
       "Angel        56      35     False         Haden             False   \n",
       "Stacy        78      36      True      Michaela              True   \n",
       "Michaela     89      37     False         Tomas              True   \n",
       "Haden        90      38     False  Edgar A. Poe              True   \n",
       "\n",
       "          taller_than_35  pickup_time  smarty_pants report_card  \n",
       "Tomas              False          4.0         False     FAILURE  \n",
       "Angel              False          5.0         False     FAILURE  \n",
       "Stacy               True          2.0         False          78  \n",
       "Michaela            True          NaN          True          89  \n",
       "Haden               True          NaN          True          90  "
      ],
      "text/html": "<div>\n<style scoped>\n    .dataframe tbody tr th:only-of-type {\n        vertical-align: middle;\n    }\n\n    .dataframe tbody tr th {\n        vertical-align: top;\n    }\n\n    .dataframe thead th {\n        text-align: right;\n    }\n</style>\n<table border=\"1\" class=\"dataframe\">\n  <thead>\n    <tr style=\"text-align: right;\">\n      <th></th>\n      <th>grade</th>\n      <th>height</th>\n      <th>was_late</th>\n      <th>top_crush</th>\n      <th>above_75_percent</th>\n      <th>taller_than_35</th>\n      <th>pickup_time</th>\n      <th>smarty_pants</th>\n      <th>report_card</th>\n    </tr>\n  </thead>\n  <tbody>\n    <tr>\n      <th>Tomas</th>\n      <td>45</td>\n      <td>34</td>\n      <td>True</td>\n      <td>Angel</td>\n      <td>False</td>\n      <td>False</td>\n      <td>4.0</td>\n      <td>False</td>\n      <td>FAILURE</td>\n    </tr>\n    <tr>\n      <th>Angel</th>\n      <td>56</td>\n      <td>35</td>\n      <td>False</td>\n      <td>Haden</td>\n      <td>False</td>\n      <td>False</td>\n      <td>5.0</td>\n      <td>False</td>\n      <td>FAILURE</td>\n    </tr>\n    <tr>\n      <th>Stacy</th>\n      <td>78</td>\n      <td>36</td>\n      <td>True</td>\n      <td>Michaela</td>\n      <td>True</td>\n      <td>True</td>\n      <td>2.0</td>\n      <td>False</td>\n      <td>78</td>\n    </tr>\n    <tr>\n      <th>Michaela</th>\n      <td>89</td>\n      <td>37</td>\n      <td>False</td>\n      <td>Tomas</td>\n      <td>True</td>\n      <td>True</td>\n      <td>NaN</td>\n      <td>True</td>\n      <td>89</td>\n    </tr>\n    <tr>\n      <th>Haden</th>\n      <td>90</td>\n      <td>38</td>\n      <td>False</td>\n      <td>Edgar A. Poe</td>\n      <td>True</td>\n      <td>True</td>\n      <td>NaN</td>\n      <td>True</td>\n      <td>90</td>\n    </tr>\n  </tbody>\n</table>\n</div>"
     },
     "metadata": {},
     "execution_count": 99
    }
   ],
   "source": [
    "# write here:\n",
    "students['report_card'] = students['grade'].apply(lambda g: g if g >= 60 else 'FAILURE' )\n",
    "\n",
    "students"
   ]
  },
  {
   "cell_type": "markdown",
   "metadata": {},
   "source": [
    "<details><summary>Solution\n",
    "</summary>\n",
    "\n",
    "```python\n",
    "students['report_card'] = students['grade'].apply(lambda x: x if x>=60 else 'FAILURE')\n",
    "print(students[['grade','height', 'report_card']])\n",
    "```\n",
    "\n",
    "</details>"
   ]
  },
  {
   "cell_type": "markdown",
   "metadata": {},
   "source": [
    "### Question:\n",
    "\n",
    "Make a new column 'even_height' that returns 'Even' if their height is even, and 'odd' if it isn't.\n",
    "\n",
    "```python\n",
    ">>> print(students[['grade','height', 'even_height']])\n",
    "          grade  height even_height\n",
    "Tomas        45      34        Even\n",
    "Angel        56      35         Odd\n",
    "Stacy        78      36        Even\n",
    "Michaela     89      37         Odd\n",
    "Haden        90      38        Even\n",
    "```"
   ]
  },
  {
   "cell_type": "code",
   "execution_count": 100,
   "metadata": {},
   "outputs": [
    {
     "output_type": "execute_result",
     "data": {
      "text/plain": [
       "          grade  height even_height\n",
       "Tomas        45      34        Even\n",
       "Angel        56      35         Odd\n",
       "Stacy        78      36        Even\n",
       "Michaela     89      37         Odd\n",
       "Haden        90      38        Even"
      ],
      "text/html": "<div>\n<style scoped>\n    .dataframe tbody tr th:only-of-type {\n        vertical-align: middle;\n    }\n\n    .dataframe tbody tr th {\n        vertical-align: top;\n    }\n\n    .dataframe thead th {\n        text-align: right;\n    }\n</style>\n<table border=\"1\" class=\"dataframe\">\n  <thead>\n    <tr style=\"text-align: right;\">\n      <th></th>\n      <th>grade</th>\n      <th>height</th>\n      <th>even_height</th>\n    </tr>\n  </thead>\n  <tbody>\n    <tr>\n      <th>Tomas</th>\n      <td>45</td>\n      <td>34</td>\n      <td>Even</td>\n    </tr>\n    <tr>\n      <th>Angel</th>\n      <td>56</td>\n      <td>35</td>\n      <td>Odd</td>\n    </tr>\n    <tr>\n      <th>Stacy</th>\n      <td>78</td>\n      <td>36</td>\n      <td>Even</td>\n    </tr>\n    <tr>\n      <th>Michaela</th>\n      <td>89</td>\n      <td>37</td>\n      <td>Odd</td>\n    </tr>\n    <tr>\n      <th>Haden</th>\n      <td>90</td>\n      <td>38</td>\n      <td>Even</td>\n    </tr>\n  </tbody>\n</table>\n</div>"
     },
     "metadata": {},
     "execution_count": 100
    }
   ],
   "source": [
    "# write here:\n",
    "students['even_height'] = students['height'].apply(lambda x: 'Even' if x% 2 ==0 else 'Odd')\n",
    "\n",
    "\n",
    "students[['grade', 'height', 'even_height']]"
   ]
  },
  {
   "cell_type": "markdown",
   "metadata": {},
   "source": [
    "<details><summary>Solution\n",
    "</summary>\n",
    "\n",
    "```python\n",
    "students['report_card'] = students['grade'].apply(lambda x: x if x>=60 else 'FAILURE')\n",
    "print(students[['grade','height', 'even_height']])\n",
    "\n",
    "#OR\n",
    "\n",
    "students['report_card'] = np.array([\"Even\", \"Odd\"])[students['height']%2]\n",
    "print(students[['grade','height', 'even_height']])\n",
    "# but that doesn't use apply, but is a faster method to consider for later (using our NUMPY skills!)\n",
    "```\n",
    "\n",
    "</details>"
   ]
  },
  {
   "cell_type": "markdown",
   "metadata": {},
   "source": [
    "## Aggregating data"
   ]
  },
  {
   "cell_type": "markdown",
   "metadata": {},
   "source": [
    "There exists MANY methods availible to us within each dataframe. Some of them are aggregators, just like in numpy."
   ]
  },
  {
   "cell_type": "code",
   "execution_count": 101,
   "metadata": {},
   "outputs": [
    {
     "output_type": "execute_result",
     "data": {
      "text/plain": [
       "Date           14\n",
       "Outlook        14\n",
       "Temperature    14\n",
       "Humidity       14\n",
       "Windy          14\n",
       "Result         14\n",
       "TempHumid      14\n",
       "HeatIndex      14\n",
       "day            14\n",
       "dtype: int64"
      ]
     },
     "metadata": {},
     "execution_count": 101
    }
   ],
   "source": [
    "golf_df.count() # this counts the items in the row that are not None"
   ]
  },
  {
   "cell_type": "code",
   "execution_count": 102,
   "metadata": {},
   "outputs": [
    {
     "output_type": "execute_result",
     "data": {
      "text/plain": [
       "0     9\n",
       "1     9\n",
       "2     9\n",
       "3     9\n",
       "4     9\n",
       "5     9\n",
       "6     9\n",
       "7     9\n",
       "8     9\n",
       "9     9\n",
       "10    9\n",
       "11    9\n",
       "12    9\n",
       "13    9\n",
       "dtype: int64"
      ]
     },
     "metadata": {},
     "execution_count": 102
    }
   ],
   "source": [
    "golf_df.count(axis=1)"
   ]
  },
  {
   "cell_type": "code",
   "execution_count": 103,
   "metadata": {},
   "outputs": [
    {
     "output_type": "execute_result",
     "data": {
      "text/plain": [
       "Temperature    7.357143e+01\n",
       "Humidity       8.028571e+01\n",
       "Windy          4.285714e-01\n",
       "TempHumid      1.538571e+02\n",
       "HeatIndex      7.616314e+01\n",
       "day            8.818342e+16\n",
       "dtype: float64"
      ]
     },
     "metadata": {},
     "execution_count": 103
    }
   ],
   "source": [
    "golf_df.mean()"
   ]
  },
  {
   "cell_type": "code",
   "execution_count": 104,
   "metadata": {},
   "outputs": [
    {
     "output_type": "execute_result",
     "data": {
      "text/plain": [
       "Date           7/1/147/2/147/3/147/4/147/5/147/6/147/7/147/8/...\n",
       "Outlook        sunnysunnyovercastrainrainrainovercastsunnysun...\n",
       "Temperature                                                 1030\n",
       "Humidity                                                    1124\n",
       "Windy                                                          6\n",
       "Result         Don't PlayDon't PlayPlayPlayPlayDon't PlayPlay...\n",
       "TempHumid                                                   2154\n",
       "HeatIndex                                            1066.283922\n",
       "day                                          1234567891011121314\n",
       "dtype: object"
      ]
     },
     "metadata": {},
     "execution_count": 104
    }
   ],
   "source": [
    "golf_df.sum()"
   ]
  },
  {
   "cell_type": "code",
   "execution_count": 105,
   "metadata": {},
   "outputs": [
    {
     "output_type": "execute_result",
     "data": {
      "text/plain": [
       "Date               7/1/14\n",
       "Outlook          overcast\n",
       "Temperature            64\n",
       "Humidity               65\n",
       "Windy               False\n",
       "Result         Don't Play\n",
       "TempHumid             129\n",
       "HeatIndex       62.847024\n",
       "day                     1\n",
       "dtype: object"
      ]
     },
     "metadata": {},
     "execution_count": 105
    }
   ],
   "source": [
    "golf_df.aggregate(min)"
   ]
  },
  {
   "cell_type": "markdown",
   "metadata": {},
   "source": [
    "But what if we want to figure ot the minimum temperature on overcast vs rainy vs sunny days? \n",
    "\n",
    "We use a groupby statement! Like from sql!"
   ]
  },
  {
   "cell_type": "code",
   "execution_count": 106,
   "metadata": {},
   "outputs": [
    {
     "output_type": "execute_result",
     "data": {
      "text/plain": [
       "             Date  Temperature  Humidity  Windy      Result  TempHumid  \\\n",
       "Outlook                                                                  \n",
       "overcast  7/12/14           64        65  False        Play        129   \n",
       "rain      7/10/14           65        70  False  Don't Play        135   \n",
       "sunny      7/1/14           69        70  False  Don't Play        139   \n",
       "\n",
       "          HeatIndex day  \n",
       "Outlook                  \n",
       "overcast  68.106944  12  \n",
       "rain      62.847024  10  \n",
       "sunny     66.247396   1  "
      ],
      "text/html": "<div>\n<style scoped>\n    .dataframe tbody tr th:only-of-type {\n        vertical-align: middle;\n    }\n\n    .dataframe tbody tr th {\n        vertical-align: top;\n    }\n\n    .dataframe thead th {\n        text-align: right;\n    }\n</style>\n<table border=\"1\" class=\"dataframe\">\n  <thead>\n    <tr style=\"text-align: right;\">\n      <th></th>\n      <th>Date</th>\n      <th>Temperature</th>\n      <th>Humidity</th>\n      <th>Windy</th>\n      <th>Result</th>\n      <th>TempHumid</th>\n      <th>HeatIndex</th>\n      <th>day</th>\n    </tr>\n    <tr>\n      <th>Outlook</th>\n      <th></th>\n      <th></th>\n      <th></th>\n      <th></th>\n      <th></th>\n      <th></th>\n      <th></th>\n      <th></th>\n    </tr>\n  </thead>\n  <tbody>\n    <tr>\n      <th>overcast</th>\n      <td>7/12/14</td>\n      <td>64</td>\n      <td>65</td>\n      <td>False</td>\n      <td>Play</td>\n      <td>129</td>\n      <td>68.106944</td>\n      <td>12</td>\n    </tr>\n    <tr>\n      <th>rain</th>\n      <td>7/10/14</td>\n      <td>65</td>\n      <td>70</td>\n      <td>False</td>\n      <td>Don't Play</td>\n      <td>135</td>\n      <td>62.847024</td>\n      <td>10</td>\n    </tr>\n    <tr>\n      <th>sunny</th>\n      <td>7/1/14</td>\n      <td>69</td>\n      <td>70</td>\n      <td>False</td>\n      <td>Don't Play</td>\n      <td>139</td>\n      <td>66.247396</td>\n      <td>1</td>\n    </tr>\n  </tbody>\n</table>\n</div>"
     },
     "metadata": {},
     "execution_count": 106
    }
   ],
   "source": [
    "golf_df.groupby('Outlook').aggregate(min)"
   ]
  },
  {
   "cell_type": "markdown",
   "metadata": {},
   "source": [
    "This took the minimum of each __Outlook__ of *every* other column. And notice that __Outlook__ is now the index! \n",
    "\n",
    "Lets just look at what we care about, the temperature."
   ]
  },
  {
   "cell_type": "code",
   "execution_count": 107,
   "metadata": {},
   "outputs": [
    {
     "output_type": "error",
     "ename": "SyntaxError",
     "evalue": "invalid syntax (<ipython-input-107-ba49289e213d>, line 1)",
     "traceback": [
      "\u001b[0;36m  File \u001b[0;32m\"<ipython-input-107-ba49289e213d>\"\u001b[0;36m, line \u001b[0;32m1\u001b[0m\n\u001b[0;31m    golf_df.('Outlook').aggregate(min)[['Temperature']]\u001b[0m\n\u001b[0m            ^\u001b[0m\n\u001b[0;31mSyntaxError\u001b[0m\u001b[0;31m:\u001b[0m invalid syntax\n"
     ]
    }
   ],
   "source": [
    "golf_df.('Outlook').aggregate(min)[['Temperature']]"
   ]
  },
  {
   "cell_type": "markdown",
   "metadata": {},
   "source": [
    "### Question:\n",
    "\n",
    "Return the average weather data for each Outlook.\n",
    "\n",
    "```python\n",
    "          Temperature  Humidity  Windy  TempHumid  HeatIndex\n",
    "Outlook                                                     \n",
    "overcast         75.0      77.0    0.5      152.0  79.571853\n",
    "rain             69.8      81.2    0.4      151.0  70.129762\n",
    "sunny            76.2      82.0    0.4      158.2  79.469540\n",
    "```"
   ]
  },
  {
   "cell_type": "code",
   "execution_count": 251,
   "metadata": {},
   "outputs": [
    {
     "output_type": "execute_result",
     "data": {
      "text/plain": [
       "          Temperature  Humidity  Windy  HeatIndex\n",
       "Outlook                                          \n",
       "overcast         75.0      77.0    0.5  79.571853\n",
       "rain             69.8      81.2    0.4  70.129762\n",
       "sunny            76.2      82.0    0.4  79.469540"
      ],
      "text/html": "<div>\n<style scoped>\n    .dataframe tbody tr th:only-of-type {\n        vertical-align: middle;\n    }\n\n    .dataframe tbody tr th {\n        vertical-align: top;\n    }\n\n    .dataframe thead th {\n        text-align: right;\n    }\n</style>\n<table border=\"1\" class=\"dataframe\">\n  <thead>\n    <tr style=\"text-align: right;\">\n      <th></th>\n      <th>Temperature</th>\n      <th>Humidity</th>\n      <th>Windy</th>\n      <th>HeatIndex</th>\n    </tr>\n    <tr>\n      <th>Outlook</th>\n      <th></th>\n      <th></th>\n      <th></th>\n      <th></th>\n    </tr>\n  </thead>\n  <tbody>\n    <tr>\n      <th>overcast</th>\n      <td>75.0</td>\n      <td>77.0</td>\n      <td>0.5</td>\n      <td>79.571853</td>\n    </tr>\n    <tr>\n      <th>rain</th>\n      <td>69.8</td>\n      <td>81.2</td>\n      <td>0.4</td>\n      <td>70.129762</td>\n    </tr>\n    <tr>\n      <th>sunny</th>\n      <td>76.2</td>\n      <td>82.0</td>\n      <td>0.4</td>\n      <td>79.469540</td>\n    </tr>\n  </tbody>\n</table>\n</div>"
     },
     "metadata": {},
     "execution_count": 251
    }
   ],
   "source": [
    "# write here:\n",
    "golf_df.groupby('Outlook').mean()\n"
   ]
  },
  {
   "cell_type": "markdown",
   "metadata": {},
   "source": [
    "<details><summary>Solution\n",
    "</summary>\n",
    "\n",
    "```python\n",
    "print(golf_df.groupby('Outlook').mean())\n",
    "```\n",
    "\n",
    "</details>"
   ]
  },
  {
   "cell_type": "markdown",
   "metadata": {},
   "source": [
    "### Question:\n",
    "\n",
    "Return the max temperature on windy and non-windy days.\n",
    "\n",
    "```python\n",
    "Windy\n",
    "False    85\n",
    "True     80\n",
    "```"
   ]
  },
  {
   "cell_type": "code",
   "execution_count": 253,
   "metadata": {},
   "outputs": [
    {
     "output_type": "execute_result",
     "data": {
      "text/plain": [
       "       Temperature\n",
       "Windy             \n",
       "False           85\n",
       "True            80"
      ],
      "text/html": "<div>\n<style scoped>\n    .dataframe tbody tr th:only-of-type {\n        vertical-align: middle;\n    }\n\n    .dataframe tbody tr th {\n        vertical-align: top;\n    }\n\n    .dataframe thead th {\n        text-align: right;\n    }\n</style>\n<table border=\"1\" class=\"dataframe\">\n  <thead>\n    <tr style=\"text-align: right;\">\n      <th></th>\n      <th>Temperature</th>\n    </tr>\n    <tr>\n      <th>Windy</th>\n      <th></th>\n    </tr>\n  </thead>\n  <tbody>\n    <tr>\n      <th>False</th>\n      <td>85</td>\n    </tr>\n    <tr>\n      <th>True</th>\n      <td>80</td>\n    </tr>\n  </tbody>\n</table>\n</div>"
     },
     "metadata": {},
     "execution_count": 253
    }
   ],
   "source": [
    "# write here:\n",
    "golf_df.groupby('Windy').aggregate(max)[['Temperature']]\n"
   ]
  },
  {
   "cell_type": "markdown",
   "metadata": {},
   "source": [
    "<details><summary>Solution\n",
    "</summary>\n",
    "\n",
    "```python\n",
    "print(golf_df.groupby('Windy').max()['Temperature'])\n",
    "```\n",
    "\n",
    "</details>"
   ]
  },
  {
   "cell_type": "markdown",
   "metadata": {},
   "source": [
    "Note that groupby is a big topic; more documentation is at http://pandas.pydata.org/pandas-docs/stable/groupby.html\n",
    "\n"
   ]
  },
  {
   "cell_type": "markdown",
   "metadata": {},
   "source": [
    "# Some Extra, Useful Stuff"
   ]
  },
  {
   "cell_type": "markdown",
   "metadata": {},
   "source": [
    "## Various Summaries"
   ]
  },
  {
   "cell_type": "markdown",
   "metadata": {},
   "source": [
    "The `info` method is useful for checking column types and quickly seeing if you have NaN in the data."
   ]
  },
  {
   "cell_type": "code",
   "execution_count": 254,
   "metadata": {},
   "outputs": [
    {
     "output_type": "stream",
     "name": "stdout",
     "text": [
      "<class 'pandas.core.frame.DataFrame'>\nRangeIndex: 14 entries, 0 to 13\nData columns (total 7 columns):\n #   Column       Non-Null Count  Dtype  \n---  ------       --------------  -----  \n 0   Date         14 non-null     object \n 1   Outlook      14 non-null     object \n 2   Temperature  14 non-null     int64  \n 3   Humidity     14 non-null     int64  \n 4   Windy        14 non-null     bool   \n 5   Result       14 non-null     object \n 6   HeatIndex    14 non-null     float64\ndtypes: bool(1), float64(1), int64(2), object(3)\nmemory usage: 814.0+ bytes\n"
     ]
    }
   ],
   "source": [
    "golf_df.info()"
   ]
  },
  {
   "cell_type": "markdown",
   "metadata": {},
   "source": [
    "The `describe` method will give you a quick sense of the quartiles and distribution."
   ]
  },
  {
   "cell_type": "code",
   "execution_count": 255,
   "metadata": {},
   "outputs": [
    {
     "output_type": "execute_result",
     "data": {
      "text/plain": [
       "       Temperature   Humidity  HeatIndex\n",
       "count    14.000000  14.000000  14.000000\n",
       "mean     73.571429  80.285714  76.163137\n",
       "std       6.571667   9.840486   9.771440\n",
       "min      64.000000  65.000000  62.847024\n",
       "25%      69.250000  71.250000  69.439078\n",
       "50%      72.000000  80.000000  74.112513\n",
       "75%      78.750000  88.750000  82.352579\n",
       "max      85.000000  96.000000  98.004631"
      ],
      "text/html": "<div>\n<style scoped>\n    .dataframe tbody tr th:only-of-type {\n        vertical-align: middle;\n    }\n\n    .dataframe tbody tr th {\n        vertical-align: top;\n    }\n\n    .dataframe thead th {\n        text-align: right;\n    }\n</style>\n<table border=\"1\" class=\"dataframe\">\n  <thead>\n    <tr style=\"text-align: right;\">\n      <th></th>\n      <th>Temperature</th>\n      <th>Humidity</th>\n      <th>HeatIndex</th>\n    </tr>\n  </thead>\n  <tbody>\n    <tr>\n      <th>count</th>\n      <td>14.000000</td>\n      <td>14.000000</td>\n      <td>14.000000</td>\n    </tr>\n    <tr>\n      <th>mean</th>\n      <td>73.571429</td>\n      <td>80.285714</td>\n      <td>76.163137</td>\n    </tr>\n    <tr>\n      <th>std</th>\n      <td>6.571667</td>\n      <td>9.840486</td>\n      <td>9.771440</td>\n    </tr>\n    <tr>\n      <th>min</th>\n      <td>64.000000</td>\n      <td>65.000000</td>\n      <td>62.847024</td>\n    </tr>\n    <tr>\n      <th>25%</th>\n      <td>69.250000</td>\n      <td>71.250000</td>\n      <td>69.439078</td>\n    </tr>\n    <tr>\n      <th>50%</th>\n      <td>72.000000</td>\n      <td>80.000000</td>\n      <td>74.112513</td>\n    </tr>\n    <tr>\n      <th>75%</th>\n      <td>78.750000</td>\n      <td>88.750000</td>\n      <td>82.352579</td>\n    </tr>\n    <tr>\n      <th>max</th>\n      <td>85.000000</td>\n      <td>96.000000</td>\n      <td>98.004631</td>\n    </tr>\n  </tbody>\n</table>\n</div>"
     },
     "metadata": {},
     "execution_count": 255
    }
   ],
   "source": [
    "golf_df.describe()"
   ]
  },
  {
   "cell_type": "markdown",
   "metadata": {},
   "source": [
    "### Question:\n",
    "\n",
    "Which column in wine_quality_white has the biggest standard deviation? "
   ]
  },
  {
   "cell_type": "code",
   "execution_count": 257,
   "metadata": {},
   "outputs": [
    {
     "output_type": "execute_result",
     "data": {
      "text/plain": [
       "       fixed acidity  volatile acidity  citric acid  residual sugar  \\\n",
       "count    4898.000000       4898.000000  4898.000000     4898.000000   \n",
       "mean        6.854788          0.278241     0.334192        6.391415   \n",
       "std         0.843868          0.100795     0.121020        5.072058   \n",
       "min         3.800000          0.080000     0.000000        0.600000   \n",
       "25%         6.300000          0.210000     0.270000        1.700000   \n",
       "50%         6.800000          0.260000     0.320000        5.200000   \n",
       "75%         7.300000          0.320000     0.390000        9.900000   \n",
       "max        14.200000          1.100000     1.660000       65.800000   \n",
       "\n",
       "         chlorides  free sulfur dioxide  total sulfur dioxide      density  \\\n",
       "count  4898.000000          4898.000000           4898.000000  4898.000000   \n",
       "mean      0.045772            35.308085            138.360657     0.994027   \n",
       "std       0.021848            17.007137             42.498065     0.002991   \n",
       "min       0.009000             2.000000              9.000000     0.987110   \n",
       "25%       0.036000            23.000000            108.000000     0.991723   \n",
       "50%       0.043000            34.000000            134.000000     0.993740   \n",
       "75%       0.050000            46.000000            167.000000     0.996100   \n",
       "max       0.346000           289.000000            440.000000     1.038980   \n",
       "\n",
       "                pH    sulphates      alcohol      quality  \\\n",
       "count  4898.000000  4898.000000  4898.000000  4898.000000   \n",
       "mean      3.188267     0.489847    10.514267     5.877909   \n",
       "std       0.151001     0.114126     1.230621     0.885639   \n",
       "min       2.720000     0.220000     8.000000     3.000000   \n",
       "25%       3.090000     0.410000     9.500000     5.000000   \n",
       "50%       3.180000     0.470000    10.400000     6.000000   \n",
       "75%       3.280000     0.550000    11.400000     6.000000   \n",
       "max       3.820000     1.080000    14.200000     9.000000   \n",
       "\n",
       "       percent fixed acidity  \n",
       "count            4898.000000  \n",
       "mean                0.917699  \n",
       "std                 0.017822  \n",
       "min                 0.799136  \n",
       "25%                 0.908357  \n",
       "50%                 0.920635  \n",
       "75%                 0.930005  \n",
       "max                 0.960163  "
      ],
      "text/html": "<div>\n<style scoped>\n    .dataframe tbody tr th:only-of-type {\n        vertical-align: middle;\n    }\n\n    .dataframe tbody tr th {\n        vertical-align: top;\n    }\n\n    .dataframe thead th {\n        text-align: right;\n    }\n</style>\n<table border=\"1\" class=\"dataframe\">\n  <thead>\n    <tr style=\"text-align: right;\">\n      <th></th>\n      <th>fixed acidity</th>\n      <th>volatile acidity</th>\n      <th>citric acid</th>\n      <th>residual sugar</th>\n      <th>chlorides</th>\n      <th>free sulfur dioxide</th>\n      <th>total sulfur dioxide</th>\n      <th>density</th>\n      <th>pH</th>\n      <th>sulphates</th>\n      <th>alcohol</th>\n      <th>quality</th>\n      <th>percent fixed acidity</th>\n    </tr>\n  </thead>\n  <tbody>\n    <tr>\n      <th>count</th>\n      <td>4898.000000</td>\n      <td>4898.000000</td>\n      <td>4898.000000</td>\n      <td>4898.000000</td>\n      <td>4898.000000</td>\n      <td>4898.000000</td>\n      <td>4898.000000</td>\n      <td>4898.000000</td>\n      <td>4898.000000</td>\n      <td>4898.000000</td>\n      <td>4898.000000</td>\n      <td>4898.000000</td>\n      <td>4898.000000</td>\n    </tr>\n    <tr>\n      <th>mean</th>\n      <td>6.854788</td>\n      <td>0.278241</td>\n      <td>0.334192</td>\n      <td>6.391415</td>\n      <td>0.045772</td>\n      <td>35.308085</td>\n      <td>138.360657</td>\n      <td>0.994027</td>\n      <td>3.188267</td>\n      <td>0.489847</td>\n      <td>10.514267</td>\n      <td>5.877909</td>\n      <td>0.917699</td>\n    </tr>\n    <tr>\n      <th>std</th>\n      <td>0.843868</td>\n      <td>0.100795</td>\n      <td>0.121020</td>\n      <td>5.072058</td>\n      <td>0.021848</td>\n      <td>17.007137</td>\n      <td>42.498065</td>\n      <td>0.002991</td>\n      <td>0.151001</td>\n      <td>0.114126</td>\n      <td>1.230621</td>\n      <td>0.885639</td>\n      <td>0.017822</td>\n    </tr>\n    <tr>\n      <th>min</th>\n      <td>3.800000</td>\n      <td>0.080000</td>\n      <td>0.000000</td>\n      <td>0.600000</td>\n      <td>0.009000</td>\n      <td>2.000000</td>\n      <td>9.000000</td>\n      <td>0.987110</td>\n      <td>2.720000</td>\n      <td>0.220000</td>\n      <td>8.000000</td>\n      <td>3.000000</td>\n      <td>0.799136</td>\n    </tr>\n    <tr>\n      <th>25%</th>\n      <td>6.300000</td>\n      <td>0.210000</td>\n      <td>0.270000</td>\n      <td>1.700000</td>\n      <td>0.036000</td>\n      <td>23.000000</td>\n      <td>108.000000</td>\n      <td>0.991723</td>\n      <td>3.090000</td>\n      <td>0.410000</td>\n      <td>9.500000</td>\n      <td>5.000000</td>\n      <td>0.908357</td>\n    </tr>\n    <tr>\n      <th>50%</th>\n      <td>6.800000</td>\n      <td>0.260000</td>\n      <td>0.320000</td>\n      <td>5.200000</td>\n      <td>0.043000</td>\n      <td>34.000000</td>\n      <td>134.000000</td>\n      <td>0.993740</td>\n      <td>3.180000</td>\n      <td>0.470000</td>\n      <td>10.400000</td>\n      <td>6.000000</td>\n      <td>0.920635</td>\n    </tr>\n    <tr>\n      <th>75%</th>\n      <td>7.300000</td>\n      <td>0.320000</td>\n      <td>0.390000</td>\n      <td>9.900000</td>\n      <td>0.050000</td>\n      <td>46.000000</td>\n      <td>167.000000</td>\n      <td>0.996100</td>\n      <td>3.280000</td>\n      <td>0.550000</td>\n      <td>11.400000</td>\n      <td>6.000000</td>\n      <td>0.930005</td>\n    </tr>\n    <tr>\n      <th>max</th>\n      <td>14.200000</td>\n      <td>1.100000</td>\n      <td>1.660000</td>\n      <td>65.800000</td>\n      <td>0.346000</td>\n      <td>289.000000</td>\n      <td>440.000000</td>\n      <td>1.038980</td>\n      <td>3.820000</td>\n      <td>1.080000</td>\n      <td>14.200000</td>\n      <td>9.000000</td>\n      <td>0.960163</td>\n    </tr>\n  </tbody>\n</table>\n</div>"
     },
     "metadata": {},
     "execution_count": 257
    }
   ],
   "source": [
    "# write here:\n",
    "wine_quality_white.describe()\n",
    "#total sulfur dioxide"
   ]
  },
  {
   "cell_type": "markdown",
   "metadata": {},
   "source": [
    "<details><summary>Solution\n",
    "</summary>\n",
    "\n",
    "```python\n",
    "wine_quality_white.describe()\n",
    "\n",
    "# then look visually to see it's 'total sulfure dioxide'\n",
    "```\n",
    "\n",
    "</details>"
   ]
  },
  {
   "cell_type": "markdown",
   "metadata": {},
   "source": [
    "### Question:\n",
    "\n",
    "How much memory does wine_quality_white take in pandas?\n"
   ]
  },
  {
   "cell_type": "code",
   "execution_count": 366,
   "metadata": {},
   "outputs": [
    {
     "output_type": "stream",
     "name": "stdout",
     "text": [
      "<class 'pandas.core.frame.DataFrame'>\nRangeIndex: 4898 entries, 0 to 4897\nData columns (total 13 columns):\n #   Column                 Non-Null Count  Dtype  \n---  ------                 --------------  -----  \n 0   fixed acidity          4898 non-null   float64\n 1   volatile acidity       4898 non-null   float64\n 2   citric acid            4898 non-null   float64\n 3   residual sugar         4898 non-null   float64\n 4   chlorides              4898 non-null   float64\n 5   free sulfur dioxide    4898 non-null   float64\n 6   total sulfur dioxide   4898 non-null   float64\n 7   density                4898 non-null   float64\n 8   pH                     4898 non-null   float64\n 9   sulphates              4898 non-null   float64\n 10  alcohol                4898 non-null   float64\n 11  quality                4898 non-null   int64  \n 12  percent fixed acidity  4898 non-null   float64\ndtypes: float64(12), int64(1)\nmemory usage: 497.6 KB\n"
     ]
    }
   ],
   "source": [
    "# write here:\n",
    "\n",
    "wine_quality_white.info()\n",
    "# 497.6 KB"
   ]
  },
  {
   "cell_type": "markdown",
   "metadata": {},
   "source": [
    "<details><summary>Solution\n",
    "</summary>\n",
    "\n",
    "```python\n",
    "wine_quality_white.info()\n",
    "\n",
    "# then look at the verrrry bottom. Answers may very. Mine says 459.3 KB.\n",
    "```\n",
    "\n",
    "</details>"
   ]
  },
  {
   "cell_type": "markdown",
   "metadata": {},
   "source": [
    "### Question:\n",
    "\n",
    "Which columns are integers in wine_quality_white?"
   ]
  },
  {
   "cell_type": "code",
   "execution_count": 367,
   "metadata": {},
   "outputs": [],
   "source": [
    "# write here:\n",
    "# 12 quality\n"
   ]
  },
  {
   "cell_type": "markdown",
   "metadata": {},
   "source": [
    "<details><summary>Solution\n",
    "</summary>\n",
    "\n",
    "```python\n",
    "wine_quality_white.info()\n",
    "\n",
    "# then look at the last column and you'll see quality is the last one\n",
    "```\n",
    "\n",
    "</details>"
   ]
  },
  {
   "cell_type": "markdown",
   "metadata": {},
   "source": [
    "### Question:\n",
    "\n",
    "Which column has the lowest 75th percentile? \n",
    "\n",
    "(The 75th percentile is the datapoint that is higher than 75% of the data in that group)"
   ]
  },
  {
   "cell_type": "code",
   "execution_count": 260,
   "metadata": {},
   "outputs": [
    {
     "output_type": "execute_result",
     "data": {
      "text/plain": [
       "       fixed acidity  volatile acidity  citric acid  residual sugar  \\\n",
       "count    4898.000000       4898.000000  4898.000000     4898.000000   \n",
       "mean        6.854788          0.278241     0.334192        6.391415   \n",
       "std         0.843868          0.100795     0.121020        5.072058   \n",
       "min         3.800000          0.080000     0.000000        0.600000   \n",
       "25%         6.300000          0.210000     0.270000        1.700000   \n",
       "50%         6.800000          0.260000     0.320000        5.200000   \n",
       "75%         7.300000          0.320000     0.390000        9.900000   \n",
       "max        14.200000          1.100000     1.660000       65.800000   \n",
       "\n",
       "         chlorides  free sulfur dioxide  total sulfur dioxide      density  \\\n",
       "count  4898.000000          4898.000000           4898.000000  4898.000000   \n",
       "mean      0.045772            35.308085            138.360657     0.994027   \n",
       "std       0.021848            17.007137             42.498065     0.002991   \n",
       "min       0.009000             2.000000              9.000000     0.987110   \n",
       "25%       0.036000            23.000000            108.000000     0.991723   \n",
       "50%       0.043000            34.000000            134.000000     0.993740   \n",
       "75%       0.050000            46.000000            167.000000     0.996100   \n",
       "max       0.346000           289.000000            440.000000     1.038980   \n",
       "\n",
       "                pH    sulphates      alcohol      quality  \\\n",
       "count  4898.000000  4898.000000  4898.000000  4898.000000   \n",
       "mean      3.188267     0.489847    10.514267     5.877909   \n",
       "std       0.151001     0.114126     1.230621     0.885639   \n",
       "min       2.720000     0.220000     8.000000     3.000000   \n",
       "25%       3.090000     0.410000     9.500000     5.000000   \n",
       "50%       3.180000     0.470000    10.400000     6.000000   \n",
       "75%       3.280000     0.550000    11.400000     6.000000   \n",
       "max       3.820000     1.080000    14.200000     9.000000   \n",
       "\n",
       "       percent fixed acidity  \n",
       "count            4898.000000  \n",
       "mean                0.917699  \n",
       "std                 0.017822  \n",
       "min                 0.799136  \n",
       "25%                 0.908357  \n",
       "50%                 0.920635  \n",
       "75%                 0.930005  \n",
       "max                 0.960163  "
      ],
      "text/html": "<div>\n<style scoped>\n    .dataframe tbody tr th:only-of-type {\n        vertical-align: middle;\n    }\n\n    .dataframe tbody tr th {\n        vertical-align: top;\n    }\n\n    .dataframe thead th {\n        text-align: right;\n    }\n</style>\n<table border=\"1\" class=\"dataframe\">\n  <thead>\n    <tr style=\"text-align: right;\">\n      <th></th>\n      <th>fixed acidity</th>\n      <th>volatile acidity</th>\n      <th>citric acid</th>\n      <th>residual sugar</th>\n      <th>chlorides</th>\n      <th>free sulfur dioxide</th>\n      <th>total sulfur dioxide</th>\n      <th>density</th>\n      <th>pH</th>\n      <th>sulphates</th>\n      <th>alcohol</th>\n      <th>quality</th>\n      <th>percent fixed acidity</th>\n    </tr>\n  </thead>\n  <tbody>\n    <tr>\n      <th>count</th>\n      <td>4898.000000</td>\n      <td>4898.000000</td>\n      <td>4898.000000</td>\n      <td>4898.000000</td>\n      <td>4898.000000</td>\n      <td>4898.000000</td>\n      <td>4898.000000</td>\n      <td>4898.000000</td>\n      <td>4898.000000</td>\n      <td>4898.000000</td>\n      <td>4898.000000</td>\n      <td>4898.000000</td>\n      <td>4898.000000</td>\n    </tr>\n    <tr>\n      <th>mean</th>\n      <td>6.854788</td>\n      <td>0.278241</td>\n      <td>0.334192</td>\n      <td>6.391415</td>\n      <td>0.045772</td>\n      <td>35.308085</td>\n      <td>138.360657</td>\n      <td>0.994027</td>\n      <td>3.188267</td>\n      <td>0.489847</td>\n      <td>10.514267</td>\n      <td>5.877909</td>\n      <td>0.917699</td>\n    </tr>\n    <tr>\n      <th>std</th>\n      <td>0.843868</td>\n      <td>0.100795</td>\n      <td>0.121020</td>\n      <td>5.072058</td>\n      <td>0.021848</td>\n      <td>17.007137</td>\n      <td>42.498065</td>\n      <td>0.002991</td>\n      <td>0.151001</td>\n      <td>0.114126</td>\n      <td>1.230621</td>\n      <td>0.885639</td>\n      <td>0.017822</td>\n    </tr>\n    <tr>\n      <th>min</th>\n      <td>3.800000</td>\n      <td>0.080000</td>\n      <td>0.000000</td>\n      <td>0.600000</td>\n      <td>0.009000</td>\n      <td>2.000000</td>\n      <td>9.000000</td>\n      <td>0.987110</td>\n      <td>2.720000</td>\n      <td>0.220000</td>\n      <td>8.000000</td>\n      <td>3.000000</td>\n      <td>0.799136</td>\n    </tr>\n    <tr>\n      <th>25%</th>\n      <td>6.300000</td>\n      <td>0.210000</td>\n      <td>0.270000</td>\n      <td>1.700000</td>\n      <td>0.036000</td>\n      <td>23.000000</td>\n      <td>108.000000</td>\n      <td>0.991723</td>\n      <td>3.090000</td>\n      <td>0.410000</td>\n      <td>9.500000</td>\n      <td>5.000000</td>\n      <td>0.908357</td>\n    </tr>\n    <tr>\n      <th>50%</th>\n      <td>6.800000</td>\n      <td>0.260000</td>\n      <td>0.320000</td>\n      <td>5.200000</td>\n      <td>0.043000</td>\n      <td>34.000000</td>\n      <td>134.000000</td>\n      <td>0.993740</td>\n      <td>3.180000</td>\n      <td>0.470000</td>\n      <td>10.400000</td>\n      <td>6.000000</td>\n      <td>0.920635</td>\n    </tr>\n    <tr>\n      <th>75%</th>\n      <td>7.300000</td>\n      <td>0.320000</td>\n      <td>0.390000</td>\n      <td>9.900000</td>\n      <td>0.050000</td>\n      <td>46.000000</td>\n      <td>167.000000</td>\n      <td>0.996100</td>\n      <td>3.280000</td>\n      <td>0.550000</td>\n      <td>11.400000</td>\n      <td>6.000000</td>\n      <td>0.930005</td>\n    </tr>\n    <tr>\n      <th>max</th>\n      <td>14.200000</td>\n      <td>1.100000</td>\n      <td>1.660000</td>\n      <td>65.800000</td>\n      <td>0.346000</td>\n      <td>289.000000</td>\n      <td>440.000000</td>\n      <td>1.038980</td>\n      <td>3.820000</td>\n      <td>1.080000</td>\n      <td>14.200000</td>\n      <td>9.000000</td>\n      <td>0.960163</td>\n    </tr>\n  </tbody>\n</table>\n</div>"
     },
     "metadata": {},
     "execution_count": 260
    }
   ],
   "source": [
    "# write here:\n",
    "wine_quality_white.describe()\n",
    "\n",
    "# chlorides\n"
   ]
  },
  {
   "cell_type": "markdown",
   "metadata": {},
   "source": [
    "<details><summary>Solution\n",
    "</summary>\n",
    "\n",
    "```python\n",
    "wine_quality_white.describe()\n",
    "\n",
    "# then look at the 75% row. Clorides have the lowest value.\n",
    "```\n",
    "\n",
    "</details>"
   ]
  },
  {
   "cell_type": "markdown",
   "metadata": {},
   "source": [
    "## Frequency Tables"
   ]
  },
  {
   "cell_type": "markdown",
   "metadata": {},
   "source": [
    "The `crosstab` function will allow us to quickly take a look at the frequency count between two columns."
   ]
  },
  {
   "cell_type": "code",
   "execution_count": 368,
   "metadata": {},
   "outputs": [
    {
     "output_type": "execute_result",
     "data": {
      "text/plain": [
       "Result    Don't Play  Play\n",
       "Outlook                   \n",
       "overcast           0     4\n",
       "rain               2     3\n",
       "sunny              3     2"
      ],
      "text/html": "<div>\n<style scoped>\n    .dataframe tbody tr th:only-of-type {\n        vertical-align: middle;\n    }\n\n    .dataframe tbody tr th {\n        vertical-align: top;\n    }\n\n    .dataframe thead th {\n        text-align: right;\n    }\n</style>\n<table border=\"1\" class=\"dataframe\">\n  <thead>\n    <tr style=\"text-align: right;\">\n      <th>Result</th>\n      <th>Don't Play</th>\n      <th>Play</th>\n    </tr>\n    <tr>\n      <th>Outlook</th>\n      <th></th>\n      <th></th>\n    </tr>\n  </thead>\n  <tbody>\n    <tr>\n      <th>overcast</th>\n      <td>0</td>\n      <td>4</td>\n    </tr>\n    <tr>\n      <th>rain</th>\n      <td>2</td>\n      <td>3</td>\n    </tr>\n    <tr>\n      <th>sunny</th>\n      <td>3</td>\n      <td>2</td>\n    </tr>\n  </tbody>\n</table>\n</div>"
     },
     "metadata": {},
     "execution_count": 368
    }
   ],
   "source": [
    "pd.crosstab(golf_df['Outlook'], golf_df['Result'])"
   ]
  },
  {
   "cell_type": "markdown",
   "metadata": {},
   "source": [
    "## DateTimes"
   ]
  },
  {
   "cell_type": "markdown",
   "metadata": {},
   "source": [
    "We can turn strings of dates into datetime types by using Pandas' `to_datetime` function."
   ]
  },
  {
   "cell_type": "code",
   "execution_count": 262,
   "metadata": {},
   "outputs": [
    {
     "output_type": "execute_result",
     "data": {
      "text/plain": [
       "0    2014-07-01\n",
       "1    2014-07-02\n",
       "2    2014-07-03\n",
       "3    2014-07-04\n",
       "4    2014-07-05\n",
       "5    2014-07-06\n",
       "6    2014-07-07\n",
       "7    2014-07-08\n",
       "8    2014-07-09\n",
       "9    2014-07-10\n",
       "10   2014-07-11\n",
       "11   2014-07-12\n",
       "12   2014-07-13\n",
       "13   2014-07-14\n",
       "Name: DateTime, dtype: datetime64[ns]"
      ]
     },
     "metadata": {},
     "execution_count": 262
    }
   ],
   "source": [
    "golf_df['DateTime'] = pd.to_datetime(golf_df['Date'])\n",
    "golf_df['DateTime']"
   ]
  },
  {
   "cell_type": "markdown",
   "metadata": {},
   "source": [
    "Though `day` and `dayofweek` look the same, they are NOT. Look closely to see the difference."
   ]
  },
  {
   "cell_type": "code",
   "execution_count": 263,
   "metadata": {},
   "outputs": [
    {
     "output_type": "execute_result",
     "data": {
      "text/plain": [
       "0      1\n",
       "1      2\n",
       "2      3\n",
       "3      4\n",
       "4      5\n",
       "5      6\n",
       "6      7\n",
       "7      8\n",
       "8      9\n",
       "9     10\n",
       "10    11\n",
       "11    12\n",
       "12    13\n",
       "13    14\n",
       "Name: DateTime, dtype: int64"
      ]
     },
     "metadata": {},
     "execution_count": 263
    }
   ],
   "source": [
    "golf_df['DateTime'].dt.day"
   ]
  },
  {
   "cell_type": "code",
   "execution_count": 264,
   "metadata": {},
   "outputs": [
    {
     "output_type": "execute_result",
     "data": {
      "text/plain": [
       "0     1\n",
       "1     2\n",
       "2     3\n",
       "3     4\n",
       "4     5\n",
       "5     6\n",
       "6     0\n",
       "7     1\n",
       "8     2\n",
       "9     3\n",
       "10    4\n",
       "11    5\n",
       "12    6\n",
       "13    0\n",
       "Name: DateTime, dtype: int64"
      ]
     },
     "metadata": {},
     "execution_count": 264
    }
   ],
   "source": [
    "golf_df['DateTime'].dt.dayofweek"
   ]
  },
  {
   "cell_type": "code",
   "execution_count": 265,
   "metadata": {},
   "outputs": [
    {
     "output_type": "execute_result",
     "data": {
      "text/plain": [
       "0     7\n",
       "1     7\n",
       "2     7\n",
       "3     7\n",
       "4     7\n",
       "5     7\n",
       "6     7\n",
       "7     7\n",
       "8     7\n",
       "9     7\n",
       "10    7\n",
       "11    7\n",
       "12    7\n",
       "13    7\n",
       "Name: DateTime, dtype: int64"
      ]
     },
     "metadata": {},
     "execution_count": 265
    }
   ],
   "source": [
    "golf_df['DateTime'].dt.month"
   ]
  },
  {
   "cell_type": "code",
   "execution_count": 266,
   "metadata": {},
   "outputs": [
    {
     "output_type": "execute_result",
     "data": {
      "text/plain": [
       "Timedelta('-5 days +00:00:00')"
      ]
     },
     "metadata": {},
     "execution_count": 266
    }
   ],
   "source": [
    "golf_df['DateTime'][0] - golf_df['DateTime'][5]"
   ]
  },
  {
   "cell_type": "code",
   "execution_count": 127,
   "metadata": {},
   "outputs": [
    {
     "output_type": "execute_result",
     "data": {
      "text/plain": [
       "0    0 days\n",
       "1    0 days\n",
       "2    0 days\n",
       "3    0 days\n",
       "4    0 days\n",
       "5    0 days\n",
       "6    0 days\n",
       "7    0 days\n",
       "8    0 days\n",
       "9    0 days\n",
       "10   0 days\n",
       "11   0 days\n",
       "12   0 days\n",
       "13   0 days\n",
       "Name: DateTime, dtype: timedelta64[ns]"
      ]
     },
     "metadata": {},
     "execution_count": 127
    }
   ],
   "source": [
    "golf_df['DateTime'] - golf_df['DateTime']"
   ]
  },
  {
   "cell_type": "markdown",
   "metadata": {},
   "source": [
    "There is a HOST of stuff you can do with datetimes. "
   ]
  },
  {
   "cell_type": "markdown",
   "metadata": {},
   "source": [
    "### Question:\n",
    "\n",
    "Return the latest day of the week that we played AND didn't play in. \n",
    "(6 means end of week)\n",
    "\n",
    "```python\n",
    "Result\n",
    "Don't Play    6\n",
    "Play          6\n",
    "Name: dayofweek, dtype: int64\n",
    "```"
   ]
  },
  {
   "cell_type": "code",
   "execution_count": 269,
   "metadata": {},
   "outputs": [
    {
     "output_type": "execute_result",
     "data": {
      "text/plain": [
       "Result\n",
       "Don't Play    6\n",
       "Play          6\n",
       "Name: day_of_week, dtype: int64"
      ]
     },
     "metadata": {},
     "execution_count": 269
    }
   ],
   "source": [
    "# write here:\n",
    "golf_df['Datetime'] = pd.to_datetime(golf_df['Date'])\n",
    "\n",
    "golf_df['day_of_week']=golf_df['Datetime'].dt.dayofweek\n",
    "\n",
    "golf_df.groupby('Result').max()['day_of_week']"
   ]
  },
  {
   "cell_type": "markdown",
   "metadata": {},
   "source": [
    "<details><summary>Solution\n",
    "</summary>\n",
    "\n",
    "```python\n",
    "golf_df['Datetime'] = pd.to_datetime(golf_df['Date'])\n",
    "golf_df[\"dayofweek\"] = golf_df['Datetime'].dt.dayofweek\n",
    "print(golf_df.groupby('Result').max()[\"dayofweek\"])\n",
    "```\n",
    "\n",
    "</details>"
   ]
  },
  {
   "cell_type": "markdown",
   "metadata": {},
   "source": [
    "## Creating a New Row Index"
   ]
  },
  {
   "cell_type": "markdown",
   "metadata": {},
   "source": [
    "We can also set the index to be an existing column(s)."
   ]
  },
  {
   "cell_type": "code",
   "execution_count": 271,
   "metadata": {},
   "outputs": [
    {
     "output_type": "execute_result",
     "data": {
      "text/plain": [
       "               Date   Outlook  Temperature  Humidity  Windy      Result  \\\n",
       "DateTime                                                                  \n",
       "2014-07-01   7/1/14     sunny           85        85  False  Don't Play   \n",
       "2014-07-02   7/2/14     sunny           80        90   True  Don't Play   \n",
       "2014-07-03   7/3/14  overcast           83        78  False        Play   \n",
       "2014-07-04   7/4/14      rain           70        96  False        Play   \n",
       "2014-07-05   7/5/14      rain           68        80  False        Play   \n",
       "2014-07-06   7/6/14      rain           65        70   True  Don't Play   \n",
       "2014-07-07   7/7/14  overcast           64        65   True        Play   \n",
       "2014-07-08   7/8/14     sunny           72        95  False  Don't Play   \n",
       "2014-07-09   7/9/14     sunny           69        70  False        Play   \n",
       "2014-07-10  7/10/14      rain           75        80  False        Play   \n",
       "2014-07-11  7/11/14     sunny           75        70   True        Play   \n",
       "2014-07-12  7/12/14  overcast           72        90   True        Play   \n",
       "2014-07-13  7/13/14  overcast           81        75  False        Play   \n",
       "2014-07-14  7/14/14      rain           71        80   True  Don't Play   \n",
       "\n",
       "            HeatIndex   Datetime  day_of_week  \n",
       "DateTime                                       \n",
       "2014-07-01  98.004631 2014-07-01            1  \n",
       "2014-07-02  84.474400 2014-07-02            2  \n",
       "2014-07-03  89.669911 2014-07-03            3  \n",
       "2014-07-04  62.847024 2014-07-04            4  \n",
       "2014-07-05  69.089776 2014-07-05            5  \n",
       "2014-07-06  73.668025 2014-07-06            6  \n",
       "2014-07-07  75.987116 2014-07-07            0  \n",
       "2014-07-08  66.247396 2014-07-08            1  \n",
       "2014-07-09  72.843649 2014-07-09            2  \n",
       "2014-07-10  74.557000 2014-07-10            3  \n",
       "2014-07-11  75.777625 2014-07-11            4  \n",
       "2014-07-12  68.106944 2014-07-12            5  \n",
       "2014-07-13  84.523441 2014-07-13            6  \n",
       "2014-07-14  70.486984 2014-07-14            0  "
      ],
      "text/html": "<div>\n<style scoped>\n    .dataframe tbody tr th:only-of-type {\n        vertical-align: middle;\n    }\n\n    .dataframe tbody tr th {\n        vertical-align: top;\n    }\n\n    .dataframe thead th {\n        text-align: right;\n    }\n</style>\n<table border=\"1\" class=\"dataframe\">\n  <thead>\n    <tr style=\"text-align: right;\">\n      <th></th>\n      <th>Date</th>\n      <th>Outlook</th>\n      <th>Temperature</th>\n      <th>Humidity</th>\n      <th>Windy</th>\n      <th>Result</th>\n      <th>HeatIndex</th>\n      <th>Datetime</th>\n      <th>day_of_week</th>\n    </tr>\n    <tr>\n      <th>DateTime</th>\n      <th></th>\n      <th></th>\n      <th></th>\n      <th></th>\n      <th></th>\n      <th></th>\n      <th></th>\n      <th></th>\n      <th></th>\n    </tr>\n  </thead>\n  <tbody>\n    <tr>\n      <th>2014-07-01</th>\n      <td>7/1/14</td>\n      <td>sunny</td>\n      <td>85</td>\n      <td>85</td>\n      <td>False</td>\n      <td>Don't Play</td>\n      <td>98.004631</td>\n      <td>2014-07-01</td>\n      <td>1</td>\n    </tr>\n    <tr>\n      <th>2014-07-02</th>\n      <td>7/2/14</td>\n      <td>sunny</td>\n      <td>80</td>\n      <td>90</td>\n      <td>True</td>\n      <td>Don't Play</td>\n      <td>84.474400</td>\n      <td>2014-07-02</td>\n      <td>2</td>\n    </tr>\n    <tr>\n      <th>2014-07-03</th>\n      <td>7/3/14</td>\n      <td>overcast</td>\n      <td>83</td>\n      <td>78</td>\n      <td>False</td>\n      <td>Play</td>\n      <td>89.669911</td>\n      <td>2014-07-03</td>\n      <td>3</td>\n    </tr>\n    <tr>\n      <th>2014-07-04</th>\n      <td>7/4/14</td>\n      <td>rain</td>\n      <td>70</td>\n      <td>96</td>\n      <td>False</td>\n      <td>Play</td>\n      <td>62.847024</td>\n      <td>2014-07-04</td>\n      <td>4</td>\n    </tr>\n    <tr>\n      <th>2014-07-05</th>\n      <td>7/5/14</td>\n      <td>rain</td>\n      <td>68</td>\n      <td>80</td>\n      <td>False</td>\n      <td>Play</td>\n      <td>69.089776</td>\n      <td>2014-07-05</td>\n      <td>5</td>\n    </tr>\n    <tr>\n      <th>2014-07-06</th>\n      <td>7/6/14</td>\n      <td>rain</td>\n      <td>65</td>\n      <td>70</td>\n      <td>True</td>\n      <td>Don't Play</td>\n      <td>73.668025</td>\n      <td>2014-07-06</td>\n      <td>6</td>\n    </tr>\n    <tr>\n      <th>2014-07-07</th>\n      <td>7/7/14</td>\n      <td>overcast</td>\n      <td>64</td>\n      <td>65</td>\n      <td>True</td>\n      <td>Play</td>\n      <td>75.987116</td>\n      <td>2014-07-07</td>\n      <td>0</td>\n    </tr>\n    <tr>\n      <th>2014-07-08</th>\n      <td>7/8/14</td>\n      <td>sunny</td>\n      <td>72</td>\n      <td>95</td>\n      <td>False</td>\n      <td>Don't Play</td>\n      <td>66.247396</td>\n      <td>2014-07-08</td>\n      <td>1</td>\n    </tr>\n    <tr>\n      <th>2014-07-09</th>\n      <td>7/9/14</td>\n      <td>sunny</td>\n      <td>69</td>\n      <td>70</td>\n      <td>False</td>\n      <td>Play</td>\n      <td>72.843649</td>\n      <td>2014-07-09</td>\n      <td>2</td>\n    </tr>\n    <tr>\n      <th>2014-07-10</th>\n      <td>7/10/14</td>\n      <td>rain</td>\n      <td>75</td>\n      <td>80</td>\n      <td>False</td>\n      <td>Play</td>\n      <td>74.557000</td>\n      <td>2014-07-10</td>\n      <td>3</td>\n    </tr>\n    <tr>\n      <th>2014-07-11</th>\n      <td>7/11/14</td>\n      <td>sunny</td>\n      <td>75</td>\n      <td>70</td>\n      <td>True</td>\n      <td>Play</td>\n      <td>75.777625</td>\n      <td>2014-07-11</td>\n      <td>4</td>\n    </tr>\n    <tr>\n      <th>2014-07-12</th>\n      <td>7/12/14</td>\n      <td>overcast</td>\n      <td>72</td>\n      <td>90</td>\n      <td>True</td>\n      <td>Play</td>\n      <td>68.106944</td>\n      <td>2014-07-12</td>\n      <td>5</td>\n    </tr>\n    <tr>\n      <th>2014-07-13</th>\n      <td>7/13/14</td>\n      <td>overcast</td>\n      <td>81</td>\n      <td>75</td>\n      <td>False</td>\n      <td>Play</td>\n      <td>84.523441</td>\n      <td>2014-07-13</td>\n      <td>6</td>\n    </tr>\n    <tr>\n      <th>2014-07-14</th>\n      <td>7/14/14</td>\n      <td>rain</td>\n      <td>71</td>\n      <td>80</td>\n      <td>True</td>\n      <td>Don't Play</td>\n      <td>70.486984</td>\n      <td>2014-07-14</td>\n      <td>0</td>\n    </tr>\n  </tbody>\n</table>\n</div>"
     },
     "metadata": {},
     "execution_count": 271
    }
   ],
   "source": [
    "date_df = golf_df.set_index('DateTime')\n",
    "date_df"
   ]
  },
  {
   "cell_type": "code",
   "execution_count": 272,
   "metadata": {},
   "outputs": [
    {
     "output_type": "execute_result",
     "data": {
      "text/plain": [
       "DatetimeIndex(['2014-07-01', '2014-07-02', '2014-07-03', '2014-07-04',\n",
       "               '2014-07-05', '2014-07-06', '2014-07-07', '2014-07-08',\n",
       "               '2014-07-09', '2014-07-10', '2014-07-11', '2014-07-12',\n",
       "               '2014-07-13', '2014-07-14'],\n",
       "              dtype='datetime64[ns]', name='DateTime', freq=None)"
      ]
     },
     "metadata": {},
     "execution_count": 272
    }
   ],
   "source": [
    "date_df.index"
   ]
  },
  {
   "cell_type": "markdown",
   "metadata": {},
   "source": [
    "If we have an index of datetime types, we can use the `resample` method to quickly look at time based aggregations."
   ]
  },
  {
   "cell_type": "code",
   "execution_count": 273,
   "metadata": {},
   "outputs": [
    {
     "output_type": "execute_result",
     "data": {
      "text/plain": [
       "            Temperature   Humidity     Windy  HeatIndex  day_of_week\n",
       "DateTime                                                            \n",
       "2014-07-06    75.166667  83.166667  0.333333  79.625628          3.5\n",
       "2014-07-13    72.571429  77.857143  0.428571  74.006167          3.0\n",
       "2014-07-20    71.000000  80.000000  1.000000  70.486984          0.0"
      ],
      "text/html": "<div>\n<style scoped>\n    .dataframe tbody tr th:only-of-type {\n        vertical-align: middle;\n    }\n\n    .dataframe tbody tr th {\n        vertical-align: top;\n    }\n\n    .dataframe thead th {\n        text-align: right;\n    }\n</style>\n<table border=\"1\" class=\"dataframe\">\n  <thead>\n    <tr style=\"text-align: right;\">\n      <th></th>\n      <th>Temperature</th>\n      <th>Humidity</th>\n      <th>Windy</th>\n      <th>HeatIndex</th>\n      <th>day_of_week</th>\n    </tr>\n    <tr>\n      <th>DateTime</th>\n      <th></th>\n      <th></th>\n      <th></th>\n      <th></th>\n      <th></th>\n    </tr>\n  </thead>\n  <tbody>\n    <tr>\n      <th>2014-07-06</th>\n      <td>75.166667</td>\n      <td>83.166667</td>\n      <td>0.333333</td>\n      <td>79.625628</td>\n      <td>3.5</td>\n    </tr>\n    <tr>\n      <th>2014-07-13</th>\n      <td>72.571429</td>\n      <td>77.857143</td>\n      <td>0.428571</td>\n      <td>74.006167</td>\n      <td>3.0</td>\n    </tr>\n    <tr>\n      <th>2014-07-20</th>\n      <td>71.000000</td>\n      <td>80.000000</td>\n      <td>1.000000</td>\n      <td>70.486984</td>\n      <td>0.0</td>\n    </tr>\n  </tbody>\n</table>\n</div>"
     },
     "metadata": {},
     "execution_count": 273
    }
   ],
   "source": [
    "# Weekly means.\n",
    "date_df.resample('W').mean()"
   ]
  },
  {
   "cell_type": "markdown",
   "metadata": {},
   "source": [
    "This will be especially useful when we work with time series."
   ]
  },
  {
   "cell_type": "markdown",
   "metadata": {},
   "source": [
    "## Writing Data"
   ]
  },
  {
   "cell_type": "markdown",
   "metadata": {},
   "source": [
    "We can write data into a csv file.\n",
    "\n",
    "```python \n",
    ">>> golf_df.to_csv('new_playgolf.csv', index=False)\n",
    "\n",
    ">>> !cat new_playgolf.csv \n",
    "\n",
    "Date,Outlook,Temperature,Humidity,Windy,Result,TempHumid,HeatIndex,day,DateTime\n",
    "7/1/14,sunny,85,85,False,Don't Play,170,98.0046312500001,1,2014-07-01\n",
    "7/2/14,sunny,80,90,True,Don't Play,170,84.47439999999996,2,2014-07-02\n",
    "7/3/14,overcast,83,78,False,Play,161,89.66991075999985,3,2014-07-03\n",
    "7/4/14,rain,70,96,False,Play,166,62.84702400000019,4,2014-07-04\n",
    "7/5/14,rain,68,80,False,Play,148,69.08977600000006,5,2014-07-05\n",
    "7/6/14,rain,65,70,True,Don't Play,135,73.66802499999999,6,2014-07-06\n",
    "7/7/14,overcast,64,65,True,Play,129,75.9871160000001,7,2014-07-07\n",
    "7/8/14,sunny,72,95,False,Don't Play,167,66.2473960000001,8,2014-07-08\n",
    "7/9/14,sunny,69,70,False,Play,139,72.84364900000003,9,2014-07-09\n",
    "7/10/14,rain,75,80,False,Play,155,74.55700000000012,10,2014-07-10\n",
    "7/11/14,sunny,75,70,True,Play,145,75.777625,11,2014-07-11\n",
    "7/12/14,overcast,72,90,True,Play,162,68.10694399999996,12,2014-07-12\n",
    "7/13/14,overcast,81,75,False,Play,156,84.52344124999973,13,2014-07-13\n",
    "7/14/14,rain,71,80,True,Don't Play,151,70.48698400000002,14,2014-07-14\n",
    "```"
   ]
  },
  {
   "cell_type": "markdown",
   "metadata": {},
   "source": [
    "## Exploratory Data Analysis"
   ]
  },
  {
   "cell_type": "markdown",
   "metadata": {},
   "source": [
    "### Question:\n",
    "\n",
    "Now lets put these skills together in the way we would typically explore data. This is called EDA. Exploratory Data Analysis.\n",
    "\n",
    "Open chess_games.csv and answer these questions (use markdown headers to denote which question you are answering) \n",
    "\n",
    "1. how many rows of data do you have?\n",
    "1. What does each row represent?\n",
    "1. Who won more, white or black?\n",
    "1. How many moves per game on average?\n",
    "1. What was the most likely 'first move'?\n",
    "1. How many games end in checkmate? (the alternative is to surrender or timeout)\n",
    "1. What percent of games is that?\n",
    "1. How long was the average game?\n",
    "1. How long was the average game that white won? How long was the average game that was a draw?\n",
    "1. What is an increment code?\n",
    "1. Ask three of your own questions *in writing*. Then answer them. (we write our questions because if you come back later you'll forget what question you were answering)\n"
   ]
  },
  {
   "cell_type": "markdown",
   "metadata": {},
   "source": [
    "write your question after the '####':\n",
    "\n",
    "#### 1: [YOUR QUESTION TITLE HERE]"
   ]
  },
  {
   "cell_type": "code",
   "execution_count": 275,
   "metadata": {},
   "outputs": [
    {
     "output_type": "execute_result",
     "data": {
      "text/plain": [
       "id                20058\n",
       "rated             20058\n",
       "created_at        20058\n",
       "last_move_at      20058\n",
       "turns             20058\n",
       "victory_status    20058\n",
       "winner            20058\n",
       "increment_code    20058\n",
       "white_id          20058\n",
       "white_rating      20058\n",
       "black_id          20058\n",
       "black_rating      20058\n",
       "moves             20058\n",
       "opening_eco       20058\n",
       "opening_name      20058\n",
       "opening_ply       20058\n",
       "dtype: int64"
      ]
     },
     "metadata": {},
     "execution_count": 275
    }
   ],
   "source": [
    "#  how many rows of data do you have?\n",
    "''' rows are 20058'''\n",
    "# write code here:\n",
    "chess = pd.read_csv('data/chess_games.csv')\n",
    "chess.count()\n",
    "\n"
   ]
  },
  {
   "cell_type": "code",
   "execution_count": null,
   "metadata": {},
   "outputs": [],
   "source": []
  },
  {
   "cell_type": "markdown",
   "metadata": {},
   "source": [
    "<details><summary>Solution 1\n",
    "</summary>\n",
    "\n",
    "```python\n",
    "chess = pd.read_csv('data/chess_games.csv')\n",
    "chess.count()\n",
    "```\n",
    "\n",
    "</details>"
   ]
  },
  {
   "cell_type": "markdown",
   "metadata": {},
   "source": [
    "write your question after the '####':\n",
    "\n",
    "#### "
   ]
  },
  {
   "cell_type": "code",
   "execution_count": 277,
   "metadata": {},
   "outputs": [
    {
     "output_type": "execute_result",
     "data": {
      "text/plain": [
       "                     1500   \n",
       "moves           e4 e5 d3 d6 Be3 c6 Be2 b5 Nd2 a5 a4 c5 axb5 Nc...   \n",
       "opening_eco                                                   C20   \n",
       "opening_name                King's Pawn Game: Leonardis Variation   \n",
       "opening_ply                                                     3   \n",
       "\n",
       "                                                            3      \\\n",
       "id                                                       kWKvrqYL   \n",
       "rated                                                        True   \n",
       "created_at                                        1504110000000.0   \n",
       "last_move_at                                      1504110000000.0   \n",
       "turns                                                          61   \n",
       "victory_status                                               mate   \n",
       "winner                                                      white   \n",
       "increment_code                                               20+0   \n",
       "white_id                                            daniamurashov   \n",
       "white_rating                                                 1439   \n",
       "black_id                                             adivanov2009   \n",
       "black_rating                                                 1454   \n",
       "moves           d4 d5 Nf3 Bf5 Nc3 Nf6 Bf4 Ng4 e3 Nc6 Be2 Qd7 O...   \n",
       "opening_eco                                                   D02   \n",
       "opening_name               Queen's Pawn Game: Zukertort Variation   \n",
       "opening_ply                                                     3   \n",
       "\n",
       "                                                            4      \\\n",
       "id                                                       9tXo1AUZ   \n",
       "rated                                                        True   \n",
       "created_at                                        1504030000000.0   \n",
       "last_move_at                                      1504030000000.0   \n",
       "turns                                                          95   \n",
       "victory_status                                               mate   \n",
       "winner                                                      white   \n",
       "increment_code                                               30+3   \n",
       "white_id                                                nik221107   \n",
       "white_rating                                                 1523   \n",
       "black_id                                             adivanov2009   \n",
       "black_rating                                                 1469   \n",
       "moves           e4 e5 Nf3 d6 d4 Nc6 d5 Nb4 a3 Na6 Nc3 Be7 b4 N...   \n",
       "opening_eco                                                   C41   \n",
       "opening_name                                     Philidor Defense   \n",
       "opening_ply                                                     5   \n",
       "\n",
       "                                               5      \\\n",
       "id                                          MsoDV9wj   \n",
       "rated                                          False   \n",
       "created_at                           1504240000000.0   \n",
       "last_move_at                         1504240000000.0   \n",
       "turns                                              5   \n",
       "victory_status                                  draw   \n",
       "winner                                          draw   \n",
       "increment_code                                  10+0   \n",
       "white_id                                   trelynn17   \n",
       "white_rating                                    1250   \n",
       "black_id                               franklin14532   \n",
       "black_rating                                    1002   \n",
       "moves                               e4 c5 Nf3 Qa5 a3   \n",
       "opening_eco                                      B27   \n",
       "opening_name    Sicilian Defense: Mongoose Variation   \n",
       "opening_ply                                        4   \n",
       "\n",
       "                                                            6      \\\n",
       "id                                                       qwU9rasv   \n",
       "rated                                                        True   \n",
       "created_at                                        1504230000000.0   \n",
       "last_move_at                                      1504230000000.0   \n",
       "turns                                                          33   \n",
       "victory_status                                             resign   \n",
       "winner                                                      white   \n",
       "increment_code                                               10+0   \n",
       "white_id                                                  capa_jr   \n",
       "white_rating                                                 1520   \n",
       "black_id                                       daniel_likes_chess   \n",
       "black_rating                                                 1423   \n",
       "moves           d4 d5 e4 dxe4 Nc3 Nf6 f3 exf3 Nxf3 Nc6 Bb5 a6 ...   \n",
       "opening_eco                                                   D00   \n",
       "opening_name           Blackmar-Diemer Gambit: Pietrowsky Defense   \n",
       "opening_ply                                                    10   \n",
       "\n",
       "                                                            7      \\\n",
       "id                                                       RVN0N3VK   \n",
       "rated                                                       False   \n",
       "created_at                                        1503680000000.0   \n",
       "last_move_at                                      1503680000000.0   \n",
       "turns                                                           9   \n",
       "victory_status                                             resign   \n",
       "winner                                                      black   \n",
       "increment_code                                              15+30   \n",
       "white_id                                       daniel_likes_chess   \n",
       "white_rating                                                 1413   \n",
       "black_id                                                 soultego   \n",
       "black_rating                                                 2108   \n",
       "moves                              e4 Nc6 d4 e5 d5 Nce7 c3 Ng6 b4   \n",
       "opening_eco                                                   B00   \n",
       "opening_name    Nimzowitsch Defense: Kennedy Variation |  Link...   \n",
       "opening_ply                                                     5   \n",
       "\n",
       "                                                            8      \\\n",
       "id                                                       dwF3DJHO   \n",
       "rated                                                        True   \n",
       "created_at                                        1503510000000.0   \n",
       "last_move_at                                      1503510000000.0   \n",
       "turns                                                          66   \n",
       "victory_status                                             resign   \n",
       "winner                                                      black   \n",
       "increment_code                                               15+0   \n",
       "white_id                                                ehabfanri   \n",
       "white_rating                                                 1439   \n",
       "black_id                                       daniel_likes_chess   \n",
       "black_rating                                                 1392   \n",
       "moves           e4 e5 Bc4 Nc6 Nf3 Nd4 d3 Nxf3+ Qxf3 Nf6 h3 Bc5...   \n",
       "opening_eco                                                   C50   \n",
       "opening_name                Italian Game: Schilling-Kostic Gambit   \n",
       "opening_ply                                                     6   \n",
       "\n",
       "                                                            9      ...  \\\n",
       "id                                                       afoMwnLg  ...   \n",
       "rated                                                        True  ...   \n",
       "created_at                                        1503440000000.0  ...   \n",
       "last_move_at                                      1503440000000.0  ...   \n",
       "turns                                                         119  ...   \n",
       "victory_status                                               mate  ...   \n",
       "winner                                                      white  ...   \n",
       "increment_code                                               10+0  ...   \n",
       "white_id                                       daniel_likes_chess  ...   \n",
       "white_rating                                                 1381  ...   \n",
       "black_id                                                  mirco25  ...   \n",
       "black_rating                                                 1209  ...   \n",
       "moves           e4 d5 exd5 Qxd5 Nc3 Qe5+ Be2 Na6 d4 Qf5 Bxa6 b...  ...   \n",
       "opening_eco                                                   B01  ...   \n",
       "opening_name        Scandinavian Defense: Mieses-Kotroc Variation  ...   \n",
       "opening_ply                                                     4  ...   \n",
       "\n",
       "                                                            20048  \\\n",
       "id                                                       dnexZDsv   \n",
       "rated                                                        True   \n",
       "created_at                                        1499869487435.0   \n",
       "last_move_at                                      1499869745122.0   \n",
       "turns                                                          25   \n",
       "victory_status                                             resign   \n",
       "winner                                                      white   \n",
       "increment_code                                              10+10   \n",
       "white_id                                            mateuslichess   \n",
       "white_rating                                                 1252   \n",
       "black_id                                                 jamboger   \n",
       "black_rating                                                 1233   \n",
       "moves           e4 e6 d4 d5 exd5 Qxd5 Nc3 Bb4 a3 Bxc3+ bxc3 Ne...   \n",
       "opening_eco                                                   C01   \n",
       "opening_name                   French Defense: Exchange Variation   \n",
       "opening_ply                                                     5   \n",
       "\n",
       "                                                            20049  \\\n",
       "id                                                       7IENcPg3   \n",
       "rated                                                        True   \n",
       "created_at                                        1499814832472.0   \n",
       "last_move_at                                      1499815248818.0   \n",
       "turns                                                          43   \n",
       "victory_status                                               mate   \n",
       "winner                                                      white   \n",
       "increment_code                                               10+0   \n",
       "white_id                                                  jkubb29   \n",
       "white_rating                                                 1328   \n",
       "black_id                                                 jamboger   \n",
       "black_rating                                                 1252   \n",
       "moves           e4 e6 Nf3 d5 Nc3 Bb4 exd5 exd5 d4 Bg4 a3 Bxc3+...   \n",
       "opening_eco                                                   C00   \n",
       "opening_name                French Defense: Two Knights Variation   \n",
       "opening_ply                                                     5   \n",
       "\n",
       "                                                    20050  \\\n",
       "id                                               nYOvevdh   \n",
       "rated                                                True   \n",
       "created_at                                1499814002224.0   \n",
       "last_move_at                              1499814052544.0   \n",
       "turns                                                   9   \n",
       "victory_status                                  outoftime   \n",
       "winner                                              white   \n",
       "increment_code                                       10+0   \n",
       "white_id                                         jamboger   \n",
       "white_rating                                         1243   \n",
       "black_id                                  yamaguchipolgar   \n",
       "black_rating                                         1142   \n",
       "moves                   c4 e5 d4 exd4 Qxd4 Nf6 Bg5 Be7 e4   \n",
       "opening_eco                                           A20   \n",
       "opening_name    English Opening: King's English Variation   \n",
       "opening_ply                                             2   \n",
       "\n",
       "                                                            20051  \\\n",
       "id                                                       uMzb0TPC   \n",
       "rated                                                        True   \n",
       "created_at                                        1499812466451.0   \n",
       "last_move_at                                      1499813212945.0   \n",
       "turns                                                          58   \n",
       "victory_status                                               mate   \n",
       "winner                                                      black   \n",
       "increment_code                                              10+10   \n",
       "white_id                                                 samael88   \n",
       "white_rating                                                 1237   \n",
       "black_id                                                 jamboger   \n",
       "black_rating                                                 1231   \n",
       "moves           e4 e6 Nf3 d5 Bb5+ Bd7 c4 c6 Ba4 Qa5 b3 b5 cxb5...   \n",
       "opening_eco                                                   C00   \n",
       "opening_name                     French Defense: Knight Variation   \n",
       "opening_ply                                                     3   \n",
       "\n",
       "                                                            20052  \\\n",
       "id                                                       EopEqqAa   \n",
       "rated                                                        True   \n",
       "created_at                                        1499811847779.0   \n",
       "last_move_at                                      1499812436546.0   \n",
       "turns                                                          37   \n",
       "victory_status                                             resign   \n",
       "winner                                                      white   \n",
       "increment_code                                              10+10   \n",
       "white_id                                                 jamboger   \n",
       "white_rating                                                 1219   \n",
       "black_id                                                 samael88   \n",
       "black_rating                                                 1250   \n",
       "moves           c4 e6 d4 b6 Nc3 Bb7 Nf3 g6 h4 Bg7 Bg5 f6 Bf4 d...   \n",
       "opening_eco                                                   A40   \n",
       "opening_name                                      English Defense   \n",
       "opening_ply                                                     4   \n",
       "\n",
       "                                                            20053  \\\n",
       "id                                                       EfqH7VVH   \n",
       "rated                                                        True   \n",
       "created_at                                        1499790914342.0   \n",
       "last_move_at                                      1499791236076.0   \n",
       "turns                                                          24   \n",
       "victory_status                                             resign   \n",
       "winner                                                      white   \n",
       "increment_code                                              10+10   \n",
       "white_id                                                  belcolt   \n",
       "white_rating                                                 1691   \n",
       "black_id                                                 jamboger   \n",
       "black_rating                                                 1220   \n",
       "moves           d4 f5 e3 e6 Nf3 Nf6 Nc3 b6 Be2 Bb7 O-O Be7 Ne5...   \n",
       "opening_eco                                                   A80   \n",
       "opening_name                                        Dutch Defense   \n",
       "opening_ply                                                     2   \n",
       "\n",
       "                                                            20054  \\\n",
       "id                                                       WSJDhbPl   \n",
       "rated                                                        True   \n",
       "created_at                                        1499698089760.0   \n",
       "last_move_at                                      1499698833979.0   \n",
       "turns                                                          82   \n",
       "victory_status                                               mate   \n",
       "winner                                                      black   \n",
       "increment_code                                               10+0   \n",
       "white_id                                                 jamboger   \n",
       "white_rating                                                 1233   \n",
       "black_id                                       farrukhasomiddinov   \n",
       "black_rating                                                 1196   \n",
       "moves           d4 d6 Bf4 e5 Bg3 Nf6 e3 exd4 exd4 d5 c3 Bd6 Bd...   \n",
       "opening_eco                                                   A41   \n",
       "opening_name                                         Queen's Pawn   \n",
       "opening_ply                                                     2   \n",
       "\n",
       "                                                            20055  \\\n",
       "id                                                       yrAas0Kj   \n",
       "rated                                                        True   \n",
       "created_at                                        1499697877493.0   \n",
       "last_move_at                                      1499698050327.0   \n",
       "turns                                                          35   \n",
       "victory_status                                               mate   \n",
       "winner                                                      white   \n",
       "increment_code                                               10+0   \n",
       "white_id                                                 jamboger   \n",
       "white_rating                                                 1219   \n",
       "black_id                                             schaaksmurf3   \n",
       "black_rating                                                 1286   \n",
       "moves           d4 d5 Bf4 Nc6 e3 Nf6 c3 e6 Nf3 Be7 Bd3 O-O Nbd...   \n",
       "opening_eco                                                   D00   \n",
       "opening_name                      Queen's Pawn Game: Mason Attack   \n",
       "opening_ply                                                     3   \n",
       "\n",
       "                                                            20056  \\\n",
       "id                                                       b0v4tRyF   \n",
       "rated                                                        True   \n",
       "created_at                                        1499696127019.0   \n",
       "last_move_at                                      1499697073718.0   \n",
       "turns                                                         109   \n",
       "victory_status                                             resign   \n",
       "winner                                                      white   \n",
       "increment_code                                               10+0   \n",
       "white_id                                             marcodisogno   \n",
       "white_rating                                                 1360   \n",
       "black_id                                                 jamboger   \n",
       "black_rating                                                 1227   \n",
       "moves           e4 d6 d4 Nf6 e5 dxe5 dxe5 Qxd1+ Kxd1 Nd5 c4 Nb...   \n",
       "opening_eco                                                   B07   \n",
       "opening_name                                         Pirc Defense   \n",
       "opening_ply                                                     4   \n",
       "\n",
       "                                                            20057  \n",
       "id                                                       N8G2JHGG  \n",
       "rated                                                        True  \n",
       "created_at                                        1499643152649.0  \n",
       "last_move_at                                      1499643889348.0  \n",
       "turns                                                          78  \n",
       "victory_status                                               mate  \n",
       "winner                                                      black  \n",
       "increment_code                                               10+0  \n",
       "white_id                                                 jamboger  \n",
       "white_rating                                                 1235  \n",
       "black_id                                                    ffbob  \n",
       "black_rating                                                 1339  \n",
       "moves           d4 d5 Bf4 Na6 e3 e6 c3 Nf6 Nf3 Bd7 Nbd2 b5 Bd3...  \n",
       "opening_eco                                                   D00  \n",
       "opening_name                      Queen's Pawn Game: Mason Attack  \n",
       "opening_ply                                                     3  \n",
       "\n",
       "[16 rows x 20058 columns]"
      ],
      "text/html": "<div>\n<style scoped>\n    .dataframe tbody tr th:only-of-type {\n        vertical-align: middle;\n    }\n\n    .dataframe tbody tr th {\n        vertical-align: top;\n    }\n\n    .dataframe thead th {\n        text-align: right;\n    }\n</style>\n<table border=\"1\" class=\"dataframe\">\n  <thead>\n    <tr style=\"text-align: right;\">\n      <th></th>\n      <th>0</th>\n      <th>1</th>\n      <th>2</th>\n      <th>3</th>\n      <th>4</th>\n      <th>5</th>\n      <th>6</th>\n      <th>7</th>\n      <th>8</th>\n      <th>9</th>\n      <th>...</th>\n      <th>20048</th>\n      <th>20049</th>\n      <th>20050</th>\n      <th>20051</th>\n      <th>20052</th>\n      <th>20053</th>\n      <th>20054</th>\n      <th>20055</th>\n      <th>20056</th>\n      <th>20057</th>\n    </tr>\n  </thead>\n  <tbody>\n    <tr>\n      <th>id</th>\n      <td>TZJHLljE</td>\n      <td>l1NXvwaE</td>\n      <td>mIICvQHh</td>\n      <td>kWKvrqYL</td>\n      <td>9tXo1AUZ</td>\n      <td>MsoDV9wj</td>\n      <td>qwU9rasv</td>\n      <td>RVN0N3VK</td>\n      <td>dwF3DJHO</td>\n      <td>afoMwnLg</td>\n      <td>...</td>\n      <td>dnexZDsv</td>\n      <td>7IENcPg3</td>\n      <td>nYOvevdh</td>\n      <td>uMzb0TPC</td>\n      <td>EopEqqAa</td>\n      <td>EfqH7VVH</td>\n      <td>WSJDhbPl</td>\n      <td>yrAas0Kj</td>\n      <td>b0v4tRyF</td>\n      <td>N8G2JHGG</td>\n    </tr>\n    <tr>\n      <th>rated</th>\n      <td>False</td>\n      <td>True</td>\n      <td>True</td>\n      <td>True</td>\n      <td>True</td>\n      <td>False</td>\n      <td>True</td>\n      <td>False</td>\n      <td>True</td>\n      <td>True</td>\n      <td>...</td>\n      <td>True</td>\n      <td>True</td>\n      <td>True</td>\n      <td>True</td>\n      <td>True</td>\n      <td>True</td>\n      <td>True</td>\n      <td>True</td>\n      <td>True</td>\n      <td>True</td>\n    </tr>\n    <tr>\n      <th>created_at</th>\n      <td>1504210000000.0</td>\n      <td>1504130000000.0</td>\n      <td>1504130000000.0</td>\n      <td>1504110000000.0</td>\n      <td>1504030000000.0</td>\n      <td>1504240000000.0</td>\n      <td>1504230000000.0</td>\n      <td>1503680000000.0</td>\n      <td>1503510000000.0</td>\n      <td>1503440000000.0</td>\n      <td>...</td>\n      <td>1499869487435.0</td>\n      <td>1499814832472.0</td>\n      <td>1499814002224.0</td>\n      <td>1499812466451.0</td>\n      <td>1499811847779.0</td>\n      <td>1499790914342.0</td>\n      <td>1499698089760.0</td>\n      <td>1499697877493.0</td>\n      <td>1499696127019.0</td>\n      <td>1499643152649.0</td>\n    </tr>\n    <tr>\n      <th>last_move_at</th>\n      <td>1504210000000.0</td>\n      <td>1504130000000.0</td>\n      <td>1504130000000.0</td>\n      <td>1504110000000.0</td>\n      <td>1504030000000.0</td>\n      <td>1504240000000.0</td>\n      <td>1504230000000.0</td>\n      <td>1503680000000.0</td>\n      <td>1503510000000.0</td>\n      <td>1503440000000.0</td>\n      <td>...</td>\n      <td>1499869745122.0</td>\n      <td>1499815248818.0</td>\n      <td>1499814052544.0</td>\n      <td>1499813212945.0</td>\n      <td>1499812436546.0</td>\n      <td>1499791236076.0</td>\n      <td>1499698833979.0</td>\n      <td>1499698050327.0</td>\n      <td>1499697073718.0</td>\n      <td>1499643889348.0</td>\n    </tr>\n    <tr>\n      <th>turns</th>\n      <td>13</td>\n      <td>16</td>\n      <td>61</td>\n      <td>61</td>\n      <td>95</td>\n      <td>5</td>\n      <td>33</td>\n      <td>9</td>\n      <td>66</td>\n      <td>119</td>\n      <td>...</td>\n      <td>25</td>\n      <td>43</td>\n      <td>9</td>\n      <td>58</td>\n      <td>37</td>\n      <td>24</td>\n      <td>82</td>\n      <td>35</td>\n      <td>109</td>\n      <td>78</td>\n    </tr>\n    <tr>\n      <th>victory_status</th>\n      <td>outoftime</td>\n      <td>resign</td>\n      <td>mate</td>\n      <td>mate</td>\n      <td>mate</td>\n      <td>draw</td>\n      <td>resign</td>\n      <td>resign</td>\n      <td>resign</td>\n      <td>mate</td>\n      <td>...</td>\n      <td>resign</td>\n      <td>mate</td>\n      <td>outoftime</td>\n      <td>mate</td>\n      <td>resign</td>\n      <td>resign</td>\n      <td>mate</td>\n      <td>mate</td>\n      <td>resign</td>\n      <td>mate</td>\n    </tr>\n    <tr>\n      <th>winner</th>\n      <td>white</td>\n      <td>black</td>\n      <td>white</td>\n      <td>white</td>\n      <td>white</td>\n      <td>draw</td>\n      <td>white</td>\n      <td>black</td>\n      <td>black</td>\n      <td>white</td>\n      <td>...</td>\n      <td>white</td>\n      <td>white</td>\n      <td>white</td>\n      <td>black</td>\n      <td>white</td>\n      <td>white</td>\n      <td>black</td>\n      <td>white</td>\n      <td>white</td>\n      <td>black</td>\n    </tr>\n    <tr>\n      <th>increment_code</th>\n      <td>15+2</td>\n      <td>5+10</td>\n      <td>5+10</td>\n      <td>20+0</td>\n      <td>30+3</td>\n      <td>10+0</td>\n      <td>10+0</td>\n      <td>15+30</td>\n      <td>15+0</td>\n      <td>10+0</td>\n      <td>...</td>\n      <td>10+10</td>\n      <td>10+0</td>\n      <td>10+0</td>\n      <td>10+10</td>\n      <td>10+10</td>\n      <td>10+10</td>\n      <td>10+0</td>\n      <td>10+0</td>\n      <td>10+0</td>\n      <td>10+0</td>\n    </tr>\n    <tr>\n      <th>white_id</th>\n      <td>bourgris</td>\n      <td>a-00</td>\n      <td>ischia</td>\n      <td>daniamurashov</td>\n      <td>nik221107</td>\n      <td>trelynn17</td>\n      <td>capa_jr</td>\n      <td>daniel_likes_chess</td>\n      <td>ehabfanri</td>\n      <td>daniel_likes_chess</td>\n      <td>...</td>\n      <td>mateuslichess</td>\n      <td>jkubb29</td>\n      <td>jamboger</td>\n      <td>samael88</td>\n      <td>jamboger</td>\n      <td>belcolt</td>\n      <td>jamboger</td>\n      <td>jamboger</td>\n      <td>marcodisogno</td>\n      <td>jamboger</td>\n    </tr>\n    <tr>\n      <th>white_rating</th>\n      <td>1500</td>\n      <td>1322</td>\n      <td>1496</td>\n      <td>1439</td>\n      <td>1523</td>\n      <td>1250</td>\n      <td>1520</td>\n      <td>1413</td>\n      <td>1439</td>\n      <td>1381</td>\n      <td>...</td>\n      <td>1252</td>\n      <td>1328</td>\n      <td>1243</td>\n      <td>1237</td>\n      <td>1219</td>\n      <td>1691</td>\n      <td>1233</td>\n      <td>1219</td>\n      <td>1360</td>\n      <td>1235</td>\n    </tr>\n    <tr>\n      <th>black_id</th>\n      <td>a-00</td>\n      <td>skinnerua</td>\n      <td>a-00</td>\n      <td>adivanov2009</td>\n      <td>adivanov2009</td>\n      <td>franklin14532</td>\n      <td>daniel_likes_chess</td>\n      <td>soultego</td>\n      <td>daniel_likes_chess</td>\n      <td>mirco25</td>\n      <td>...</td>\n      <td>jamboger</td>\n      <td>jamboger</td>\n      <td>yamaguchipolgar</td>\n      <td>jamboger</td>\n      <td>samael88</td>\n      <td>jamboger</td>\n      <td>farrukhasomiddinov</td>\n      <td>schaaksmurf3</td>\n      <td>jamboger</td>\n      <td>ffbob</td>\n    </tr>\n    <tr>\n      <th>black_rating</th>\n      <td>1191</td>\n      <td>1261</td>\n      <td>1500</td>\n      <td>1454</td>\n      <td>1469</td>\n      <td>1002</td>\n      <td>1423</td>\n      <td>2108</td>\n      <td>1392</td>\n      <td>1209</td>\n      <td>...</td>\n      <td>1233</td>\n      <td>1252</td>\n      <td>1142</td>\n      <td>1231</td>\n      <td>1250</td>\n      <td>1220</td>\n      <td>1196</td>\n      <td>1286</td>\n      <td>1227</td>\n      <td>1339</td>\n    </tr>\n    <tr>\n      <th>moves</th>\n      <td>d4 d5 c4 c6 cxd5 e6 dxe6 fxe6 Nf3 Bb4+ Nc3 Ba5...</td>\n      <td>d4 Nc6 e4 e5 f4 f6 dxe5 fxe5 fxe5 Nxe5 Qd4 Nc6...</td>\n      <td>e4 e5 d3 d6 Be3 c6 Be2 b5 Nd2 a5 a4 c5 axb5 Nc...</td>\n      <td>d4 d5 Nf3 Bf5 Nc3 Nf6 Bf4 Ng4 e3 Nc6 Be2 Qd7 O...</td>\n      <td>e4 e5 Nf3 d6 d4 Nc6 d5 Nb4 a3 Na6 Nc3 Be7 b4 N...</td>\n      <td>e4 c5 Nf3 Qa5 a3</td>\n      <td>d4 d5 e4 dxe4 Nc3 Nf6 f3 exf3 Nxf3 Nc6 Bb5 a6 ...</td>\n      <td>e4 Nc6 d4 e5 d5 Nce7 c3 Ng6 b4</td>\n      <td>e4 e5 Bc4 Nc6 Nf3 Nd4 d3 Nxf3+ Qxf3 Nf6 h3 Bc5...</td>\n      <td>e4 d5 exd5 Qxd5 Nc3 Qe5+ Be2 Na6 d4 Qf5 Bxa6 b...</td>\n      <td>...</td>\n      <td>e4 e6 d4 d5 exd5 Qxd5 Nc3 Bb4 a3 Bxc3+ bxc3 Ne...</td>\n      <td>e4 e6 Nf3 d5 Nc3 Bb4 exd5 exd5 d4 Bg4 a3 Bxc3+...</td>\n      <td>c4 e5 d4 exd4 Qxd4 Nf6 Bg5 Be7 e4</td>\n      <td>e4 e6 Nf3 d5 Bb5+ Bd7 c4 c6 Ba4 Qa5 b3 b5 cxb5...</td>\n      <td>c4 e6 d4 b6 Nc3 Bb7 Nf3 g6 h4 Bg7 Bg5 f6 Bf4 d...</td>\n      <td>d4 f5 e3 e6 Nf3 Nf6 Nc3 b6 Be2 Bb7 O-O Be7 Ne5...</td>\n      <td>d4 d6 Bf4 e5 Bg3 Nf6 e3 exd4 exd4 d5 c3 Bd6 Bd...</td>\n      <td>d4 d5 Bf4 Nc6 e3 Nf6 c3 e6 Nf3 Be7 Bd3 O-O Nbd...</td>\n      <td>e4 d6 d4 Nf6 e5 dxe5 dxe5 Qxd1+ Kxd1 Nd5 c4 Nb...</td>\n      <td>d4 d5 Bf4 Na6 e3 e6 c3 Nf6 Nf3 Bd7 Nbd2 b5 Bd3...</td>\n    </tr>\n    <tr>\n      <th>opening_eco</th>\n      <td>D10</td>\n      <td>B00</td>\n      <td>C20</td>\n      <td>D02</td>\n      <td>C41</td>\n      <td>B27</td>\n      <td>D00</td>\n      <td>B00</td>\n      <td>C50</td>\n      <td>B01</td>\n      <td>...</td>\n      <td>C01</td>\n      <td>C00</td>\n      <td>A20</td>\n      <td>C00</td>\n      <td>A40</td>\n      <td>A80</td>\n      <td>A41</td>\n      <td>D00</td>\n      <td>B07</td>\n      <td>D00</td>\n    </tr>\n    <tr>\n      <th>opening_name</th>\n      <td>Slav Defense: Exchange Variation</td>\n      <td>Nimzowitsch Defense: Kennedy Variation</td>\n      <td>King's Pawn Game: Leonardis Variation</td>\n      <td>Queen's Pawn Game: Zukertort Variation</td>\n      <td>Philidor Defense</td>\n      <td>Sicilian Defense: Mongoose Variation</td>\n      <td>Blackmar-Diemer Gambit: Pietrowsky Defense</td>\n      <td>Nimzowitsch Defense: Kennedy Variation |  Link...</td>\n      <td>Italian Game: Schilling-Kostic Gambit</td>\n      <td>Scandinavian Defense: Mieses-Kotroc Variation</td>\n      <td>...</td>\n      <td>French Defense: Exchange Variation</td>\n      <td>French Defense: Two Knights Variation</td>\n      <td>English Opening: King's English Variation</td>\n      <td>French Defense: Knight Variation</td>\n      <td>English Defense</td>\n      <td>Dutch Defense</td>\n      <td>Queen's Pawn</td>\n      <td>Queen's Pawn Game: Mason Attack</td>\n      <td>Pirc Defense</td>\n      <td>Queen's Pawn Game: Mason Attack</td>\n    </tr>\n    <tr>\n      <th>opening_ply</th>\n      <td>5</td>\n      <td>4</td>\n      <td>3</td>\n      <td>3</td>\n      <td>5</td>\n      <td>4</td>\n      <td>10</td>\n      <td>5</td>\n      <td>6</td>\n      <td>4</td>\n      <td>...</td>\n      <td>5</td>\n      <td>5</td>\n      <td>2</td>\n      <td>3</td>\n      <td>4</td>\n      <td>2</td>\n      <td>2</td>\n      <td>3</td>\n      <td>4</td>\n      <td>3</td>\n    </tr>\n  </tbody>\n</table>\n<p>16 rows × 20058 columns</p>\n</div>"
     },
     "metadata": {},
     "execution_count": 277
    }
   ],
   "source": [
    "# What does each row represent?\n",
    "# write code here:\n",
    "chess.T\n"
   ]
  },
  {
   "cell_type": "code",
   "execution_count": null,
   "metadata": {},
   "outputs": [],
   "source": []
  },
  {
   "cell_type": "markdown",
   "metadata": {},
   "source": [
    "<details><summary>Solution 2\n",
    "</summary>\n",
    "\n",
    "```chess['moves']``` shows that we have multiple moves per row. So probably games? Ah, and theres a winner in ```chess['winner']```. Games.\n",
    "    \n",
    "HINT: ```chess.T``` switches rows and columns. (it stands for transpose). Using it allows us to see more of the columns in one look.\n",
    "   \n",
    "```python\n",
    "\n",
    "```\n",
    "\n",
    "</details>"
   ]
  },
  {
   "cell_type": "markdown",
   "metadata": {},
   "source": [
    "write your question after the '####':\n",
    "\n",
    "#### "
   ]
  },
  {
   "cell_type": "code",
   "execution_count": 134,
   "metadata": {},
   "outputs": [],
   "source": [
    "# Who won more, white or black?\n",
    "# write code here:\n",
    "\n"
   ]
  },
  {
   "cell_type": "code",
   "execution_count": null,
   "metadata": {},
   "outputs": [],
   "source": []
  },
  {
   "cell_type": "code",
   "execution_count": null,
   "metadata": {},
   "outputs": [],
   "source": []
  },
  {
   "cell_type": "markdown",
   "metadata": {},
   "source": [
    "<details><summary>Solution 3\n",
    "</summary>\n",
    "\n",
    "   \n",
    "```python\n",
    "chess['winner'].value_counts()\n",
    "\n",
    "```\n",
    "\n",
    "</details>"
   ]
  },
  {
   "cell_type": "markdown",
   "metadata": {},
   "source": [
    "write your question after the '####':\n",
    "\n",
    "####"
   ]
  },
  {
   "cell_type": "code",
   "execution_count": 135,
   "metadata": {},
   "outputs": [],
   "source": [
    "# How many moves per game on average?\n",
    "# write code here:\n",
    "\n"
   ]
  },
  {
   "cell_type": "code",
   "execution_count": null,
   "metadata": {},
   "outputs": [],
   "source": []
  },
  {
   "cell_type": "markdown",
   "metadata": {},
   "source": [
    "<details><summary>Solution 4\n",
    "</summary>\n",
    "\n",
    "```chess.T``` allows us to see more of the rows.\n",
    "\n",
    "```chess['moves']``` shows that we have multiple moves per row. So probably games? Ah, and theres a winner in ```chess['winner']```. Games.\n",
    "    \n",
    "```python\n",
    "\n",
    ">>> chess.moves.apply(lambda x: x.split(' ')) # shows the items per row in a list\n",
    "\n",
    "0        [d4, d5, c4, c6, cxd5, e6, dxe6, fxe6, Nf3, Bb...\n",
    "1        [d4, Nc6, e4, e5, f4, f6, dxe5, fxe5, fxe5, Nx...\n",
    "2        [e4, e5, d3, d6, Be3, c6, Be2, b5, Nd2, a5, a4...\n",
    "3        [d4, d5, Nf3, Bf5, Nc3, Nf6, Bf4, Ng4, e3, Nc6...\n",
    "4        [e4, e5, Nf3, d6, d4, Nc6, d5, Nb4, a3, Na6, N...\n",
    "                               ...                        \n",
    "\n",
    ">>> chess.moves.apply(lambda x: len(x.split(' '))) # shows the length per list\n",
    "\n",
    "0         13\n",
    "1         16\n",
    "2         61\n",
    "3         61\n",
    "4         95\n",
    "\n",
    ">>> chess.moves.apply(lambda x: len(x.split(' '))).mean() # take the mean\n",
    "60.46599860404826\n",
    "```\n",
    "\n",
    "</details>"
   ]
  },
  {
   "cell_type": "markdown",
   "metadata": {},
   "source": [
    "write your question after the '####':\n",
    "\n",
    "#### "
   ]
  },
  {
   "cell_type": "code",
   "execution_count": 136,
   "metadata": {},
   "outputs": [],
   "source": [
    "# What is the most common opening move?\n",
    "# write code here:\n",
    "\n"
   ]
  },
  {
   "cell_type": "code",
   "execution_count": null,
   "metadata": {},
   "outputs": [],
   "source": []
  },
  {
   "cell_type": "code",
   "execution_count": null,
   "metadata": {},
   "outputs": [],
   "source": []
  },
  {
   "cell_type": "markdown",
   "metadata": {},
   "source": [
    "<details><summary>Solution 5\n",
    "</summary>\n",
    "\n",
    "```python\n",
    "chess.moves.apply(lambda x: x.split(' ')[0]).value_counts()\n",
    "```\n",
    "\n",
    "</details>"
   ]
  },
  {
   "cell_type": "markdown",
   "metadata": {},
   "source": [
    "write your question after the '####':\n",
    "\n",
    "#### "
   ]
  },
  {
   "cell_type": "code",
   "execution_count": 137,
   "metadata": {},
   "outputs": [],
   "source": [
    "# How many games end in checkmate?\n",
    "# write code here:\n",
    "\n"
   ]
  },
  {
   "cell_type": "code",
   "execution_count": null,
   "metadata": {},
   "outputs": [],
   "source": []
  },
  {
   "cell_type": "code",
   "execution_count": null,
   "metadata": {},
   "outputs": [],
   "source": []
  },
  {
   "cell_type": "markdown",
   "metadata": {},
   "source": [
    "<details><summary>Solution 6\n",
    "</summary>\n",
    "\n",
    "\n",
    "```python\n",
    ">>> chess.moves.apply(lambda x: x.split(' ')[-1]).value_counts()\n",
    "\n",
    "Qxf7#    176\n",
    "Qg7#     170\n",
    "Qg2#     157\n",
    "Qxg2#    141\n",
    "Qxg7#    137\n",
    "        ... \n",
    "Qhh4#      1\n",
    "Bxg6#      1\n",
    "Rxa2+      1\n",
    "Qac8#      1\n",
    "Ngxe3      1\n",
    "\n",
    "# hmm. Now I had to go look up what '#' means. Ok it means Checkmate. So now I grab the end of each string.\n",
    "\n",
    ">>> chess.moves.apply(lambda x: x.split(' ')[-1][-1]).value_counts()\n",
    "\n",
    "#    6325\n",
    "+    2764\n",
    "5    1890\n",
    "4    1806\n",
    "6    1599\n",
    "3    1466\n",
    "7    1185\n",
    "2    1101\n",
    "1     879\n",
    "8     844\n",
    "Q     130\n",
    "O      62\n",
    "R       4\n",
    "N       2\n",
    "B       1\n",
    "\n",
    "```\n",
    "\n",
    "</details>"
   ]
  },
  {
   "cell_type": "code",
   "execution_count": 138,
   "metadata": {},
   "outputs": [],
   "source": [
    "# What percent of games end in checkmate?\n",
    "# write code here:\n",
    "\n"
   ]
  },
  {
   "cell_type": "code",
   "execution_count": null,
   "metadata": {},
   "outputs": [],
   "source": []
  },
  {
   "cell_type": "code",
   "execution_count": null,
   "metadata": {},
   "outputs": [],
   "source": []
  },
  {
   "cell_type": "markdown",
   "metadata": {},
   "source": [
    "<details><summary>Solution 7\n",
    "</summary>\n",
    "\n",
    "\n",
    "```python\n",
    ">>> chess.moves.apply(lambda x: x.split(' ')[-1][-1]).value_counts()/len(chess)\n",
    "\n",
    "#    0.315336\n",
    "+    0.137800\n",
    "5    0.094227\n",
    "4    0.090039\n",
    "6    0.079719\n",
    "3    0.073088\n",
    "7    0.059079\n",
    "2    0.054891\n",
    "1    0.043823\n",
    "8    0.042078\n",
    "Q    0.006481\n",
    "O    0.003091\n",
    "R    0.000199\n",
    "N    0.000100\n",
    "B    0.000050\n",
    "Name: moves, dtype: float64\n",
    "```\n",
    "> 31% of games ended with checkmate, and 13% of games ended with a normal 'check'\n",
    "</details>"
   ]
  },
  {
   "cell_type": "code",
   "execution_count": 139,
   "metadata": {},
   "outputs": [],
   "source": [
    "# How long was the average game?\n",
    "# write code here:\n",
    "\n"
   ]
  },
  {
   "cell_type": "code",
   "execution_count": null,
   "metadata": {},
   "outputs": [],
   "source": []
  },
  {
   "cell_type": "code",
   "execution_count": null,
   "metadata": {},
   "outputs": [],
   "source": []
  },
  {
   "cell_type": "markdown",
   "metadata": {},
   "source": [
    "<details><summary>Solution 8\n",
    "</summary>\n",
    "\n",
    "```python\n",
    ">>> chess['last_move_at'] - chess['created_at']\n",
    "\n",
    "0             0.0\n",
    "1             0.0\n",
    "2             0.0\n",
    "3             0.0\n",
    "4             0.0\n",
    "           ...   \n",
    "20053    321734.0\n",
    "20054    744219.0\n",
    "20055    172834.0\n",
    "20056    946699.0\n",
    "20057    736699.0\n",
    "Length: 20058, dtype: float64\n",
    "\n",
    "# hmmm. This gives a bunch of... nanoseconds? miliseconds?\"\n",
    "\n",
    "# I netter google 'how to go from milliseconds to pandas datetime.'\n",
    "# I click stack overflow, The first suggestion (and always a good bet).\n",
    "# First answer says pd.to_datetime(df['UNIXTIME'], unit='ms')\n",
    "# Lets try that.\n",
    "\n",
    "\n",
    ">>> pd.to_datetime(chess['datetime_created_at'], unit='ms')\n",
    "\n",
    "0       2017-08-31 20:06:40.000000000\n",
    "1       2017-08-30 21:53:20.000000000\n",
    "2       2017-08-30 21:53:20.000000000\n",
    "3       2017-08-30 16:20:00.000000000\n",
    "4       2017-08-29 18:06:40.000000000\n",
    "                     ...             \n",
    "20053   2017-07-11 16:35:14.342000128\n",
    "20054   2017-07-10 14:48:09.760000000\n",
    "20055   2017-07-10 14:44:37.492999936\n",
    "20056   2017-07-10 14:15:27.019000064\n",
    "20057   2017-07-09 23:32:32.648999936\n",
    "Name: datetime_created_at, Length: 20058, dtype: datetime64[ns]\n",
    "\n",
    "That looks reasonable\n",
    "\n",
    ">>> chess['datetime_last_move'] = pd.to_datetime(chess['last_move_at'], unit='ms')\n",
    ">>> chess['datetime_created_at'] = pd.to_datetime(chess['created_at'], unit='ms')\n",
    ">>> chess['datetime_last_move'] - chess['datetime_created_at']\n",
    "\n",
    "0              00:00:00\n",
    "1              00:00:00\n",
    "2              00:00:00\n",
    "3              00:00:00\n",
    "4              00:00:00\n",
    "              ...      \n",
    "20053   00:05:21.734000\n",
    "20054   00:12:24.219000\n",
    "20055   00:02:52.834000\n",
    "20056   00:15:46.699000\n",
    "20057   00:12:16.699000\n",
    "Length: 20058, dtype: timedelta64[ns]\n",
    "\n",
    "\n",
    ">>> (chess['datetime_last_move'] - chess['datetime_created_at']).mean()\n",
    "\n",
    "Timedelta('0 days 00:14:29.707049')\n",
    "\n",
    "# looks like the average game is '14 minutes, 30 seconds'\n",
    "\n",
    "```\n",
    "\n",
    "</details>"
   ]
  },
  {
   "cell_type": "code",
   "execution_count": 140,
   "metadata": {},
   "outputs": [],
   "source": [
    "# How long was the average game that white won? How long was the average game that was a draw?\n",
    "# write code here:\n",
    "\n"
   ]
  },
  {
   "cell_type": "code",
   "execution_count": null,
   "metadata": {},
   "outputs": [],
   "source": []
  },
  {
   "cell_type": "code",
   "execution_count": null,
   "metadata": {},
   "outputs": [],
   "source": []
  },
  {
   "cell_type": "markdown",
   "metadata": {},
   "source": [
    "<details><summary>Solution 9\n",
    "</summary>\n",
    "\n",
    "\n",
    "```python\n",
    "# this one was hard for me because\n",
    "chess.groupby('winner').mean()\n",
    "# Doesn't return our column! Bleh!\n",
    "\n",
    "# but this works\n",
    "chess[chess['winner']=='white'].mean()\n",
    "\n",
    "# and so does this\n",
    "chess['game_ms'] = chess['last_move_at'] - chess['created_at']\n",
    "pd.to_datetime(chess.groupby('winner').mean()['game_ms'], unit='ms')\n",
    "```\n",
    "    \n",
    "</details>"
   ]
  },
  {
   "cell_type": "code",
   "execution_count": 141,
   "metadata": {},
   "outputs": [],
   "source": [
    "# write code here:\n",
    "\n"
   ]
  },
  {
   "cell_type": "code",
   "execution_count": null,
   "metadata": {},
   "outputs": [],
   "source": []
  },
  {
   "cell_type": "code",
   "execution_count": 142,
   "metadata": {},
   "outputs": [],
   "source": [
    "# What is the increment code?"
   ]
  },
  {
   "cell_type": "markdown",
   "metadata": {},
   "source": [
    "<details><summary> Solution 10\n",
    "</summary>\n",
    "\n",
    "google 'increment code chess':\n",
    "\n",
    "\"increment (in seconds) is the amount added after each move.\"\n",
    "\n",
    "</details>"
   ]
  },
  {
   "cell_type": "markdown",
   "metadata": {},
   "source": [
    "Now do your own! Make them headers, in markdown, in writing!"
   ]
  },
  {
   "cell_type": "code",
   "execution_count": null,
   "metadata": {},
   "outputs": [],
   "source": []
  },
  {
   "cell_type": "code",
   "execution_count": null,
   "metadata": {},
   "outputs": [],
   "source": []
  },
  {
   "cell_type": "code",
   "execution_count": null,
   "metadata": {},
   "outputs": [],
   "source": []
  },
  {
   "cell_type": "code",
   "execution_count": null,
   "metadata": {},
   "outputs": [],
   "source": []
  },
  {
   "cell_type": "markdown",
   "metadata": {},
   "source": [
    "### Question:\n",
    "\n",
    "Now let's put these skills together AGAIN in the way we would typically explore data. This is called EDA. Exploratory Data Analysis.\n",
    "\n",
    "Open exo.csv, skim https://exoplanetarchive.ipac.caltech.edu/docs/API_kepcandidate_columns.html and answer these questions.\n",
    "\n",
    "\n",
    "This time write your own markdown headers before you answer each question!\n",
    "\n",
    "1. how many rows of data do you have?\n",
    "1. What does each row represent?\n",
    "1. How many planets are confirmed?\n",
    "1. What is the maximum temperature of the planets?\n",
    "1. What is the maximum temperature of the stars?\n",
    "1. What is the distance between the planet and the star?\n",
    "1. How many planets are in each system?\n",
    "1. How much does the planet temperatures vary?\n",
    "1. How much does the star temperatures vary?\n",
    "1. How many NaNs are in each category?\n",
    "1. Ask three of your own questions *in writing*. Then answer them. (we write our questions because if you come back later you'll foget what question you were answering)\n"
   ]
  },
  {
   "cell_type": "markdown",
   "metadata": {},
   "source": [
    "No solutions provided. You got this."
   ]
  },
  {
   "cell_type": "code",
   "execution_count": null,
   "metadata": {},
   "outputs": [],
   "source": []
  },
  {
   "cell_type": "code",
   "execution_count": null,
   "metadata": {},
   "outputs": [],
   "source": []
  },
  {
   "cell_type": "code",
   "execution_count": null,
   "metadata": {},
   "outputs": [],
   "source": []
  },
  {
   "cell_type": "code",
   "execution_count": null,
   "metadata": {},
   "outputs": [],
   "source": []
  },
  {
   "cell_type": "markdown",
   "metadata": {},
   "source": [
    "## Joining DataFrames\n",
    "\n",
    "We can join DataFrames in a similar way that we join tables to SQL.  In fact, left, right, outer, and inner joins work the same way here."
   ]
  },
  {
   "cell_type": "markdown",
   "metadata": {},
   "source": [
    "Lets create a fake DataFrame to join with first."
   ]
  },
  {
   "cell_type": "code",
   "execution_count": 143,
   "metadata": {},
   "outputs": [
    {
     "output_type": "execute_result",
     "data": {
      "text/plain": [
       "    Weather   Mood\n",
       "0  overcast    sad\n",
       "1     rainy    sad\n",
       "2     sunny  happy"
      ],
      "text/html": "<div>\n<style scoped>\n    .dataframe tbody tr th:only-of-type {\n        vertical-align: middle;\n    }\n\n    .dataframe tbody tr th {\n        vertical-align: top;\n    }\n\n    .dataframe thead th {\n        text-align: right;\n    }\n</style>\n<table border=\"1\" class=\"dataframe\">\n  <thead>\n    <tr style=\"text-align: right;\">\n      <th></th>\n      <th>Weather</th>\n      <th>Mood</th>\n    </tr>\n  </thead>\n  <tbody>\n    <tr>\n      <th>0</th>\n      <td>overcast</td>\n      <td>sad</td>\n    </tr>\n    <tr>\n      <th>1</th>\n      <td>rainy</td>\n      <td>sad</td>\n    </tr>\n    <tr>\n      <th>2</th>\n      <td>sunny</td>\n      <td>happy</td>\n    </tr>\n  </tbody>\n</table>\n</div>"
     },
     "metadata": {},
     "execution_count": 143
    }
   ],
   "source": [
    "mood_df = pd.DataFrame([['overcast', 'sad'], ['rainy', 'sad'], ['sunny', 'happy']],\n",
    "                       columns=['Weather', 'Mood'])\n",
    "\n",
    "mood_df"
   ]
  },
  {
   "cell_type": "markdown",
   "metadata": {},
   "source": [
    "We can do joins using the merge command."
   ]
  },
  {
   "cell_type": "code",
   "execution_count": 144,
   "metadata": {},
   "outputs": [
    {
     "output_type": "execute_result",
     "data": {
      "text/plain": [
       "      Date   Outlook  Temperature  Humidity  Windy      Result  TempHumid  \\\n",
       "0   7/1/14     sunny           85        85  False  Don't Play        170   \n",
       "1   7/2/14     sunny           80        90   True  Don't Play        170   \n",
       "2   7/8/14     sunny           72        95  False  Don't Play        167   \n",
       "3   7/9/14     sunny           69        70  False        Play        139   \n",
       "4  7/11/14     sunny           75        70   True        Play        145   \n",
       "5   7/3/14  overcast           83        78  False        Play        161   \n",
       "6   7/7/14  overcast           64        65   True        Play        129   \n",
       "7  7/12/14  overcast           72        90   True        Play        162   \n",
       "8  7/13/14  overcast           81        75  False        Play        156   \n",
       "\n",
       "   HeatIndex day   DateTime   Weather   Mood  \n",
       "0  98.004631   1 2014-07-01     sunny  happy  \n",
       "1  84.474400   2 2014-07-02     sunny  happy  \n",
       "2  66.247396   8 2014-07-08     sunny  happy  \n",
       "3  72.843649   9 2014-07-09     sunny  happy  \n",
       "4  75.777625  11 2014-07-11     sunny  happy  \n",
       "5  89.669911   3 2014-07-03  overcast    sad  \n",
       "6  75.987116   7 2014-07-07  overcast    sad  \n",
       "7  68.106944  12 2014-07-12  overcast    sad  \n",
       "8  84.523441  13 2014-07-13  overcast    sad  "
      ],
      "text/html": "<div>\n<style scoped>\n    .dataframe tbody tr th:only-of-type {\n        vertical-align: middle;\n    }\n\n    .dataframe tbody tr th {\n        vertical-align: top;\n    }\n\n    .dataframe thead th {\n        text-align: right;\n    }\n</style>\n<table border=\"1\" class=\"dataframe\">\n  <thead>\n    <tr style=\"text-align: right;\">\n      <th></th>\n      <th>Date</th>\n      <th>Outlook</th>\n      <th>Temperature</th>\n      <th>Humidity</th>\n      <th>Windy</th>\n      <th>Result</th>\n      <th>TempHumid</th>\n      <th>HeatIndex</th>\n      <th>day</th>\n      <th>DateTime</th>\n      <th>Weather</th>\n      <th>Mood</th>\n    </tr>\n  </thead>\n  <tbody>\n    <tr>\n      <th>0</th>\n      <td>7/1/14</td>\n      <td>sunny</td>\n      <td>85</td>\n      <td>85</td>\n      <td>False</td>\n      <td>Don't Play</td>\n      <td>170</td>\n      <td>98.004631</td>\n      <td>1</td>\n      <td>2014-07-01</td>\n      <td>sunny</td>\n      <td>happy</td>\n    </tr>\n    <tr>\n      <th>1</th>\n      <td>7/2/14</td>\n      <td>sunny</td>\n      <td>80</td>\n      <td>90</td>\n      <td>True</td>\n      <td>Don't Play</td>\n      <td>170</td>\n      <td>84.474400</td>\n      <td>2</td>\n      <td>2014-07-02</td>\n      <td>sunny</td>\n      <td>happy</td>\n    </tr>\n    <tr>\n      <th>2</th>\n      <td>7/8/14</td>\n      <td>sunny</td>\n      <td>72</td>\n      <td>95</td>\n      <td>False</td>\n      <td>Don't Play</td>\n      <td>167</td>\n      <td>66.247396</td>\n      <td>8</td>\n      <td>2014-07-08</td>\n      <td>sunny</td>\n      <td>happy</td>\n    </tr>\n    <tr>\n      <th>3</th>\n      <td>7/9/14</td>\n      <td>sunny</td>\n      <td>69</td>\n      <td>70</td>\n      <td>False</td>\n      <td>Play</td>\n      <td>139</td>\n      <td>72.843649</td>\n      <td>9</td>\n      <td>2014-07-09</td>\n      <td>sunny</td>\n      <td>happy</td>\n    </tr>\n    <tr>\n      <th>4</th>\n      <td>7/11/14</td>\n      <td>sunny</td>\n      <td>75</td>\n      <td>70</td>\n      <td>True</td>\n      <td>Play</td>\n      <td>145</td>\n      <td>75.777625</td>\n      <td>11</td>\n      <td>2014-07-11</td>\n      <td>sunny</td>\n      <td>happy</td>\n    </tr>\n    <tr>\n      <th>5</th>\n      <td>7/3/14</td>\n      <td>overcast</td>\n      <td>83</td>\n      <td>78</td>\n      <td>False</td>\n      <td>Play</td>\n      <td>161</td>\n      <td>89.669911</td>\n      <td>3</td>\n      <td>2014-07-03</td>\n      <td>overcast</td>\n      <td>sad</td>\n    </tr>\n    <tr>\n      <th>6</th>\n      <td>7/7/14</td>\n      <td>overcast</td>\n      <td>64</td>\n      <td>65</td>\n      <td>True</td>\n      <td>Play</td>\n      <td>129</td>\n      <td>75.987116</td>\n      <td>7</td>\n      <td>2014-07-07</td>\n      <td>overcast</td>\n      <td>sad</td>\n    </tr>\n    <tr>\n      <th>7</th>\n      <td>7/12/14</td>\n      <td>overcast</td>\n      <td>72</td>\n      <td>90</td>\n      <td>True</td>\n      <td>Play</td>\n      <td>162</td>\n      <td>68.106944</td>\n      <td>12</td>\n      <td>2014-07-12</td>\n      <td>overcast</td>\n      <td>sad</td>\n    </tr>\n    <tr>\n      <th>8</th>\n      <td>7/13/14</td>\n      <td>overcast</td>\n      <td>81</td>\n      <td>75</td>\n      <td>False</td>\n      <td>Play</td>\n      <td>156</td>\n      <td>84.523441</td>\n      <td>13</td>\n      <td>2014-07-13</td>\n      <td>overcast</td>\n      <td>sad</td>\n    </tr>\n  </tbody>\n</table>\n</div>"
     },
     "metadata": {},
     "execution_count": 144
    }
   ],
   "source": [
    "golf_df.merge(mood_df, how='inner', left_on='Outlook', right_on='Weather')"
   ]
  },
  {
   "cell_type": "markdown",
   "metadata": {},
   "source": [
    "There are, of course, other options besides `inner`, which you can find in the documentation."
   ]
  },
  {
   "cell_type": "markdown",
   "metadata": {},
   "source": [
    "## Concatenating dataframes\n",
    "\n",
    "This is the equivalent of Unions in SQL, but a little more flexible."
   ]
  },
  {
   "cell_type": "code",
   "execution_count": 145,
   "metadata": {},
   "outputs": [],
   "source": [
    "df1 = pd.DataFrame(\n",
    "    {'Col3': range(5), 'Col2': range(5), 'Col1': range(5)},\n",
    "    index=range(0, 5))\n",
    "df2 = pd.DataFrame(\n",
    "    {'Col1': range(5), 'Col2': range(5), 'Col4': range(5)},\n",
    "    index=range(3, 8))"
   ]
  },
  {
   "cell_type": "code",
   "execution_count": 146,
   "metadata": {},
   "outputs": [
    {
     "output_type": "execute_result",
     "data": {
      "text/plain": [
       "   Col3  Col2  Col1\n",
       "0     0     0     0\n",
       "1     1     1     1\n",
       "2     2     2     2\n",
       "3     3     3     3\n",
       "4     4     4     4"
      ],
      "text/html": "<div>\n<style scoped>\n    .dataframe tbody tr th:only-of-type {\n        vertical-align: middle;\n    }\n\n    .dataframe tbody tr th {\n        vertical-align: top;\n    }\n\n    .dataframe thead th {\n        text-align: right;\n    }\n</style>\n<table border=\"1\" class=\"dataframe\">\n  <thead>\n    <tr style=\"text-align: right;\">\n      <th></th>\n      <th>Col3</th>\n      <th>Col2</th>\n      <th>Col1</th>\n    </tr>\n  </thead>\n  <tbody>\n    <tr>\n      <th>0</th>\n      <td>0</td>\n      <td>0</td>\n      <td>0</td>\n    </tr>\n    <tr>\n      <th>1</th>\n      <td>1</td>\n      <td>1</td>\n      <td>1</td>\n    </tr>\n    <tr>\n      <th>2</th>\n      <td>2</td>\n      <td>2</td>\n      <td>2</td>\n    </tr>\n    <tr>\n      <th>3</th>\n      <td>3</td>\n      <td>3</td>\n      <td>3</td>\n    </tr>\n    <tr>\n      <th>4</th>\n      <td>4</td>\n      <td>4</td>\n      <td>4</td>\n    </tr>\n  </tbody>\n</table>\n</div>"
     },
     "metadata": {},
     "execution_count": 146
    }
   ],
   "source": [
    "df1"
   ]
  },
  {
   "cell_type": "code",
   "execution_count": 147,
   "metadata": {},
   "outputs": [
    {
     "output_type": "execute_result",
     "data": {
      "text/plain": [
       "   Col1  Col2  Col4\n",
       "3     0     0     0\n",
       "4     1     1     1\n",
       "5     2     2     2\n",
       "6     3     3     3\n",
       "7     4     4     4"
      ],
      "text/html": "<div>\n<style scoped>\n    .dataframe tbody tr th:only-of-type {\n        vertical-align: middle;\n    }\n\n    .dataframe tbody tr th {\n        vertical-align: top;\n    }\n\n    .dataframe thead th {\n        text-align: right;\n    }\n</style>\n<table border=\"1\" class=\"dataframe\">\n  <thead>\n    <tr style=\"text-align: right;\">\n      <th></th>\n      <th>Col1</th>\n      <th>Col2</th>\n      <th>Col4</th>\n    </tr>\n  </thead>\n  <tbody>\n    <tr>\n      <th>3</th>\n      <td>0</td>\n      <td>0</td>\n      <td>0</td>\n    </tr>\n    <tr>\n      <th>4</th>\n      <td>1</td>\n      <td>1</td>\n      <td>1</td>\n    </tr>\n    <tr>\n      <th>5</th>\n      <td>2</td>\n      <td>2</td>\n      <td>2</td>\n    </tr>\n    <tr>\n      <th>6</th>\n      <td>3</td>\n      <td>3</td>\n      <td>3</td>\n    </tr>\n    <tr>\n      <th>7</th>\n      <td>4</td>\n      <td>4</td>\n      <td>4</td>\n    </tr>\n  </tbody>\n</table>\n</div>"
     },
     "metadata": {},
     "execution_count": 147
    }
   ],
   "source": [
    "df2"
   ]
  },
  {
   "cell_type": "markdown",
   "metadata": {},
   "source": [
    "#### Vertically\n",
    "\n",
    "This is like a Union All. The `sort` parameter controls the order of the columns in the output."
   ]
  },
  {
   "cell_type": "code",
   "execution_count": 148,
   "metadata": {},
   "outputs": [
    {
     "output_type": "execute_result",
     "data": {
      "text/plain": [
       "   Col1  Col2  Col3  Col4\n",
       "0     0     0   0.0   NaN\n",
       "1     1     1   1.0   NaN\n",
       "2     2     2   2.0   NaN\n",
       "3     3     3   3.0   NaN\n",
       "4     4     4   4.0   NaN\n",
       "3     0     0   NaN   0.0\n",
       "4     1     1   NaN   1.0\n",
       "5     2     2   NaN   2.0\n",
       "6     3     3   NaN   3.0\n",
       "7     4     4   NaN   4.0"
      ],
      "text/html": "<div>\n<style scoped>\n    .dataframe tbody tr th:only-of-type {\n        vertical-align: middle;\n    }\n\n    .dataframe tbody tr th {\n        vertical-align: top;\n    }\n\n    .dataframe thead th {\n        text-align: right;\n    }\n</style>\n<table border=\"1\" class=\"dataframe\">\n  <thead>\n    <tr style=\"text-align: right;\">\n      <th></th>\n      <th>Col1</th>\n      <th>Col2</th>\n      <th>Col3</th>\n      <th>Col4</th>\n    </tr>\n  </thead>\n  <tbody>\n    <tr>\n      <th>0</th>\n      <td>0</td>\n      <td>0</td>\n      <td>0.0</td>\n      <td>NaN</td>\n    </tr>\n    <tr>\n      <th>1</th>\n      <td>1</td>\n      <td>1</td>\n      <td>1.0</td>\n      <td>NaN</td>\n    </tr>\n    <tr>\n      <th>2</th>\n      <td>2</td>\n      <td>2</td>\n      <td>2.0</td>\n      <td>NaN</td>\n    </tr>\n    <tr>\n      <th>3</th>\n      <td>3</td>\n      <td>3</td>\n      <td>3.0</td>\n      <td>NaN</td>\n    </tr>\n    <tr>\n      <th>4</th>\n      <td>4</td>\n      <td>4</td>\n      <td>4.0</td>\n      <td>NaN</td>\n    </tr>\n    <tr>\n      <th>3</th>\n      <td>0</td>\n      <td>0</td>\n      <td>NaN</td>\n      <td>0.0</td>\n    </tr>\n    <tr>\n      <th>4</th>\n      <td>1</td>\n      <td>1</td>\n      <td>NaN</td>\n      <td>1.0</td>\n    </tr>\n    <tr>\n      <th>5</th>\n      <td>2</td>\n      <td>2</td>\n      <td>NaN</td>\n      <td>2.0</td>\n    </tr>\n    <tr>\n      <th>6</th>\n      <td>3</td>\n      <td>3</td>\n      <td>NaN</td>\n      <td>3.0</td>\n    </tr>\n    <tr>\n      <th>7</th>\n      <td>4</td>\n      <td>4</td>\n      <td>NaN</td>\n      <td>4.0</td>\n    </tr>\n  </tbody>\n</table>\n</div>"
     },
     "metadata": {},
     "execution_count": 148
    }
   ],
   "source": [
    "pd.concat([df1, df2], axis=0, join='outer', sort=True)"
   ]
  },
  {
   "cell_type": "markdown",
   "metadata": {},
   "source": [
    "An `inner` value limits the columns to those in all the inputs."
   ]
  },
  {
   "cell_type": "code",
   "execution_count": 149,
   "metadata": {},
   "outputs": [
    {
     "output_type": "execute_result",
     "data": {
      "text/plain": [
       "   Col1  Col2\n",
       "0     0     0\n",
       "1     1     1\n",
       "2     2     2\n",
       "3     3     3\n",
       "4     4     4\n",
       "3     0     0\n",
       "4     1     1\n",
       "5     2     2\n",
       "6     3     3\n",
       "7     4     4"
      ],
      "text/html": "<div>\n<style scoped>\n    .dataframe tbody tr th:only-of-type {\n        vertical-align: middle;\n    }\n\n    .dataframe tbody tr th {\n        vertical-align: top;\n    }\n\n    .dataframe thead th {\n        text-align: right;\n    }\n</style>\n<table border=\"1\" class=\"dataframe\">\n  <thead>\n    <tr style=\"text-align: right;\">\n      <th></th>\n      <th>Col1</th>\n      <th>Col2</th>\n    </tr>\n  </thead>\n  <tbody>\n    <tr>\n      <th>0</th>\n      <td>0</td>\n      <td>0</td>\n    </tr>\n    <tr>\n      <th>1</th>\n      <td>1</td>\n      <td>1</td>\n    </tr>\n    <tr>\n      <th>2</th>\n      <td>2</td>\n      <td>2</td>\n    </tr>\n    <tr>\n      <th>3</th>\n      <td>3</td>\n      <td>3</td>\n    </tr>\n    <tr>\n      <th>4</th>\n      <td>4</td>\n      <td>4</td>\n    </tr>\n    <tr>\n      <th>3</th>\n      <td>0</td>\n      <td>0</td>\n    </tr>\n    <tr>\n      <th>4</th>\n      <td>1</td>\n      <td>1</td>\n    </tr>\n    <tr>\n      <th>5</th>\n      <td>2</td>\n      <td>2</td>\n    </tr>\n    <tr>\n      <th>6</th>\n      <td>3</td>\n      <td>3</td>\n    </tr>\n    <tr>\n      <th>7</th>\n      <td>4</td>\n      <td>4</td>\n    </tr>\n  </tbody>\n</table>\n</div>"
     },
     "metadata": {},
     "execution_count": 149
    }
   ],
   "source": [
    "pd.concat([df1, df2], axis=0, join='inner', sort=True)"
   ]
  },
  {
   "cell_type": "markdown",
   "metadata": {},
   "source": [
    "#### Horizontally\n",
    "\n",
    "This is pretty much a simple join on indices.  While `concat` is capable of doing joins, it is far less flexible."
   ]
  },
  {
   "cell_type": "code",
   "execution_count": 150,
   "metadata": {},
   "outputs": [
    {
     "output_type": "execute_result",
     "data": {
      "text/plain": [
       "   Col3  Col2  Col1  Col1  Col2  Col4\n",
       "0   0.0   0.0   0.0   NaN   NaN   NaN\n",
       "1   1.0   1.0   1.0   NaN   NaN   NaN\n",
       "2   2.0   2.0   2.0   NaN   NaN   NaN\n",
       "3   3.0   3.0   3.0   0.0   0.0   0.0\n",
       "4   4.0   4.0   4.0   1.0   1.0   1.0\n",
       "5   NaN   NaN   NaN   2.0   2.0   2.0\n",
       "6   NaN   NaN   NaN   3.0   3.0   3.0\n",
       "7   NaN   NaN   NaN   4.0   4.0   4.0"
      ],
      "text/html": "<div>\n<style scoped>\n    .dataframe tbody tr th:only-of-type {\n        vertical-align: middle;\n    }\n\n    .dataframe tbody tr th {\n        vertical-align: top;\n    }\n\n    .dataframe thead th {\n        text-align: right;\n    }\n</style>\n<table border=\"1\" class=\"dataframe\">\n  <thead>\n    <tr style=\"text-align: right;\">\n      <th></th>\n      <th>Col3</th>\n      <th>Col2</th>\n      <th>Col1</th>\n      <th>Col1</th>\n      <th>Col2</th>\n      <th>Col4</th>\n    </tr>\n  </thead>\n  <tbody>\n    <tr>\n      <th>0</th>\n      <td>0.0</td>\n      <td>0.0</td>\n      <td>0.0</td>\n      <td>NaN</td>\n      <td>NaN</td>\n      <td>NaN</td>\n    </tr>\n    <tr>\n      <th>1</th>\n      <td>1.0</td>\n      <td>1.0</td>\n      <td>1.0</td>\n      <td>NaN</td>\n      <td>NaN</td>\n      <td>NaN</td>\n    </tr>\n    <tr>\n      <th>2</th>\n      <td>2.0</td>\n      <td>2.0</td>\n      <td>2.0</td>\n      <td>NaN</td>\n      <td>NaN</td>\n      <td>NaN</td>\n    </tr>\n    <tr>\n      <th>3</th>\n      <td>3.0</td>\n      <td>3.0</td>\n      <td>3.0</td>\n      <td>0.0</td>\n      <td>0.0</td>\n      <td>0.0</td>\n    </tr>\n    <tr>\n      <th>4</th>\n      <td>4.0</td>\n      <td>4.0</td>\n      <td>4.0</td>\n      <td>1.0</td>\n      <td>1.0</td>\n      <td>1.0</td>\n    </tr>\n    <tr>\n      <th>5</th>\n      <td>NaN</td>\n      <td>NaN</td>\n      <td>NaN</td>\n      <td>2.0</td>\n      <td>2.0</td>\n      <td>2.0</td>\n    </tr>\n    <tr>\n      <th>6</th>\n      <td>NaN</td>\n      <td>NaN</td>\n      <td>NaN</td>\n      <td>3.0</td>\n      <td>3.0</td>\n      <td>3.0</td>\n    </tr>\n    <tr>\n      <th>7</th>\n      <td>NaN</td>\n      <td>NaN</td>\n      <td>NaN</td>\n      <td>4.0</td>\n      <td>4.0</td>\n      <td>4.0</td>\n    </tr>\n  </tbody>\n</table>\n</div>"
     },
     "metadata": {},
     "execution_count": 150
    }
   ],
   "source": [
    "pd.concat([df1, df2], axis=1)"
   ]
  },
  {
   "cell_type": "markdown",
   "metadata": {},
   "source": [
    "**Question:** why do some numbers show up as floats? Why do some numbers not?"
   ]
  },
  {
   "cell_type": "markdown",
   "metadata": {},
   "source": [
    "For more on joining DataFrames, read https://pandas.pydata.org/pandas-docs/stable/merging.html"
   ]
  },
  {
   "cell_type": "code",
   "execution_count": null,
   "metadata": {},
   "outputs": [],
   "source": []
  }
 ],
 "metadata": {
  "anaconda-cloud": {},
  "kernelspec": {
   "name": "python392jvsc74a57bd0f589b74b5f9dfadb2b978c0f6d0c86213b22d6e1bb02d62665d77952f7aaa902",
   "display_name": "Python 3.9.2 64-bit ('base': conda)"
  },
  "language_info": {
   "codemirror_mode": {
    "name": "ipython",
    "version": 3
   },
   "file_extension": ".py",
   "mimetype": "text/x-python",
   "name": "python",
   "nbconvert_exporter": "python",
   "pygments_lexer": "ipython3",
   "version": "3.9.2"
  },
  "toc": {
   "base_numbering": 1,
   "nav_menu": {},
   "number_sections": true,
   "sideBar": true,
   "skip_h1_title": false,
   "title_cell": "Table of Contents",
   "title_sidebar": "Contents",
   "toc_cell": false,
   "toc_position": {
    "height": "calc(100% - 180px)",
    "left": "10px",
    "top": "150px",
    "width": "256px"
   },
   "toc_section_display": true,
   "toc_window_display": true
  }
 },
 "nbformat": 4,
 "nbformat_minor": 1
}