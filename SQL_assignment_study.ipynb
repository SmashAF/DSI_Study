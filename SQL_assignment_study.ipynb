{
 "cells": [
  {
   "cell_type": "markdown",
   "metadata": {},
   "source": [
    "# Assignment: An Introduction to SQL"
   ]
  },
  {
   "cell_type": "markdown",
   "metadata": {},
   "source": [
    "## Goals of the Assignment\n",
    "\n",
    "   1. Explore a database\n",
    "   2. Basic querying: select data from a table\n",
    "   3. Selecting specific attributes of a table\n",
    "   4. Filtering with the \"where\" clause\n",
    "   5. Aggregation functions: counting\n",
    "   6. Aggregation functions: Using AVG for averaging\n",
    "   7. Intervals, ranges, and sorting\n",
    "   8. Subqueries\n",
    "   9. Window functions"
   ]
  },
  {
   "cell_type": "markdown",
   "metadata": {},
   "source": [
    "We suggest that you fork the repo containing this notebook into your private Github and then clone it to your local machine, so you can edit your own local version of this notebook. That way you can enter your solutions into your local version, save, and push them back to your private Github."
   ]
  },
  {
   "cell_type": "markdown",
   "metadata": {},
   "source": [
    "## Basic Assignment Tasks"
   ]
  },
  {
   "cell_type": "markdown",
   "metadata": {},
   "source": [
    "### Part 1: Make sure your Docker PostgreSQL server is running\n",
    "\n",
    "If you haven't done so yet, follow [these instructions](https://github.com/GalvanizeDataScience/docker/blob/master/reference/docker_postgres.md) to start the Docker container that contains PostgreSQL and a sample database called readychef with data from an internet-based meal service. It is [normalized](https://en.wikipedia.org/wiki/Database_normalization), which is a way of ensuring that data is stored no more than once in a database. This avoids inconsistency and saves space. \n",
    "\n",
    "The readychef database has five tables: events, meals, referrals, users, and visits. The events table contains actions users have done at the site (bought, liked, or shared meals). It has four fields: the event (bought, share or like), the date, the user id, and the meal id.\n",
    "\n",
    "The meals table contains the meal id, the type (which can be Chinese, French, etc.), the date, and the price. The users table contains the user id, the date, and the campaign id (which appears to be a two-letter abbreviation for the social media site that the user was acquired on). The referrals table contains pairs of user ids: the user who was referred and the user that referred them. Finally, the visits table contains dates and user ids representing user visits to the readychef site; a given user may have many visits.\n",
    "\n",
    "Since it is normalized, the events table has ids for both users and meals, but in order to get the price of the meal, we have to look up that meal using its id in the meal table. By storing the price in a separate table rather than with each event, the schema enforces the rule that a given meal always costs the same amount (while saving save as a bonus). A normalized database design allows us to use _only_ the meal's ID to refer to the meal _anywhere_ it may appear, but does mean that to get meal details we almost always have to join together two tables. *As a data scientist, you will frequently write SQL queries gathering data from various tables.*"
   ]
  },
  {
   "cell_type": "markdown",
   "metadata": {},
   "source": [
    "### Part 2: Connect to the Database\n",
    "\n",
    "For this assignment we recommend using DBeaver, a GUI tool, to access the PostgreSQL database. Use DBeaver to connect to the readychef database by creating a connection to PostgreSQL, following [these instructions](dbeaver_connection.md). Use \"readychef\" as the database name in the connection (the default is \"postgres\"). The tables in this database (remember, an SQL database typically contains multiple tables) can then be viewed under the connection under \"Schemas ... public ... Tables\" by expanding the icon for the readychef database in the left column of DBeaver.\n",
    "\n",
    "It is also possible to access PostgreSQL databases through Python using a module called psycopg2. Directions to do that are at the end of this assignment and will be covered in the afternoon. We encourage you to try that way of connecting when you come back to this assignment in the future."
   ]
  },
  {
   "cell_type": "markdown",
   "metadata": {},
   "source": [
    "### Part 3: `SELECT` Statements\n",
    "\n",
    "In DBeaver, you can type and run SQL queries using the SQL Editor which is accessible through the menu bar."
   ]
  },
  {
   "cell_type": "markdown",
   "metadata": {},
   "source": [
    "1. To get an understanding of the data, run a [SELECT](https://www.w3schools.com/sql/sql_select.asp) statement on each table. Keep all the columns and limit the number of rows to 10."
   ]
  },
  {
   "cell_type": "markdown",
   "metadata": {},
   "source": [
    "Your answer:  \n",
    "SELECT * FROM events LIMIT 10\n",
    "same for others just swap out events for each table\n",
    "\n",
    "(fill this in before checking the solution!!!)"
   ]
  },
  {
   "cell_type": "markdown",
   "metadata": {},
   "source": [
    "<details><summary>Solution</summary>\n",
    "<p>\n",
    "    \n",
    "```sql\n",
    "SELECT * FROM events LIMIT 10;\n",
    "SELECT * FROM meals LIMIT 10;\n",
    "SELECT * FROM referrals LIMIT 10;\n",
    "SELECT * FROM users LIMIT 10;\n",
    "SELECT * FROM visits LIMIT 10;\n",
    "```\n",
    "    \n",
    "</p>\n",
    "</details>"
   ]
  },
  {
   "cell_type": "markdown",
   "metadata": {},
   "source": [
    "2. Write a `SELECT` statement to retrieve the user ids (only) from the events table."
   ]
  },
  {
   "cell_type": "markdown",
   "metadata": {},
   "source": [
    "Your answer:     \n",
    "SELECT userid FROM events\n",
    "\n",
    "(fill this in before checking the solution!!!)"
   ]
  },
  {
   "cell_type": "markdown",
   "metadata": {},
   "source": [
    "<details><summary>Solution</summary>\n",
    "<p>\n",
    "    \n",
    "```sql\n",
    "SELECT userid FROM events LIMIT 10\n",
    "```\n",
    "    \n",
    "</p>\n",
    "</details>"
   ]
  },
  {
   "cell_type": "markdown",
   "metadata": {},
   "source": [
    "3. Maybe you're interested in what the campaign ids are on the users table. Use `SELECT DISTINCT` to find all the possible values of that column in the appropriate table.\n",
    "\n",
    "*Note:*  Pinterest=PI, Facebook=FB, Twitter=TW, and Reddit=RE"
   ]
  },
  {
   "cell_type": "markdown",
   "metadata": {},
   "source": [
    "Your answer:   \n",
    "SELECT DISTINCT campaign_id FROM users\n",
    "\n",
    "(fill this in before checking the solution!!!)"
   ]
  },
  {
   "cell_type": "markdown",
   "metadata": {},
   "source": [
    "<details><summary>Solution</summary>\n",
    "<p>\n",
    "    \n",
    "```sql\n",
    "SELECT DISTINCT campaign_id FROM users\n",
    "```\n",
    "    \n",
    "</p>\n",
    "</details>"
   ]
  },
  {
   "cell_type": "markdown",
   "metadata": {},
   "source": [
    "### Part 4: Filtering using `WHERE` Clauses\n",
    "\n",
    "Suppose we're interested in the subset of users that came from Facebook (FB). The [WHERE](https://www.w3schools.com/sql/sql_where.asp) clause can be used to add a conditional clause to `SELECT` statements. This will return those rows for which the conditional evaluates to `TRUE`. \n",
    "\n",
    "*Note: Make sure you put string literals in single quotes, like `campaign_id='TW'`.*"
   ]
  },
  {
   "cell_type": "markdown",
   "metadata": {},
   "source": [
    "1. Using the `WHERE` clause, write a new `SELECT` statement that returns all rows where `Campaign_ID` is equal to \"FB\"."
   ]
  },
  {
   "cell_type": "markdown",
   "metadata": {},
   "source": [
    "Your answer:   \n",
    "SELECT * FROM users   \n",
    "WHERE campaign_id = 'FB'\n",
    "\n",
    "(fill this in before checking the solution!!!)"
   ]
  },
  {
   "cell_type": "markdown",
   "metadata": {},
   "source": [
    "<details><summary>Solution</summary>\n",
    "<p>\n",
    "    \n",
    "```sql\n",
    "SELECT * from users where campaign_id = 'FB'\n",
    "```\n",
    "    \n",
    "</p>\n",
    "</details>"
   ]
  },
  {
   "cell_type": "markdown",
   "metadata": {},
   "source": [
    "2. We don't need the campaign id in the result since it doesn't vary, so modify the query to include only the other two columns.\n",
    "\n",
    "    Your output should be something like this:\n",
    "\n",
    "\n",
    "    userid|dt\n",
    "    ---|---\n",
    "    3|2013-01-01\n",
    "    4|2013-01-01\n",
    "    5|2013-01-01\n",
    "    6|2013-01-01\n",
    "    8|2013-01-01\n",
    "    ...|"
   ]
  },
  {
   "cell_type": "markdown",
   "metadata": {},
   "source": [
    "Your answer:    \n",
    "SELECT userid, dt   \n",
    "FROM users    \n",
    "WHERE campaign_id = 'FB'\n",
    "(fill this in before checking the solution!!!)"
   ]
  },
  {
   "cell_type": "markdown",
   "metadata": {},
   "source": [
    "<details><summary>Solution</summary>\n",
    "<p>\n",
    "    \n",
    "```sql\n",
    "SELECT userid, dt from users where campaign_id = 'FB'\n",
    "```\n",
    "    \n",
    "</p>\n",
    "</details>"
   ]
  },
  {
   "cell_type": "markdown",
   "metadata": {},
   "source": [
    "### Part 5: Aggregation Functions\n",
    "\n",
    "Let's try some [aggregation functions](https://www.postgresqltutorial.com/postgresql-aggregate-functions/) now.\n",
    "\n",
    "`COUNT` is an example of a aggregation function.  It counts how many rows are output from a query. It works like this:\n",
    "\n",
    "```sql\n",
    "SELECT COUNT(*) FROM users;\n",
    "```\n",
    "\n",
    "Your output should look like this:\n",
    "\n",
    "\n",
    "count |\n",
    "--- |\n",
    "5524 |"
   ]
  },
  {
   "cell_type": "markdown",
   "metadata": {},
   "source": [
    "1. Write a query to get the number of users who came from Facebook."
   ]
  },
  {
   "cell_type": "markdown",
   "metadata": {},
   "source": [
    "Your answer:   \n",
    "SELECT count(*) \n",
    "FROM  users    \n",
    "WHERE campaign_id = 'FB'  \n",
    "\n",
    "(fill this in before checking the solution!!!)"
   ]
  },
  {
   "cell_type": "markdown",
   "metadata": {},
   "source": [
    "<details><summary>Solution</summary>\n",
    "<p>\n",
    "    \n",
    "```sql\n",
    "SELECT COUNT(*) FROM users WHERE campaign_id = 'FB'\n",
    "```\n",
    "    \n",
    "</p>\n",
    "</details>"
   ]
  },
  {
   "cell_type": "markdown",
   "metadata": {},
   "source": [
    "2. Now, count the number of users coming from each service. Here you will create subtotals using the column that contains the name of the service in a [GROUP BY](https://www.postgresqltutorial.com/postgresql-group-by/) clause."
   ]
  },
  {
   "cell_type": "markdown",
   "metadata": {},
   "source": [
    "Your answer:   \n",
    "SELECT campagin_id, count(*)    \n",
    "FROM users   \n",
    "GROUP BY campaign_id  \n",
    "(fill this in before checking the solution!!!)"
   ]
  },
  {
   "cell_type": "markdown",
   "metadata": {},
   "source": [
    "<details><summary>Solution</summary>\n",
    "<p>\n",
    "    \n",
    "```sql\n",
    "SELECT campaign_id, COUNT(*) \n",
    "    FROM users \n",
    "    GROUP BY campaign_id\n",
    "```\n",
    "    \n",
    "</p>\n",
    "</details>"
   ]
  },
  {
   "cell_type": "markdown",
   "metadata": {},
   "source": [
    "Try running the query without a `GROUP BY`. PostgreSQL will tell you what to put in your group by clause!"
   ]
  },
  {
   "cell_type": "markdown",
   "metadata": {},
   "source": [
    "<details><summary>Query without a GROUP BY</summary>\n",
    "<p>\n",
    "    \n",
    "```sql\n",
    "SELECT campaign_id, COUNT(*) FROM users\n",
    "```\n",
    "    \n",
    "</p>\n",
    "</details>"
   ]
  },
  {
   "cell_type": "markdown",
   "metadata": {},
   "source": [
    "When you ran the command without the `GROUP BY`, you should have gotten a message saying that campaign_id has to be in a `GROUP BY` clause which should have been included in the command."
   ]
  },
  {
   "cell_type": "markdown",
   "metadata": {},
   "source": [
    "3. Use `COUNT (DISTINCT columnname)` to find the number of unique dates that appear in the `users` table."
   ]
  },
  {
   "cell_type": "markdown",
   "metadata": {},
   "source": [
    "Your answer:   \n",
    "SELECT DISTINCT dt, count(*) \n",
    "FROM users    \n",
    "GROUP BY dt  \n",
    "   \n",
    "\n",
    "SELECT COUNT(DISTINCT(dt))    \n",
    "FROM users    \n",
    "(fill this in before checking the solution!!!)"
   ]
  },
  {
   "cell_type": "markdown",
   "metadata": {},
   "source": [
    "<details><summary>Solution</summary>\n",
    "<p>\n",
    "    \n",
    "```sql\n",
    "SELECT COUNT(DISTINCT(dt)) FROM users\n",
    "```\n",
    "    \n",
    "</p>\n",
    "</details>"
   ]
  },
  {
   "cell_type": "markdown",
   "metadata": {},
   "source": [
    "4. There are also `MAX` and `MIN` functions, which do what you would expect. Write a query to get the first and last registration dates from the `users` table."
   ]
  },
  {
   "cell_type": "markdown",
   "metadata": {},
   "source": [
    "Your answer:   \n",
    "SELECT MIN(dt), MAX(dt)   \n",
    "FROM users   \n",
    "   \n",
    "(fill this in before checking the solution!!!)"
   ]
  },
  {
   "cell_type": "markdown",
   "metadata": {},
   "source": [
    "<details><summary>Solution</summary>\n",
    "<p>\n",
    "    \n",
    "```sql\n",
    "SELECT MIN(dt), MAX(dt) FROM users\n",
    "```\n",
    "    \n",
    "</p>\n",
    "</details>"
   ]
  },
  {
   "cell_type": "markdown",
   "metadata": {},
   "source": [
    "5. Using the `AVG` function, calculate the mean price for a meal (from the `meals` table). Your result should look like this:\n",
    "\n",
    "    \n",
    "    avg|\n",
    "    ---|\n",
    "    10.652283|"
   ]
  },
  {
   "cell_type": "markdown",
   "metadata": {},
   "source": [
    "Your answer:   \n",
    "SELECT avg(price)    \n",
    "FROM meals   \n",
    "  \n",
    "(fill this in before checking the solution!!!)"
   ]
  },
  {
   "cell_type": "markdown",
   "metadata": {},
   "source": [
    "<details><summary>Solution</summary>\n",
    "<p>\n",
    "    \n",
    "```sql\n",
    "SELECT AVG(price) FROM meals\n",
    "```\n",
    "    \n",
    "</p>\n",
    "</details>"
   ]
  },
  {
   "cell_type": "markdown",
   "metadata": {},
   "source": [
    "6. Now find the average, minimum, and maximum prices for each meal type. Don't forget the 'GROUP BY' statement!\n",
    "\n",
    "    Your output should look like this:\n",
    "\n",
    "    type | avg | min | max\n",
    "    --- | --- | --- | ---\n",
    "    mexican | 9.697595|6|13\n",
    "    italian|11.292614|7|16\n",
    "    chinese|9.518717|6|13\n",
    "    french|11.542000|7|16\n",
    "    japanese|9.380488|6|13\n",
    "    vietnamese|9.283019|6|13\n",
    "<br>"
   ]
  },
  {
   "cell_type": "markdown",
   "metadata": {},
   "source": [
    "Your answer:   \n",
    "SELECT type, AVG(price), MIN(price), MAX(price)  \n",
    "FROM meals  \n",
    "GROUP BY type  \n",
    "  \n",
    "(fill this in before checking the solution!!!)"
   ]
  },
  {
   "cell_type": "markdown",
   "metadata": {},
   "source": [
    "<details><summary>Solution</summary>\n",
    "<p>\n",
    "    \n",
    "```sql\n",
    "SELECT type, AVG(price), MIN(price), MAX(price)\n",
    "    FROM meals \n",
    "    GROUP BY type\n",
    "```    \n",
    "</p>    \n",
    "</details>    "
   ]
  },
  {
   "cell_type": "markdown",
   "metadata": {},
   "source": [
    " \n",
    "    "
   ]
  },
  {
   "cell_type": "markdown",
   "metadata": {},
   "source": [
    "7. It's often helpful for us to give our own names to columns. We can do by using syntax such as `AVG(price) AS avg_price`. This is called [aliasing](https://www.w3schools.com/sql/sql_alias.asp). Alias all the columns from the previous exercise  so that your table looks like this:\n",
    "\n",
    "\n",
    "    type | avg_price | min_price | max_price\n",
    "    --- | --- | ---| ---\n",
    "    mexican | 9.697595 | 6 | 13\n",
    "<br>"
   ]
  },
  {
   "cell_type": "markdown",
   "metadata": {},
   "source": [
    "Your answer:   \n",
    "\n",
    "SELECT (type), AVG(price) avg_price, MIN(price) min_price, MAX(price) max_price   \n",
    "FROM meals   \n",
    "GROUP BY TYPE    \n",
    "   \n",
    "(fill this in before checking the solution!!!)"
   ]
  },
  {
   "cell_type": "markdown",
   "metadata": {},
   "source": [
    "<details><summary>Solution</summary>\n",
    "<p>\n",
    "    \n",
    "```sql\n",
    "SELECT type, \n",
    "       AVG(price) as avg_price, \n",
    "       MIN(price) as min_price, \n",
    "       MAX(price) as max_price \n",
    "FROM meals \n",
    "GROUP BY type \n",
    "```\n",
    "    \n",
    "</p>\n",
    "</details>"
   ]
  },
  {
   "cell_type": "markdown",
   "metadata": {},
   "source": [
    "8. Let's consider only meals which occur in the first quarter (January through March). Use PostgreSQL's `date_part` function to get the month like this: `date_part('month', dt)`. Add a `WHERE` clause to the above query to consider only meals from the first quarter of 2013 (month<=3 and year=2013)."
   ]
  },
  {
   "cell_type": "markdown",
   "metadata": {},
   "source": [
    "Your answer:    \n",
    "SELECT (type), AVG(price) avg_price, MIN(price) min_price, MAX(price) max_price   \n",
    "FROM meals     \n",
    "WHERE DATE_PART('month', dt) <= 3    \n",
    "AND DATE_PART('year', dt) =2013   \n",
    "GROUP BY type    \n",
    "\n",
    "    \n",
    "(fill this in before checking the solution!!!)"
   ]
  },
  {
   "cell_type": "markdown",
   "metadata": {},
   "source": [
    "<details><summary>Solution</summary>\n",
    "<p>\n",
    "    \n",
    "```sql\n",
    "SELECT type,\n",
    "       AVG(price) as avg_price, \n",
    "       MIN(price) as min_price, \n",
    "       MAX(price) as max_price \n",
    "FROM meals \n",
    "WHERE DATE_PART('month', dt) <= 3 AND DATE_PART('year', dt) = 2013 \n",
    "GROUP BY type\n",
    "```\n",
    "    \n",
    "</p>\n",
    "</details>"
   ]
  },
  {
   "cell_type": "markdown",
   "metadata": {},
   "source": [
    "9. There are also scenarios where you'd want to group by more columns than one. Modify the above query so that we get the aggregate values for each month/type combination. You'll need to add the month to both the select statement and the group by statement.\n",
    "\n",
    "    It'll be helpful to *alias* the month column and give it a name like `month` so you don't have to call the `date_time` function again in the `GROUP BY` clause. (You do need to repeat the `date_time` function in the `WHERE` clause.)\n",
    "\n",
    "    Your result should look like this:\n",
    "\n",
    "    type|month|avg_price|min_price|max_price\n",
    "    ---|---|---|---|---\n",
    "    chinese|1.0|11.230769|8|13\n",
    "    chinese|2.0|9.066667|6|13\n",
    "    chinese|3.0|9.250000|6|13\n",
    "    french|1.0|11.650000|7|16"
   ]
  },
  {
   "cell_type": "markdown",
   "metadata": {},
   "source": [
    "Your answer:    \n",
    "SELECT (type), DATE_PART('month', dt) AS month, AVG(price) avg_price, MIN(price) min_price, MAX(price) max_price  \n",
    "FROM meals    \n",
    "WHERE DATE_PART('month', dt) <= 3 \n",
    "AND DATE_PART('year', dt) =2013   \n",
    "GROUP BY TYPE, month   \n",
    "   \n",
    "(fill this in before checking the solution!!!)"
   ]
  },
  {
   "cell_type": "markdown",
   "metadata": {},
   "source": [
    "<details><summary>Solution</summary>\n",
    "<p>\n",
    "    \n",
    "```sql\n",
    "SELECT type, \n",
    "       DATE_PART('month', dt) as month, \n",
    "       AVG(price) as avg_price, \n",
    "       MIN(price) as min_price, \n",
    "       MAX(price) as max_price \n",
    "FROM meals \n",
    "WHERE DATE_PART('month', dt) <= 3 AND DATE_PART('year', dt) = 2013 \n",
    "GROUP BY type, DATE_PART('month', dt)    \n",
    "```\n",
    "    \n",
    "</p>\n",
    "</details>"
   ]
  },
  {
   "cell_type": "markdown",
   "metadata": {},
   "source": [
    "10. Write a query using the `events` table that finds the total number of buys, likes and shares for each meal id. \n",
    "\n",
    "_Extra_: To avoid having to do this as three separate queries you can count the number of buys like this: `SUM(CASE WHEN event='bought' THEN 1 ELSE 0 END)`."
   ]
  },
  {
   "cell_type": "markdown",
   "metadata": {},
   "source": [
    "Your answer:   \n",
    "SELECT meal_id, SUM(CASE WHEN EVENT='bought' THEN 1 ELSE 0 END) AS buys,  \n",
    "\t\t\t\tSUM(CASE WHEN EVENT='likes' THEN 1 ELSE 0 END) AS likes,  \n",
    "\t\t\t\tSUM(CASE WHEN EVENT='shares' THEN 1 ELSE 0 END) AS shares  \n",
    "FROM events   \n",
    "GROUP BY meal_id   \n",
    "ORDER BY meal_id   \n",
    "   \n",
    "\n",
    "SELECT meal_id, EVENT, COUNT(event)     \n",
    "FROM EVENTs    \n",
    "GROUP BY meal_id,    \n",
    "EVENT ORDER BY meal_id   \n",
    "   \n",
    "\n",
    "(fill this in before checking the solution!!!)"
   ]
  },
  {
   "cell_type": "markdown",
   "metadata": {},
   "source": [
    "<details><summary>Solution</summary>\n",
    "<p>\n",
    "    \n",
    "```sql\n",
    "SELECT meal_id,\n",
    "       SUM(CASE WHEN event='bought' THEN 1 ELSE 0 END) as buys, \n",
    "       SUM(CASE WHEN event='like' THEN 1 ELSE 0 END) as likes,\n",
    "       SUM(CASE WHEN event='share' THEN 1 ELSE 0 END) as shares\n",
    "FROM events\n",
    "GROUP BY meal_id\n",
    "```\n",
    "    \n",
    "</p>\n",
    "</details>"
   ]
  },
  {
   "cell_type": "markdown",
   "metadata": {},
   "source": [
    "## Advanced Assignment Tasks"
   ]
  },
  {
   "cell_type": "markdown",
   "metadata": {},
   "source": [
    "### Part 6: Sorting"
   ]
  },
  {
   "cell_type": "markdown",
   "metadata": {},
   "source": [
    "1. Let's start with a query which finds the average price for each type of meal. It will be helpful to create an alias for the average price column, which you can call  'avg_price'."
   ]
  },
  {
   "cell_type": "markdown",
   "metadata": {},
   "source": [
    "Your answer:    \n",
    "SELECT TYPE, AVG(price) Avg_Price    \n",
    "FROM meals    \n",
    "GROUP BY type   \n",
    "   \n",
    "(fill this in before checking the solution!!!)"
   ]
  },
  {
   "cell_type": "markdown",
   "metadata": {},
   "source": [
    "<details><summary>Solution</summary>\n",
    "<p>\n",
    "    \n",
    "```sql\n",
    "SELECT type,\n",
    "       AVG(price) as avg_price\n",
    "FROM meals\n",
    "GROUP BY type\n",
    "```\n",
    "    \n",
    "</p>\n",
    "</details>"
   ]
  },
  {
   "cell_type": "markdown",
   "metadata": {},
   "source": [
    "2. To make it easier to read, sort the results by the `type` column. You can do this with an [ORDER BY](https://www.w3schools.com/sql/sql_orderby.asp) clause."
   ]
  },
  {
   "cell_type": "markdown",
   "metadata": {},
   "source": [
    "Your answer:    \n",
    "SELECT TYPE, AVG(price) Avg_Price   \n",
    "FROM meals GROUP BY TYPE    \n",
    "ORDER BY type\n",
    "   \n",
    "(fill this in before checking the solution!!!)"
   ]
  },
  {
   "cell_type": "markdown",
   "metadata": {},
   "source": [
    "<details><summary>Solution</summary>\n",
    "<p>\n",
    "    \n",
    "```sql\n",
    "SELECT type,\n",
    "       AVG(price) as avg_price\n",
    "FROM meals\n",
    "GROUP BY type\n",
    "ORDER BY type\n",
    "```\n",
    "    \n",
    "</p>\n",
    "</details>"
   ]
  },
  {
   "cell_type": "markdown",
   "metadata": {},
   "source": [
    "3. Now return the same table again, except this time order by the price in descending order (add the `DESC` keyword)."
   ]
  },
  {
   "cell_type": "markdown",
   "metadata": {},
   "source": [
    "Your answer:   \n",
    "SELECT TYPE, ROUND(AVG(price), 3) Avg_Price   FROM meals    \n",
    "GROUP BY TYPE    \n",
    "ORDER BY Avg_Price DESC  \n",
    "  \n",
    "(fill this in before checking the solution!!!)"
   ]
  },
  {
   "cell_type": "markdown",
   "metadata": {},
   "source": [
    "<details><summary>Solution</summary>\n",
    "<p>\n",
    "    \n",
    "```sql\n",
    "SELECT type,\n",
    "       AVG(price) as avg_price\n",
    "FROM meals\n",
    "GROUP BY type\n",
    "ORDER BY type DESC\n",
    "```\n",
    "    \n",
    "</p>\n",
    "</details>"
   ]
  },
  {
   "cell_type": "markdown",
   "metadata": {},
   "source": [
    "3. Sometimes we want to sort by two columns. Write a query to get all the meals, but sort by the type and then by the price. You should have an order by clause that looks something like this: `ORDER BY col1, col2`."
   ]
  },
  {
   "cell_type": "markdown",
   "metadata": {},
   "source": [
    "Your answer:   \n",
    "   \n",
    "SELECT TYPE, price    \n",
    "FROM  meals    \n",
    "ORDER BY  TYPE, price   \n",
    "   \n",
    "(fill this in before checking the solution!!!)"
   ]
  },
  {
   "cell_type": "markdown",
   "metadata": {},
   "source": [
    "<details><summary>Solution</summary>\n",
    "<p>\n",
    "    \n",
    "```sql\n",
    "SELECT type, \n",
    "       price\n",
    "FROM meals\n",
    "ORDER BY type, price\n",
    "```\n",
    "    \n",
    "</p>\n",
    "</details>"
   ]
  },
  {
   "cell_type": "markdown",
   "metadata": {},
   "source": [
    "4. For shorthand, people sometimes use numbers to refer to the columns in their order by or group by clauses. The numbers refer to the order the columns appear  in the select statement. For instance the SQL query `SELECT type, dt FROM meals ORDER BY 1` would order the results by the `type` column.\n",
    "Rewrite the query from the previous question to use this numerical syntax in the `ORDER BY` clause."
   ]
  },
  {
   "cell_type": "markdown",
   "metadata": {},
   "source": [
    "Your answer: \n",
    "   \n",
    "SELECT TYPE, price    \n",
    "FROM  meals    \n",
    "ORDER BY  1, 2  \n",
    "   \n",
    "(fill this in before checking the solution!!!)"
   ]
  },
  {
   "cell_type": "markdown",
   "metadata": {},
   "source": [
    "<details><summary>Solution</summary>\n",
    "<p>\n",
    "    \n",
    "```sql\n",
    "SELECT type, price   \n",
    "FROM meals\n",
    "ORDER BY 1, 2\n",
    "```\n",
    "    \n",
    "</p>\n",
    "</details>"
   ]
  },
  {
   "cell_type": "markdown",
   "metadata": {},
   "source": [
    "### Part 7: Joins"
   ]
  },
  {
   "cell_type": "markdown",
   "metadata": {},
   "source": [
    "Now we are ready to do operations on multiple tables. A [JOIN](https://www.w3schools.com/sql/sql_join.asp) allows us to combine multiple tables by matching on a shared column."
   ]
  },
  {
   "cell_type": "markdown",
   "metadata": {},
   "source": [
    "1. Write a query to get one table that joins the `events` table with the `users` table (on `userid`) to create the following result.\n",
    "\n",
    "|userid|campaign_id|meal_id|event|\n",
    "|------|-----------|-------|------|\n",
    "|3     |FB         |18     |bought|\n",
    "|7     |PI         |1      |like|\n",
    "|10    |TW         |29     |bought|\n",
    "|11    |RE         |19     |share|\n",
    "...|"
   ]
  },
  {
   "cell_type": "markdown",
   "metadata": {},
   "source": [
    "Your answer:   \n",
    "\n",
    "SELECT users.userid, users.campaign_id, events.meal_id, events.event   \n",
    "FROM events    \n",
    "INNER JOIN users ON (events.userid = users.userid)   \n",
    "   \n",
    "(fill this in before checking the solution!!!)"
   ]
  },
  {
   "cell_type": "markdown",
   "metadata": {},
   "source": [
    "<details><summary>Solution</summary>\n",
    "<p>\n",
    "    \n",
    "```sql\n",
    "SELECT users.userid,\n",
    "       users.campaign_id,\n",
    "       events.meal_id,\n",
    "       events.event\n",
    "FROM events\n",
    "INNER JOIN users\n",
    "ON events.userid = users.userid\n",
    "```\n",
    "    \n",
    "</p>\n",
    "</details>"
   ]
  },
  {
   "cell_type": "markdown",
   "metadata": {},
   "source": [
    "2. Augment the results to also include information about the meal: the `type` and the `price`. Only include the `bought` events. The result should look like this:\n",
    "\n",
    "\n",
    "userid|campaign_id|meal_id|type|price\n",
    "---|---|---|---|---\n",
    "3|FB|18|french|9\n",
    "10|TW|29|italian|15\n",
    "18|TW|40|japanese|13\n",
    "22|RE|23|mexican|12\n",
    "25|FB|8|french|14 \n",
    "...\n",
    "\n",
    "\n",
    "    If your results are different, make sure you filtered them so you only got the `bought` events. You should be able to do this *without* using a `WHERE` clause, only `ON` clause(s)! (note this has no effect on performance, and may make the query more confusing)"
   ]
  },
  {
   "cell_type": "markdown",
   "metadata": {},
   "source": [
    "Your answer:   \n",
    "SELECT users.userid, users.campaign_id, events.meal_id, meals.TYPE, meals.price   \n",
    "FROM users   \n",
    "INNER JOIN events ON (users.userid = events.userid)   \n",
    "INNER JOIN meals ON (events.meal_id = meals.meal_id)   \n",
    "WHERE events.EVENT = 'bought'   \n",
    "    \n",
    "\n",
    "(fill this in before checking the solution!!!)"
   ]
  },
  {
   "cell_type": "markdown",
   "metadata": {},
   "source": [
    "<details><summary>Solution</summary>\n",
    "<p>\n",
    "    \n",
    "```sql\n",
    "SELECT users.userid,\n",
    "       users.campaign_id,\n",
    "       events.meal_id,\n",
    "       meals.type,\n",
    "       meals.price\n",
    "FROM events\n",
    "INNER JOIN users\n",
    "ON events.userid = users.userid\n",
    "INNER JOIN meals\n",
    "ON events.meal_id = meals.meal_id\n",
    "AND events.event = 'bought'\n",
    "```\n",
    "    \n",
    "</p>\n",
    "</details>"
   ]
  },
  {
   "cell_type": "markdown",
   "metadata": {},
   "source": [
    "3. Write a query to get how many of each type of meal were bought.\n",
    "\n",
    "You should again be able to do this *without* a `WHERE` clause!\n",
    "   \n",
    "You should get the following table:\n",
    "\n",
    "type      |total_meals_bought\n",
    "----------|------------------\n",
    "chinese   |6267              \n",
    "french    |16179             \n",
    "italian   |22575             \n",
    "japanese  |6921              \n",
    "mexican   |8792              \n",
    "vietnamese|3535              \n"
   ]
  },
  {
   "cell_type": "markdown",
   "metadata": {},
   "source": [
    "Your answer:   \n",
    "SELECT meals.TYPE, SUM(CASE WHEN events.EVENT='bought' THEN 1 ELSE 0 END) AS total_meals_bought   \n",
    "FROM meals   \n",
    "INNER JOIN events ON (events.meal_id = meals.meal_id)   \n",
    "GROUP BY meals.TYPE    \n",
    "   \n",
    "(fill this in before checking the solution!!!)"
   ]
  },
  {
   "cell_type": "markdown",
   "metadata": {},
   "source": [
    "<details><summary>Solution</summary>\n",
    "<p>\n",
    "    \n",
    "```sql\n",
    "SELECT meals.type,\n",
    "       COUNT(*) as total_meals_bought\n",
    "FROM events\n",
    "INNER JOIN users\n",
    "ON events.userid = users.userid\n",
    "INNER JOIN meals\n",
    "ON events.meal_id = meals.meal_id\n",
    "AND events.event = 'bought'\n",
    "GROUP BY meals.type \n",
    "```\n",
    "    \n",
    "</p>\n",
    "</details>"
   ]
  },
  {
   "cell_type": "markdown",
   "metadata": {},
   "source": [
    "*Phew!* If you've made it this far, congratulations! You're ready to move on to subqueries.\n",
    "\n",
    "### Part 8: Subqueries\n",
    "\n",
    "In a [subquery](https://www.w3resource.com/sql/subqueries/understanding-sql-subqueries.php),  a `SELECT` statement is embedded in another `SELECT` statement."
   ]
  },
  {
   "cell_type": "markdown",
   "metadata": {},
   "source": [
    "1. Write a query to get meals that are above the average meal price.\n",
    "\n",
    "    Start by writing a query to get the average meal price. Then write a query where you put `price > (SELECT ...)` (that select statement should return the average price). Your output should be as follows:\n",
    "    \n",
    "|meal_id|type   |dt        |price|\n",
    "|-------|-------|----------|-----|\n",
    "|2      |chinese|2013-01-01|13   |\n",
    "|5      |chinese|2013-01-03|12   |\n",
    "|8      |french |2013-01-03|14   |\n",
    "|9      |italian|2013-01-03|13   |\n",
    "|12     |mexican|2013-01-03|12   |\n",
    "|15     |italian|2013-01-04|11   |\n",
    "|16     |italian|2013-01-04|15   |\n",
    "|...|"
   ]
  },
  {
   "cell_type": "markdown",
   "metadata": {},
   "source": [
    "Your answer:  \n",
    "SELECT *    \n",
    "FROM meals    \n",
    "WHERE price > (SELECT AVG(price)   \n",
    "FROM meals)    \n",
    "   \n",
    "(fill this in before checking the solution!!!)"
   ]
  },
  {
   "cell_type": "markdown",
   "metadata": {},
   "source": [
    "<details><summary>Solution</summary>\n",
    "<p>\n",
    "    \n",
    "```sql\n",
    "SELECT *\n",
    "FROM meals\n",
    "WHERE price >\n",
    "(SELECT AVG(price) FROM meals)\n",
    "```\n",
    "    \n",
    "</p>\n",
    "</details>"
   ]
  },
  {
   "cell_type": "markdown",
   "metadata": {},
   "source": [
    "2. Write a query to get the meals that are above the average meal price *for that type*.\n",
    "\n",
    "    Here you'll need to use a join. First write a query that gets the average meal price for each type. Then join with that table to get those meals that are larger than the average price for that type of meal. Your query should look something like this:\n",
    "\n",
    "    ```sql\n",
    "    SELECT meals.*\n",
    "    FROM meals\n",
    "    JOIN (SELECT ...) average\n",
    "    ON ...\n",
    "    ```\n",
    "    Note that you need to fill in the select statement that will get the average meal price for each type. We *alias* this table and give it the name `average` (you can include the `AS` keyword, but it doesn't matter).    \n",
    "    Your output should be as follows:\n",
    "    \n",
    "|meal_id|type   |dt        |price|type   |avg                |\n",
    "|-------|-------|----------|-----|-------|-------------------|\n",
    "|2      |chinese|2013-01-01|13   |chinese|9.5187165775401070 |\n",
    "|5      |chinese|2013-01-03|12   |chinese|9.5187165775401070 |\n",
    "|8      |french |2013-01-03|14   |french |11.5420000000000000|\n",
    "|9      |italian|2013-01-03|13   |italian|11.2926136363636364|\n",
    "|12     |mexican|2013-01-03|12   |mexican|9.6975945017182131 | \n",
    "|...|"
   ]
  },
  {
   "cell_type": "markdown",
   "metadata": {},
   "source": [
    "Your answer:   \n",
    "SELECT meals.*     \n",
    "FROM meals     \n",
    "INNER JOIN (SELECT TYPE, AVG(price) FROM meals GROUP BY type) avgs   \n",
    "ON meals.TYPE = avgs.TYPE    \n",
    "WHERE meals.price > avgs.avg      \n",
    "          \n",
    "(fill this in before checking the solution!!!)"
   ]
  },
  {
   "cell_type": "markdown",
   "metadata": {},
   "source": [
    "<details><summary>Solution</summary>\n",
    "<p>\n",
    "    \n",
    "```sql\n",
    "SELECT *\n",
    "FROM meals\n",
    "INNER JOIN\n",
    "(SELECT type, AVG(price)\n",
    "FROM meals\n",
    "GROUP BY type) avgs\n",
    "ON meals.type = avgs.type\n",
    "WHERE meals.price > avgs.avg    \n",
    "```\n",
    "    \n",
    "</p>\n",
    "</details>"
   ]
  },
  {
   "cell_type": "markdown",
   "metadata": {},
   "source": [
    "3. Modify the above query to count the number of meals of each type that are above the average price. This should be the result:\n",
    "\n",
    "|type      |count|\n",
    "|----------|-----|\n",
    "|mexican   |152  |\n",
    "|italian   |332  |\n",
    "|french    |243  |\n",
    "|chinese   |95   |\n",
    "|japanese  |99   |\n",
    "|vietnamese|47   |"
   ]
  },
  {
   "cell_type": "markdown",
   "metadata": {},
   "source": [
    "<details><summary>Solution</summary>\n",
    "<p>\n",
    "    \n",
    "```sql\n",
    "SELECT meals.type, COUNT(meal_id) \n",
    "FROM meals \n",
    "INNER JOIN(\n",
    "    select type, AVG(price) \n",
    "    FROM meals \n",
    "    GROUP BY type) \n",
    "    avgs on meals.type = avgs.type \n",
    "WHERE meals.price > avgs.avg \n",
    "GROUP BY meals.type\n",
    "```\n",
    "    \n",
    "</p>\n",
    "</details>"
   ]
  },
  {
   "cell_type": "markdown",
   "metadata": {},
   "source": [
    "4. Calculate the percentage of users who come from each service. This query will look similar to doing a count of users with a `GROUP BY` on campaign_id, except you will have to divide by the total number of users.\n",
    "\n",
    "    As is the case with many other programming languages, dividing an int by an int yields an int, and you will get 0 instead of something like 0.54. You can deal with this by casting one of the values as a real like this: `CAST (value AS REAL)`\n",
    "\n",
    "    You should get the following result:\n",
    "    \n",
    "|campaign_id|percentage         |\n",
    "|-----------|-------------------|\n",
    "|FB         |0.39681390296886315|\n",
    "|RE         |0.1560463432295438 |\n",
    "|PI         |0.10644460535843592|\n",
    "|TW         |0.3406951484431571 |"
   ]
  },
  {
   "cell_type": "markdown",
   "metadata": {},
   "source": [
    "Your answer:   \n",
    "   \n",
    "SELECT campaign_id, CAST(COUNT(*) AS REAL)/(SELECT COUNT(*) FROM users) AS percentage     \n",
    "FROM users u     \n",
    "GROUP BY campaign_id    \n",
    "      \n",
    "(fill this in before checking the solution!!!)"
   ]
  },
  {
   "cell_type": "markdown",
   "metadata": {},
   "source": [
    "<details><summary>Solution</summary>\n",
    "<p>\n",
    "    \n",
    "```sql\n",
    "SELECT campaign_id, \n",
    "   CAST(COUNT(*) as REAL)/(SELECT COUNT(*) from users)\n",
    "   as percentage \n",
    "FROM users \n",
    "GROUP BY campaign_id \n",
    "```\n",
    "    \n",
    "</p>\n",
    "</details>"
   ]
  },
  {
   "cell_type": "markdown",
   "metadata": {},
   "source": [
    "### Part 9: Window Functions\n",
    "Aggregation functions reduce the number of rows down to the level defined by the values in the group by. But what if we don't want to reduce the number of rows, but still want to see the aggregation for each row? For instance, what if we would like to see the average price of Italian meals next to each Italian meal sold? We can use an `OVER` clause in conjunction with an aggregation function (for instance, `AVG()`) to do this.\n",
    "\n",
    "```sql\n",
    "SELECT e.*, m.price, avg(m.price) OVER () -- since the OVER clause is empty this will basically just be the average over all the rows in the returned dataset\n",
    "from events e\n",
    "join meals m on e.meal_id = m.meal_id\n",
    "where m.type = 'italian' and e.event = 'bought'\n",
    "order by e.dt asc\n",
    "``` "
   ]
  },
  {
   "cell_type": "markdown",
   "metadata": {},
   "source": [
    "These types of functions are called window functions. We could accomplish the same thing using a subquery to find the average and then a join, but this is nice because we can do it in only one statement. However, the above query isn't very useful because we are specifying only the Italian meals and we'd like this to work on all types of meals. We can modify the window that the aggregation occurs on by adding `PARTITION BY` into the `OVER` clause and removing the 'italian' filter in the `WHERE` like so:\n",
    "```sql\n",
    "SELECT e.*, m.price, avg(m.price) OVER (partition by m.type) -- now the OVER is causing the avg function to work over windows that include each type of meal \n",
    "from events e\n",
    "join meals m on e.meal_id = m.meal_id\n",
    "where e.event = 'bought'\n",
    "order by e.dt asc\n",
    "``` "
   ]
  },
  {
   "cell_type": "markdown",
   "metadata": {},
   "source": [
    "Now what if we want to just see the average of the last 5 sales per meal type? We can redefine the frame so that it is smaller than all the rows using the `ROWS PRECEDING` and `FOLLOWING` arguments in the `OVER` clause. \n",
    "```sql\n",
    "SELECT e.*, m.price, avg(m.price) over (partition by m.type rows between 5 preceding and current row) as avg_5 -- now we are getting an average that looks at the recent 5 rows\n",
    "from events e\n",
    "join meals m on e.meal_id = m.meal_id\n",
    "where e.event = 'bought'\n",
    "order by e.dt asc\n",
    "``` "
   ]
  },
  {
   "cell_type": "markdown",
   "metadata": {},
   "source": [
    "Except that doesn't actually look at the most recent 5 meals! It just looks at the last 5 rows in some unhelpful order! We need to add in an order by so we average the correct rows, like this:\n",
    "```sql\n",
    "SELECT e.*, m.price, avg(m.price) over (partition by m.type order by m.type, e.dt rows between 5 preceding and current row) as avg_5 -- that looks at the correct 5 rows now that we are ordering them correctly by type of meal and event date\n",
    "from events e\n",
    "join meals m on e.meal_id = m.meal_id\n",
    "where e.event = 'bought'\n",
    "order by e.dt asc\n",
    "``` \n",
    "It is important to notice that it doesn't matter to the window function what order by we use at the end of the query, it is just paying attention to the `OVER` clause that defines it and whatever `ORDER BY` subclause it finds there.\n",
    "\n",
    "For more information, take a look at the post [here](https://tapoueh.org/blog/2013/08/understanding-window-functions/). "
   ]
  },
  {
   "cell_type": "markdown",
   "metadata": {},
   "source": [
    "1. Use the [LAG](https://www.mysqltutorial.org/mysql-window-functions/mysql-lag-function/) window function to show the type of meal that a customer ordered before a given order. Your output should be as follows:\n",
    "\n",
    "|userid|current_order_date|current_meal_type|last_meal_type|\n",
    "|------|------------------|-----------------|--------------|\n",
    "|1     |2013-01-21        |japanese         |french        |\n",
    "|1     |2013-04-18        |french           |italian       |\n",
    "|1     |2013-05-11        |italian          |japanese      |\n",
    "|1     |2013-07-02        |japanese         |italian       |\n",
    "|1     |2013-07-12        |italian          |chinese       |\n",
    "|1     |2013-07-18        |chinese          |mexican       |\n",
    "|1     |2013-07-28        |mexican          |chinese       |\n",
    "|1     |2013-07-29        |chinese          |italian       |\n",
    "|1     |2013-07-30        |italian          |french        |\n",
    "|...| \n"
   ]
  },
  {
   "cell_type": "markdown",
   "metadata": {},
   "source": [
    "Your answer:   \n",
    "SELECT events.userid, events.dt curr_order_date, meals.TYPE curr_type, \n",
    "LAG(meals.TYPE, 1) OVER (PARTITION BY events.userid ORDER BY events.dt) prev_type     \n",
    "FROM events       \n",
    "JOIN meals ON events.meal_id = meals.meal_id    \n",
    "WHERE events.event = 'bought'    \n",
    "ORDER BY userid, events.dt asc     \n",
    "     \n",
    "(fill this in before checking the solution!!!)"
   ]
  },
  {
   "cell_type": "markdown",
   "metadata": {},
   "source": [
    "<details><summary>Solution</summary>\n",
    "<p>\n",
    "    \n",
    "```sql\n",
    "SELECT events.userid, meals.dt as  current_order_date, meals.type as current_meal_type, LAG(meals.type) OVER (partition by events.userid ORDER BY meals.dt DESC) as last_meal_type\n",
    "FROM events\n",
    "LEFT JOIN meals\n",
    "ON (events.meal_id = meals.meal_id)\n",
    "WHERE events.event = 'bought'\n",
    "ORDER BY events.userid, meals.dt\n",
    "```\n",
    "    \n",
    "</p>\n",
    "</details>"
   ]
  },
  {
   "cell_type": "markdown",
   "metadata": {},
   "source": [
    "2. For each event, show what percentage of the last 100 items that were of each type, sorting first by event, and then by type.\n",
    "\n",
    "The query should output:\n",
    "\n",
    "|event |type      |pct|\n",
    "|------|----------|---|\n",
    "|bought|chinese   |16 |\n",
    "|bought|italian   |31 |\n",
    "|bought|japanese  |22 |\n",
    "|bought|mexican   |13 |\n",
    "|bought|vietnamese|18 |\n",
    "|like  |chinese   |15 |\n",
    "|like  |italian   |34 |\n",
    "|like  |japanese  |14 |\n",
    "|like  |mexican   |14 |\n",
    "|like  |vietnamese|23 |\n",
    "|share |chinese   |18 |\n",
    "|share |italian   |22 |\n",
    "|share |japanese  |29 |\n",
    "|share |mexican   |20 |\n",
    "|share |vietnamese|11 |"
   ]
  },
  {
   "cell_type": "markdown",
   "metadata": {},
   "source": [
    "Your answer:   \n",
    "SELECT event, TYPE, count(event) AS pct     \n",
    "FROM (SELECT *, ROW_NUMBER() OVER (PARTITION BY event ORDER BY events.dt DESC) AS e_sort   \n",
    "FROM events     \n",
    "INNER JOIN meals ON events.meal_id=meals.meal_id ) AS ordlist    \n",
    "WHERE ordlist.e_sort<=100     \n",
    "GROUP BY event , type     \n",
    "ORDER BY EVENT , type    \n",
    "        \n",
    "(fill this in before checking the solution!!!)"
   ]
  },
  {
   "cell_type": "markdown",
   "metadata": {},
   "source": [
    "<details><summary>Solution</summary>\n",
    "<p>\n",
    "    \n",
    "```sql\n",
    "SELECT event, type, COUNT(event) as pct FROM \n",
    "(SELECT *, row_number() OVER (PARTITION BY event order BY events.dt desc) as rn\n",
    "FROM events INNER JOIN meals on events.meal_id=meals.meal_id) as ordlist \n",
    "WHERE ordlist.rn<=100\n",
    "GROUP BY event, type \n",
    "ORDER BY event, type\n",
    "```\n",
    "    \n",
    "</p>\n",
    "</details>"
   ]
  },
  {
   "cell_type": "markdown",
   "metadata": {},
   "source": [
    "3. Use the [NTILE](https://www.sqltutorial.org/sql-window-functions/sql-ntile/) window function to show the top 10% of users by number of entries in the events table. Your output should be the following:\n",
    "\n",
    "|userid|\n",
    "|------|\n",
    "|21    |\n",
    "|112   |\n",
    "|28    |\n",
    "|75    |\n",
    "|...| \n"
   ]
  },
  {
   "cell_type": "markdown",
   "metadata": {},
   "source": [
    "Your answer:    \n",
    "SELECT userid   \n",
    "FROM (SELECT mc1.userid, NTILE(10) OVER(ORDER BY mc1.meal_count) AS count_ntile, mc1.meal_count    \n",
    "     \tFROM (SELECT userid, COUNT(meal_id) AS meal_count FROM events GROUP BY userid) AS mc1\n",
    "\tORDER BY mc1.meal_count DESC) AS mc2   \n",
    "WHERE count_ntile = 10\n",
    "\n",
    "\n",
    "(fill this in before checking the solution!!!)"
   ]
  },
  {
   "cell_type": "markdown",
   "metadata": {},
   "source": [
    "<details><summary>Solution</summary>\n",
    "<p>\n",
    "    \n",
    "```sql\n",
    "SELECT userid from \n",
    "(SELECT mc1.userid, NTILE(10) OVER(ORDER BY mc1.meal_count) \n",
    "as count_ntile, mc1.meal_count\n",
    "FROM\n",
    "(SELECT userid, COUNT(meal_id) as meal_count  \n",
    "FROM events\n",
    "GROUP BY userid) as mc1\n",
    "ORDER BY mc1.meal_count DESC) as mc2\n",
    "WHERE count_ntile = 10\n",
    "```\n",
    "    \n",
    "</p>\n",
    "</details>"
   ]
  },
  {
   "cell_type": "markdown",
   "metadata": {},
   "source": [
    "### Part 10: More practice (Extra Credit)\n",
    "\n",
    "1. Answer the question, _\"What user from each campaign bought the most items?\"_\n",
    "\n",
    "    It will be helpful to create a temporary table that contains the counts of the number of items each user bought. You can create a temporary table like this: `CREATE TEMPORARY TABLE mytable AS SELECT...`"
   ]
  },
  {
   "cell_type": "markdown",
   "metadata": {},
   "source": [
    "Your answer:   \n",
    "\n",
    "CREATE TEMPORARY TABLE temp AS \n",
    "(SELECT  users.userid, users.campaign_id, count(*)  AS num_bought\n",
    "FROM events\n",
    "INNER JOIN users ON USERS.userid=EVENTS.USERID\n",
    "WHERE EVENT = 'bought'\n",
    "GROUP BY USERS.userid, users.campaign_id);\n",
    "SELECT temp.userid, temp.campaign_id, mx.highest_purchasers\n",
    "FROM (SELECT campaign_id, max(num_bought) AS highest_purchasers FROM temp\n",
    "\tGROUP BY campaign_id) AS mx\n",
    "INNER JOIN temp ON mx.highest_purchasers = temp.num_bought AND mx.campaign_id=temp.campaign_id\n",
    "GROUP BY USER.campaign_id   \n",
    "\n",
    "(fill this in before checking the solution!!!)"
   ]
  },
  {
   "cell_type": "markdown",
   "metadata": {},
   "source": [
    "<details><summary>Solution</summary>\n",
    "<p>\n",
    "    \n",
    "```sql\n",
    "CREATE TEMPORARY TABLE pc AS\n",
    "(SELECT users.userid, users.campaign_id, count(*) AS nbought FROM events \n",
    "INNER JOIN users ON users.userid=events.userid \n",
    "WHERE event='bought' \n",
    "GROUP BY event,users.userid, users.campaign_id);\n",
    "SELECT pc.userid, pc.campaign_id, mt.max_bought FROM\n",
    "(SELECT campaign_id, max(nbought) AS max_bought FROM pc group by campaign_id) AS mt\n",
    "INNER JOIN pc ON mt.max_bought=pc.nbought AND mt.campaign_id=pc.campaign_id\n",
    "```\n",
    "    \n",
    "</p>\n",
    "</details>"
   ]
  },
  {
   "cell_type": "markdown",
   "metadata": {},
   "source": [
    "2. For each day, get the total number of users who have registered as of that day. You should get a table that has a `dt` and a `cnt` column. This is a cumulative sum."
   ]
  },
  {
   "cell_type": "markdown",
   "metadata": {},
   "source": [
    "Your answer: \n",
    "\n",
    "(fill this in before checking the solution!!!)"
   ]
  },
  {
   "cell_type": "markdown",
   "metadata": {},
   "source": [
    "<details><summary>Solution</summary>\n",
    "<p>\n",
    "    \n",
    "```sql\n",
    "SELECT dt, SUM(c) OVER (ORDER BY dt) AS cnt FROM \n",
    "(SELECT dt, COUNT(userid) AS c FROM users GROUP BY dt ORDER BY dt) AS usercount\n",
    "ORDER BY dt\n",
    "```\n",
    "    \n",
    "</p>\n",
    "</details>"
   ]
  },
  {
   "cell_type": "markdown",
   "metadata": {},
   "source": [
    "3. What day of the week has the most buys of meals?"
   ]
  },
  {
   "cell_type": "markdown",
   "metadata": {},
   "source": [
    "Your answer: \n",
    "\n",
    "(fill this in before checking the solution!!!)"
   ]
  },
  {
   "cell_type": "markdown",
   "metadata": {},
   "source": [
    "<details><summary>Solution</summary>\n",
    "<p>\n",
    "    \n",
    "```sql\n",
    "SELECT dow,count(dow) FROM \n",
    "(SELECT to_char(dt,'dy') AS dow FROM events WHERE event='bought') AS dow_bevents\n",
    "GROUP BY dow ORDER BY count DESC\n",
    "```\n",
    "    \n",
    "</p>\n",
    "</details>"
   ]
  },
  {
   "cell_type": "markdown",
   "metadata": {},
   "source": [
    "4. Which month had the highest percent of users who visited the site purchase a meal? \n"
   ]
  },
  {
   "cell_type": "markdown",
   "metadata": {},
   "source": [
    "Your answer: \n",
    "\n",
    "(fill this in before checking the solution!!!)"
   ]
  },
  {
   "cell_type": "markdown",
   "metadata": {},
   "source": [
    "<details><summary>Solution</summary>\n",
    "<p>\n",
    "    \n",
    "```sql\n",
    "SELECT month,avg(CASE WHEN event='bought' THEN 1 ELSE 0 END) AS average FROM \n",
    "(SELECT *, date_trunc('month', dt) AS month FROM events) AS tmonth\n",
    "GROUP BY month\n",
    "ORDER BY average DESC\n",
    "```\n",
    "    \n",
    "</p>\n",
    "</details>"
   ]
  },
  {
   "cell_type": "markdown",
   "metadata": {},
   "source": [
    "5. Find all the meals that are above the average meal price of the previous seven days."
   ]
  },
  {
   "cell_type": "markdown",
   "metadata": {},
   "source": [
    "Your answer: \n",
    "\n",
    "(fill this in before checking the solution!!!)"
   ]
  },
  {
   "cell_type": "markdown",
   "metadata": {},
   "source": [
    "<details><summary>Solution</summary>\n",
    "<p>\n",
    "    \n",
    "```sql\n",
    "create temporary table if not exists prev_price_avg \n",
    "as select dt, tprice/trows as avprice_prev7 from\n",
    "(select dt, \n",
    "sum(nrows) over (order by dt rows between 7 preceding and 1 preceding) as trows, \n",
    "sum(totalprice) over (order by dt rows between 7 preceding and 1 preceding) as tprice from \n",
    "(select dt, count(price) as nrows, sum(price) as totalprice from meals group by dt) as t1) as t2;\n",
    "select meal_id, meals.dt, type, price, round(avprice_prev7,2) from meals inner join prev_price_avg on meals.dt=prev_price_avg.dt \n",
    "where price>avprice_prev7\n",
    "order by meal_id\n",
    "```\n",
    "    \n",
    "</p>\n",
    "</details>"
   ]
  },
  {
   "cell_type": "markdown",
   "metadata": {},
   "source": [
    "6. What percent of users have shared more meals than they have liked?"
   ]
  },
  {
   "cell_type": "markdown",
   "metadata": {},
   "source": [
    "Your answer: \n",
    "\n",
    "(fill this in before checking the solution!!!)"
   ]
  },
  {
   "cell_type": "markdown",
   "metadata": {},
   "source": [
    "<details><summary>Solution</summary>\n",
    "<p>\n",
    "    \n",
    "```sql\n",
    "CREATE TEMPORARY TABLE IF NOT EXISTS t1 AS SELECT userid, COUNT(*) AS sharecount FROM events WHERE event='share' GROUP BY userid;\n",
    "CREATE TEMPORARY TABLE IF NOT EXISTS t2 AS SELECT userid, COUNT(*) AS likecount FROM events WHERE event='like' GROUP BY userid;\n",
    "SELECT AVG(CASE WHEN sharecount>likecount THEN 1 ELSE 0 END) FROM t1\n",
    "INNER JOIN t2 ON t1.userid=t2.userid    \n",
    "```\n",
    "    \n",
    "</p>\n",
    "</details>"
   ]
  },
  {
   "cell_type": "markdown",
   "metadata": {},
   "source": [
    "7. For every day, count the number of users who have visited the site and did not perform an action."
   ]
  },
  {
   "cell_type": "markdown",
   "metadata": {},
   "source": [
    "Your answer: \n",
    "\n",
    "(fill this in before checking the solution!!!)"
   ]
  },
  {
   "cell_type": "markdown",
   "metadata": {},
   "source": [
    "<details><summary>Solution</summary>\n",
    "<p>\n",
    "    \n",
    "```sql\n",
    "SELECT dt,COUNT(*) FROM \n",
    "(SELECT visits.dt, visits.userid FROM visits LEFT JOIN events ON visits.userid=events.userid AND visits.dt=events.dt WHERE events.dt IS NULL) AS t1\n",
    "GROUP BY dt ORDER BY dt\n",
    "```\n",
    "    \n",
    "</p>\n",
    "</details>"
   ]
  },
  {
   "cell_type": "markdown",
   "metadata": {},
   "source": [
    "8. Find all the dates with a greater than average number of meals."
   ]
  },
  {
   "cell_type": "markdown",
   "metadata": {},
   "source": [
    "Your answer: \n",
    "\n",
    "(fill this in before checking the solution!!!)"
   ]
  },
  {
   "cell_type": "markdown",
   "metadata": {},
   "source": [
    "<details><summary>Solution</summary>\n",
    "<p>\n",
    "    \n",
    "```sql\n",
    "CREATE TEMPORARY TABLE IF NOT EXISTS t1 as SELECT AVG(count) FROM \n",
    "(SELECT COUNT(*) FROM meals GROUP BY dt) AS t2;\n",
    "SELECT dt, count FROM (SELECT dt,count(*) FROM meals GROUP BY dt) AS t3 CROSS JOIN t1 WHERE count>avg\n",
    "```\n",
    "    \n",
    "</p>\n",
    "</details>"
   ]
  },
  {
   "cell_type": "markdown",
   "metadata": {},
   "source": [
    "9. Find all the users who bought a meal before liking or sharing a meal."
   ]
  },
  {
   "cell_type": "markdown",
   "metadata": {},
   "source": [
    "Your answer: \n",
    "\n",
    "(fill this in before checking the solution!!!)"
   ]
  },
  {
   "cell_type": "markdown",
   "metadata": {},
   "source": [
    "<details><summary>Solution</summary>\n",
    "<p>\n",
    "    \n",
    "```sql\n",
    "SELECT t1.userid FROM \n",
    "    (SELECT userid, MIN(dt) AS firstls FROM events WHERE event='like' \n",
    "    OR event='share' GROUP BY userid) AS t1\n",
    "INNER JOIN (SELECT userid, MIN(dt) AS firstb FROM events WHERE event='bought' GROUP BY userid) AS t2 ON t1.userid=t2.userid\n",
    "WHERE firstb<firstls\n",
    "ORDER BY userid\n",
    "```\n",
    "    \n",
    "</p>\n",
    "</details>"
   ]
  },
  {
   "cell_type": "markdown",
   "metadata": {},
   "source": [
    "## SQL in Python Instructions\n",
    "\n",
    "1. Make sure your docker PostgreSQL container is running using the \"docker container ls\" command.\n",
    "\n",
    "2. Run \"pip install psycopg2-binary\". This includes all the C-based requirements and can save you some errors that sometimes occur when if you try to run \"pip install psycopg2\".\n",
    "\n",
    "3. After installing psycopg2-binary you may import `psycopg2` and create a connection to the database with\n",
    "\n",
    "    ```python\n",
    "    import psycopg2 as pg2\n",
    "    conn = pg2.connect(dbname='readychef',\n",
    "                        host='localhost',\n",
    "                        user='PostgreSQL',\n",
    "                        password='galvanize')\n",
    "    ```\n",
    "4. Create a cursor from the connection and execute a query to select the first 10 rows from the event table. Use a `for` loop to iterate over the cursor, printing out each row.\n",
    "\n",
    "5. Write a function that takes a query string and database connection, executes the query, and returns a list of rows. Call the function on a statement selecting the first 10 rows of the users table. Is it better for a function to return a list of rows or the cursor itself?\n",
    "\n",
    "6. Use the `read_sql` function in `pandas` to load the same query into a dataframe. "
   ]
  },
  {
   "cell_type": "code",
   "execution_count": null,
   "metadata": {},
   "outputs": [],
   "source": []
  }
 ],
 "metadata": {
  "kernelspec": {
   "display_name": "Python 3",
   "language": "python",
   "name": "python3"
  },
  "language_info": {
   "codemirror_mode": {
    "name": "ipython",
    "version": 3
   },
   "file_extension": ".py",
   "mimetype": "text/x-python",
   "name": "python",
   "nbconvert_exporter": "python",
   "pygments_lexer": "ipython3",
   "version": "3.7.9"
  }
 },
 "nbformat": 4,
 "nbformat_minor": 4
}