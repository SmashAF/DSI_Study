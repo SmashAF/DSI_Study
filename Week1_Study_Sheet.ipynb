{
 "metadata": {
  "language_info": {
   "codemirror_mode": {
    "name": "ipython",
    "version": 3
   },
   "file_extension": ".py",
   "mimetype": "text/x-python",
   "name": "python",
   "nbconvert_exporter": "python",
   "pygments_lexer": "ipython3",
   "version": "3.9.2"
  },
  "orig_nbformat": 2,
  "kernelspec": {
   "name": "python392jvsc74a57bd0f589b74b5f9dfadb2b978c0f6d0c86213b22d6e1bb02d62665d77952f7aaa902",
   "display_name": "Python 3.9.2 64-bit ('base': conda)"
  }
 },
 "nbformat": 4,
 "nbformat_minor": 2,
 "cells": [
  {
   "cell_type": "code",
   "execution_count": 47,
   "metadata": {},
   "outputs": [
    {
     "output_type": "error",
     "ename": "SyntaxError",
     "evalue": "invalid syntax (<ipython-input-47-ffe11a6a1d6d>, line 1)",
     "traceback": [
      "\u001b[0;36m  File \u001b[0;32m\"<ipython-input-47-ffe11a6a1d6d>\"\u001b[0;36m, line \u001b[0;32m1\u001b[0m\n\u001b[0;31m    Notes:\u001b[0m\n\u001b[0m           ^\u001b[0m\n\u001b[0;31mSyntaxError\u001b[0m\u001b[0;31m:\u001b[0m invalid syntax\n"
     ]
    }
   ],
   "source": [
    "Notes: \n",
    " Numpy terminology:\n",
    "axis - each dimension (row, column)  \n",
    "rank - number of axes (dimensions)\n",
    "shape - length of each axis\n",
    "size - total number of elements \n",
    "[[1,2,3,4],\n",
    " [5,6,7,8],\n",
    " [9,10,11,12]]\n",
    "rank = 2, shape = (3,4) size = 12\n",
    "\n",
    "remember - 'amount of lists == rows, amount of elements in list == columns'\n",
    "## slicing     \n",
    "[1:4]       will give rows at idx 1 to 4 (non inclusive)    \n",
    "[:,1:4]     will give columns at idx 1 to 4 (non inclusive)    \n",
    "[[1,3,8]]   will give rows at idx 1,3,and 8     \n",
    "[:,[1,3]]   will give columns at idx 1 and 3     \n",
    "[[1,5,7],[[0], [1], [4]]]   take idx 1, 5, and 7 of column 0,1,4     \n",
    "[0:3,[1,3]] rows 0 to 3(non inclusive), column item 1 and 3     \n",
    "\n",
    "## broadcasting comparison operators\n",
    "remember you can use & 'and' as well as  | 'or'\n",
    "\n",
    "\n",
    "\n",
    "\n"
   ]
  },
  {
   "source": [
    "# Imports"
   ],
   "cell_type": "markdown",
   "metadata": {}
  },
  {
   "cell_type": "code",
   "execution_count": 7,
   "metadata": {},
   "outputs": [],
   "source": [
    "from string import punctuation\n",
    "from sklearn.feature_extraction.text import ENGLISH_STOP_WORDS\n",
    "stopwords = ENGLISH_STOP_WORDS\n",
    "from itertools import zip_longest\n",
    "import numpy as np\n",
    "import pandas as pd\n",
    "from scipy import stats\n",
    "\n",
    "import matplotlib.pyplot as plt\n",
    "%matplotlib inline\n",
    "%config InlineBackend.figure_format = 'retina'\n",
    "plt.style.use('fivethirtyeight')\n",
    "\n",
    "\n"
   ]
  },
  {
   "source": [
    "# Intro to Python"
   ],
   "cell_type": "markdown",
   "metadata": {}
  },
  {
   "cell_type": "code",
   "execution_count": 3,
   "metadata": {},
   "outputs": [
    {
     "output_type": "stream",
     "name": "stdout",
     "text": [
      "Original: Seok-woo, a divorced fund manager, is a workaholic and absentee father to \nhis\nLowercased: seok-woo, a divorced fund manager, is a workaholic and absentee father to \nhis.\nPunctuation removed: seokwoo a divorced fund manager is a workaholic and absentee father to \nhis.\nWithout newlines: seokwoo a divorced fund manager is a workaholic and absentee father to his\nInto words: ['seokwoo', 'a', 'divorced', 'fund', 'manager', 'is', 'a', 'workaholic', 'and', 'absentee', 'father', 'to', 'his']\nNo stop words: ['seokwoo', 'divorced', 'fund', 'manager', 'workaholic', 'absentee', 'father']\nReplaces names: ['person', 'divorced', 'fund', 'manager', 'workaholic', 'absentee', 'father']\nLined of cleaned text: person divorced fund manager workaholic absentee father\n\nDoes pipeline give same result? True\n"
     ]
    }
   ],
   "source": [
    "def lowercase_text(text):\n",
    "    '''Returns a text string with all characters lower-cased.'''\n",
    "\n",
    "    return text.lower()\n",
    "\n",
    "\n",
    "def remove_punctuation(text, punctuation=punctuation):\n",
    "    '''Returns a text string without punctuation.'''\n",
    "\n",
    "    return ''.join([c for c in text if c not in punctuation])\n",
    "\n",
    "\n",
    "def remove_newline(text):\n",
    "    '''Removes all newlines in a line of text\n",
    "\n",
    "    Parameters\n",
    "    ----------\n",
    "    text: str\n",
    "\n",
    "    Returns\n",
    "    -------\n",
    "    text_no_nl: str\n",
    "\n",
    "    Examples\n",
    "    --------\n",
    "    >>> remove_newline('\\nlife happens when youre busy\\n making other plans\\n')\n",
    "    'life happens when youre busy making other plans'\n",
    "    '''\n",
    "    return text.replace('\\n', '')\n",
    "\n",
    "\n",
    "def split_text_into_words(text):\n",
    "    '''Splits a text string into a word list\n",
    "\n",
    "    Parameters\n",
    "    ----------\n",
    "    text: str\n",
    "\n",
    "    Returns\n",
    "    -------\n",
    "    words: list of str\n",
    "\n",
    "    Examples\n",
    "    --------\n",
    "    >>> split_text_into_words(\"get started by stop talking and begin doing\")\n",
    "    ['get', 'started', 'by', 'stop', 'talking', 'and', 'begin', 'doing']\n",
    "    '''\n",
    "    return text.split(' ')\n",
    "\n",
    "\n",
    "def remove_stopwords(word_lst, stopwords_set):\n",
    "    '''Removes words from word_lst if in the stopwords_set\n",
    "\n",
    "    Parameters\n",
    "    ----------\n",
    "    word_lst: list of str\n",
    "    stopwords_set: set of str\n",
    "\n",
    "    Returns\n",
    "    -------\n",
    "    word_lst_no_sw: list of str\n",
    "\n",
    "    Examples\n",
    "    --------\n",
    "    >>> remove_stopwords(['tell', 'me', 'and', 'i', 'forget'], set(['and', 'i']))\n",
    "    ['tell', 'me', 'forget']\n",
    "    '''\n",
    "    return [word for word in word_lst if word not in stopwords_set]\n",
    "\n",
    "\n",
    "def replace_names(word_lst, name_set, replacement_val):\n",
    "    '''Replaces names in word_lst with replacement_val.  Names are identified in\n",
    "    the name set.\n",
    "\n",
    "    Parameters\n",
    "    ----------\n",
    "    word_lst: list of str\n",
    "    name_set: set of str\n",
    "    replacement_val: str\n",
    "        The string to replace the names with.\n",
    "\n",
    "    Returns\n",
    "    -------\n",
    "    word_lst_replaced_names: list of str\n",
    "\n",
    "    Examples\n",
    "    --------\n",
    "    >>> replace_names(['daryl', 'daryl'], set(['larry', 'darryl']), 'person')\n",
    "    ['person', 'person']\n",
    "    '''\n",
    "    word_lst_with_replacement = []\n",
    "    for word in word_lst:\n",
    "        if word in name_set:\n",
    "            val = replacement_val\n",
    "        else:\n",
    "            val = word\n",
    "        word_lst_with_replacement.append(val)\n",
    "    return word_lst_with_replacement\n",
    "\n",
    "\n",
    "def create_cleaned_textline_from_words(words):\n",
    "    '''Makes a single string from a list of words.\n",
    "\n",
    "    Parameters\n",
    "    ----------\n",
    "    words: list of str\n",
    "\n",
    "    Returns\n",
    "    -------\n",
    "    cleaned_text: str\n",
    "\n",
    "    Examples\n",
    "    --------\n",
    "    >>> create_cleaned_textline_from_words(['darkest', 'moments', 'focus', 'light'])\n",
    "    'darkest moments focus light'\n",
    "    '''\n",
    "    text = ' '.join([word for word in words])\n",
    "    return text\n",
    "\n",
    "\n",
    "def line_cleaning_pipeline(text, stopwords_set, name_set, replace_val):\n",
    "    '''Transforms raw text into clean text using text-cleaning functions above'''\n",
    "    text_lc = lowercase_text(text)\n",
    "    text_np = remove_punctuation(text_lc)\n",
    "    text_nnl = remove_newline(text_np)\n",
    "    words = split_text_into_words(text_nnl)\n",
    "    words_nsw = remove_stopwords(words, stopwords_set)\n",
    "    words_cleaned = replace_names(words_nsw, name_set, replace_val)\n",
    "    line_of_text_cleaned = create_cleaned_textline_from_words(words_cleaned)\n",
    "    return line_of_text_cleaned\n",
    "\n",
    "\n",
    "if __name__ == '__main__':\n",
    "    # to help test functions and pipeline:\n",
    "    text_str1 = \"Seok-woo, a divorced fund manager, is a workaholic and absentee father to \\nhis\"\n",
    "    text_str2 = \"young daughter, Su-an. For her birthday the next day, she wishes for her father\\n\"\n",
    "    text_str3 = \"to take her to Busan to see her mother. \\nThey board the KTX at Seoul Station.\"\n",
    "\n",
    "    # your code below\n",
    "    text = text_str1\n",
    "    replace = 'person'\n",
    "    names = set(['suan', 'seongkyeong', 'yonsuk', 'seokwoo', 'ingil', 'yonghuk'\n",
    "                 'jinhee'])\n",
    "    # test functions\n",
    "    text_lc = lowercase_text(text)\n",
    "    text_np = remove_punctuation(text_lc)\n",
    "    text_nnl = remove_newline(text_np)\n",
    "    words = split_text_into_words(text_nnl)\n",
    "    words_nsw = remove_stopwords(words, stopwords)\n",
    "    words_cleaned = replace_names(words_nsw, names, replace)\n",
    "    line_of_text_cleaned = create_cleaned_textline_from_words(words_cleaned)\n",
    "\n",
    "    # test pipeline\n",
    "    line_text_pipeline = line_cleaning_pipeline(text, stopwords, names, replace)\n",
    "\n",
    "    same_result = line_of_text_cleaned == line_text_pipeline\n",
    "\n",
    "    # print results\n",
    "    print(f\"Original: {text}\")\n",
    "    print(f\"Lowercased: {text_lc}.\")\n",
    "    print(f\"Punctuation removed: {text_np}.\")\n",
    "    print(f\"Without newlines: {text_nnl}\")\n",
    "    print(f\"Into words: {words}\")\n",
    "    print(f\"No stop words: {words_nsw}\")\n",
    "    print(f\"Replaces names: {words_cleaned}\")\n",
    "    print(f\"Lined of cleaned text: {line_of_text_cleaned}\")\n",
    "    print(f\"\\nDoes pipeline give same result? {same_result}\")\n"
   ]
  },
  {
   "source": [
    "OOP"
   ],
   "cell_type": "markdown",
   "metadata": {}
  },
  {
   "cell_type": "code",
   "execution_count": 5,
   "metadata": {},
   "outputs": [],
   "source": [
    "class Polynomial(object):\n",
    "\n",
    "    def __init__(self, coefs):\n",
    "        \"\"\"Create a Polynomial object\n",
    "        Parameters\n",
    "        ----------\n",
    "        coefs : list of numbers\n",
    "            The coefficients of the polynomial, starting at the constant term,\n",
    "            so the index of the coefficient corresponds to the power.\n",
    "        \"\"\"\n",
    "\n",
    "        coefs = coefs[:]\n",
    "        while len(coefs) > 0 and coefs[-1] == 0:\n",
    "            coefs.pop()\n",
    "        if len(coefs) == 0:\n",
    "            coefs = [0]\n",
    "        self.coefs = coefs\n",
    "\n",
    "    def __add__(self, other):\n",
    "        \"\"\"Add to polynomial.\"\"\"\n",
    "        result = []\n",
    "        for c1, c2 in zip_longest(self.coefs, other.coefs, fillvalue=0):\n",
    "            result.append(c1 + c2)\n",
    "        return Polynomial(result)\n",
    "\n",
    "    def __sub__(self, other):\n",
    "        \"\"\"Subtract another polynomial.\"\"\"\n",
    "        return self + -other\n",
    "\n",
    "    def __mul__(self, other):\n",
    "        \"\"\"Multipy by another polynomial.\"\"\"\n",
    "        result = [0] * (len(self.coefs) + len(other.coefs) + 1)\n",
    "        for power_1, coef_1 in enumerate(self.coefs):\n",
    "            for power_2, coef_2 in enumerate(other.coefs):\n",
    "                result[power_1 + power_2] += coef_1 * coef_2\n",
    "        return Polynomial(result)\n",
    "\n",
    "    def __eq__(self, other):\n",
    "        \"\"\"Check if equal to another polynomial.\"\"\"\n",
    "        return self.coefs == other.coefs\n",
    "\n",
    "    def _sign_string(self, coef, is_largest):\n",
    "        \"\"\"The sign part of the string representation of a term,\n",
    "        used by __str__.\"\"\"\n",
    "        assert(coef != 0)\n",
    "        if is_largest and coef > 0:\n",
    "            return \"\"\n",
    "        elif is_largest and coef < 0:\n",
    "            return \"-\"\n",
    "        elif coef > 0:\n",
    "            return \" + \"\n",
    "        else:\n",
    "            return \" - \"\n",
    "\n",
    "    def _coef_string(self, coef, index):\n",
    "        \"\"\"The coefficient part of the string representation of a term,\n",
    "        used by __str__.\"\"\"\n",
    "        if abs(coef) == 1 and index != 0:\n",
    "            return ''\n",
    "        return str(abs(coef))\n",
    "\n",
    "    def _var_string(self, index):\n",
    "        \"\"\"The variable part of the string representation of a term,\n",
    "        used by __str__.\"\"\"\n",
    "        if index == 0:\n",
    "            return \"\"\n",
    "        elif index == 1:\n",
    "            return \"x\"\n",
    "        else:\n",
    "            return \"x^\" + str(index)\n",
    "\n",
    "    def _term_string(self, coef, index, is_largest):\n",
    "        \"\"\"The string representation of a single term,\n",
    "        used by __str__.\"\"\"\n",
    "        if coef == 0:\n",
    "            return \"\"\n",
    "        return (self._sign_string(coef, is_largest) +\n",
    "                self._coef_string(coef, index) +\n",
    "                self._var_string(index))\n",
    "\n",
    "    def __str__(self):\n",
    "        \"\"\"The string representation of the polynomial.\"\"\"\n",
    "        result = \"\"\n",
    "        if len(self.coefs) == 1 and self.coefs[0] == 0:\n",
    "            return \"0\"\n",
    "        for i in range(len(self.coefs) - 1, -1, -1):\n",
    "            result += self._term_string(self.coefs[i],\n",
    "                                        i,\n",
    "                                        i == len(self.coefs)-1)\n",
    "        return result\n",
    "\n",
    "    def __repr__(self):\n",
    "        return \"Polynomial({})\".format(self.coefs)\n",
    "\n",
    "    def __neg__(self):\n",
    "        \"\"\"The negative of the polynomial.\"\"\"\n",
    "        result = []\n",
    "        for coef in self.coefs:\n",
    "            result.append(-coef)\n",
    "        return Polynomial(result)\n",
    "\n",
    "    def degree(self):\n",
    "        \"\"\"The highest exponent in the polynomial.\"\"\"\n",
    "        return len(self.coefs) - 1\n",
    "\n",
    "    def evaluate(self, x):\n",
    "        \"\"\"Evaluate the polynomial with for a specified value of the variable\n",
    "        Parameters\n",
    "        ----------\n",
    "        x : number\n",
    "            The number to set the variable to.\n",
    "\n",
    "        Returns\n",
    "        -------\n",
    "        number\n",
    "            The result of evaluating the polynomial.\n",
    "        \"\"\"\n",
    "\n",
    "        result = 0\n",
    "        for power, coef in enumerate(self.coefs):\n",
    "            result += coef * x ** power\n",
    "        return result\n",
    "\n",
    "    def differentiate(self):\n",
    "        \"\"\" The derivative of a polynomial.\n",
    "\n",
    "        Returns\n",
    "        -------\n",
    "        Polynomial\n",
    "            The derivative of the polynomial.\n",
    "        \"\"\"\n",
    "\n",
    "        result = []\n",
    "        for i in range(1, len(self.coefs)):\n",
    "            result.append(i * self.coefs[i])\n",
    "        return Polynomial(result)\n",
    "\n",
    "    def integrate(self):\n",
    "        \"\"\" The integral of a polynomial.\n",
    "\n",
    "        Returns\n",
    "        -------\n",
    "        Polynomial\n",
    "            The integral of the polynomial,\n",
    "            with the constant term set to zero.\n",
    "        \"\"\"\n",
    "\n",
    "        result = [0]\n",
    "        for i in range(len(self.coefs)):\n",
    "            result.append(self.coefs[i] / (i+1))\n",
    "        return Polynomial(result)\n"
   ]
  },
  {
   "source": [
    "# NUMPY"
   ],
   "cell_type": "markdown",
   "metadata": {}
  },
  {
   "cell_type": "code",
   "execution_count": 10,
   "metadata": {},
   "outputs": [
    {
     "output_type": "execute_result",
     "data": {
      "text/plain": [
       "array([1, 3, 5, 7])"
      ]
     },
     "metadata": {},
     "execution_count": 10
    }
   ],
   "source": [
    "x = np.array([0, 1, 2, 3, 4, 5, 6, 7, 8, 9])\n",
    "\n",
    "x[2] # 2\n",
    "\n",
    "x[1:8:2]  # array([1, 3, 5, 7])\n",
    "\n",
    "x[0] = 100 # array([100,   1,   2,   3,   4,   5,   6,   7,   8,   9])\n",
    "\n",
    "x[::-1]  # array([9, 8, 7, 6, 5, 4, 3, 2, 1, 100])\n"
   ]
  },
  {
   "cell_type": "code",
   "execution_count": null,
   "metadata": {},
   "outputs": [],
   "source": [
    "np.array([[10, 11], \n",
    "          [14, 15], \n",
    "          [18, 19]])\n",
    "# 3 rows\n",
    "# 2 columns\n",
    "\n",
    "np.array([[3, 4, 5]])\n",
    "# 1 rows\n",
    "# 3 columns\n",
    "\n",
    "np.array([[3], \n",
    "          [4], \n",
    "          [5]])\n",
    "# 3 rows\n",
    "# 1 columns\n"
   ]
  },
  {
   "cell_type": "code",
   "execution_count": null,
   "metadata": {},
   "outputs": [],
   "source": [
    "x_array = [[0, 1, 2, 3], \n",
    "           [4, 5, 6, 7], \n",
    "           [8, 9, 10, 11], \n",
    "           [12, 13, 14, 15], \n",
    "           [16, 17, 18, 19]]\n",
    "\n",
    "x_array[2][2] # 10\n",
    "\n",
    "\n",
    "x_array[:2, :] # row 0 to 2, all columns  # array([[0, 1, 2, 3],\n",
    "                                          #        [4, 5, 6, 7]])\n",
    "\n",
    "x_array[:2, :2] # row 0 to 2, column 0 to 2\n",
    "\n",
    "x_array[:, :2] # all rows, column 0 to 2\n",
    "\n",
    "x_array[::2, ::2] # every other row, every other column\n",
    "# array([[ 0,  2],\n",
    "#        [ 8, 10],\n",
    "#        [16, 18]])\n",
    "\n",
    "x_array[:,2:]    #all rows, columns 2 to end\n"
   ]
  },
  {
   "cell_type": "code",
   "execution_count": 2,
   "metadata": {},
   "outputs": [
    {
     "output_type": "stream",
     "name": "stdout",
     "text": [
      "0.6\n"
     ]
    }
   ],
   "source": [
    "  def likelihood(data, p):\n",
    "        if data == 'H':\n",
    "            return p\n",
    "        else:\n",
    "            return 1 - p\n",
    "\n",
    "print(likelihood('H', 0.6))"
   ]
  },
  {
   "cell_type": "code",
   "execution_count": 4,
   "metadata": {},
   "outputs": [
    {
     "output_type": "execute_result",
     "data": {
      "text/plain": [
       "0.016796159999999994"
      ]
     },
     "metadata": {},
     "execution_count": 4
    }
   ],
   "source": [
    ".6**8"
   ]
  },
  {
   "cell_type": "code",
   "execution_count": null,
   "metadata": {},
   "outputs": [],
   "source": [
    "np.full((3,4), np.pi)"
   ]
  },
  {
   "source": [
    "# PANDAS"
   ],
   "cell_type": "markdown",
   "metadata": {}
  },
  {
   "cell_type": "code",
   "execution_count": 3,
   "metadata": {},
   "outputs": [],
   "source": [
    "# Imports\n",
    "%matplotlib inline\n",
    "\n",
    "import pandas as pd\n",
    "import numpy as np\n",
    "import matplotlib.pyplot as plt\n",
    "\n",
    "plt.style.use('ggplot')"
   ]
  },
  {
   "cell_type": "code",
   "execution_count": 4,
   "metadata": {},
   "outputs": [],
   "source": [
    "x = np.array([0,1,2,3,4,5])"
   ]
  },
  {
   "cell_type": "code",
   "execution_count": 6,
   "metadata": {},
   "outputs": [
    {
     "output_type": "execute_result",
     "data": {
      "text/plain": [
       "15"
      ]
     },
     "metadata": {},
     "execution_count": 6
    }
   ],
   "source": [
    "x.sum()"
   ]
  },
  {
   "cell_type": "code",
   "execution_count": 13,
   "metadata": {},
   "outputs": [],
   "source": [
    "heights = np.array([34, 35, 36, 37, 38])\n",
    "student_heights = pd.Series(heights)\n",
    "# student_heights\n",
    "# student_heights.values\n",
    "#student_heights.mean()"
   ]
  },
  {
   "cell_type": "code",
   "execution_count": 24,
   "metadata": {},
   "outputs": [],
   "source": [
    "# lets give indexes the students name\n",
    "student_heights.index = [\"Tomas\", \"Angel\", \"Stacy\", \"Michaela\", \"Haden\"]\n",
    "# student_heights\n",
    "# student_heights[\"Haden\"]\n",
    "# student_heights[student_heights % 2==0] # return students with even heights\n"
   ]
  },
  {
   "cell_type": "code",
   "execution_count": 25,
   "metadata": {},
   "outputs": [],
   "source": [
    "brag_vow = pd.Series(data=[\"So\", \"Pandas\", \"Here\", \"I\", \"Come\"], index=[\"I\", \"am\", \"a\",  \"numpy\", \"champ\"])\n",
    "# brag_vow\n",
    "# brag_vow[2:]\n",
    "# brag_vow[['I', 'a', 'champ']]\n",
    "# brag_vow.index\n",
    "# brag_vow.values"
   ]
  },
  {
   "cell_type": "code",
   "execution_count": 20,
   "metadata": {},
   "outputs": [],
   "source": [
    "student_grades = pd.Series([45,56,78,89,90], \n",
    "                           index=['Tomas', 'Angel', 'Stacy', 'Michaela', 'Haden'], \n",
    "                           name='grades')"
   ]
  },
  {
   "cell_type": "code",
   "execution_count": 26,
   "metadata": {},
   "outputs": [
    {
     "output_type": "execute_result",
     "data": {
      "text/plain": [
       "          grade  height\n",
       "Tomas        45      34\n",
       "Angel        56      35\n",
       "Stacy        78      36\n",
       "Michaela     89      37\n",
       "Haden        90      38"
      ],
      "text/html": "<div>\n<style scoped>\n    .dataframe tbody tr th:only-of-type {\n        vertical-align: middle;\n    }\n\n    .dataframe tbody tr th {\n        vertical-align: top;\n    }\n\n    .dataframe thead th {\n        text-align: right;\n    }\n</style>\n<table border=\"1\" class=\"dataframe\">\n  <thead>\n    <tr style=\"text-align: right;\">\n      <th></th>\n      <th>grade</th>\n      <th>height</th>\n    </tr>\n  </thead>\n  <tbody>\n    <tr>\n      <th>Tomas</th>\n      <td>45</td>\n      <td>34</td>\n    </tr>\n    <tr>\n      <th>Angel</th>\n      <td>56</td>\n      <td>35</td>\n    </tr>\n    <tr>\n      <th>Stacy</th>\n      <td>78</td>\n      <td>36</td>\n    </tr>\n    <tr>\n      <th>Michaela</th>\n      <td>89</td>\n      <td>37</td>\n    </tr>\n    <tr>\n      <th>Haden</th>\n      <td>90</td>\n      <td>38</td>\n    </tr>\n  </tbody>\n</table>\n</div>"
     },
     "metadata": {},
     "execution_count": 26
    }
   ],
   "source": [
    "#creating a dataframe\n",
    "students = pd.DataFrame({'grade':student_grades, 'height':student_heights})\n",
    "# students\n",
    "# students['grade']"
   ]
  },
  {
   "cell_type": "code",
   "execution_count": 42,
   "metadata": {},
   "outputs": [],
   "source": [
    " # Add columns to students\n",
    "students['was_late'] = [True, False, True, False, False]\n",
    "\n",
    "students['top_crush'] = np.array(['Angel', 'Haden', 'Michaela', 'Tomas', 'Edgar A. Poe']).reshape(-1,1)\n",
    "\n",
    "students['above_75_percent'] = students['grade']>75\n",
    "\n",
    "students['taller_than_35']= students['height'] > 35\n"
   ]
  },
  {
   "cell_type": "code",
   "execution_count": 46,
   "metadata": {},
   "outputs": [
    {
     "output_type": "execute_result",
     "data": {
      "text/plain": [
       "          grade  height  was_late     top_crush  pickup_time\n",
       "Tomas        45      34      True         Angel          4.0\n",
       "Angel        56      35     False         Haden          NaN\n",
       "Stacy        78      36      True      Michaela          5.0\n",
       "Michaela     89      37     False         Tomas          NaN\n",
       "Haden        90      38     False  Edgar A. Poe          3.0"
      ],
      "text/html": "<div>\n<style scoped>\n    .dataframe tbody tr th:only-of-type {\n        vertical-align: middle;\n    }\n\n    .dataframe tbody tr th {\n        vertical-align: top;\n    }\n\n    .dataframe thead th {\n        text-align: right;\n    }\n</style>\n<table border=\"1\" class=\"dataframe\">\n  <thead>\n    <tr style=\"text-align: right;\">\n      <th></th>\n      <th>grade</th>\n      <th>height</th>\n      <th>was_late</th>\n      <th>top_crush</th>\n      <th>pickup_time</th>\n    </tr>\n  </thead>\n  <tbody>\n    <tr>\n      <th>Tomas</th>\n      <td>45</td>\n      <td>34</td>\n      <td>True</td>\n      <td>Angel</td>\n      <td>4.0</td>\n    </tr>\n    <tr>\n      <th>Angel</th>\n      <td>56</td>\n      <td>35</td>\n      <td>False</td>\n      <td>Haden</td>\n      <td>NaN</td>\n    </tr>\n    <tr>\n      <th>Stacy</th>\n      <td>78</td>\n      <td>36</td>\n      <td>True</td>\n      <td>Michaela</td>\n      <td>5.0</td>\n    </tr>\n    <tr>\n      <th>Michaela</th>\n      <td>89</td>\n      <td>37</td>\n      <td>False</td>\n      <td>Tomas</td>\n      <td>NaN</td>\n    </tr>\n    <tr>\n      <th>Haden</th>\n      <td>90</td>\n      <td>38</td>\n      <td>False</td>\n      <td>Edgar A. Poe</td>\n      <td>3.0</td>\n    </tr>\n  </tbody>\n</table>\n</div>"
     },
     "metadata": {},
     "execution_count": 46
    }
   ],
   "source": [
    "# update info as it comes in\n",
    "students['pickup_time'] = pd.Series([4,5,3], ['Tomas', 'Stacy', 'Haden'])\n",
    "students"
   ]
  },
  {
   "cell_type": "code",
   "execution_count": 43,
   "metadata": {},
   "outputs": [],
   "source": [
    "Indexing"
   ]
  },
  {
   "cell_type": "code",
   "execution_count": 45,
   "metadata": {},
   "outputs": [
    {
     "output_type": "execute_result",
     "data": {
      "text/plain": [
       "     a  b  c\n",
       "foo  1  2  3\n",
       "bar  4  5  6"
      ],
      "text/html": "<div>\n<style scoped>\n    .dataframe tbody tr th:only-of-type {\n        vertical-align: middle;\n    }\n\n    .dataframe tbody tr th {\n        vertical-align: top;\n    }\n\n    .dataframe thead th {\n        text-align: right;\n    }\n</style>\n<table border=\"1\" class=\"dataframe\">\n  <thead>\n    <tr style=\"text-align: right;\">\n      <th></th>\n      <th>a</th>\n      <th>b</th>\n      <th>c</th>\n    </tr>\n  </thead>\n  <tbody>\n    <tr>\n      <th>foo</th>\n      <td>1</td>\n      <td>2</td>\n      <td>3</td>\n    </tr>\n    <tr>\n      <th>bar</th>\n      <td>4</td>\n      <td>5</td>\n      <td>6</td>\n    </tr>\n  </tbody>\n</table>\n</div>"
     },
     "metadata": {},
     "execution_count": 45
    }
   ],
   "source": [
    "df = pd.DataFrame(\n",
    "    [[1, 2, 3], [4, 5, 6]], \n",
    "    columns=['a', 'b', 'c'], \n",
    "    index=['foo', 'bar'])\n"
   ]
  },
  {
   "cell_type": "code",
   "execution_count": null,
   "metadata": {},
   "outputs": [],
   "source": [
    "# INDEX IS BACKWARDS\n",
    "df['d'] = pd.Series([4, 5], index=['bar', 'foo'])"
   ]
  },
  {
   "cell_type": "code",
   "execution_count": null,
   "metadata": {},
   "outputs": [],
   "source": [
    "# adding a list/vector\n",
    "df['e'] = [1, 2]\n"
   ]
  },
  {
   "cell_type": "code",
   "execution_count": null,
   "metadata": {},
   "outputs": [],
   "source": []
  },
  {
   "cell_type": "code",
   "execution_count": null,
   "metadata": {},
   "outputs": [],
   "source": []
  },
  {
   "cell_type": "code",
   "execution_count": 27,
   "metadata": {},
   "outputs": [
    {
     "output_type": "execute_result",
     "data": {
      "text/plain": [
       "         chairs  projectors\n",
       "gym           0           1\n",
       "history       2           3\n",
       "math          4           5\n",
       "english       6           7"
      ],
      "text/html": "<div>\n<style scoped>\n    .dataframe tbody tr th:only-of-type {\n        vertical-align: middle;\n    }\n\n    .dataframe tbody tr th {\n        vertical-align: top;\n    }\n\n    .dataframe thead th {\n        text-align: right;\n    }\n</style>\n<table border=\"1\" class=\"dataframe\">\n  <thead>\n    <tr style=\"text-align: right;\">\n      <th></th>\n      <th>chairs</th>\n      <th>projectors</th>\n    </tr>\n  </thead>\n  <tbody>\n    <tr>\n      <th>gym</th>\n      <td>0</td>\n      <td>1</td>\n    </tr>\n    <tr>\n      <th>history</th>\n      <td>2</td>\n      <td>3</td>\n    </tr>\n    <tr>\n      <th>math</th>\n      <td>4</td>\n      <td>5</td>\n    </tr>\n    <tr>\n      <th>english</th>\n      <td>6</td>\n      <td>7</td>\n    </tr>\n  </tbody>\n</table>\n</div>"
     },
     "metadata": {},
     "execution_count": 27
    }
   ],
   "source": [
    "# create a dataframe\n",
    "classrooms = pd.DataFrame(\n",
    "    data = [[0,1], [2,3], [4,5], [6,7]],\n",
    "    columns=['chairs', 'projectors'],\n",
    "    index = ['gym','history','math', 'english' ]\n",
    ")\n",
    "\n"
   ]
  },
  {
   "cell_type": "code",
   "execution_count": 32,
   "metadata": {},
   "outputs": [],
   "source": [
    "chairs = pd.Series({'gym': 0,'history': 2,'math': 4, 'english': 6 })\n",
    "\n",
    "projectors = pd.Series(data =range(1,8,2), index = ['gym','history','math', 'english' ]\n",
    ")\n",
    "\n"
   ]
  },
  {
   "cell_type": "code",
   "execution_count": 37,
   "metadata": {},
   "outputs": [
    {
     "output_type": "execute_result",
     "data": {
      "text/plain": [
       "         chairs  projectors\n",
       "gym           0           1\n",
       "history       2           3\n",
       "math          4           5\n",
       "english       6           7"
      ],
      "text/html": "<div>\n<style scoped>\n    .dataframe tbody tr th:only-of-type {\n        vertical-align: middle;\n    }\n\n    .dataframe tbody tr th {\n        vertical-align: top;\n    }\n\n    .dataframe thead th {\n        text-align: right;\n    }\n</style>\n<table border=\"1\" class=\"dataframe\">\n  <thead>\n    <tr style=\"text-align: right;\">\n      <th></th>\n      <th>chairs</th>\n      <th>projectors</th>\n    </tr>\n  </thead>\n  <tbody>\n    <tr>\n      <th>gym</th>\n      <td>0</td>\n      <td>1</td>\n    </tr>\n    <tr>\n      <th>history</th>\n      <td>2</td>\n      <td>3</td>\n    </tr>\n    <tr>\n      <th>math</th>\n      <td>4</td>\n      <td>5</td>\n    </tr>\n    <tr>\n      <th>english</th>\n      <td>6</td>\n      <td>7</td>\n    </tr>\n  </tbody>\n</table>\n</div>"
     },
     "metadata": {},
     "execution_count": 37
    }
   ],
   "source": [
    "# recreate the dataframe  from series above\n",
    "classroom = pd.DataFrame({'chairs': chairs, 'projectors':projectors})\n",
    "\n"
   ]
  },
  {
   "cell_type": "code",
   "execution_count": 39,
   "metadata": {},
   "outputs": [
    {
     "output_type": "execute_result",
     "data": {
      "text/plain": [
       "   Down  Up\n",
       "0    10   1\n",
       "1     9   2\n",
       "2     8   3\n",
       "3     7   4\n",
       "4     9   5\n",
       "5     5   6\n",
       "6     4   7\n",
       "7     3   8\n",
       "8     2   9\n",
       "9     1  10"
      ],
      "text/html": "<div>\n<style scoped>\n    .dataframe tbody tr th:only-of-type {\n        vertical-align: middle;\n    }\n\n    .dataframe tbody tr th {\n        vertical-align: top;\n    }\n\n    .dataframe thead th {\n        text-align: right;\n    }\n</style>\n<table border=\"1\" class=\"dataframe\">\n  <thead>\n    <tr style=\"text-align: right;\">\n      <th></th>\n      <th>Down</th>\n      <th>Up</th>\n    </tr>\n  </thead>\n  <tbody>\n    <tr>\n      <th>0</th>\n      <td>10</td>\n      <td>1</td>\n    </tr>\n    <tr>\n      <th>1</th>\n      <td>9</td>\n      <td>2</td>\n    </tr>\n    <tr>\n      <th>2</th>\n      <td>8</td>\n      <td>3</td>\n    </tr>\n    <tr>\n      <th>3</th>\n      <td>7</td>\n      <td>4</td>\n    </tr>\n    <tr>\n      <th>4</th>\n      <td>9</td>\n      <td>5</td>\n    </tr>\n    <tr>\n      <th>5</th>\n      <td>5</td>\n      <td>6</td>\n    </tr>\n    <tr>\n      <th>6</th>\n      <td>4</td>\n      <td>7</td>\n    </tr>\n    <tr>\n      <th>7</th>\n      <td>3</td>\n      <td>8</td>\n    </tr>\n    <tr>\n      <th>8</th>\n      <td>2</td>\n      <td>9</td>\n    </tr>\n    <tr>\n      <th>9</th>\n      <td>1</td>\n      <td>10</td>\n    </tr>\n  </tbody>\n</table>\n</div>"
     },
     "metadata": {},
     "execution_count": 39
    }
   ],
   "source": [
    "nums = range(10)\n",
    "\n",
    "down_up = pd.DataFrame(data =[[10,1],[9,2],[8,3],[7,4],[9,5], [5,6],[4,7],[3,8],[2,9], [1,10]], columns=['Down', 'Up'])\n",
    "\n",
    "#easier way\n",
    "# down_up = pd.DataFrame(data={'decreasing': range(10,0,-1), 'increasing':range(1,11)})\n",
    "\n",
    "\n"
   ]
  },
  {
   "cell_type": "code",
   "execution_count": null,
   "metadata": {},
   "outputs": [],
   "source": []
  }
 ]
}