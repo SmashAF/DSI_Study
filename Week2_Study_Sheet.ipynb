{
 "metadata": {
  "language_info": {
   "codemirror_mode": {
    "name": "ipython",
    "version": 3
   },
   "file_extension": ".py",
   "mimetype": "text/x-python",
   "name": "python",
   "nbconvert_exporter": "python",
   "pygments_lexer": "ipython3",
   "version": "3.9.2"
  },
  "orig_nbformat": 2,
  "kernelspec": {
   "name": "python392jvsc74a57bd0f589b74b5f9dfadb2b978c0f6d0c86213b22d6e1bb02d62665d77952f7aaa902",
   "display_name": "Python 3.9.2 64-bit ('base': conda)"
  }
 },
 "nbformat": 4,
 "nbformat_minor": 2,
 "cells": [
  {
   "source": [
    "Notes: \n",
    "\n",
    "Probability vs Statistics = P is studying known parameters and data generated from distribution where S is data genterated from a random variable to infer the properties of distribution. (important to have independent and identical distributed data)\n",
    "\n",
    "PMF (Probability Mass Function) - gives theprobability of observing each possible outcome (x) of the random variable\n",
    "\n",
    "PDF (Point Density Function) - The probability of an outcome xrelative to all other possible outcomes \n",
    "\n",
    "CDF (Cumulative Distibution Function) - or just distribution function is the probability of observing an outcome less than or equal to x\n",
    "\n",
    "Discrete -\n",
    "\n",
    "Uniform Distribution - Discrete, describes a situation with a finite number of outcomes, where each outcome is as equally likely as any other - k , n\n",
    "\n",
    "Bernoulli Distribution - Discrete, only two possible outputs, typically labeled as  0 and 1. (one flip of a coin) - k, p\n",
    "\n",
    "Binomial Distribution - counting, models flipping a fair or unfair coin some number of times, and counting how many times the coin lands on heads - k, n, p\n",
    "\n",
    "Hypergeometric Distribution - describes the probability of successes (random draws for which the object drawn has a specified feature) in \n",
    "n draws, without replacement, from a finite population of size - n, k\n",
    "\n",
    "Poisson Distribution - a process where events happen at a fixed rate or frequency, and you're watching it for a fixed amount of time. Events must be independdent and identically distributed - lambda, e, k\n",
    "\n",
    "Continuous - \n",
    "\n",
    "Uniform Distribution -  describes a set of outcomes that are all equally likely, but this time any number in an interval isa possible output of the random variable\n",
    "\n",
    "Normal Distribution (Gaussian) - a function that represents the distribution of many random variables as a symmetrical bell-shaped graph\n",
    "\n",
    "Exponential Distribution - related to the Poisson Distribution, answers How much time will it take to observe the first event \n",
    "\n",
    "Binomial test -specific type of hypothesis test invoving random variables that can be modeled by a binomial distribution. \n",
    "\n",
    "P value - the probability of obtaining test results at least as or more extreme than the results actually observed,under the assumption that the null hypothesis is correct.\n",
    "\n",
    "The p-value is a measure of how likely the data sample would be observed if the null hypothesis were true\n",
    "\n",
    "type 1 error, alpha error, or False Positive Error - when no difference but statistical test shows there is a difference. 5% (alpha = .05)\n",
    "\n",
    "type 2 error, beta error, or False Negative Error - when there is difference but statistical test shows there is not a difference. 20% (Statistical Power is 80)\n",
    "\n",
    "always know the tradeoff of consequences for type 1 vs type 2 error\n",
    "\n",
    "Central Limit Theorem - \n",
    "\n",
    "Central Tendency - \n",
    "\n",
    "z score - 1.96. 1.96 = 0.025 on two-tailed test\n",
    "\n",
    "alpha - rejection threshold for p value\n",
    "\n",
    "Statistical Power - affected by alpha size, effect size, sample size\n",
    "\n",
    "Specificity - type 1 - FP/N \n",
    "\n",
    "Sensitivity - type 2 - TP/P\n",
    "\n",
    "Bayes Rule - P(A|B) = P(B|A)*P(A)/P(B)\n",
    "\n",
    "**Prior Probability**:\n",
    "- A PMF / PDF representing your initial beliefs about the parameter(s).  \n",
    "- The initial belief has a smaller effect on the posterior as more data is incorporated\n",
    "\n",
    "**Likelihood**:\n",
    "- The probability of observing the data given the parameter(s)\n",
    "- i.e. What is the likelihood of 3 Heads in a row given the probability of heads is 0.7?\n",
    "\n",
    "**Posterior Probability**:\n",
    "- The product of prior and likelihood (Bayesian-update)\n",
    "- The posterior probability becomes the prior of the next Bayesian-update\n",
    "\n",
    "**Normalizing Constant**:\n",
    "- The probability of observing the data. \n",
    "- In Bayesian analysis, this term ensures the sum of all probabilities is 1\n",
    "\n",
    "Bayesian A/B testing\n",
    "\n",
    "Beta Distribution"
   ],
   "cell_type": "code",
   "metadata": {},
   "execution_count": 1,
   "outputs": [
    {
     "output_type": "error",
     "ename": "SyntaxError",
     "evalue": "invalid syntax (<ipython-input-1-a9e2cdc4380e>, line 1)",
     "traceback": [
      "\u001b[0;36m  File \u001b[0;32m\"<ipython-input-1-a9e2cdc4380e>\"\u001b[0;36m, line \u001b[0;32m1\u001b[0m\n\u001b[0;31m    Notes:\u001b[0m\n\u001b[0m           ^\u001b[0m\n\u001b[0;31mSyntaxError\u001b[0m\u001b[0;31m:\u001b[0m invalid syntax\n"
     ]
    }
   ]
  },
  {
   "cell_type": "code",
   "execution_count": null,
   "metadata": {},
   "outputs": [],
   "source": [
    "from string import punctuation\n",
    "from sklearn.feature_extraction.text import ENGLISH_STOP_WORDS\n",
    "stopwords = ENGLISH_STOP_WORDS\n",
    "from itertools import zip_longest\n",
    "import numpy as np\n",
    "import pandas as pd\n",
    "from scipy import stats\n",
    "\n",
    "import matplotlib.pyplot as plt\n",
    "%matplotlib inline\n",
    "%config InlineBackend.figure_format = 'retina'\n",
    "plt.style.use('fivethirtyeight')"
   ]
  },
  {
   "source": [
    "Scipy Stats Module"
   ],
   "cell_type": "markdown",
   "metadata": {}
  },
  {
   "cell_type": "code",
   "execution_count": null,
   "metadata": {},
   "outputs": [],
   "source": [
    "# Discrete Distributions\n",
    "uniform_disc = stats.randint(low=0, high=10) # k = 0, 1 ....,9\n",
    "bernoulli = stats.bernoulli(p=0.4)\n",
    "binomial = stats.binom(n=50, p=0.4)\n",
    "hypergeometric = stats.hypergeom(M=20, n=7, N=12) # non-standard parameters\n",
    "poisson = stats.poisson(mu=5) #mu is the same as lambda\n",
    "\n",
    "#some examples pf code in TI_Study.py"
   ]
  },
  {
   "cell_type": "code",
   "execution_count": null,
   "metadata": {},
   "outputs": [],
   "source": [
    "# Continuuous Distributions\n",
    "uniform_cont = stats.uniform(loc=0, scale=10) # non-standard parameters\n",
    "normal = stats.norm(loc=0.0, scale=1.0) # non-standard parameters\n",
    "exponential = stats.expon(loc=2.0) # non-standard parameters\n",
    "\n",
    "#some examples pf code in TI_Study.py"
   ]
  },
  {
   "source": [
    "Hypothesis Testing\n",
    "1.State a scientific question - its answer should be yes or no\n",
    "2.State a null hypothesis - the skeptic’s answer to the question\n",
    "3.State an alternative hypothesis - the non-skeptic’s answer to the question\n",
    "4.Create a model - the model assumes the null hypothesis is true\n",
    "5.Set a threshold - decide how surprised you need to be to reject the null hypothesis (alpha which is commonly .05)\n",
    "6.Collect your data\n",
    "7.Calculate a p-value - the probability of finding a result equally or more extreme if the null hypothesis is true\n",
    "note: we either reject or fail to reject\n",
    "8.Compare the p-value to your stated rejection threshold\n",
    "\n",
    "\n",
    "One-tailed vs two-tailed test:\n",
    "one-tailed test: H0:p = 0.5  Ha:p > 0.5\n",
    "two-tailed test: H0:p = 0.5  Ha:p != 0.5"
   ],
   "cell_type": "code",
   "metadata": {},
   "execution_count": null,
   "outputs": []
  },
  {
   "cell_type": "code",
   "execution_count": 37,
   "metadata": {},
   "outputs": [
    {
     "output_type": "execute_result",
     "data": {
      "text/plain": [
       "0.03125"
      ]
     },
     "metadata": {},
     "execution_count": 37
    }
   ],
   "source": [
    "(.5**5) * (.5**1) + (.5 ** 6)"
   ]
  },
  {
   "cell_type": "code",
   "execution_count": null,
   "metadata": {},
   "outputs": [],
   "source": []
  },
  {
   "cell_type": "code",
   "execution_count": null,
   "metadata": {},
   "outputs": [],
   "source": []
  },
  {
   "cell_type": "code",
   "execution_count": null,
   "metadata": {},
   "outputs": [],
   "source": []
  },
  {
   "cell_type": "code",
   "execution_count": null,
   "metadata": {},
   "outputs": [],
   "source": []
  },
  {
   "cell_type": "code",
   "execution_count": null,
   "metadata": {},
   "outputs": [],
   "source": []
  },
  {
   "cell_type": "code",
   "execution_count": null,
   "metadata": {},
   "outputs": [],
   "source": []
  },
  {
   "cell_type": "code",
   "execution_count": null,
   "metadata": {},
   "outputs": [],
   "source": []
  },
  {
   "cell_type": "code",
   "execution_count": 1,
   "metadata": {},
   "outputs": [
    {
     "output_type": "execute_result",
     "data": {
      "text/plain": [
       "0.2"
      ]
     },
     "metadata": {},
     "execution_count": 1
    }
   ],
   "source": []
  },
  {
   "cell_type": "code",
   "execution_count": 24,
   "metadata": {},
   "outputs": [
    {
     "output_type": "error",
     "ename": "NameError",
     "evalue": "name 'log' is not defined",
     "traceback": [
      "\u001b[0;31m---------------------------------------------------------------------------\u001b[0m",
      "\u001b[0;31mNameError\u001b[0m                                 Traceback (most recent call last)",
      "\u001b[0;32m<ipython-input-24-d0c3c7c11344>\u001b[0m in \u001b[0;36m<module>\u001b[0;34m\u001b[0m\n\u001b[0;32m----> 1\u001b[0;31m \u001b[0;34m-\u001b[0m \u001b[0mlog\u001b[0m\u001b[0;34m(\u001b[0m\u001b[0;36m0.2\u001b[0m\u001b[0;34m)\u001b[0m\u001b[0;34m\u001b[0m\u001b[0;34m\u001b[0m\u001b[0m\n\u001b[0m\u001b[1;32m      2\u001b[0m \u001b[0;34m\u001b[0m\u001b[0m\n",
      "\u001b[0;31mNameError\u001b[0m: name 'log' is not defined"
     ]
    }
   ],
   "source": [
    "\n",
    " "
   ]
  },
  {
   "cell_type": "code",
   "execution_count": null,
   "metadata": {},
   "outputs": [],
   "source": []
  },
  {
   "cell_type": "code",
   "execution_count": null,
   "metadata": {},
   "outputs": [],
   "source": []
  }
 ]
}