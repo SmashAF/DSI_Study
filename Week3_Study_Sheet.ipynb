{
 "metadata": {
  "language_info": {
   "codemirror_mode": {
    "name": "ipython",
    "version": 3
   },
   "file_extension": ".py",
   "mimetype": "text/x-python",
   "name": "python",
   "nbconvert_exporter": "python",
   "pygments_lexer": "ipython3",
   "version": 3
  },
  "orig_nbformat": 2
 },
 "nbformat": 4,
 "nbformat_minor": 2,
 "cells": [
  {
   "source": [
    "# SQL"
   ],
   "cell_type": "markdown",
   "metadata": {}
  },
  {
   "source": [
    "RDBMS - Relational Database Management System\n",
    "    survives after process which created has ended, written to non-volatile storage, standard for storing data\n",
    "    ex: Oracle, MySQL, SQL Server, Postgres\n",
    "#\n",
    "Abilities provided: #\n",
    "Model relations in Data #\n",
    "Query data and their relations efficiency #\n",
    "Maintain data consistency and integrity #\n",
    "\n",
    "Schema defines structure of data\n",
    "contains user defined tables of columns (fields) nd rows (records)\n",
    "\n",
    "All RDBMS use SQL\n",
    "three main components:\n",
    "SELECT # what data (columns) do you want?\n",
    "FROM # what location (table) you want it from?\n",
    "WHERE # What data (rows) do you want?\n",
    " is a Declarative language\n",
    "\n",
    "convention to use all caps for keywords as well as use indentation and line breaks\n",
    "\n",
    "SELECT * - every column\n",
    "\n",
    "SELECT\n",
    "FROM\n",
    "WHERE\n",
    "GROUPBY\n",
    "HAVING\n",
    "\n",
    "\n",
    "ACID - principles\n",
    "\n",
    "\n"
   ],
   "cell_type": "code",
   "metadata": {},
   "execution_count": null,
   "outputs": []
  },
  {
   "source": [
    "# Mongo DB"
   ],
   "cell_type": "markdown",
   "metadata": {}
  },
  {
   "source": [
    "Big Data - any amount that is too large to store and work on a single machine   \n",
    "many people around the world need to work on\n",
    "data coming in form multiple sources simultaneously     \n",
    "                3 V's - Volume, Velocity, Variety/Vulnerability   \n",
    "\n",
    "\n",
    "\n",
    "SQL - is an imperative language - tell the SQL what we want and SQL figures out how to process\n",
    "\n",
    "\n",
    "cons:\n",
    "complicated code can not be read top to bottom\n",
    "rigid order of operations\n",
    "difficult to access and view intermediate results\n",
    "difficult to restructure code for minor changes\n",
    "blocks of code are repeated frequently \n",
    "not object oriented\n",
    "small changes = large performance impact\n",
    "difficult to implement unit testing\n",
    "difficult to link to other ML libraries such as skllearn and tensorflow\n",
    "\n",
    "NoSQL -  Not Only SQL\n",
    "    Advantages:\n",
    "     does not require schema before data collection\n",
    "     new data can be added without changing schema\n",
    "     lists, sets, or dictionaries can be added as fields\n",
    "\n",
    "     cons: \n",
    "     slower performance\n",
    "     more complicated rules\n",
    "\n",
    "\n",
    "MongoDB - \n",
    " document oriented DB\n",
    " JSON-like objects from data model, rather than RDBMS\n",
    " schema is optional\n",
    " sub-optimal for complicated queries\n",
    "\n",
    "\n",
    " structure terminology comparison:\n",
    "\n",
    "SQL     tables          rows/records    fields\n",
    "Mongo   collections     documents       keys(sometimes fields)    \n",
    "\n",
    "\n",
    " JSON (Javascript Object Notation) - meant as replacement for XML\n",
    " get comfortable using\n",
    "    \n",
    "A database is made of collections, which are containers for the actual stored data. A collection would be analagous to a table in a classical relational database, but can contain much more flexible data than a table.\n",
    "\n",
    "    \n",
    "command to access after instantiating the container\n",
    "docker exec -it mongoserver bash   \n",
    "then cd /home/data   \n",
    "\n",
    "should be able to ls and find files form here  \n",
    "\n",
    "typically:   \n",
    "mongo in container along with pymongo in computer\n"
   ],
   "cell_type": "markdown",
   "metadata": {}
  },
  {
   "source": [
    "# Web Scraping\n"
   ],
   "cell_type": "markdown",
   "metadata": {}
  },
  {
   "cell_type": "code",
   "execution_count": null,
   "metadata": {},
   "outputs": [],
   "source": [
    "w3 Schools\n",
    "\n",
    " World Wide Web - global collection of interconnected hypermedia documents hosted on web servers\n",
    "\n",
    "Internet - the global network that connects the world wide web   \n",
    "\n",
    "URL - Uniform Resource Locator \n",
    "   \n",
    "client-server relationship in a web framework\n",
    "client is requesting party where the server is the party providing the information\n",
    "    \n",
    "general HTTP status codes       \n",
    "2xx successful (usually 200)\"    \n",
    "3xx redirect - ultimately successful\"    \n",
    "4xx client side error aka the user’s fault (common: 404 - you are looking for a file that doesn’t live where you think it does, or wrong permissions)    \n",
    "5xx server side error aka the service’s fault   \n",
    "\n",
    "concepts of HTML and CSS\n",
    "\"Permits clean separation of content from presentation style\"Radical site redesigns are possible by modifying just the style and not rewriting any of the content\n",
    "   \n",
    "HTML is used to define a structure of a web page.\t    \n",
    "CSS is used to style the web pages by using different styling features.    \n"
   ]
  },
  {
   "source": [
    "# API"
   ],
   "cell_type": "markdown",
   "metadata": {}
  },
  {
   "cell_type": "code",
   "execution_count": null,
   "metadata": {},
   "outputs": [],
   "source": [
    "Application Programming Interfacces (API's)\n",
    " Often webmasters build APIs to help you collect just the info you need. This keeps load down on their servers and you get the data you need in a consistent formatted fashion. \n",
    "\n",
    " typically need and API key and may have to pay for each call or amount of data transfered.  "
   ]
  },
  {
   "cell_type": "code",
   "execution_count": null,
   "metadata": {},
   "outputs": [],
   "source": []
  },
  {
   "source": [
    "# AWS"
   ],
   "cell_type": "markdown",
   "metadata": {}
  },
  {
   "cell_type": "code",
   "execution_count": null,
   "metadata": {},
   "outputs": [],
   "source": [
    "- on demand computing resources in the cloud   \n",
    "        \n",
    "- core services are elastic compute cloud (EC2) - computers for diverse utilization   \n",
    "- Elastic block store (EBS) - virtual hard disk to use with EC2   \n",
    "- Simple s0torage solution (S3) - long term bulk storage  \n",
    "- DynamoDB NoSQL database \n",
    "(plus more)\n"
   ]
  },
  {
   "source": [
    "Feature | S3 | EBS  \n",
    "---|---|---\n",
    "Can be accessed frm | Anywhere on the web;<br/>any EC2 instance | Specific availability zone;<br/>EC2 instance attached to it   \n",
    "Latency | Higher | Lower   \n",
    "Throughput | Usually more | Usually less   \n",
    "Performance | Slightly worse |Slightly better  \n",
    "Max volume size | Unlimited | 16 TB   \n",
    "Max file size | 5 TB | 16 TB  "
   ],
   "cell_type": "markdown",
   "metadata": {}
  },
  {
   "cell_type": "code",
   "execution_count": null,
   "metadata": {},
   "outputs": [],
   "source": [
    "Amazon S3\n",
    "\n",
    "Buckets and Files\n",
    "Amazon S3 FAQ\n",
    "\n",
    "What is a bucket?\n",
    "\n",
    "A bucket is a container for files.\n",
    "Think of a bucket as a logical grouping of files, like a subdomain.\n",
    "A bucket can contain an arbitrary number of files.\n",
    "How large can a file in a bucket be?\n",
    "\n",
    "A file in a bucket can be 5 TB.\n",
    "What are best practices on naming buckets?\n",
    "\n",
    "Bucket names should be DNS-compliant.\n",
    "They must be at least 3 and no more than 63 characters long.\n",
    "Bucket names can contain lowercase letters, numbers, and hyphens.\n",
    "Bucket names must be a series of one or more labels. Adjacent labels are separated by a single period (.). Each label must start and end with a lowercase letter or a number.\n"
   ]
  },
  {
   "cell_type": "code",
   "execution_count": null,
   "metadata": {},
   "outputs": [],
   "source": [
    "Amazon EC2\n",
    "\n",
    "Regions\n",
    "Q: What are AWS Regions?\n",
    "\n",
    "AWS is hosted in different geographic locations worldwide.\n",
    "For example, there are 4 regions in the US.\n",
    "Region\tName\tLocation\n",
    "us-east-1\tUS East\tN. Virginia\n",
    "us-east-2\tUS East 2\tOhio\n",
    "us-west-1\tUS West\tN. California\n",
    "us-west-2\tUS West 2\tOregon\n",
    "Q: How should I choose a region?\n",
    "\n",
    "N. Virginia or us-east-1 is the default region for EC2.\n",
    "Using a region other than N. Virginia requires additional configuration.\n",
    "If you are not sure, choose N. Virginia.\n",
    "Advanced: Each region will have different physical hardware which means each will have different options for high power machines like EC2 instances with graphics cards for training neural nets or EMR Clusters (Network of machines you control composed of multiple EC2 Instances)\n",
    "\n",
    "Availability Zones\n",
    "Q: What are AWS Availability Zones?\n",
    "\n",
    "Regions are divided into isolated availability zones for fault tolerance.\n",
    "Availability zones run on physically separate hardware and infrastructure.\n",
    "They do not share hardware, generators, or cooling equipment.\n",
    "Availability zones are assigned automatically to your EC2 instances based on your user ID.\n"
   ]
  },
  {
   "cell_type": "code",
   "execution_count": null,
   "metadata": {},
   "outputs": [],
   "source": []
  },
  {
   "source": [
    "# Spark"
   ],
   "cell_type": "markdown",
   "metadata": {}
  },
  {
   "cell_type": "code",
   "execution_count": null,
   "metadata": {},
   "outputs": [],
   "source": [
    "*** remember when using spark, must be connected through docker to server. go to host page and navigate to correct folder for data.   \n",
    "\n",
    "\n",
    "spark is immutable\n",
    "big difference with Pandas - can tell pandas to update original or make new. Spark always makes new obj\n",
    "\n",
    "\n",
    "Local vs Distributed     \n",
    "LocalUses the resources of 1 computer   \n",
    "Distributed Uses the resources of many, interconnected computersUses the resources of many computers   \n",
    "\n",
    "On-premise vs. the Cloudht     \n",
    "On-premise: Software and/or hardware that are installed on the premises of the company that uses them.    Cloud:Software and/or hardware installed at a remote facility and provided to companies for a fee.   \n",
    "\n",
    "Spark vs Hadoop   \n",
    "Hadoop - 2011, MapReduce writes to Hard drive and each step is cost;y in terms of performance. Legacy solution\n",
    "Spark- can be up to 100x faster in memory, 10 faster on hard disk,  but uses alot of RAM as it stores everything there when able. still being actively developed, can be buggy but recetly is more stable\n",
    "\n"
   ]
  },
  {
   "cell_type": "code",
   "execution_count": null,
   "metadata": {},
   "outputs": [],
   "source": []
  },
  {
   "cell_type": "code",
   "execution_count": null,
   "metadata": {},
   "outputs": [],
   "source": []
  }
 ]
}