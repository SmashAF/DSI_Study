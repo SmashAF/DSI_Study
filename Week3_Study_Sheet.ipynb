{
 "metadata": {
  "language_info": {
   "codemirror_mode": {
    "name": "ipython",
    "version": 3
   },
   "file_extension": ".py",
   "mimetype": "text/x-python",
   "name": "python",
   "nbconvert_exporter": "python",
   "pygments_lexer": "ipython3",
   "version": 3
  },
  "orig_nbformat": 2
 },
 "nbformat": 4,
 "nbformat_minor": 2,
 "cells": [
  {
   "source": [
    "# SQL"
   ],
   "cell_type": "markdown",
   "metadata": {}
  },
  {
   "source": [
    "RDBMS - Relational Database Management System\n",
    "    survives after process which created has ended, written to non-volatile storage, standard for storing data\n",
    "    ex: Oracle, MySQL, SQL Server, Postgres\n",
    "#\n",
    "Abilities provided: #\n",
    "Model relations in Data #\n",
    "Query data and their relations efficiency #\n",
    "Maintain data consistency and integrity #\n",
    "\n",
    "Schema defines structure of data\n",
    "contains user defined tables of columns (fields) nd rows (records)\n",
    "\n",
    "All RDBMS use SQL\n",
    "three main components:\n",
    "SELECT # what data (columns) do you want?\n",
    "FROM # what location (table) you want it from?\n",
    "WHERE # What data (rows) do you want?\n",
    " is a Declarative language\n",
    "\n",
    "convention to use all caps for keywords as well as use indentation and line breaks\n",
    "\n",
    "SELECT * - every column\n",
    "\n",
    "SELECT\n",
    "FROM\n",
    "WHERE\n",
    "GROUPBY\n",
    "HAVING\n",
    "\n",
    "\n",
    "ACID - principles\n",
    "\n",
    "\n"
   ],
   "cell_type": "code",
   "metadata": {},
   "execution_count": null,
   "outputs": []
  },
  {
   "source": [
    "# Mongo DB"
   ],
   "cell_type": "markdown",
   "metadata": {}
  },
  {
   "cell_type": "code",
   "execution_count": null,
   "metadata": {},
   "outputs": [],
   "source": [
    "Big Data - any amount that is too large to store and work on a single machine\n",
    "many people around the workd need\n",
    "\n",
    "\n",
    "\n",
    "SQL - is an imperative language - tell the SQL what we want and SQL figures out how to process\n",
    "\n",
    "\n",
    "cons:\n",
    "complicated code can not be read top to bottom\n",
    "rigid order of operations\n",
    "difficult to access and view intermediate results\n",
    "difficult to restructure code for minor changes\n",
    "blocks of code are repeated frequently \n",
    "not object oriented\n",
    "small changes = large performance impact\n",
    "difficult to implement unit testing\n",
    "difficult to link to other ML libraries such as skllearn and tensorflow\n",
    "\n",
    "NoSQL -  Not Only SQL\n",
    "    Advantages:\n",
    "     does not require schema before data collection\n",
    "     new data can be added without changing schema\n",
    "     lists, sets, or dictionaries can be added as fields\n",
    "\n",
    "     cons: \n",
    "     slower performance\n",
    "     more complicated rules\n",
    "\n",
    "\n",
    "MongoDB - \n",
    " document oriented DB\n",
    " JSON-like objects from data model, rather than RDBMS\n",
    " schema is optional\n",
    " sub-optimal for complicated queries\n",
    "\n",
    "\n",
    " structure terminology comparison:\n",
    "\n",
    "SQL     tables          rows/records    fields\n",
    "Mongo   collections     documents       keys(sometimes fields)    \n",
    "\n",
    "\n",
    "\n",
    "\n",
    "\n",
    " JSON (Javascript Object Notation) - meant as replacement for XML\n",
    " get comfortable using\n",
    "\n",
    "\n",
    "\n",
    "\n",
    "\n"
   ]
  },
  {
   "source": [
    "# Web Scraping\n"
   ],
   "cell_type": "markdown",
   "metadata": {}
  },
  {
   "cell_type": "code",
   "execution_count": null,
   "metadata": {},
   "outputs": [],
   "source": [
    "w3 Schools\n",
    "\n"
   ]
  },
  {
   "source": [
    "# API"
   ],
   "cell_type": "markdown",
   "metadata": {}
  },
  {
   "cell_type": "code",
   "execution_count": null,
   "metadata": {},
   "outputs": [],
   "source": []
  },
  {
   "cell_type": "code",
   "execution_count": null,
   "metadata": {},
   "outputs": [],
   "source": []
  },
  {
   "source": [
    "# AWS"
   ],
   "cell_type": "markdown",
   "metadata": {}
  },
  {
   "cell_type": "code",
   "execution_count": null,
   "metadata": {},
   "outputs": [],
   "source": []
  },
  {
   "cell_type": "code",
   "execution_count": null,
   "metadata": {},
   "outputs": [],
   "source": []
  },
  {
   "source": [
    "# Spark"
   ],
   "cell_type": "markdown",
   "metadata": {}
  },
  {
   "cell_type": "code",
   "execution_count": null,
   "metadata": {},
   "outputs": [],
   "source": [
    "spark is immutable\n",
    "big difference with Pandas - can tell pandas to update original or make new. Spark always makes new obj"
   ]
  },
  {
   "cell_type": "code",
   "execution_count": null,
   "metadata": {},
   "outputs": [],
   "source": []
  },
  {
   "cell_type": "code",
   "execution_count": null,
   "metadata": {},
   "outputs": [],
   "source": []
  }
 ]
}